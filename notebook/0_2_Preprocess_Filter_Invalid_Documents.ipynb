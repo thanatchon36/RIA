{
 "cells": [
  {
   "cell_type": "code",
   "execution_count": 149,
   "id": "890431d7",
   "metadata": {},
   "outputs": [
    {
     "name": "stdout",
     "output_type": "stream",
     "text": [
      "OK !\n"
     ]
    }
   ],
   "source": [
    "#Default\n",
    "import pandas as pd\n",
    "pd.options.display.float_format = '{:,}'.format\n",
    "from IPython.core.interactiveshell import InteractiveShell\n",
    "InteractiveShell.ast_node_interactivity = \"all\"\n",
    "def reset(df):\n",
    "    cols = df.columns\n",
    "    return df.reset_index()[cols]\n",
    "def print_counts(df):\n",
    "    cols = df.columns\n",
    "    for each in cols:\n",
    "        print(each)\n",
    "        print(df[each].value_counts())\n",
    "        print('______________________________________')\n",
    "# ~\n",
    "#Default Ending\n",
    "\n",
    "import os\n",
    "from tqdm import tqdm\n",
    "\n",
    "print('OK !')"
   ]
  },
  {
   "cell_type": "code",
   "execution_count": 150,
   "id": "d01f83c9",
   "metadata": {},
   "outputs": [
    {
     "name": "stdout",
     "output_type": "stream",
     "text": [
      "OK !\n"
     ]
    }
   ],
   "source": [
    "from haystack.utils import clean_wiki_text, convert_files_to_dicts, fetch_archive_from_http, print_answers\n",
    "from haystack.nodes import DensePassageRetriever, EmbeddingRetriever, FARMReader, EntityExtractor\n",
    "from haystack.document_stores import ElasticsearchDocumentStore\n",
    "\n",
    "print('OK !')"
   ]
  },
  {
   "cell_type": "code",
   "execution_count": 151,
   "id": "25186bfd",
   "metadata": {},
   "outputs": [
    {
     "name": "stdout",
     "output_type": "stream",
     "text": [
      "OK !\n"
     ]
    }
   ],
   "source": [
    "from haystack.nodes import TextConverter, PDFToTextConverter, DocxToTextConverter, PreProcessor\n",
    "\n",
    "preprocessor_100 = PreProcessor(\n",
    "    clean_empty_lines=True,\n",
    "    clean_whitespace=True,\n",
    "    clean_header_footer=False,\n",
    "    split_by=\"word\",\n",
    "    split_length=100,\n",
    "    split_respect_sentence_boundary=True,\n",
    ")\n",
    "\n",
    "preprocessor_200 = PreProcessor(\n",
    "    clean_empty_lines=True,\n",
    "    clean_whitespace=True,\n",
    "    clean_header_footer=False,\n",
    "    split_by=\"word\",\n",
    "    split_length=200,\n",
    "    split_respect_sentence_boundary=True,\n",
    ")\n",
    "\n",
    "preprocessor_300 = PreProcessor(\n",
    "    clean_empty_lines=True,\n",
    "    clean_whitespace=True,\n",
    "    clean_header_footer=False,\n",
    "    split_by=\"word\",\n",
    "    split_length=300,\n",
    "    split_respect_sentence_boundary=True,\n",
    ")\n",
    "\n",
    "print('OK !')"
   ]
  },
  {
   "cell_type": "markdown",
   "id": "f604e32e",
   "metadata": {},
   "source": [
    "# Set preprocessor "
   ]
  },
  {
   "cell_type": "code",
   "execution_count": 152,
   "id": "ca25b07c",
   "metadata": {},
   "outputs": [
    {
     "name": "stderr",
     "output_type": "stream",
     "text": [
      "INFO - backoff -  Backing off send_request(...) for 0.0s (requests.exceptions.SSLError: HTTPSConnectionPool(host='tm.hs.deepset.ai', port=443): Max retries exceeded with url: /batch/ (Caused by SSLError(SSLCertVerificationError(1, '[SSL: CERTIFICATE_VERIFY_FAILED] certificate verify failed: unable to get local issuer certificate (_ssl.c:1129)'))))\n",
      "INFO - backoff -  Backing off send_request(...) for 0.8s (requests.exceptions.SSLError: HTTPSConnectionPool(host='tm.hs.deepset.ai', port=443): Max retries exceeded with url: /batch/ (Caused by SSLError(SSLCertVerificationError(1, '[SSL: CERTIFICATE_VERIFY_FAILED] certificate verify failed: unable to get local issuer certificate (_ssl.c:1129)'))))\n"
     ]
    }
   ],
   "source": [
    "preprocessor = preprocessor_100"
   ]
  },
  {
   "cell_type": "markdown",
   "id": "cf5d8bb3",
   "metadata": {},
   "source": [
    "# Process Raw PDF"
   ]
  },
  {
   "cell_type": "code",
   "execution_count": 153,
   "id": "e79f9e02",
   "metadata": {},
   "outputs": [
    {
     "name": "stderr",
     "output_type": "stream",
     "text": [
      "INFO - backoff -  Backing off send_request(...) for 3.8s (requests.exceptions.SSLError: HTTPSConnectionPool(host='tm.hs.deepset.ai', port=443): Max retries exceeded with url: /batch/ (Caused by SSLError(SSLCertVerificationError(1, '[SSL: CERTIFICATE_VERIFY_FAILED] certificate verify failed: unable to get local issuer certificate (_ssl.c:1129)'))))\n"
     ]
    },
    {
     "data": {
      "text/plain": [
       "384"
      ]
     },
     "execution_count": 153,
     "metadata": {},
     "output_type": "execute_result"
    },
    {
     "data": {
      "text/plain": [
       "384"
      ]
     },
     "execution_count": 153,
     "metadata": {},
     "output_type": "execute_result"
    }
   ],
   "source": [
    "# root = '../shared_data/thanatcc/RIA_Input/International Regulator'\n",
    "root = '/DA_WORKSPACE/GLOBAL_WS/ria/International Regulator'\n",
    "\n",
    "\n",
    "file_list = []\n",
    "for path, subdirs, files in os.walk(root):\n",
    "    for name in files:\n",
    "#         print(os.path.join(path, name))\n",
    "        file_list.append(os.path.join(path, name))\n",
    "    \n",
    "len(file_list)\n",
    "# file_list\n",
    "\n",
    "file_list = [each for each in file_list if '.pdf' in each or '.PDF' in each]\n",
    "\n",
    "len(file_list)"
   ]
  },
  {
   "cell_type": "markdown",
   "id": "6a8c42e1",
   "metadata": {},
   "source": [
    "# Clean File Name"
   ]
  },
  {
   "cell_type": "code",
   "execution_count": 154,
   "id": "aa1e7d7c",
   "metadata": {},
   "outputs": [
    {
     "name": "stdout",
     "output_type": "stream",
     "text": [
      "OK !\n"
     ]
    }
   ],
   "source": [
    "def clean_file_name(content):\n",
    "    content = content.replace('\\n',' ')\n",
    "    content = content.encode('utf-8', 'replace').decode()\n",
    "    content = content.encode('utf8','surrogateescape').decode('utf8','surrogateescape')\n",
    "    content = content.replace('?','')\n",
    "    content = content.replace(',','')\n",
    "    content = \" \".join(content.split())\n",
    "    content = content.replace(' ','_')\n",
    "    content = content.replace('__','_')\n",
    "    return content\n",
    "\n",
    "import unicodedata\n",
    "import re\n",
    "\n",
    "def slugify(value, allow_unicode=False):\n",
    "    \"\"\"\n",
    "    Taken from https://github.com/django/django/blob/master/django/utils/text.py\n",
    "    Convert to ASCII if 'allow_unicode' is False. Convert spaces or repeated\n",
    "    dashes to single dashes. Remove characters that aren't alphanumerics,\n",
    "    underscores, or hyphens. Convert to lowercase. Also strip leading and\n",
    "    trailing whitespace, dashes, and underscores.\n",
    "    \"\"\"\n",
    "    value = str(value)\n",
    "    if allow_unicode:\n",
    "        value = unicodedata.normalize('NFKC', value)\n",
    "    else:\n",
    "        value = unicodedata.normalize('NFKD', value).encode('ascii', 'ignore').decode('ascii')\n",
    "    value = re.sub(r'[^\\w\\s-]', '', value.lower())\n",
    "    return re.sub(r'[-\\s]+', '-', value).strip('-_')\n",
    "\n",
    "print('OK !')"
   ]
  },
  {
   "cell_type": "code",
   "execution_count": 155,
   "id": "1961caae",
   "metadata": {},
   "outputs": [
    {
     "name": "stderr",
     "output_type": "stream",
     "text": [
      "ERROR - backoff -  Giving up send_request(...) after 4 tries (requests.exceptions.SSLError: HTTPSConnectionPool(host='tm.hs.deepset.ai', port=443): Max retries exceeded with url: /batch/ (Caused by SSLError(SSLCertVerificationError(1, '[SSL: CERTIFICATE_VERIFY_FAILED] certificate verify failed: unable to get local issuer certificate (_ssl.c:1129)'))))\n",
      "ERROR - posthog -  error uploading: HTTPSConnectionPool(host='tm.hs.deepset.ai', port=443): Max retries exceeded with url: /batch/ (Caused by SSLError(SSLCertVerificationError(1, '[SSL: CERTIFICATE_VERIFY_FAILED] certificate verify failed: unable to get local issuer certificate (_ssl.c:1129)')))\n"
     ]
    }
   ],
   "source": [
    "clean_file_list = []\n",
    "for file_name in file_list:\n",
    "    clean_file_name = file_name.split('/')[-1]\n",
    "    clean_file_name = clean_file_name.replace('.pdf', '')\n",
    "    clean_file_name = clean_file_name.replace('.PDF', '')\n",
    "    clean_file_name = slugify(clean_file_name)\n",
    "    clean_file_name = clean_file_name + '.pdf'\n",
    "    dir_name = '/'.join(file_name.split('/')[:-1])\n",
    "    clean_file_list.append(dir_name + '/' + clean_file_name)\n",
    "    \n",
    "clean_file_list = ['/'.join((each.split('/')[-3:])) for each in clean_file_list]"
   ]
  },
  {
   "cell_type": "code",
   "execution_count": 156,
   "id": "9032ef72",
   "metadata": {},
   "outputs": [],
   "source": [
    "des_path = '../shared_data/thanatcc/RIA_Input/Clean_International_Regulator/'\n",
    "\n",
    "clean_dir_list = ['/'.join((each.split('/')[:2])) for each in clean_file_list]\n",
    "clean_dir_list = list(set(clean_dir_list))\n",
    "clean_dir_list = [each for each in clean_dir_list]\n",
    "clean_dir_list = [des_path + each for each in clean_dir_list]\n",
    "for each in clean_dir_list:\n",
    "    os.makedirs(each, exist_ok=True)"
   ]
  },
  {
   "cell_type": "code",
   "execution_count": 157,
   "id": "736c8a65",
   "metadata": {},
   "outputs": [],
   "source": [
    "clean_file_list = [des_path + each for each in clean_file_list]"
   ]
  },
  {
   "cell_type": "code",
   "execution_count": 161,
   "id": "2e122c88",
   "metadata": {
    "scrolled": true
   },
   "outputs": [
    {
     "name": "stdout",
     "output_type": "stream",
     "text": [
      "0\n"
     ]
    },
    {
     "data": {
      "text/plain": [
       "'../shared_data/thanatcc/RIA_Input/Clean_International_Regulator/10-FCA/interest rate/ps14-16.pdf'"
      ]
     },
     "execution_count": 161,
     "metadata": {},
     "output_type": "execute_result"
    },
    {
     "name": "stdout",
     "output_type": "stream",
     "text": [
      "/DA_WORKSPACE/GLOBAL_WS/ria/International Regulator/10-FCA/interest rate/ps14-16.pdf \n",
      " ../shared_data/thanatcc/RIA_Input/Clean_International_Regulator/10-FCA/interest rate/ps14-16.pdf\n",
      "1\n"
     ]
    },
    {
     "data": {
      "text/plain": [
       "'../shared_data/thanatcc/RIA_Input/Clean_International_Regulator/10-FCA/interest rate/ps18-19.pdf'"
      ]
     },
     "execution_count": 161,
     "metadata": {},
     "output_type": "execute_result"
    },
    {
     "name": "stdout",
     "output_type": "stream",
     "text": [
      "/DA_WORKSPACE/GLOBAL_WS/ria/International Regulator/10-FCA/interest rate/ps18-19.pdf \n",
      " ../shared_data/thanatcc/RIA_Input/Clean_International_Regulator/10-FCA/interest rate/ps18-19.pdf\n",
      "2\n"
     ]
    },
    {
     "data": {
      "text/plain": [
       "'../shared_data/thanatcc/RIA_Input/Clean_International_Regulator/20-HKMA/digital assets/20220112e3a1_discussion-paper.pdf'"
      ]
     },
     "execution_count": 161,
     "metadata": {},
     "output_type": "execute_result"
    },
    {
     "name": "stdout",
     "output_type": "stream",
     "text": [
      "/DA_WORKSPACE/GLOBAL_WS/ria/International Regulator/20-HKMA/digital assets/20220112e3a1_discussion paper.pdf \n",
      " ../shared_data/thanatcc/RIA_Input/Clean_International_Regulator/20-HKMA/digital assets/20220112e3a1_discussion-paper.pdf\n",
      "3\n"
     ]
    },
    {
     "data": {
      "text/plain": [
       "'../shared_data/thanatcc/RIA_Input/Clean_International_Regulator/20-HKMA/digital assets/20220128e3_guidance.pdf'"
      ]
     },
     "execution_count": 161,
     "metadata": {},
     "output_type": "execute_result"
    },
    {
     "name": "stdout",
     "output_type": "stream",
     "text": [
      "/DA_WORKSPACE/GLOBAL_WS/ria/International Regulator/20-HKMA/digital assets/20220128e3_guidance.pdf \n",
      " ../shared_data/thanatcc/RIA_Input/Clean_International_Regulator/20-HKMA/digital assets/20220128e3_guidance.pdf\n",
      "4\n"
     ]
    },
    {
     "data": {
      "text/plain": [
       "'../shared_data/thanatcc/RIA_Input/Clean_International_Regulator/20-HKMA/other/code_eng.pdf'"
      ]
     },
     "execution_count": 161,
     "metadata": {},
     "output_type": "execute_result"
    },
    {
     "name": "stdout",
     "output_type": "stream",
     "text": [
      "/DA_WORKSPACE/GLOBAL_WS/ria/International Regulator/20-HKMA/other/code_eng.pdf \n",
      " ../shared_data/thanatcc/RIA_Input/Clean_International_Regulator/20-HKMA/other/code_eng.pdf\n",
      "5\n"
     ]
    },
    {
     "data": {
      "text/plain": [
       "'../shared_data/thanatcc/RIA_Input/Clean_International_Regulator/25-MAS/credit card/sg_168.pdf'"
      ]
     },
     "execution_count": 161,
     "metadata": {},
     "output_type": "execute_result"
    },
    {
     "name": "stdout",
     "output_type": "stream",
     "text": [
      "/DA_WORKSPACE/GLOBAL_WS/ria/International Regulator/25-MAS/credit card/SG_168.pdf \n",
      " ../shared_data/thanatcc/RIA_Input/Clean_International_Regulator/25-MAS/credit card/sg_168.pdf\n",
      "6\n"
     ]
    },
    {
     "data": {
      "text/plain": [
       "'../shared_data/thanatcc/RIA_Input/Clean_International_Regulator/25-MAS/credit card/sg_254.pdf'"
      ]
     },
     "execution_count": 161,
     "metadata": {},
     "output_type": "execute_result"
    },
    {
     "name": "stdout",
     "output_type": "stream",
     "text": [
      "/DA_WORKSPACE/GLOBAL_WS/ria/International Regulator/25-MAS/credit card/SG_254.pdf \n",
      " ../shared_data/thanatcc/RIA_Input/Clean_International_Regulator/25-MAS/credit card/sg_254.pdf\n",
      "7\n"
     ]
    },
    {
     "data": {
      "text/plain": [
       "'../shared_data/thanatcc/RIA_Input/Clean_International_Regulator/25-MAS/credit card/sg_99.pdf'"
      ]
     },
     "execution_count": 161,
     "metadata": {},
     "output_type": "execute_result"
    },
    {
     "name": "stdout",
     "output_type": "stream",
     "text": [
      "/DA_WORKSPACE/GLOBAL_WS/ria/International Regulator/25-MAS/credit card/SG_99.pdf \n",
      " ../shared_data/thanatcc/RIA_Input/Clean_International_Regulator/25-MAS/credit card/sg_99.pdf\n",
      "8\n"
     ]
    },
    {
     "data": {
      "text/plain": [
       "'../shared_data/thanatcc/RIA_Input/Clean_International_Regulator/25-MAS/credit card/sg_2.pdf'"
      ]
     },
     "execution_count": 161,
     "metadata": {},
     "output_type": "execute_result"
    },
    {
     "name": "stdout",
     "output_type": "stream",
     "text": [
      "/DA_WORKSPACE/GLOBAL_WS/ria/International Regulator/25-MAS/credit card/SG_2.pdf \n",
      " ../shared_data/thanatcc/RIA_Input/Clean_International_Regulator/25-MAS/credit card/sg_2.pdf\n",
      "9\n"
     ]
    },
    {
     "data": {
      "text/plain": [
       "'../shared_data/thanatcc/RIA_Input/Clean_International_Regulator/25-MAS/credit card/sg_139.pdf'"
      ]
     },
     "execution_count": 161,
     "metadata": {},
     "output_type": "execute_result"
    },
    {
     "name": "stdout",
     "output_type": "stream",
     "text": [
      "/DA_WORKSPACE/GLOBAL_WS/ria/International Regulator/25-MAS/credit card/SG_139.pdf \n",
      " ../shared_data/thanatcc/RIA_Input/Clean_International_Regulator/25-MAS/credit card/sg_139.pdf\n",
      "10\n"
     ]
    },
    {
     "data": {
      "text/plain": [
       "'../shared_data/thanatcc/RIA_Input/Clean_International_Regulator/25-MAS/credit card/sg_158.pdf'"
      ]
     },
     "execution_count": 161,
     "metadata": {},
     "output_type": "execute_result"
    },
    {
     "name": "stdout",
     "output_type": "stream",
     "text": [
      "/DA_WORKSPACE/GLOBAL_WS/ria/International Regulator/25-MAS/credit card/SG_158.pdf \n",
      " ../shared_data/thanatcc/RIA_Input/Clean_International_Regulator/25-MAS/credit card/sg_158.pdf\n",
      "11\n"
     ]
    },
    {
     "data": {
      "text/plain": [
       "'../shared_data/thanatcc/RIA_Input/Clean_International_Regulator/25-MAS/credit card/sg_228.pdf'"
      ]
     },
     "execution_count": 161,
     "metadata": {},
     "output_type": "execute_result"
    },
    {
     "name": "stdout",
     "output_type": "stream",
     "text": [
      "/DA_WORKSPACE/GLOBAL_WS/ria/International Regulator/25-MAS/credit card/SG_228.pdf \n",
      " ../shared_data/thanatcc/RIA_Input/Clean_International_Regulator/25-MAS/credit card/sg_228.pdf\n",
      "12\n"
     ]
    },
    {
     "data": {
      "text/plain": [
       "'../shared_data/thanatcc/RIA_Input/Clean_International_Regulator/25-MAS/digital assets/financial-services-and-markets-bill-uthority-of-singapore-on-4-april-2022.pdf'"
      ]
     },
     "execution_count": 161,
     "metadata": {},
     "output_type": "execute_result"
    },
    {
     "name": "stdout",
     "output_type": "stream",
     "text": [
      "/DA_WORKSPACE/GLOBAL_WS/ria/International Regulator/25-MAS/digital assets/“Financial Services and Markets Bill” –...uthority of Singapore, on 4 April 2022.pdf \n",
      " ../shared_data/thanatcc/RIA_Input/Clean_International_Regulator/25-MAS/digital assets/financial-services-and-markets-bill-uthority-of-singapore-on-4-april-2022.pdf\n",
      "13\n"
     ]
    },
    {
     "data": {
      "text/plain": [
       "'../shared_data/thanatcc/RIA_Input/Clean_International_Regulator/25-MAS/risk/notice-1109-unsecured-credit-facilities-to-individuals_1-jul-2021.pdf'"
      ]
     },
     "execution_count": 161,
     "metadata": {},
     "output_type": "execute_result"
    },
    {
     "name": "stdout",
     "output_type": "stream",
     "text": [
      "/DA_WORKSPACE/GLOBAL_WS/ria/International Regulator/25-MAS/risk/Notice 1109 Unsecured Credit Facilities to Individuals_1 Jul 2021.pdf \n",
      " ../shared_data/thanatcc/RIA_Input/Clean_International_Regulator/25-MAS/risk/notice-1109-unsecured-credit-facilities-to-individuals_1-jul-2021.pdf\n",
      "14\n"
     ]
    },
    {
     "data": {
      "text/plain": [
       "'../shared_data/thanatcc/RIA_Input/Clean_International_Regulator/25-MAS/product/sg_59.pdf'"
      ]
     },
     "execution_count": 161,
     "metadata": {},
     "output_type": "execute_result"
    },
    {
     "name": "stdout",
     "output_type": "stream",
     "text": [
      "/DA_WORKSPACE/GLOBAL_WS/ria/International Regulator/25-MAS/product/SG_59.pdf \n",
      " ../shared_data/thanatcc/RIA_Input/Clean_International_Regulator/25-MAS/product/sg_59.pdf\n",
      "15\n"
     ]
    },
    {
     "data": {
      "text/plain": [
       "'../shared_data/thanatcc/RIA_Input/Clean_International_Regulator/25-MAS/product/sg_16.pdf'"
      ]
     },
     "execution_count": 161,
     "metadata": {},
     "output_type": "execute_result"
    },
    {
     "name": "stdout",
     "output_type": "stream",
     "text": [
      "/DA_WORKSPACE/GLOBAL_WS/ria/International Regulator/25-MAS/product/SG_16.pdf \n",
      " ../shared_data/thanatcc/RIA_Input/Clean_International_Regulator/25-MAS/product/sg_16.pdf\n",
      "16\n"
     ]
    },
    {
     "data": {
      "text/plain": [
       "'../shared_data/thanatcc/RIA_Input/Clean_International_Regulator/25-MAS/product/sg_0.pdf'"
      ]
     },
     "execution_count": 161,
     "metadata": {},
     "output_type": "execute_result"
    },
    {
     "name": "stdout",
     "output_type": "stream",
     "text": [
      "/DA_WORKSPACE/GLOBAL_WS/ria/International Regulator/25-MAS/product/SG_0.pdf \n",
      " ../shared_data/thanatcc/RIA_Input/Clean_International_Regulator/25-MAS/product/sg_0.pdf\n",
      "17\n"
     ]
    },
    {
     "data": {
      "text/plain": [
       "'../shared_data/thanatcc/RIA_Input/Clean_International_Regulator/25-MAS/other/sg_177.pdf'"
      ]
     },
     "execution_count": 161,
     "metadata": {},
     "output_type": "execute_result"
    },
    {
     "name": "stdout",
     "output_type": "stream",
     "text": [
      "/DA_WORKSPACE/GLOBAL_WS/ria/International Regulator/25-MAS/other/SG_177.pdf \n",
      " ../shared_data/thanatcc/RIA_Input/Clean_International_Regulator/25-MAS/other/sg_177.pdf\n",
      "18\n"
     ]
    },
    {
     "data": {
      "text/plain": [
       "'../shared_data/thanatcc/RIA_Input/Clean_International_Regulator/25-MAS/other/sg_346.pdf'"
      ]
     },
     "execution_count": 161,
     "metadata": {},
     "output_type": "execute_result"
    },
    {
     "name": "stdout",
     "output_type": "stream",
     "text": [
      "/DA_WORKSPACE/GLOBAL_WS/ria/International Regulator/25-MAS/other/SG_346.pdf \n",
      " ../shared_data/thanatcc/RIA_Input/Clean_International_Regulator/25-MAS/other/sg_346.pdf\n",
      "19\n"
     ]
    },
    {
     "data": {
      "text/plain": [
       "'../shared_data/thanatcc/RIA_Input/Clean_International_Regulator/25-MAS/other/sg_354.pdf'"
      ]
     },
     "execution_count": 161,
     "metadata": {},
     "output_type": "execute_result"
    },
    {
     "name": "stdout",
     "output_type": "stream",
     "text": [
      "/DA_WORKSPACE/GLOBAL_WS/ria/International Regulator/25-MAS/other/SG_354.pdf \n",
      " ../shared_data/thanatcc/RIA_Input/Clean_International_Regulator/25-MAS/other/sg_354.pdf\n",
      "20\n"
     ]
    },
    {
     "data": {
      "text/plain": [
       "'../shared_data/thanatcc/RIA_Input/Clean_International_Regulator/25-MAS/other/sg_73.pdf'"
      ]
     },
     "execution_count": 161,
     "metadata": {},
     "output_type": "execute_result"
    },
    {
     "name": "stdout",
     "output_type": "stream",
     "text": [
      "/DA_WORKSPACE/GLOBAL_WS/ria/International Regulator/25-MAS/other/SG_73.pdf \n",
      " ../shared_data/thanatcc/RIA_Input/Clean_International_Regulator/25-MAS/other/sg_73.pdf\n",
      "21\n"
     ]
    },
    {
     "data": {
      "text/plain": [
       "'../shared_data/thanatcc/RIA_Input/Clean_International_Regulator/25-MAS/other/sg_37.pdf'"
      ]
     },
     "execution_count": 161,
     "metadata": {},
     "output_type": "execute_result"
    },
    {
     "name": "stdout",
     "output_type": "stream",
     "text": [
      "/DA_WORKSPACE/GLOBAL_WS/ria/International Regulator/25-MAS/other/SG_37.pdf \n",
      " ../shared_data/thanatcc/RIA_Input/Clean_International_Regulator/25-MAS/other/sg_37.pdf\n",
      "22\n"
     ]
    },
    {
     "data": {
      "text/plain": [
       "'../shared_data/thanatcc/RIA_Input/Clean_International_Regulator/25-MAS/other/sg_118.pdf'"
      ]
     },
     "execution_count": 161,
     "metadata": {},
     "output_type": "execute_result"
    },
    {
     "name": "stdout",
     "output_type": "stream",
     "text": [
      "/DA_WORKSPACE/GLOBAL_WS/ria/International Regulator/25-MAS/other/SG_118.pdf \n",
      " ../shared_data/thanatcc/RIA_Input/Clean_International_Regulator/25-MAS/other/sg_118.pdf\n",
      "23\n"
     ]
    },
    {
     "data": {
      "text/plain": [
       "'../shared_data/thanatcc/RIA_Input/Clean_International_Regulator/25-MAS/other/sg_104.pdf'"
      ]
     },
     "execution_count": 161,
     "metadata": {},
     "output_type": "execute_result"
    },
    {
     "name": "stdout",
     "output_type": "stream",
     "text": [
      "/DA_WORKSPACE/GLOBAL_WS/ria/International Regulator/25-MAS/other/SG_104.pdf \n",
      " ../shared_data/thanatcc/RIA_Input/Clean_International_Regulator/25-MAS/other/sg_104.pdf\n",
      "24\n"
     ]
    },
    {
     "data": {
      "text/plain": [
       "'../shared_data/thanatcc/RIA_Input/Clean_International_Regulator/25-MAS/other/sg_352.pdf'"
      ]
     },
     "execution_count": 161,
     "metadata": {},
     "output_type": "execute_result"
    },
    {
     "name": "stdout",
     "output_type": "stream",
     "text": [
      "/DA_WORKSPACE/GLOBAL_WS/ria/International Regulator/25-MAS/other/SG_352.pdf \n",
      " ../shared_data/thanatcc/RIA_Input/Clean_International_Regulator/25-MAS/other/sg_352.pdf\n",
      "25\n"
     ]
    },
    {
     "data": {
      "text/plain": [
       "'../shared_data/thanatcc/RIA_Input/Clean_International_Regulator/25-MAS/other/sg_72.pdf'"
      ]
     },
     "execution_count": 161,
     "metadata": {},
     "output_type": "execute_result"
    },
    {
     "name": "stdout",
     "output_type": "stream",
     "text": [
      "/DA_WORKSPACE/GLOBAL_WS/ria/International Regulator/25-MAS/other/SG_72.pdf \n",
      " ../shared_data/thanatcc/RIA_Input/Clean_International_Regulator/25-MAS/other/sg_72.pdf\n",
      "26\n"
     ]
    },
    {
     "data": {
      "text/plain": [
       "'../shared_data/thanatcc/RIA_Input/Clean_International_Regulator/25-MAS/other/sg_313.pdf'"
      ]
     },
     "execution_count": 161,
     "metadata": {},
     "output_type": "execute_result"
    },
    {
     "name": "stdout",
     "output_type": "stream",
     "text": [
      "/DA_WORKSPACE/GLOBAL_WS/ria/International Regulator/25-MAS/other/SG_313.pdf \n",
      " ../shared_data/thanatcc/RIA_Input/Clean_International_Regulator/25-MAS/other/sg_313.pdf\n",
      "27\n"
     ]
    },
    {
     "data": {
      "text/plain": [
       "'../shared_data/thanatcc/RIA_Input/Clean_International_Regulator/25-MAS/other/sg_155.pdf'"
      ]
     },
     "execution_count": 161,
     "metadata": {},
     "output_type": "execute_result"
    },
    {
     "name": "stdout",
     "output_type": "stream",
     "text": [
      "/DA_WORKSPACE/GLOBAL_WS/ria/International Regulator/25-MAS/other/SG_155.pdf \n",
      " ../shared_data/thanatcc/RIA_Input/Clean_International_Regulator/25-MAS/other/sg_155.pdf\n",
      "28\n"
     ]
    },
    {
     "data": {
      "text/plain": [
       "'../shared_data/thanatcc/RIA_Input/Clean_International_Regulator/25-MAS/other/sg_163.pdf'"
      ]
     },
     "execution_count": 161,
     "metadata": {},
     "output_type": "execute_result"
    },
    {
     "name": "stdout",
     "output_type": "stream",
     "text": [
      "/DA_WORKSPACE/GLOBAL_WS/ria/International Regulator/25-MAS/other/SG_163.pdf \n",
      " ../shared_data/thanatcc/RIA_Input/Clean_International_Regulator/25-MAS/other/sg_163.pdf\n",
      "29\n"
     ]
    },
    {
     "data": {
      "text/plain": [
       "'../shared_data/thanatcc/RIA_Input/Clean_International_Regulator/25-MAS/other/sg_92.pdf'"
      ]
     },
     "execution_count": 161,
     "metadata": {},
     "output_type": "execute_result"
    },
    {
     "name": "stdout",
     "output_type": "stream",
     "text": [
      "/DA_WORKSPACE/GLOBAL_WS/ria/International Regulator/25-MAS/other/SG_92.pdf \n",
      " ../shared_data/thanatcc/RIA_Input/Clean_International_Regulator/25-MAS/other/sg_92.pdf\n",
      "30\n"
     ]
    },
    {
     "data": {
      "text/plain": [
       "'../shared_data/thanatcc/RIA_Input/Clean_International_Regulator/25-MAS/other/sg_42.pdf'"
      ]
     },
     "execution_count": 161,
     "metadata": {},
     "output_type": "execute_result"
    },
    {
     "name": "stdout",
     "output_type": "stream",
     "text": [
      "/DA_WORKSPACE/GLOBAL_WS/ria/International Regulator/25-MAS/other/SG_42.pdf \n",
      " ../shared_data/thanatcc/RIA_Input/Clean_International_Regulator/25-MAS/other/sg_42.pdf\n",
      "31\n"
     ]
    },
    {
     "data": {
      "text/plain": [
       "'../shared_data/thanatcc/RIA_Input/Clean_International_Regulator/25-MAS/other/sg_93.pdf'"
      ]
     },
     "execution_count": 161,
     "metadata": {},
     "output_type": "execute_result"
    },
    {
     "name": "stdout",
     "output_type": "stream",
     "text": [
      "/DA_WORKSPACE/GLOBAL_WS/ria/International Regulator/25-MAS/other/SG_93.pdf \n",
      " ../shared_data/thanatcc/RIA_Input/Clean_International_Regulator/25-MAS/other/sg_93.pdf\n",
      "32\n"
     ]
    },
    {
     "data": {
      "text/plain": [
       "'../shared_data/thanatcc/RIA_Input/Clean_International_Regulator/25-MAS/other/sg_34.pdf'"
      ]
     },
     "execution_count": 161,
     "metadata": {},
     "output_type": "execute_result"
    },
    {
     "name": "stdout",
     "output_type": "stream",
     "text": [
      "/DA_WORKSPACE/GLOBAL_WS/ria/International Regulator/25-MAS/other/SG_34.pdf \n",
      " ../shared_data/thanatcc/RIA_Input/Clean_International_Regulator/25-MAS/other/sg_34.pdf\n",
      "33\n"
     ]
    },
    {
     "data": {
      "text/plain": [
       "'../shared_data/thanatcc/RIA_Input/Clean_International_Regulator/25-MAS/other/sg_234.pdf'"
      ]
     },
     "execution_count": 161,
     "metadata": {},
     "output_type": "execute_result"
    },
    {
     "name": "stdout",
     "output_type": "stream",
     "text": [
      "/DA_WORKSPACE/GLOBAL_WS/ria/International Regulator/25-MAS/other/SG_234.pdf \n",
      " ../shared_data/thanatcc/RIA_Input/Clean_International_Regulator/25-MAS/other/sg_234.pdf\n",
      "34\n"
     ]
    },
    {
     "data": {
      "text/plain": [
       "'../shared_data/thanatcc/RIA_Input/Clean_International_Regulator/25-MAS/other/sg_191.pdf'"
      ]
     },
     "execution_count": 161,
     "metadata": {},
     "output_type": "execute_result"
    },
    {
     "name": "stdout",
     "output_type": "stream",
     "text": [
      "/DA_WORKSPACE/GLOBAL_WS/ria/International Regulator/25-MAS/other/SG_191.pdf \n",
      " ../shared_data/thanatcc/RIA_Input/Clean_International_Regulator/25-MAS/other/sg_191.pdf\n",
      "35\n"
     ]
    },
    {
     "data": {
      "text/plain": [
       "'../shared_data/thanatcc/RIA_Input/Clean_International_Regulator/25-MAS/other/sg_260.pdf'"
      ]
     },
     "execution_count": 161,
     "metadata": {},
     "output_type": "execute_result"
    },
    {
     "name": "stdout",
     "output_type": "stream",
     "text": [
      "/DA_WORKSPACE/GLOBAL_WS/ria/International Regulator/25-MAS/other/SG_260.pdf \n",
      " ../shared_data/thanatcc/RIA_Input/Clean_International_Regulator/25-MAS/other/sg_260.pdf\n",
      "36\n"
     ]
    },
    {
     "data": {
      "text/plain": [
       "'../shared_data/thanatcc/RIA_Input/Clean_International_Regulator/25-MAS/other/sg_135.pdf'"
      ]
     },
     "execution_count": 161,
     "metadata": {},
     "output_type": "execute_result"
    },
    {
     "name": "stdout",
     "output_type": "stream",
     "text": [
      "/DA_WORKSPACE/GLOBAL_WS/ria/International Regulator/25-MAS/other/SG_135.pdf \n",
      " ../shared_data/thanatcc/RIA_Input/Clean_International_Regulator/25-MAS/other/sg_135.pdf\n",
      "37\n"
     ]
    },
    {
     "data": {
      "text/plain": [
       "'../shared_data/thanatcc/RIA_Input/Clean_International_Regulator/25-MAS/other/sg_157.pdf'"
      ]
     },
     "execution_count": 161,
     "metadata": {},
     "output_type": "execute_result"
    },
    {
     "name": "stdout",
     "output_type": "stream",
     "text": [
      "/DA_WORKSPACE/GLOBAL_WS/ria/International Regulator/25-MAS/other/SG_157.pdf \n",
      " ../shared_data/thanatcc/RIA_Input/Clean_International_Regulator/25-MAS/other/sg_157.pdf\n",
      "38\n"
     ]
    },
    {
     "data": {
      "text/plain": [
       "'../shared_data/thanatcc/RIA_Input/Clean_International_Regulator/25-MAS/other/sg_321.pdf'"
      ]
     },
     "execution_count": 161,
     "metadata": {},
     "output_type": "execute_result"
    },
    {
     "name": "stdout",
     "output_type": "stream",
     "text": [
      "/DA_WORKSPACE/GLOBAL_WS/ria/International Regulator/25-MAS/other/SG_321.pdf \n",
      " ../shared_data/thanatcc/RIA_Input/Clean_International_Regulator/25-MAS/other/sg_321.pdf\n",
      "39\n"
     ]
    },
    {
     "data": {
      "text/plain": [
       "'../shared_data/thanatcc/RIA_Input/Clean_International_Regulator/25-MAS/other/sg_338.pdf'"
      ]
     },
     "execution_count": 161,
     "metadata": {},
     "output_type": "execute_result"
    },
    {
     "name": "stdout",
     "output_type": "stream",
     "text": [
      "/DA_WORKSPACE/GLOBAL_WS/ria/International Regulator/25-MAS/other/SG_338.pdf \n",
      " ../shared_data/thanatcc/RIA_Input/Clean_International_Regulator/25-MAS/other/sg_338.pdf\n",
      "40\n"
     ]
    },
    {
     "data": {
      "text/plain": [
       "'../shared_data/thanatcc/RIA_Input/Clean_International_Regulator/25-MAS/other/sg_76.pdf'"
      ]
     },
     "execution_count": 161,
     "metadata": {},
     "output_type": "execute_result"
    },
    {
     "name": "stdout",
     "output_type": "stream",
     "text": [
      "/DA_WORKSPACE/GLOBAL_WS/ria/International Regulator/25-MAS/other/SG_76.pdf \n",
      " ../shared_data/thanatcc/RIA_Input/Clean_International_Regulator/25-MAS/other/sg_76.pdf\n",
      "41\n"
     ]
    },
    {
     "data": {
      "text/plain": [
       "'../shared_data/thanatcc/RIA_Input/Clean_International_Regulator/25-MAS/other/sg_96.pdf'"
      ]
     },
     "execution_count": 161,
     "metadata": {},
     "output_type": "execute_result"
    },
    {
     "name": "stdout",
     "output_type": "stream",
     "text": [
      "/DA_WORKSPACE/GLOBAL_WS/ria/International Regulator/25-MAS/other/SG_96.pdf \n",
      " ../shared_data/thanatcc/RIA_Input/Clean_International_Regulator/25-MAS/other/sg_96.pdf\n",
      "42\n"
     ]
    },
    {
     "data": {
      "text/plain": [
       "'../shared_data/thanatcc/RIA_Input/Clean_International_Regulator/25-MAS/other/sg_165.pdf'"
      ]
     },
     "execution_count": 161,
     "metadata": {},
     "output_type": "execute_result"
    },
    {
     "name": "stdout",
     "output_type": "stream",
     "text": [
      "/DA_WORKSPACE/GLOBAL_WS/ria/International Regulator/25-MAS/other/SG_165.pdf \n",
      " ../shared_data/thanatcc/RIA_Input/Clean_International_Regulator/25-MAS/other/sg_165.pdf\n",
      "43\n"
     ]
    },
    {
     "data": {
      "text/plain": [
       "'../shared_data/thanatcc/RIA_Input/Clean_International_Regulator/25-MAS/other/sg_248.pdf'"
      ]
     },
     "execution_count": 161,
     "metadata": {},
     "output_type": "execute_result"
    },
    {
     "name": "stdout",
     "output_type": "stream",
     "text": [
      "/DA_WORKSPACE/GLOBAL_WS/ria/International Regulator/25-MAS/other/SG_248.pdf \n",
      " ../shared_data/thanatcc/RIA_Input/Clean_International_Regulator/25-MAS/other/sg_248.pdf\n",
      "44\n"
     ]
    },
    {
     "data": {
      "text/plain": [
       "'../shared_data/thanatcc/RIA_Input/Clean_International_Regulator/25-MAS/other/sg_129.pdf'"
      ]
     },
     "execution_count": 161,
     "metadata": {},
     "output_type": "execute_result"
    },
    {
     "name": "stdout",
     "output_type": "stream",
     "text": [
      "/DA_WORKSPACE/GLOBAL_WS/ria/International Regulator/25-MAS/other/SG_129.pdf \n",
      " ../shared_data/thanatcc/RIA_Input/Clean_International_Regulator/25-MAS/other/sg_129.pdf\n",
      "45\n"
     ]
    },
    {
     "data": {
      "text/plain": [
       "'../shared_data/thanatcc/RIA_Input/Clean_International_Regulator/25-MAS/other/sg_7.pdf'"
      ]
     },
     "execution_count": 161,
     "metadata": {},
     "output_type": "execute_result"
    },
    {
     "name": "stdout",
     "output_type": "stream",
     "text": [
      "/DA_WORKSPACE/GLOBAL_WS/ria/International Regulator/25-MAS/other/SG_7.pdf \n",
      " ../shared_data/thanatcc/RIA_Input/Clean_International_Regulator/25-MAS/other/sg_7.pdf\n",
      "46\n"
     ]
    },
    {
     "data": {
      "text/plain": [
       "'../shared_data/thanatcc/RIA_Input/Clean_International_Regulator/25-MAS/other/sg_296.pdf'"
      ]
     },
     "execution_count": 161,
     "metadata": {},
     "output_type": "execute_result"
    },
    {
     "name": "stdout",
     "output_type": "stream",
     "text": [
      "/DA_WORKSPACE/GLOBAL_WS/ria/International Regulator/25-MAS/other/SG_296.pdf \n",
      " ../shared_data/thanatcc/RIA_Input/Clean_International_Regulator/25-MAS/other/sg_296.pdf\n",
      "47\n"
     ]
    },
    {
     "data": {
      "text/plain": [
       "'../shared_data/thanatcc/RIA_Input/Clean_International_Regulator/25-MAS/other/sg_146.pdf'"
      ]
     },
     "execution_count": 161,
     "metadata": {},
     "output_type": "execute_result"
    },
    {
     "name": "stdout",
     "output_type": "stream",
     "text": [
      "/DA_WORKSPACE/GLOBAL_WS/ria/International Regulator/25-MAS/other/SG_146.pdf \n",
      " ../shared_data/thanatcc/RIA_Input/Clean_International_Regulator/25-MAS/other/sg_146.pdf\n",
      "48\n"
     ]
    },
    {
     "data": {
      "text/plain": [
       "'../shared_data/thanatcc/RIA_Input/Clean_International_Regulator/25-MAS/other/sg_304.pdf'"
      ]
     },
     "execution_count": 161,
     "metadata": {},
     "output_type": "execute_result"
    },
    {
     "name": "stdout",
     "output_type": "stream",
     "text": [
      "/DA_WORKSPACE/GLOBAL_WS/ria/International Regulator/25-MAS/other/SG_304.pdf \n",
      " ../shared_data/thanatcc/RIA_Input/Clean_International_Regulator/25-MAS/other/sg_304.pdf\n",
      "49\n"
     ]
    },
    {
     "data": {
      "text/plain": [
       "'../shared_data/thanatcc/RIA_Input/Clean_International_Regulator/25-MAS/other/sg_319.pdf'"
      ]
     },
     "execution_count": 161,
     "metadata": {},
     "output_type": "execute_result"
    },
    {
     "name": "stdout",
     "output_type": "stream",
     "text": [
      "/DA_WORKSPACE/GLOBAL_WS/ria/International Regulator/25-MAS/other/SG_319.pdf \n",
      " ../shared_data/thanatcc/RIA_Input/Clean_International_Regulator/25-MAS/other/sg_319.pdf\n",
      "50\n"
     ]
    },
    {
     "data": {
      "text/plain": [
       "'../shared_data/thanatcc/RIA_Input/Clean_International_Regulator/25-MAS/other/sg_108.pdf'"
      ]
     },
     "execution_count": 161,
     "metadata": {},
     "output_type": "execute_result"
    },
    {
     "name": "stdout",
     "output_type": "stream",
     "text": [
      "/DA_WORKSPACE/GLOBAL_WS/ria/International Regulator/25-MAS/other/SG_108.pdf \n",
      " ../shared_data/thanatcc/RIA_Input/Clean_International_Regulator/25-MAS/other/sg_108.pdf\n",
      "51\n"
     ]
    },
    {
     "data": {
      "text/plain": [
       "'../shared_data/thanatcc/RIA_Input/Clean_International_Regulator/25-MAS/other/sg_303.pdf'"
      ]
     },
     "execution_count": 161,
     "metadata": {},
     "output_type": "execute_result"
    },
    {
     "name": "stdout",
     "output_type": "stream",
     "text": [
      "/DA_WORKSPACE/GLOBAL_WS/ria/International Regulator/25-MAS/other/SG_303.pdf \n",
      " ../shared_data/thanatcc/RIA_Input/Clean_International_Regulator/25-MAS/other/sg_303.pdf\n",
      "52\n"
     ]
    },
    {
     "data": {
      "text/plain": [
       "'../shared_data/thanatcc/RIA_Input/Clean_International_Regulator/25-MAS/other/sg_33.pdf'"
      ]
     },
     "execution_count": 161,
     "metadata": {},
     "output_type": "execute_result"
    },
    {
     "name": "stdout",
     "output_type": "stream",
     "text": [
      "/DA_WORKSPACE/GLOBAL_WS/ria/International Regulator/25-MAS/other/SG_33.pdf \n",
      " ../shared_data/thanatcc/RIA_Input/Clean_International_Regulator/25-MAS/other/sg_33.pdf\n",
      "53\n"
     ]
    },
    {
     "data": {
      "text/plain": [
       "'../shared_data/thanatcc/RIA_Input/Clean_International_Regulator/25-MAS/other/sg_361.pdf'"
      ]
     },
     "execution_count": 161,
     "metadata": {},
     "output_type": "execute_result"
    },
    {
     "name": "stdout",
     "output_type": "stream",
     "text": [
      "/DA_WORKSPACE/GLOBAL_WS/ria/International Regulator/25-MAS/other/SG_361.pdf \n",
      " ../shared_data/thanatcc/RIA_Input/Clean_International_Regulator/25-MAS/other/sg_361.pdf\n",
      "54\n"
     ]
    },
    {
     "data": {
      "text/plain": [
       "'../shared_data/thanatcc/RIA_Input/Clean_International_Regulator/25-MAS/other/sg_84.pdf'"
      ]
     },
     "execution_count": 161,
     "metadata": {},
     "output_type": "execute_result"
    },
    {
     "name": "stdout",
     "output_type": "stream",
     "text": [
      "/DA_WORKSPACE/GLOBAL_WS/ria/International Regulator/25-MAS/other/SG_84.pdf \n",
      " ../shared_data/thanatcc/RIA_Input/Clean_International_Regulator/25-MAS/other/sg_84.pdf\n",
      "55\n"
     ]
    },
    {
     "data": {
      "text/plain": [
       "'../shared_data/thanatcc/RIA_Input/Clean_International_Regulator/25-MAS/other/sg_110.pdf'"
      ]
     },
     "execution_count": 161,
     "metadata": {},
     "output_type": "execute_result"
    },
    {
     "name": "stdout",
     "output_type": "stream",
     "text": [
      "/DA_WORKSPACE/GLOBAL_WS/ria/International Regulator/25-MAS/other/SG_110.pdf \n",
      " ../shared_data/thanatcc/RIA_Input/Clean_International_Regulator/25-MAS/other/sg_110.pdf\n",
      "56\n"
     ]
    },
    {
     "data": {
      "text/plain": [
       "'../shared_data/thanatcc/RIA_Input/Clean_International_Regulator/25-MAS/other/sg_106.pdf'"
      ]
     },
     "execution_count": 161,
     "metadata": {},
     "output_type": "execute_result"
    },
    {
     "name": "stdout",
     "output_type": "stream",
     "text": [
      "/DA_WORKSPACE/GLOBAL_WS/ria/International Regulator/25-MAS/other/SG_106.pdf \n",
      " ../shared_data/thanatcc/RIA_Input/Clean_International_Regulator/25-MAS/other/sg_106.pdf\n",
      "57\n"
     ]
    },
    {
     "data": {
      "text/plain": [
       "'../shared_data/thanatcc/RIA_Input/Clean_International_Regulator/25-MAS/other/sg_156.pdf'"
      ]
     },
     "execution_count": 161,
     "metadata": {},
     "output_type": "execute_result"
    },
    {
     "name": "stdout",
     "output_type": "stream",
     "text": [
      "/DA_WORKSPACE/GLOBAL_WS/ria/International Regulator/25-MAS/other/SG_156.pdf \n",
      " ../shared_data/thanatcc/RIA_Input/Clean_International_Regulator/25-MAS/other/sg_156.pdf\n",
      "58\n"
     ]
    },
    {
     "data": {
      "text/plain": [
       "'../shared_data/thanatcc/RIA_Input/Clean_International_Regulator/25-MAS/other/sg_77.pdf'"
      ]
     },
     "execution_count": 161,
     "metadata": {},
     "output_type": "execute_result"
    },
    {
     "name": "stdout",
     "output_type": "stream",
     "text": [
      "/DA_WORKSPACE/GLOBAL_WS/ria/International Regulator/25-MAS/other/SG_77.pdf \n",
      " ../shared_data/thanatcc/RIA_Input/Clean_International_Regulator/25-MAS/other/sg_77.pdf\n",
      "59\n"
     ]
    },
    {
     "data": {
      "text/plain": [
       "'../shared_data/thanatcc/RIA_Input/Clean_International_Regulator/25-MAS/other/sg_196.pdf'"
      ]
     },
     "execution_count": 161,
     "metadata": {},
     "output_type": "execute_result"
    },
    {
     "name": "stdout",
     "output_type": "stream",
     "text": [
      "/DA_WORKSPACE/GLOBAL_WS/ria/International Regulator/25-MAS/other/SG_196.pdf \n",
      " ../shared_data/thanatcc/RIA_Input/Clean_International_Regulator/25-MAS/other/sg_196.pdf\n",
      "60\n"
     ]
    },
    {
     "data": {
      "text/plain": [
       "'../shared_data/thanatcc/RIA_Input/Clean_International_Regulator/25-MAS/other/sg_114.pdf'"
      ]
     },
     "execution_count": 161,
     "metadata": {},
     "output_type": "execute_result"
    },
    {
     "name": "stdout",
     "output_type": "stream",
     "text": [
      "/DA_WORKSPACE/GLOBAL_WS/ria/International Regulator/25-MAS/other/SG_114.pdf \n",
      " ../shared_data/thanatcc/RIA_Input/Clean_International_Regulator/25-MAS/other/sg_114.pdf\n",
      "61\n"
     ]
    },
    {
     "data": {
      "text/plain": [
       "'../shared_data/thanatcc/RIA_Input/Clean_International_Regulator/25-MAS/other/sg_249.pdf'"
      ]
     },
     "execution_count": 161,
     "metadata": {},
     "output_type": "execute_result"
    },
    {
     "name": "stdout",
     "output_type": "stream",
     "text": [
      "/DA_WORKSPACE/GLOBAL_WS/ria/International Regulator/25-MAS/other/SG_249.pdf \n",
      " ../shared_data/thanatcc/RIA_Input/Clean_International_Regulator/25-MAS/other/sg_249.pdf\n",
      "62\n"
     ]
    },
    {
     "data": {
      "text/plain": [
       "'../shared_data/thanatcc/RIA_Input/Clean_International_Regulator/25-MAS/other/sg_295.pdf'"
      ]
     },
     "execution_count": 161,
     "metadata": {},
     "output_type": "execute_result"
    },
    {
     "name": "stdout",
     "output_type": "stream",
     "text": [
      "/DA_WORKSPACE/GLOBAL_WS/ria/International Regulator/25-MAS/other/SG_295.pdf \n",
      " ../shared_data/thanatcc/RIA_Input/Clean_International_Regulator/25-MAS/other/sg_295.pdf\n",
      "63\n"
     ]
    },
    {
     "data": {
      "text/plain": [
       "'../shared_data/thanatcc/RIA_Input/Clean_International_Regulator/25-MAS/other/sg_229.pdf'"
      ]
     },
     "execution_count": 161,
     "metadata": {},
     "output_type": "execute_result"
    },
    {
     "name": "stdout",
     "output_type": "stream",
     "text": [
      "/DA_WORKSPACE/GLOBAL_WS/ria/International Regulator/25-MAS/other/SG_229.pdf \n",
      " ../shared_data/thanatcc/RIA_Input/Clean_International_Regulator/25-MAS/other/sg_229.pdf\n",
      "64\n"
     ]
    },
    {
     "data": {
      "text/plain": [
       "'../shared_data/thanatcc/RIA_Input/Clean_International_Regulator/25-MAS/other/sg_341.pdf'"
      ]
     },
     "execution_count": 161,
     "metadata": {},
     "output_type": "execute_result"
    },
    {
     "name": "stdout",
     "output_type": "stream",
     "text": [
      "/DA_WORKSPACE/GLOBAL_WS/ria/International Regulator/25-MAS/other/SG_341.pdf \n",
      " ../shared_data/thanatcc/RIA_Input/Clean_International_Regulator/25-MAS/other/sg_341.pdf\n",
      "65\n"
     ]
    },
    {
     "data": {
      "text/plain": [
       "'../shared_data/thanatcc/RIA_Input/Clean_International_Regulator/25-MAS/other/sg_61.pdf'"
      ]
     },
     "execution_count": 161,
     "metadata": {},
     "output_type": "execute_result"
    },
    {
     "name": "stdout",
     "output_type": "stream",
     "text": [
      "/DA_WORKSPACE/GLOBAL_WS/ria/International Regulator/25-MAS/other/SG_61.pdf \n",
      " ../shared_data/thanatcc/RIA_Input/Clean_International_Regulator/25-MAS/other/sg_61.pdf\n",
      "66\n"
     ]
    },
    {
     "data": {
      "text/plain": [
       "'../shared_data/thanatcc/RIA_Input/Clean_International_Regulator/25-MAS/other/sg_279.pdf'"
      ]
     },
     "execution_count": 161,
     "metadata": {},
     "output_type": "execute_result"
    },
    {
     "name": "stdout",
     "output_type": "stream",
     "text": [
      "/DA_WORKSPACE/GLOBAL_WS/ria/International Regulator/25-MAS/other/SG_279.pdf \n",
      " ../shared_data/thanatcc/RIA_Input/Clean_International_Regulator/25-MAS/other/sg_279.pdf\n",
      "67\n"
     ]
    },
    {
     "data": {
      "text/plain": [
       "'../shared_data/thanatcc/RIA_Input/Clean_International_Regulator/25-MAS/other/sg_46.pdf'"
      ]
     },
     "execution_count": 161,
     "metadata": {},
     "output_type": "execute_result"
    },
    {
     "name": "stdout",
     "output_type": "stream",
     "text": [
      "/DA_WORKSPACE/GLOBAL_WS/ria/International Regulator/25-MAS/other/SG_46.pdf \n",
      " ../shared_data/thanatcc/RIA_Input/Clean_International_Regulator/25-MAS/other/sg_46.pdf\n",
      "68\n"
     ]
    },
    {
     "data": {
      "text/plain": [
       "'../shared_data/thanatcc/RIA_Input/Clean_International_Regulator/25-MAS/other/sg_27.pdf'"
      ]
     },
     "execution_count": 161,
     "metadata": {},
     "output_type": "execute_result"
    },
    {
     "name": "stdout",
     "output_type": "stream",
     "text": [
      "/DA_WORKSPACE/GLOBAL_WS/ria/International Regulator/25-MAS/other/SG_27.pdf \n",
      " ../shared_data/thanatcc/RIA_Input/Clean_International_Regulator/25-MAS/other/sg_27.pdf\n",
      "69\n"
     ]
    },
    {
     "data": {
      "text/plain": [
       "'../shared_data/thanatcc/RIA_Input/Clean_International_Regulator/25-MAS/other/sg_68.pdf'"
      ]
     },
     "execution_count": 161,
     "metadata": {},
     "output_type": "execute_result"
    },
    {
     "name": "stdout",
     "output_type": "stream",
     "text": [
      "/DA_WORKSPACE/GLOBAL_WS/ria/International Regulator/25-MAS/other/SG_68.pdf \n",
      " ../shared_data/thanatcc/RIA_Input/Clean_International_Regulator/25-MAS/other/sg_68.pdf\n",
      "70\n"
     ]
    },
    {
     "data": {
      "text/plain": [
       "'../shared_data/thanatcc/RIA_Input/Clean_International_Regulator/25-MAS/other/sg_246.pdf'"
      ]
     },
     "execution_count": 161,
     "metadata": {},
     "output_type": "execute_result"
    },
    {
     "name": "stdout",
     "output_type": "stream",
     "text": [
      "/DA_WORKSPACE/GLOBAL_WS/ria/International Regulator/25-MAS/other/SG_246.pdf \n",
      " ../shared_data/thanatcc/RIA_Input/Clean_International_Regulator/25-MAS/other/sg_246.pdf\n",
      "71\n"
     ]
    },
    {
     "data": {
      "text/plain": [
       "'../shared_data/thanatcc/RIA_Input/Clean_International_Regulator/25-MAS/other/sg_47.pdf'"
      ]
     },
     "execution_count": 161,
     "metadata": {},
     "output_type": "execute_result"
    },
    {
     "name": "stdout",
     "output_type": "stream",
     "text": [
      "/DA_WORKSPACE/GLOBAL_WS/ria/International Regulator/25-MAS/other/SG_47.pdf \n",
      " ../shared_data/thanatcc/RIA_Input/Clean_International_Regulator/25-MAS/other/sg_47.pdf\n",
      "72\n"
     ]
    },
    {
     "data": {
      "text/plain": [
       "'../shared_data/thanatcc/RIA_Input/Clean_International_Regulator/25-MAS/other/sg_271.pdf'"
      ]
     },
     "execution_count": 161,
     "metadata": {},
     "output_type": "execute_result"
    },
    {
     "name": "stdout",
     "output_type": "stream",
     "text": [
      "/DA_WORKSPACE/GLOBAL_WS/ria/International Regulator/25-MAS/other/SG_271.pdf \n",
      " ../shared_data/thanatcc/RIA_Input/Clean_International_Regulator/25-MAS/other/sg_271.pdf\n",
      "73\n"
     ]
    },
    {
     "data": {
      "text/plain": [
       "'../shared_data/thanatcc/RIA_Input/Clean_International_Regulator/25-MAS/other/sg_62.pdf'"
      ]
     },
     "execution_count": 161,
     "metadata": {},
     "output_type": "execute_result"
    },
    {
     "name": "stdout",
     "output_type": "stream",
     "text": [
      "/DA_WORKSPACE/GLOBAL_WS/ria/International Regulator/25-MAS/other/SG_62.pdf \n",
      " ../shared_data/thanatcc/RIA_Input/Clean_International_Regulator/25-MAS/other/sg_62.pdf\n",
      "74\n"
     ]
    },
    {
     "data": {
      "text/plain": [
       "'../shared_data/thanatcc/RIA_Input/Clean_International_Regulator/25-MAS/other/sg_144.pdf'"
      ]
     },
     "execution_count": 161,
     "metadata": {},
     "output_type": "execute_result"
    },
    {
     "name": "stdout",
     "output_type": "stream",
     "text": [
      "/DA_WORKSPACE/GLOBAL_WS/ria/International Regulator/25-MAS/other/SG_144.pdf \n",
      " ../shared_data/thanatcc/RIA_Input/Clean_International_Regulator/25-MAS/other/sg_144.pdf\n",
      "75\n"
     ]
    },
    {
     "data": {
      "text/plain": [
       "'../shared_data/thanatcc/RIA_Input/Clean_International_Regulator/25-MAS/other/sg_244.pdf'"
      ]
     },
     "execution_count": 161,
     "metadata": {},
     "output_type": "execute_result"
    },
    {
     "name": "stdout",
     "output_type": "stream",
     "text": [
      "/DA_WORKSPACE/GLOBAL_WS/ria/International Regulator/25-MAS/other/SG_244.pdf \n",
      " ../shared_data/thanatcc/RIA_Input/Clean_International_Regulator/25-MAS/other/sg_244.pdf\n",
      "76\n"
     ]
    },
    {
     "data": {
      "text/plain": [
       "'../shared_data/thanatcc/RIA_Input/Clean_International_Regulator/25-MAS/other/sg_125.pdf'"
      ]
     },
     "execution_count": 161,
     "metadata": {},
     "output_type": "execute_result"
    },
    {
     "name": "stdout",
     "output_type": "stream",
     "text": [
      "/DA_WORKSPACE/GLOBAL_WS/ria/International Regulator/25-MAS/other/SG_125.pdf \n",
      " ../shared_data/thanatcc/RIA_Input/Clean_International_Regulator/25-MAS/other/sg_125.pdf\n",
      "77\n"
     ]
    },
    {
     "data": {
      "text/plain": [
       "'../shared_data/thanatcc/RIA_Input/Clean_International_Regulator/25-MAS/other/sg_128.pdf'"
      ]
     },
     "execution_count": 161,
     "metadata": {},
     "output_type": "execute_result"
    },
    {
     "name": "stdout",
     "output_type": "stream",
     "text": [
      "/DA_WORKSPACE/GLOBAL_WS/ria/International Regulator/25-MAS/other/SG_128.pdf \n",
      " ../shared_data/thanatcc/RIA_Input/Clean_International_Regulator/25-MAS/other/sg_128.pdf\n",
      "78\n"
     ]
    },
    {
     "data": {
      "text/plain": [
       "'../shared_data/thanatcc/RIA_Input/Clean_International_Regulator/25-MAS/other/sg_152.pdf'"
      ]
     },
     "execution_count": 161,
     "metadata": {},
     "output_type": "execute_result"
    },
    {
     "name": "stdout",
     "output_type": "stream",
     "text": [
      "/DA_WORKSPACE/GLOBAL_WS/ria/International Regulator/25-MAS/other/SG_152.pdf \n",
      " ../shared_data/thanatcc/RIA_Input/Clean_International_Regulator/25-MAS/other/sg_152.pdf\n",
      "79\n"
     ]
    },
    {
     "data": {
      "text/plain": [
       "'../shared_data/thanatcc/RIA_Input/Clean_International_Regulator/25-MAS/other/sg_85.pdf'"
      ]
     },
     "execution_count": 161,
     "metadata": {},
     "output_type": "execute_result"
    },
    {
     "name": "stdout",
     "output_type": "stream",
     "text": [
      "/DA_WORKSPACE/GLOBAL_WS/ria/International Regulator/25-MAS/other/SG_85.pdf \n",
      " ../shared_data/thanatcc/RIA_Input/Clean_International_Regulator/25-MAS/other/sg_85.pdf\n",
      "80\n"
     ]
    },
    {
     "data": {
      "text/plain": [
       "'../shared_data/thanatcc/RIA_Input/Clean_International_Regulator/25-MAS/other/sg_245.pdf'"
      ]
     },
     "execution_count": 161,
     "metadata": {},
     "output_type": "execute_result"
    },
    {
     "name": "stdout",
     "output_type": "stream",
     "text": [
      "/DA_WORKSPACE/GLOBAL_WS/ria/International Regulator/25-MAS/other/SG_245.pdf \n",
      " ../shared_data/thanatcc/RIA_Input/Clean_International_Regulator/25-MAS/other/sg_245.pdf\n",
      "81\n"
     ]
    },
    {
     "data": {
      "text/plain": [
       "'../shared_data/thanatcc/RIA_Input/Clean_International_Regulator/25-MAS/other/sg_356.pdf'"
      ]
     },
     "execution_count": 161,
     "metadata": {},
     "output_type": "execute_result"
    },
    {
     "name": "stdout",
     "output_type": "stream",
     "text": [
      "/DA_WORKSPACE/GLOBAL_WS/ria/International Regulator/25-MAS/other/SG_356.pdf \n",
      " ../shared_data/thanatcc/RIA_Input/Clean_International_Regulator/25-MAS/other/sg_356.pdf\n",
      "82\n"
     ]
    },
    {
     "data": {
      "text/plain": [
       "'../shared_data/thanatcc/RIA_Input/Clean_International_Regulator/25-MAS/other/sg_278.pdf'"
      ]
     },
     "execution_count": 161,
     "metadata": {},
     "output_type": "execute_result"
    },
    {
     "name": "stdout",
     "output_type": "stream",
     "text": [
      "/DA_WORKSPACE/GLOBAL_WS/ria/International Regulator/25-MAS/other/SG_278.pdf \n",
      " ../shared_data/thanatcc/RIA_Input/Clean_International_Regulator/25-MAS/other/sg_278.pdf\n",
      "83\n"
     ]
    },
    {
     "data": {
      "text/plain": [
       "'../shared_data/thanatcc/RIA_Input/Clean_International_Regulator/25-MAS/other/sg_342.pdf'"
      ]
     },
     "execution_count": 161,
     "metadata": {},
     "output_type": "execute_result"
    },
    {
     "name": "stdout",
     "output_type": "stream",
     "text": [
      "/DA_WORKSPACE/GLOBAL_WS/ria/International Regulator/25-MAS/other/SG_342.pdf \n",
      " ../shared_data/thanatcc/RIA_Input/Clean_International_Regulator/25-MAS/other/sg_342.pdf\n",
      "84\n"
     ]
    },
    {
     "data": {
      "text/plain": [
       "'../shared_data/thanatcc/RIA_Input/Clean_International_Regulator/25-MAS/other/sg_302.pdf'"
      ]
     },
     "execution_count": 161,
     "metadata": {},
     "output_type": "execute_result"
    },
    {
     "name": "stdout",
     "output_type": "stream",
     "text": [
      "/DA_WORKSPACE/GLOBAL_WS/ria/International Regulator/25-MAS/other/SG_302.pdf \n",
      " ../shared_data/thanatcc/RIA_Input/Clean_International_Regulator/25-MAS/other/sg_302.pdf\n",
      "85\n"
     ]
    },
    {
     "data": {
      "text/plain": [
       "'../shared_data/thanatcc/RIA_Input/Clean_International_Regulator/25-MAS/other/sg_326.pdf'"
      ]
     },
     "execution_count": 161,
     "metadata": {},
     "output_type": "execute_result"
    },
    {
     "name": "stdout",
     "output_type": "stream",
     "text": [
      "/DA_WORKSPACE/GLOBAL_WS/ria/International Regulator/25-MAS/other/SG_326.pdf \n",
      " ../shared_data/thanatcc/RIA_Input/Clean_International_Regulator/25-MAS/other/sg_326.pdf\n",
      "86\n"
     ]
    },
    {
     "data": {
      "text/plain": [
       "'../shared_data/thanatcc/RIA_Input/Clean_International_Regulator/25-MAS/other/sg_45.pdf'"
      ]
     },
     "execution_count": 161,
     "metadata": {},
     "output_type": "execute_result"
    },
    {
     "name": "stdout",
     "output_type": "stream",
     "text": [
      "/DA_WORKSPACE/GLOBAL_WS/ria/International Regulator/25-MAS/other/SG_45.pdf \n",
      " ../shared_data/thanatcc/RIA_Input/Clean_International_Regulator/25-MAS/other/sg_45.pdf\n",
      "87\n"
     ]
    },
    {
     "data": {
      "text/plain": [
       "'../shared_data/thanatcc/RIA_Input/Clean_International_Regulator/25-MAS/other/sg_195.pdf'"
      ]
     },
     "execution_count": 161,
     "metadata": {},
     "output_type": "execute_result"
    },
    {
     "name": "stdout",
     "output_type": "stream",
     "text": [
      "/DA_WORKSPACE/GLOBAL_WS/ria/International Regulator/25-MAS/other/SG_195.pdf \n",
      " ../shared_data/thanatcc/RIA_Input/Clean_International_Regulator/25-MAS/other/sg_195.pdf\n",
      "88\n"
     ]
    },
    {
     "data": {
      "text/plain": [
       "'../shared_data/thanatcc/RIA_Input/Clean_International_Regulator/25-MAS/other/sg_318.pdf'"
      ]
     },
     "execution_count": 161,
     "metadata": {},
     "output_type": "execute_result"
    },
    {
     "name": "stdout",
     "output_type": "stream",
     "text": [
      "/DA_WORKSPACE/GLOBAL_WS/ria/International Regulator/25-MAS/other/SG_318.pdf \n",
      " ../shared_data/thanatcc/RIA_Input/Clean_International_Regulator/25-MAS/other/sg_318.pdf\n",
      "89\n"
     ]
    },
    {
     "data": {
      "text/plain": [
       "'../shared_data/thanatcc/RIA_Input/Clean_International_Regulator/25-MAS/other/sg_112.pdf'"
      ]
     },
     "execution_count": 161,
     "metadata": {},
     "output_type": "execute_result"
    },
    {
     "name": "stdout",
     "output_type": "stream",
     "text": [
      "/DA_WORKSPACE/GLOBAL_WS/ria/International Regulator/25-MAS/other/SG_112.pdf \n",
      " ../shared_data/thanatcc/RIA_Input/Clean_International_Regulator/25-MAS/other/sg_112.pdf\n",
      "90\n"
     ]
    },
    {
     "data": {
      "text/plain": [
       "'../shared_data/thanatcc/RIA_Input/Clean_International_Regulator/25-MAS/other/sg_306.pdf'"
      ]
     },
     "execution_count": 161,
     "metadata": {},
     "output_type": "execute_result"
    },
    {
     "name": "stdout",
     "output_type": "stream",
     "text": [
      "/DA_WORKSPACE/GLOBAL_WS/ria/International Regulator/25-MAS/other/SG_306.pdf \n",
      " ../shared_data/thanatcc/RIA_Input/Clean_International_Regulator/25-MAS/other/sg_306.pdf\n",
      "91\n"
     ]
    },
    {
     "data": {
      "text/plain": [
       "'../shared_data/thanatcc/RIA_Input/Clean_International_Regulator/25-MAS/other/sg_238.pdf'"
      ]
     },
     "execution_count": 161,
     "metadata": {},
     "output_type": "execute_result"
    },
    {
     "name": "stdout",
     "output_type": "stream",
     "text": [
      "/DA_WORKSPACE/GLOBAL_WS/ria/International Regulator/25-MAS/other/SG_238.pdf \n",
      " ../shared_data/thanatcc/RIA_Input/Clean_International_Regulator/25-MAS/other/sg_238.pdf\n",
      "92\n"
     ]
    },
    {
     "data": {
      "text/plain": [
       "'../shared_data/thanatcc/RIA_Input/Clean_International_Regulator/25-MAS/other/sg_81.pdf'"
      ]
     },
     "execution_count": 161,
     "metadata": {},
     "output_type": "execute_result"
    },
    {
     "name": "stdout",
     "output_type": "stream",
     "text": [
      "/DA_WORKSPACE/GLOBAL_WS/ria/International Regulator/25-MAS/other/SG_81.pdf \n",
      " ../shared_data/thanatcc/RIA_Input/Clean_International_Regulator/25-MAS/other/sg_81.pdf\n",
      "93\n"
     ]
    },
    {
     "data": {
      "text/plain": [
       "'../shared_data/thanatcc/RIA_Input/Clean_International_Regulator/25-MAS/other/sg_131.pdf'"
      ]
     },
     "execution_count": 161,
     "metadata": {},
     "output_type": "execute_result"
    },
    {
     "name": "stdout",
     "output_type": "stream",
     "text": [
      "/DA_WORKSPACE/GLOBAL_WS/ria/International Regulator/25-MAS/other/SG_131.pdf \n",
      " ../shared_data/thanatcc/RIA_Input/Clean_International_Regulator/25-MAS/other/sg_131.pdf\n",
      "94\n"
     ]
    },
    {
     "data": {
      "text/plain": [
       "'../shared_data/thanatcc/RIA_Input/Clean_International_Regulator/25-MAS/other/sg_79.pdf'"
      ]
     },
     "execution_count": 161,
     "metadata": {},
     "output_type": "execute_result"
    },
    {
     "name": "stdout",
     "output_type": "stream",
     "text": [
      "/DA_WORKSPACE/GLOBAL_WS/ria/International Regulator/25-MAS/other/SG_79.pdf \n",
      " ../shared_data/thanatcc/RIA_Input/Clean_International_Regulator/25-MAS/other/sg_79.pdf\n",
      "95\n"
     ]
    },
    {
     "data": {
      "text/plain": [
       "'../shared_data/thanatcc/RIA_Input/Clean_International_Regulator/25-MAS/other/sg_331.pdf'"
      ]
     },
     "execution_count": 161,
     "metadata": {},
     "output_type": "execute_result"
    },
    {
     "name": "stdout",
     "output_type": "stream",
     "text": [
      "/DA_WORKSPACE/GLOBAL_WS/ria/International Regulator/25-MAS/other/SG_331.pdf \n",
      " ../shared_data/thanatcc/RIA_Input/Clean_International_Regulator/25-MAS/other/sg_331.pdf\n",
      "96\n"
     ]
    },
    {
     "data": {
      "text/plain": [
       "'../shared_data/thanatcc/RIA_Input/Clean_International_Regulator/25-MAS/other/sg_358.pdf'"
      ]
     },
     "execution_count": 161,
     "metadata": {},
     "output_type": "execute_result"
    },
    {
     "name": "stdout",
     "output_type": "stream",
     "text": [
      "/DA_WORKSPACE/GLOBAL_WS/ria/International Regulator/25-MAS/other/SG_358.pdf \n",
      " ../shared_data/thanatcc/RIA_Input/Clean_International_Regulator/25-MAS/other/sg_358.pdf\n",
      "97\n"
     ]
    },
    {
     "data": {
      "text/plain": [
       "'../shared_data/thanatcc/RIA_Input/Clean_International_Regulator/25-MAS/other/sg_13.pdf'"
      ]
     },
     "execution_count": 161,
     "metadata": {},
     "output_type": "execute_result"
    },
    {
     "name": "stdout",
     "output_type": "stream",
     "text": [
      "/DA_WORKSPACE/GLOBAL_WS/ria/International Regulator/25-MAS/other/SG_13.pdf \n",
      " ../shared_data/thanatcc/RIA_Input/Clean_International_Regulator/25-MAS/other/sg_13.pdf\n",
      "98\n"
     ]
    },
    {
     "data": {
      "text/plain": [
       "'../shared_data/thanatcc/RIA_Input/Clean_International_Regulator/25-MAS/other/sg_147.pdf'"
      ]
     },
     "execution_count": 161,
     "metadata": {},
     "output_type": "execute_result"
    },
    {
     "name": "stdout",
     "output_type": "stream",
     "text": [
      "/DA_WORKSPACE/GLOBAL_WS/ria/International Regulator/25-MAS/other/SG_147.pdf \n",
      " ../shared_data/thanatcc/RIA_Input/Clean_International_Regulator/25-MAS/other/sg_147.pdf\n",
      "99\n"
     ]
    },
    {
     "data": {
      "text/plain": [
       "'../shared_data/thanatcc/RIA_Input/Clean_International_Regulator/25-MAS/other/sg_21.pdf'"
      ]
     },
     "execution_count": 161,
     "metadata": {},
     "output_type": "execute_result"
    },
    {
     "name": "stdout",
     "output_type": "stream",
     "text": [
      "/DA_WORKSPACE/GLOBAL_WS/ria/International Regulator/25-MAS/other/SG_21.pdf \n",
      " ../shared_data/thanatcc/RIA_Input/Clean_International_Regulator/25-MAS/other/sg_21.pdf\n",
      "100\n"
     ]
    },
    {
     "data": {
      "text/plain": [
       "'../shared_data/thanatcc/RIA_Input/Clean_International_Regulator/25-MAS/other/sg_264.pdf'"
      ]
     },
     "execution_count": 161,
     "metadata": {},
     "output_type": "execute_result"
    },
    {
     "name": "stdout",
     "output_type": "stream",
     "text": [
      "/DA_WORKSPACE/GLOBAL_WS/ria/International Regulator/25-MAS/other/SG_264.pdf \n",
      " ../shared_data/thanatcc/RIA_Input/Clean_International_Regulator/25-MAS/other/sg_264.pdf\n",
      "101\n"
     ]
    },
    {
     "data": {
      "text/plain": [
       "'../shared_data/thanatcc/RIA_Input/Clean_International_Regulator/25-MAS/other/sg_22.pdf'"
      ]
     },
     "execution_count": 161,
     "metadata": {},
     "output_type": "execute_result"
    },
    {
     "name": "stdout",
     "output_type": "stream",
     "text": [
      "/DA_WORKSPACE/GLOBAL_WS/ria/International Regulator/25-MAS/other/SG_22.pdf \n",
      " ../shared_data/thanatcc/RIA_Input/Clean_International_Regulator/25-MAS/other/sg_22.pdf\n",
      "102\n"
     ]
    },
    {
     "data": {
      "text/plain": [
       "'../shared_data/thanatcc/RIA_Input/Clean_International_Regulator/25-MAS/other/sg_91.pdf'"
      ]
     },
     "execution_count": 161,
     "metadata": {},
     "output_type": "execute_result"
    },
    {
     "name": "stdout",
     "output_type": "stream",
     "text": [
      "/DA_WORKSPACE/GLOBAL_WS/ria/International Regulator/25-MAS/other/SG_91.pdf \n",
      " ../shared_data/thanatcc/RIA_Input/Clean_International_Regulator/25-MAS/other/sg_91.pdf\n",
      "103\n"
     ]
    },
    {
     "data": {
      "text/plain": [
       "'../shared_data/thanatcc/RIA_Input/Clean_International_Regulator/25-MAS/other/sg_171.pdf'"
      ]
     },
     "execution_count": 161,
     "metadata": {},
     "output_type": "execute_result"
    },
    {
     "name": "stdout",
     "output_type": "stream",
     "text": [
      "/DA_WORKSPACE/GLOBAL_WS/ria/International Regulator/25-MAS/other/SG_171.pdf \n",
      " ../shared_data/thanatcc/RIA_Input/Clean_International_Regulator/25-MAS/other/sg_171.pdf\n",
      "104\n"
     ]
    },
    {
     "data": {
      "text/plain": [
       "'../shared_data/thanatcc/RIA_Input/Clean_International_Regulator/25-MAS/other/sg_332.pdf'"
      ]
     },
     "execution_count": 161,
     "metadata": {},
     "output_type": "execute_result"
    },
    {
     "name": "stdout",
     "output_type": "stream",
     "text": [
      "/DA_WORKSPACE/GLOBAL_WS/ria/International Regulator/25-MAS/other/SG_332.pdf \n",
      " ../shared_data/thanatcc/RIA_Input/Clean_International_Regulator/25-MAS/other/sg_332.pdf\n",
      "105\n"
     ]
    },
    {
     "data": {
      "text/plain": [
       "'../shared_data/thanatcc/RIA_Input/Clean_International_Regulator/25-MAS/other/sg_259.pdf'"
      ]
     },
     "execution_count": 161,
     "metadata": {},
     "output_type": "execute_result"
    },
    {
     "name": "stdout",
     "output_type": "stream",
     "text": [
      "/DA_WORKSPACE/GLOBAL_WS/ria/International Regulator/25-MAS/other/SG_259.pdf \n",
      " ../shared_data/thanatcc/RIA_Input/Clean_International_Regulator/25-MAS/other/sg_259.pdf\n",
      "106\n"
     ]
    },
    {
     "data": {
      "text/plain": [
       "'../shared_data/thanatcc/RIA_Input/Clean_International_Regulator/25-MAS/other/sg_32.pdf'"
      ]
     },
     "execution_count": 161,
     "metadata": {},
     "output_type": "execute_result"
    },
    {
     "name": "stdout",
     "output_type": "stream",
     "text": [
      "/DA_WORKSPACE/GLOBAL_WS/ria/International Regulator/25-MAS/other/SG_32.pdf \n",
      " ../shared_data/thanatcc/RIA_Input/Clean_International_Regulator/25-MAS/other/sg_32.pdf\n",
      "107\n"
     ]
    },
    {
     "data": {
      "text/plain": [
       "'../shared_data/thanatcc/RIA_Input/Clean_International_Regulator/25-MAS/other/sg_235.pdf'"
      ]
     },
     "execution_count": 161,
     "metadata": {},
     "output_type": "execute_result"
    },
    {
     "name": "stdout",
     "output_type": "stream",
     "text": [
      "/DA_WORKSPACE/GLOBAL_WS/ria/International Regulator/25-MAS/other/SG_235.pdf \n",
      " ../shared_data/thanatcc/RIA_Input/Clean_International_Regulator/25-MAS/other/sg_235.pdf\n",
      "108\n"
     ]
    },
    {
     "data": {
      "text/plain": [
       "'../shared_data/thanatcc/RIA_Input/Clean_International_Regulator/25-MAS/other/sg_200.pdf'"
      ]
     },
     "execution_count": 161,
     "metadata": {},
     "output_type": "execute_result"
    },
    {
     "name": "stdout",
     "output_type": "stream",
     "text": [
      "/DA_WORKSPACE/GLOBAL_WS/ria/International Regulator/25-MAS/other/SG_200.pdf \n",
      " ../shared_data/thanatcc/RIA_Input/Clean_International_Regulator/25-MAS/other/sg_200.pdf\n",
      "109\n"
     ]
    },
    {
     "data": {
      "text/plain": [
       "'../shared_data/thanatcc/RIA_Input/Clean_International_Regulator/25-MAS/other/sg_67.pdf'"
      ]
     },
     "execution_count": 161,
     "metadata": {},
     "output_type": "execute_result"
    },
    {
     "name": "stdout",
     "output_type": "stream",
     "text": [
      "/DA_WORKSPACE/GLOBAL_WS/ria/International Regulator/25-MAS/other/SG_67.pdf \n",
      " ../shared_data/thanatcc/RIA_Input/Clean_International_Regulator/25-MAS/other/sg_67.pdf\n",
      "110\n"
     ]
    },
    {
     "data": {
      "text/plain": [
       "'../shared_data/thanatcc/RIA_Input/Clean_International_Regulator/25-MAS/other/sg_242.pdf'"
      ]
     },
     "execution_count": 161,
     "metadata": {},
     "output_type": "execute_result"
    },
    {
     "name": "stdout",
     "output_type": "stream",
     "text": [
      "/DA_WORKSPACE/GLOBAL_WS/ria/International Regulator/25-MAS/other/SG_242.pdf \n",
      " ../shared_data/thanatcc/RIA_Input/Clean_International_Regulator/25-MAS/other/sg_242.pdf\n",
      "111\n"
     ]
    },
    {
     "data": {
      "text/plain": [
       "'../shared_data/thanatcc/RIA_Input/Clean_International_Regulator/25-MAS/other/sg_344.pdf'"
      ]
     },
     "execution_count": 161,
     "metadata": {},
     "output_type": "execute_result"
    },
    {
     "name": "stdout",
     "output_type": "stream",
     "text": [
      "/DA_WORKSPACE/GLOBAL_WS/ria/International Regulator/25-MAS/other/SG_344.pdf \n",
      " ../shared_data/thanatcc/RIA_Input/Clean_International_Regulator/25-MAS/other/sg_344.pdf\n",
      "112\n"
     ]
    },
    {
     "data": {
      "text/plain": [
       "'../shared_data/thanatcc/RIA_Input/Clean_International_Regulator/25-MAS/other/sg_12.pdf'"
      ]
     },
     "execution_count": 161,
     "metadata": {},
     "output_type": "execute_result"
    },
    {
     "name": "stdout",
     "output_type": "stream",
     "text": [
      "/DA_WORKSPACE/GLOBAL_WS/ria/International Regulator/25-MAS/other/SG_12.pdf \n",
      " ../shared_data/thanatcc/RIA_Input/Clean_International_Regulator/25-MAS/other/sg_12.pdf\n",
      "113\n"
     ]
    },
    {
     "data": {
      "text/plain": [
       "'../shared_data/thanatcc/RIA_Input/Clean_International_Regulator/25-MAS/other/sg_119.pdf'"
      ]
     },
     "execution_count": 161,
     "metadata": {},
     "output_type": "execute_result"
    },
    {
     "name": "stdout",
     "output_type": "stream",
     "text": [
      "/DA_WORKSPACE/GLOBAL_WS/ria/International Regulator/25-MAS/other/SG_119.pdf \n",
      " ../shared_data/thanatcc/RIA_Input/Clean_International_Regulator/25-MAS/other/sg_119.pdf\n",
      "114\n"
     ]
    },
    {
     "data": {
      "text/plain": [
       "'../shared_data/thanatcc/RIA_Input/Clean_International_Regulator/25-MAS/other/sg_324.pdf'"
      ]
     },
     "execution_count": 161,
     "metadata": {},
     "output_type": "execute_result"
    },
    {
     "name": "stdout",
     "output_type": "stream",
     "text": [
      "/DA_WORKSPACE/GLOBAL_WS/ria/International Regulator/25-MAS/other/SG_324.pdf \n",
      " ../shared_data/thanatcc/RIA_Input/Clean_International_Regulator/25-MAS/other/sg_324.pdf\n",
      "115\n"
     ]
    },
    {
     "data": {
      "text/plain": [
       "'../shared_data/thanatcc/RIA_Input/Clean_International_Regulator/25-MAS/other/sg_292.pdf'"
      ]
     },
     "execution_count": 161,
     "metadata": {},
     "output_type": "execute_result"
    },
    {
     "name": "stdout",
     "output_type": "stream",
     "text": [
      "/DA_WORKSPACE/GLOBAL_WS/ria/International Regulator/25-MAS/other/SG_292.pdf \n",
      " ../shared_data/thanatcc/RIA_Input/Clean_International_Regulator/25-MAS/other/sg_292.pdf\n",
      "116\n"
     ]
    },
    {
     "data": {
      "text/plain": [
       "'../shared_data/thanatcc/RIA_Input/Clean_International_Regulator/25-MAS/other/sg_172.pdf'"
      ]
     },
     "execution_count": 161,
     "metadata": {},
     "output_type": "execute_result"
    },
    {
     "name": "stdout",
     "output_type": "stream",
     "text": [
      "/DA_WORKSPACE/GLOBAL_WS/ria/International Regulator/25-MAS/other/SG_172.pdf \n",
      " ../shared_data/thanatcc/RIA_Input/Clean_International_Regulator/25-MAS/other/sg_172.pdf\n",
      "117\n"
     ]
    },
    {
     "data": {
      "text/plain": [
       "'../shared_data/thanatcc/RIA_Input/Clean_International_Regulator/25-MAS/other/sg_268.pdf'"
      ]
     },
     "execution_count": 161,
     "metadata": {},
     "output_type": "execute_result"
    },
    {
     "name": "stdout",
     "output_type": "stream",
     "text": [
      "/DA_WORKSPACE/GLOBAL_WS/ria/International Regulator/25-MAS/other/SG_268.pdf \n",
      " ../shared_data/thanatcc/RIA_Input/Clean_International_Regulator/25-MAS/other/sg_268.pdf\n",
      "118\n"
     ]
    },
    {
     "data": {
      "text/plain": [
       "'../shared_data/thanatcc/RIA_Input/Clean_International_Regulator/25-MAS/other/sg_236.pdf'"
      ]
     },
     "execution_count": 161,
     "metadata": {},
     "output_type": "execute_result"
    },
    {
     "name": "stdout",
     "output_type": "stream",
     "text": [
      "/DA_WORKSPACE/GLOBAL_WS/ria/International Regulator/25-MAS/other/SG_236.pdf \n",
      " ../shared_data/thanatcc/RIA_Input/Clean_International_Regulator/25-MAS/other/sg_236.pdf\n",
      "119\n"
     ]
    },
    {
     "data": {
      "text/plain": [
       "'../shared_data/thanatcc/RIA_Input/Clean_International_Regulator/25-MAS/other/sg_255.pdf'"
      ]
     },
     "execution_count": 161,
     "metadata": {},
     "output_type": "execute_result"
    },
    {
     "name": "stdout",
     "output_type": "stream",
     "text": [
      "/DA_WORKSPACE/GLOBAL_WS/ria/International Regulator/25-MAS/other/SG_255.pdf \n",
      " ../shared_data/thanatcc/RIA_Input/Clean_International_Regulator/25-MAS/other/sg_255.pdf\n",
      "120\n"
     ]
    },
    {
     "data": {
      "text/plain": [
       "'../shared_data/thanatcc/RIA_Input/Clean_International_Regulator/25-MAS/other/sg_315.pdf'"
      ]
     },
     "execution_count": 161,
     "metadata": {},
     "output_type": "execute_result"
    },
    {
     "name": "stdout",
     "output_type": "stream",
     "text": [
      "/DA_WORKSPACE/GLOBAL_WS/ria/International Regulator/25-MAS/other/SG_315.pdf \n",
      " ../shared_data/thanatcc/RIA_Input/Clean_International_Regulator/25-MAS/other/sg_315.pdf\n",
      "121\n"
     ]
    },
    {
     "data": {
      "text/plain": [
       "'../shared_data/thanatcc/RIA_Input/Clean_International_Regulator/25-MAS/other/sg_161.pdf'"
      ]
     },
     "execution_count": 161,
     "metadata": {},
     "output_type": "execute_result"
    },
    {
     "name": "stdout",
     "output_type": "stream",
     "text": [
      "/DA_WORKSPACE/GLOBAL_WS/ria/International Regulator/25-MAS/other/SG_161.pdf \n",
      " ../shared_data/thanatcc/RIA_Input/Clean_International_Regulator/25-MAS/other/sg_161.pdf\n",
      "122\n"
     ]
    },
    {
     "data": {
      "text/plain": [
       "'../shared_data/thanatcc/RIA_Input/Clean_International_Regulator/25-MAS/other/sg_360.pdf'"
      ]
     },
     "execution_count": 161,
     "metadata": {},
     "output_type": "execute_result"
    },
    {
     "name": "stdout",
     "output_type": "stream",
     "text": [
      "/DA_WORKSPACE/GLOBAL_WS/ria/International Regulator/25-MAS/other/SG_360.pdf \n",
      " ../shared_data/thanatcc/RIA_Input/Clean_International_Regulator/25-MAS/other/sg_360.pdf\n",
      "123\n"
     ]
    },
    {
     "data": {
      "text/plain": [
       "'../shared_data/thanatcc/RIA_Input/Clean_International_Regulator/25-MAS/other/sg_176.pdf'"
      ]
     },
     "execution_count": 161,
     "metadata": {},
     "output_type": "execute_result"
    },
    {
     "name": "stdout",
     "output_type": "stream",
     "text": [
      "/DA_WORKSPACE/GLOBAL_WS/ria/International Regulator/25-MAS/other/SG_176.pdf \n",
      " ../shared_data/thanatcc/RIA_Input/Clean_International_Regulator/25-MAS/other/sg_176.pdf\n",
      "124\n"
     ]
    },
    {
     "data": {
      "text/plain": [
       "'../shared_data/thanatcc/RIA_Input/Clean_International_Regulator/25-MAS/other/sg_239.pdf'"
      ]
     },
     "execution_count": 161,
     "metadata": {},
     "output_type": "execute_result"
    },
    {
     "name": "stdout",
     "output_type": "stream",
     "text": [
      "/DA_WORKSPACE/GLOBAL_WS/ria/International Regulator/25-MAS/other/SG_239.pdf \n",
      " ../shared_data/thanatcc/RIA_Input/Clean_International_Regulator/25-MAS/other/sg_239.pdf\n",
      "125\n"
     ]
    },
    {
     "data": {
      "text/plain": [
       "'../shared_data/thanatcc/RIA_Input/Clean_International_Regulator/25-MAS/other/sg_199.pdf'"
      ]
     },
     "execution_count": 161,
     "metadata": {},
     "output_type": "execute_result"
    },
    {
     "name": "stdout",
     "output_type": "stream",
     "text": [
      "/DA_WORKSPACE/GLOBAL_WS/ria/International Regulator/25-MAS/other/SG_199.pdf \n",
      " ../shared_data/thanatcc/RIA_Input/Clean_International_Regulator/25-MAS/other/sg_199.pdf\n",
      "126\n"
     ]
    },
    {
     "data": {
      "text/plain": [
       "'../shared_data/thanatcc/RIA_Input/Clean_International_Regulator/25-MAS/other/sg_57.pdf'"
      ]
     },
     "execution_count": 161,
     "metadata": {},
     "output_type": "execute_result"
    },
    {
     "name": "stdout",
     "output_type": "stream",
     "text": [
      "/DA_WORKSPACE/GLOBAL_WS/ria/International Regulator/25-MAS/other/SG_57.pdf \n",
      " ../shared_data/thanatcc/RIA_Input/Clean_International_Regulator/25-MAS/other/sg_57.pdf\n",
      "127\n"
     ]
    },
    {
     "data": {
      "text/plain": [
       "'../shared_data/thanatcc/RIA_Input/Clean_International_Regulator/25-MAS/other/sg_351.pdf'"
      ]
     },
     "execution_count": 161,
     "metadata": {},
     "output_type": "execute_result"
    },
    {
     "name": "stdout",
     "output_type": "stream",
     "text": [
      "/DA_WORKSPACE/GLOBAL_WS/ria/International Regulator/25-MAS/other/SG_351.pdf \n",
      " ../shared_data/thanatcc/RIA_Input/Clean_International_Regulator/25-MAS/other/sg_351.pdf\n",
      "128\n"
     ]
    },
    {
     "data": {
      "text/plain": [
       "'../shared_data/thanatcc/RIA_Input/Clean_International_Regulator/25-MAS/other/sg_41.pdf'"
      ]
     },
     "execution_count": 161,
     "metadata": {},
     "output_type": "execute_result"
    },
    {
     "name": "stdout",
     "output_type": "stream",
     "text": [
      "/DA_WORKSPACE/GLOBAL_WS/ria/International Regulator/25-MAS/other/SG_41.pdf \n",
      " ../shared_data/thanatcc/RIA_Input/Clean_International_Regulator/25-MAS/other/sg_41.pdf\n",
      "129\n"
     ]
    },
    {
     "data": {
      "text/plain": [
       "'../shared_data/thanatcc/RIA_Input/Clean_International_Regulator/25-MAS/other/sg_288.pdf'"
      ]
     },
     "execution_count": 161,
     "metadata": {},
     "output_type": "execute_result"
    },
    {
     "name": "stdout",
     "output_type": "stream",
     "text": [
      "/DA_WORKSPACE/GLOBAL_WS/ria/International Regulator/25-MAS/other/SG_288.pdf \n",
      " ../shared_data/thanatcc/RIA_Input/Clean_International_Regulator/25-MAS/other/sg_288.pdf\n",
      "130\n"
     ]
    },
    {
     "data": {
      "text/plain": [
       "'../shared_data/thanatcc/RIA_Input/Clean_International_Regulator/25-MAS/other/sg_43.pdf'"
      ]
     },
     "execution_count": 161,
     "metadata": {},
     "output_type": "execute_result"
    },
    {
     "name": "stdout",
     "output_type": "stream",
     "text": [
      "/DA_WORKSPACE/GLOBAL_WS/ria/International Regulator/25-MAS/other/SG_43.pdf \n",
      " ../shared_data/thanatcc/RIA_Input/Clean_International_Regulator/25-MAS/other/sg_43.pdf\n",
      "131\n"
     ]
    },
    {
     "data": {
      "text/plain": [
       "'../shared_data/thanatcc/RIA_Input/Clean_International_Regulator/25-MAS/other/sg_5.pdf'"
      ]
     },
     "execution_count": 161,
     "metadata": {},
     "output_type": "execute_result"
    },
    {
     "name": "stdout",
     "output_type": "stream",
     "text": [
      "/DA_WORKSPACE/GLOBAL_WS/ria/International Regulator/25-MAS/other/SG_5.pdf \n",
      " ../shared_data/thanatcc/RIA_Input/Clean_International_Regulator/25-MAS/other/sg_5.pdf\n",
      "132\n"
     ]
    },
    {
     "data": {
      "text/plain": [
       "'../shared_data/thanatcc/RIA_Input/Clean_International_Regulator/25-MAS/other/sg_333.pdf'"
      ]
     },
     "execution_count": 161,
     "metadata": {},
     "output_type": "execute_result"
    },
    {
     "name": "stdout",
     "output_type": "stream",
     "text": [
      "/DA_WORKSPACE/GLOBAL_WS/ria/International Regulator/25-MAS/other/SG_333.pdf \n",
      " ../shared_data/thanatcc/RIA_Input/Clean_International_Regulator/25-MAS/other/sg_333.pdf\n",
      "133\n"
     ]
    },
    {
     "data": {
      "text/plain": [
       "'../shared_data/thanatcc/RIA_Input/Clean_International_Regulator/25-MAS/other/sg_15.pdf'"
      ]
     },
     "execution_count": 161,
     "metadata": {},
     "output_type": "execute_result"
    },
    {
     "name": "stdout",
     "output_type": "stream",
     "text": [
      "/DA_WORKSPACE/GLOBAL_WS/ria/International Regulator/25-MAS/other/SG_15.pdf \n",
      " ../shared_data/thanatcc/RIA_Input/Clean_International_Regulator/25-MAS/other/sg_15.pdf\n",
      "134\n"
     ]
    },
    {
     "data": {
      "text/plain": [
       "'../shared_data/thanatcc/RIA_Input/Clean_International_Regulator/25-MAS/other/sg_142.pdf'"
      ]
     },
     "execution_count": 161,
     "metadata": {},
     "output_type": "execute_result"
    },
    {
     "name": "stdout",
     "output_type": "stream",
     "text": [
      "/DA_WORKSPACE/GLOBAL_WS/ria/International Regulator/25-MAS/other/SG_142.pdf \n",
      " ../shared_data/thanatcc/RIA_Input/Clean_International_Regulator/25-MAS/other/sg_142.pdf\n",
      "135\n"
     ]
    },
    {
     "data": {
      "text/plain": [
       "'../shared_data/thanatcc/RIA_Input/Clean_International_Regulator/25-MAS/other/sg_51.pdf'"
      ]
     },
     "execution_count": 161,
     "metadata": {},
     "output_type": "execute_result"
    },
    {
     "name": "stdout",
     "output_type": "stream",
     "text": [
      "/DA_WORKSPACE/GLOBAL_WS/ria/International Regulator/25-MAS/other/SG_51.pdf \n",
      " ../shared_data/thanatcc/RIA_Input/Clean_International_Regulator/25-MAS/other/sg_51.pdf\n",
      "136\n"
     ]
    },
    {
     "data": {
      "text/plain": [
       "'../shared_data/thanatcc/RIA_Input/Clean_International_Regulator/25-MAS/other/sg_258.pdf'"
      ]
     },
     "execution_count": 161,
     "metadata": {},
     "output_type": "execute_result"
    },
    {
     "name": "stdout",
     "output_type": "stream",
     "text": [
      "/DA_WORKSPACE/GLOBAL_WS/ria/International Regulator/25-MAS/other/SG_258.pdf \n",
      " ../shared_data/thanatcc/RIA_Input/Clean_International_Regulator/25-MAS/other/sg_258.pdf\n",
      "137\n"
     ]
    },
    {
     "data": {
      "text/plain": [
       "'../shared_data/thanatcc/RIA_Input/Clean_International_Regulator/25-MAS/other/sg_311.pdf'"
      ]
     },
     "execution_count": 161,
     "metadata": {},
     "output_type": "execute_result"
    },
    {
     "name": "stdout",
     "output_type": "stream",
     "text": [
      "/DA_WORKSPACE/GLOBAL_WS/ria/International Regulator/25-MAS/other/SG_311.pdf \n",
      " ../shared_data/thanatcc/RIA_Input/Clean_International_Regulator/25-MAS/other/sg_311.pdf\n",
      "138\n"
     ]
    },
    {
     "data": {
      "text/plain": [
       "'../shared_data/thanatcc/RIA_Input/Clean_International_Regulator/25-MAS/other/sg_19.pdf'"
      ]
     },
     "execution_count": 161,
     "metadata": {},
     "output_type": "execute_result"
    },
    {
     "name": "stdout",
     "output_type": "stream",
     "text": [
      "/DA_WORKSPACE/GLOBAL_WS/ria/International Regulator/25-MAS/other/SG_19.pdf \n",
      " ../shared_data/thanatcc/RIA_Input/Clean_International_Regulator/25-MAS/other/sg_19.pdf\n",
      "139\n"
     ]
    },
    {
     "data": {
      "text/plain": [
       "'../shared_data/thanatcc/RIA_Input/Clean_International_Regulator/25-MAS/other/sg_29.pdf'"
      ]
     },
     "execution_count": 161,
     "metadata": {},
     "output_type": "execute_result"
    },
    {
     "name": "stdout",
     "output_type": "stream",
     "text": [
      "/DA_WORKSPACE/GLOBAL_WS/ria/International Regulator/25-MAS/other/SG_29.pdf \n",
      " ../shared_data/thanatcc/RIA_Input/Clean_International_Regulator/25-MAS/other/sg_29.pdf\n",
      "140\n"
     ]
    },
    {
     "data": {
      "text/plain": [
       "'../shared_data/thanatcc/RIA_Input/Clean_International_Regulator/25-MAS/other/sg_212.pdf'"
      ]
     },
     "execution_count": 161,
     "metadata": {},
     "output_type": "execute_result"
    },
    {
     "name": "stdout",
     "output_type": "stream",
     "text": [
      "/DA_WORKSPACE/GLOBAL_WS/ria/International Regulator/25-MAS/other/SG_212.pdf \n",
      " ../shared_data/thanatcc/RIA_Input/Clean_International_Regulator/25-MAS/other/sg_212.pdf\n",
      "141\n"
     ]
    },
    {
     "data": {
      "text/plain": [
       "'../shared_data/thanatcc/RIA_Input/Clean_International_Regulator/25-MAS/other/sg_169.pdf'"
      ]
     },
     "execution_count": 161,
     "metadata": {},
     "output_type": "execute_result"
    },
    {
     "name": "stdout",
     "output_type": "stream",
     "text": [
      "/DA_WORKSPACE/GLOBAL_WS/ria/International Regulator/25-MAS/other/SG_169.pdf \n",
      " ../shared_data/thanatcc/RIA_Input/Clean_International_Regulator/25-MAS/other/sg_169.pdf\n",
      "142\n"
     ]
    },
    {
     "data": {
      "text/plain": [
       "'../shared_data/thanatcc/RIA_Input/Clean_International_Regulator/25-MAS/other/sg_357.pdf'"
      ]
     },
     "execution_count": 161,
     "metadata": {},
     "output_type": "execute_result"
    },
    {
     "name": "stdout",
     "output_type": "stream",
     "text": [
      "/DA_WORKSPACE/GLOBAL_WS/ria/International Regulator/25-MAS/other/SG_357.pdf \n",
      " ../shared_data/thanatcc/RIA_Input/Clean_International_Regulator/25-MAS/other/sg_357.pdf\n",
      "143\n"
     ]
    },
    {
     "data": {
      "text/plain": [
       "'../shared_data/thanatcc/RIA_Input/Clean_International_Regulator/25-MAS/other/sg_102.pdf'"
      ]
     },
     "execution_count": 161,
     "metadata": {},
     "output_type": "execute_result"
    },
    {
     "name": "stdout",
     "output_type": "stream",
     "text": [
      "/DA_WORKSPACE/GLOBAL_WS/ria/International Regulator/25-MAS/other/SG_102.pdf \n",
      " ../shared_data/thanatcc/RIA_Input/Clean_International_Regulator/25-MAS/other/sg_102.pdf\n",
      "144\n"
     ]
    },
    {
     "data": {
      "text/plain": [
       "'../shared_data/thanatcc/RIA_Input/Clean_International_Regulator/25-MAS/other/sg_217.pdf'"
      ]
     },
     "execution_count": 161,
     "metadata": {},
     "output_type": "execute_result"
    },
    {
     "name": "stdout",
     "output_type": "stream",
     "text": [
      "/DA_WORKSPACE/GLOBAL_WS/ria/International Regulator/25-MAS/other/SG_217.pdf \n",
      " ../shared_data/thanatcc/RIA_Input/Clean_International_Regulator/25-MAS/other/sg_217.pdf\n",
      "145\n"
     ]
    },
    {
     "data": {
      "text/plain": [
       "'../shared_data/thanatcc/RIA_Input/Clean_International_Regulator/25-MAS/other/sg_107.pdf'"
      ]
     },
     "execution_count": 161,
     "metadata": {},
     "output_type": "execute_result"
    },
    {
     "name": "stdout",
     "output_type": "stream",
     "text": [
      "/DA_WORKSPACE/GLOBAL_WS/ria/International Regulator/25-MAS/other/SG_107.pdf \n",
      " ../shared_data/thanatcc/RIA_Input/Clean_International_Regulator/25-MAS/other/sg_107.pdf\n",
      "146\n"
     ]
    },
    {
     "data": {
      "text/plain": [
       "'../shared_data/thanatcc/RIA_Input/Clean_International_Regulator/25-MAS/other/sg_71.pdf'"
      ]
     },
     "execution_count": 161,
     "metadata": {},
     "output_type": "execute_result"
    },
    {
     "name": "stdout",
     "output_type": "stream",
     "text": [
      "/DA_WORKSPACE/GLOBAL_WS/ria/International Regulator/25-MAS/other/SG_71.pdf \n",
      " ../shared_data/thanatcc/RIA_Input/Clean_International_Regulator/25-MAS/other/sg_71.pdf\n",
      "147\n"
     ]
    },
    {
     "data": {
      "text/plain": [
       "'../shared_data/thanatcc/RIA_Input/Clean_International_Regulator/25-MAS/other/sg_137.pdf'"
      ]
     },
     "execution_count": 161,
     "metadata": {},
     "output_type": "execute_result"
    },
    {
     "name": "stdout",
     "output_type": "stream",
     "text": [
      "/DA_WORKSPACE/GLOBAL_WS/ria/International Regulator/25-MAS/other/SG_137.pdf \n",
      " ../shared_data/thanatcc/RIA_Input/Clean_International_Regulator/25-MAS/other/sg_137.pdf\n",
      "148\n"
     ]
    },
    {
     "data": {
      "text/plain": [
       "'../shared_data/thanatcc/RIA_Input/Clean_International_Regulator/25-MAS/other/sg_181.pdf'"
      ]
     },
     "execution_count": 161,
     "metadata": {},
     "output_type": "execute_result"
    },
    {
     "name": "stdout",
     "output_type": "stream",
     "text": [
      "/DA_WORKSPACE/GLOBAL_WS/ria/International Regulator/25-MAS/other/SG_181.pdf \n",
      " ../shared_data/thanatcc/RIA_Input/Clean_International_Regulator/25-MAS/other/sg_181.pdf\n",
      "149\n"
     ]
    },
    {
     "data": {
      "text/plain": [
       "'../shared_data/thanatcc/RIA_Input/Clean_International_Regulator/25-MAS/other/sg_70.pdf'"
      ]
     },
     "execution_count": 161,
     "metadata": {},
     "output_type": "execute_result"
    },
    {
     "name": "stdout",
     "output_type": "stream",
     "text": [
      "/DA_WORKSPACE/GLOBAL_WS/ria/International Regulator/25-MAS/other/SG_70.pdf \n",
      " ../shared_data/thanatcc/RIA_Input/Clean_International_Regulator/25-MAS/other/sg_70.pdf\n",
      "150\n"
     ]
    },
    {
     "data": {
      "text/plain": [
       "'../shared_data/thanatcc/RIA_Input/Clean_International_Regulator/25-MAS/other/sg_349.pdf'"
      ]
     },
     "execution_count": 161,
     "metadata": {},
     "output_type": "execute_result"
    },
    {
     "name": "stdout",
     "output_type": "stream",
     "text": [
      "/DA_WORKSPACE/GLOBAL_WS/ria/International Regulator/25-MAS/other/SG_349.pdf \n",
      " ../shared_data/thanatcc/RIA_Input/Clean_International_Regulator/25-MAS/other/sg_349.pdf\n",
      "151\n"
     ]
    },
    {
     "data": {
      "text/plain": [
       "'../shared_data/thanatcc/RIA_Input/Clean_International_Regulator/25-MAS/other/sg_25.pdf'"
      ]
     },
     "execution_count": 161,
     "metadata": {},
     "output_type": "execute_result"
    },
    {
     "name": "stdout",
     "output_type": "stream",
     "text": [
      "/DA_WORKSPACE/GLOBAL_WS/ria/International Regulator/25-MAS/other/SG_25.pdf \n",
      " ../shared_data/thanatcc/RIA_Input/Clean_International_Regulator/25-MAS/other/sg_25.pdf\n",
      "152\n"
     ]
    },
    {
     "data": {
      "text/plain": [
       "'../shared_data/thanatcc/RIA_Input/Clean_International_Regulator/25-MAS/other/sg_257.pdf'"
      ]
     },
     "execution_count": 161,
     "metadata": {},
     "output_type": "execute_result"
    },
    {
     "name": "stdout",
     "output_type": "stream",
     "text": [
      "/DA_WORKSPACE/GLOBAL_WS/ria/International Regulator/25-MAS/other/SG_257.pdf \n",
      " ../shared_data/thanatcc/RIA_Input/Clean_International_Regulator/25-MAS/other/sg_257.pdf\n",
      "153\n"
     ]
    },
    {
     "data": {
      "text/plain": [
       "'../shared_data/thanatcc/RIA_Input/Clean_International_Regulator/25-MAS/other/sg_230.pdf'"
      ]
     },
     "execution_count": 161,
     "metadata": {},
     "output_type": "execute_result"
    },
    {
     "name": "stdout",
     "output_type": "stream",
     "text": [
      "/DA_WORKSPACE/GLOBAL_WS/ria/International Regulator/25-MAS/other/SG_230.pdf \n",
      " ../shared_data/thanatcc/RIA_Input/Clean_International_Regulator/25-MAS/other/sg_230.pdf\n",
      "154\n"
     ]
    },
    {
     "data": {
      "text/plain": [
       "'../shared_data/thanatcc/RIA_Input/Clean_International_Regulator/25-MAS/other/sg_149.pdf'"
      ]
     },
     "execution_count": 161,
     "metadata": {},
     "output_type": "execute_result"
    },
    {
     "name": "stdout",
     "output_type": "stream",
     "text": [
      "/DA_WORKSPACE/GLOBAL_WS/ria/International Regulator/25-MAS/other/SG_149.pdf \n",
      " ../shared_data/thanatcc/RIA_Input/Clean_International_Regulator/25-MAS/other/sg_149.pdf\n",
      "155\n"
     ]
    },
    {
     "data": {
      "text/plain": [
       "'../shared_data/thanatcc/RIA_Input/Clean_International_Regulator/25-MAS/other/sg_192.pdf'"
      ]
     },
     "execution_count": 161,
     "metadata": {},
     "output_type": "execute_result"
    },
    {
     "name": "stdout",
     "output_type": "stream",
     "text": [
      "/DA_WORKSPACE/GLOBAL_WS/ria/International Regulator/25-MAS/other/SG_192.pdf \n",
      " ../shared_data/thanatcc/RIA_Input/Clean_International_Regulator/25-MAS/other/sg_192.pdf\n",
      "156\n"
     ]
    },
    {
     "data": {
      "text/plain": [
       "'../shared_data/thanatcc/RIA_Input/Clean_International_Regulator/25-MAS/other/sg_180.pdf'"
      ]
     },
     "execution_count": 161,
     "metadata": {},
     "output_type": "execute_result"
    },
    {
     "name": "stdout",
     "output_type": "stream",
     "text": [
      "/DA_WORKSPACE/GLOBAL_WS/ria/International Regulator/25-MAS/other/SG_180.pdf \n",
      " ../shared_data/thanatcc/RIA_Input/Clean_International_Regulator/25-MAS/other/sg_180.pdf\n",
      "157\n"
     ]
    },
    {
     "data": {
      "text/plain": [
       "'../shared_data/thanatcc/RIA_Input/Clean_International_Regulator/25-MAS/other/sg_132.pdf'"
      ]
     },
     "execution_count": 161,
     "metadata": {},
     "output_type": "execute_result"
    },
    {
     "name": "stdout",
     "output_type": "stream",
     "text": [
      "/DA_WORKSPACE/GLOBAL_WS/ria/International Regulator/25-MAS/other/SG_132.pdf \n",
      " ../shared_data/thanatcc/RIA_Input/Clean_International_Regulator/25-MAS/other/sg_132.pdf\n",
      "158\n"
     ]
    },
    {
     "data": {
      "text/plain": [
       "'../shared_data/thanatcc/RIA_Input/Clean_International_Regulator/25-MAS/other/sg_343.pdf'"
      ]
     },
     "execution_count": 161,
     "metadata": {},
     "output_type": "execute_result"
    },
    {
     "name": "stdout",
     "output_type": "stream",
     "text": [
      "/DA_WORKSPACE/GLOBAL_WS/ria/International Regulator/25-MAS/other/SG_343.pdf \n",
      " ../shared_data/thanatcc/RIA_Input/Clean_International_Regulator/25-MAS/other/sg_343.pdf\n",
      "159\n"
     ]
    },
    {
     "data": {
      "text/plain": [
       "'../shared_data/thanatcc/RIA_Input/Clean_International_Regulator/25-MAS/other/sg_120.pdf'"
      ]
     },
     "execution_count": 161,
     "metadata": {},
     "output_type": "execute_result"
    },
    {
     "name": "stdout",
     "output_type": "stream",
     "text": [
      "/DA_WORKSPACE/GLOBAL_WS/ria/International Regulator/25-MAS/other/SG_120.pdf \n",
      " ../shared_data/thanatcc/RIA_Input/Clean_International_Regulator/25-MAS/other/sg_120.pdf\n",
      "160\n"
     ]
    },
    {
     "data": {
      "text/plain": [
       "'../shared_data/thanatcc/RIA_Input/Clean_International_Regulator/25-MAS/other/sg_290.pdf'"
      ]
     },
     "execution_count": 161,
     "metadata": {},
     "output_type": "execute_result"
    },
    {
     "name": "stdout",
     "output_type": "stream",
     "text": [
      "/DA_WORKSPACE/GLOBAL_WS/ria/International Regulator/25-MAS/other/SG_290.pdf \n",
      " ../shared_data/thanatcc/RIA_Input/Clean_International_Regulator/25-MAS/other/sg_290.pdf\n",
      "161\n"
     ]
    },
    {
     "data": {
      "text/plain": [
       "'../shared_data/thanatcc/RIA_Input/Clean_International_Regulator/25-MAS/other/sg_39.pdf'"
      ]
     },
     "execution_count": 161,
     "metadata": {},
     "output_type": "execute_result"
    },
    {
     "name": "stdout",
     "output_type": "stream",
     "text": [
      "/DA_WORKSPACE/GLOBAL_WS/ria/International Regulator/25-MAS/other/SG_39.pdf \n",
      " ../shared_data/thanatcc/RIA_Input/Clean_International_Regulator/25-MAS/other/sg_39.pdf\n",
      "162\n"
     ]
    },
    {
     "data": {
      "text/plain": [
       "'../shared_data/thanatcc/RIA_Input/Clean_International_Regulator/25-MAS/other/sg_275.pdf'"
      ]
     },
     "execution_count": 161,
     "metadata": {},
     "output_type": "execute_result"
    },
    {
     "name": "stdout",
     "output_type": "stream",
     "text": [
      "/DA_WORKSPACE/GLOBAL_WS/ria/International Regulator/25-MAS/other/SG_275.pdf \n",
      " ../shared_data/thanatcc/RIA_Input/Clean_International_Regulator/25-MAS/other/sg_275.pdf\n",
      "163\n"
     ]
    },
    {
     "data": {
      "text/plain": [
       "'../shared_data/thanatcc/RIA_Input/Clean_International_Regulator/25-MAS/other/sg_355.pdf'"
      ]
     },
     "execution_count": 161,
     "metadata": {},
     "output_type": "execute_result"
    },
    {
     "name": "stdout",
     "output_type": "stream",
     "text": [
      "/DA_WORKSPACE/GLOBAL_WS/ria/International Regulator/25-MAS/other/SG_355.pdf \n",
      " ../shared_data/thanatcc/RIA_Input/Clean_International_Regulator/25-MAS/other/sg_355.pdf\n",
      "164\n"
     ]
    },
    {
     "data": {
      "text/plain": [
       "'../shared_data/thanatcc/RIA_Input/Clean_International_Regulator/25-MAS/other/sg_148.pdf'"
      ]
     },
     "execution_count": 161,
     "metadata": {},
     "output_type": "execute_result"
    },
    {
     "name": "stdout",
     "output_type": "stream",
     "text": [
      "/DA_WORKSPACE/GLOBAL_WS/ria/International Regulator/25-MAS/other/SG_148.pdf \n",
      " ../shared_data/thanatcc/RIA_Input/Clean_International_Regulator/25-MAS/other/sg_148.pdf\n",
      "165\n"
     ]
    },
    {
     "data": {
      "text/plain": [
       "'../shared_data/thanatcc/RIA_Input/Clean_International_Regulator/25-MAS/other/sg_252.pdf'"
      ]
     },
     "execution_count": 161,
     "metadata": {},
     "output_type": "execute_result"
    },
    {
     "name": "stdout",
     "output_type": "stream",
     "text": [
      "/DA_WORKSPACE/GLOBAL_WS/ria/International Regulator/25-MAS/other/SG_252.pdf \n",
      " ../shared_data/thanatcc/RIA_Input/Clean_International_Regulator/25-MAS/other/sg_252.pdf\n",
      "166\n"
     ]
    },
    {
     "data": {
      "text/plain": [
       "'../shared_data/thanatcc/RIA_Input/Clean_International_Regulator/25-MAS/other/sg_17.pdf'"
      ]
     },
     "execution_count": 161,
     "metadata": {},
     "output_type": "execute_result"
    },
    {
     "name": "stdout",
     "output_type": "stream",
     "text": [
      "/DA_WORKSPACE/GLOBAL_WS/ria/International Regulator/25-MAS/other/SG_17.pdf \n",
      " ../shared_data/thanatcc/RIA_Input/Clean_International_Regulator/25-MAS/other/sg_17.pdf\n",
      "167\n"
     ]
    },
    {
     "data": {
      "text/plain": [
       "'../shared_data/thanatcc/RIA_Input/Clean_International_Regulator/25-MAS/other/sg_94.pdf'"
      ]
     },
     "execution_count": 161,
     "metadata": {},
     "output_type": "execute_result"
    },
    {
     "name": "stdout",
     "output_type": "stream",
     "text": [
      "/DA_WORKSPACE/GLOBAL_WS/ria/International Regulator/25-MAS/other/SG_94.pdf \n",
      " ../shared_data/thanatcc/RIA_Input/Clean_International_Regulator/25-MAS/other/sg_94.pdf\n",
      "168\n"
     ]
    },
    {
     "data": {
      "text/plain": [
       "'../shared_data/thanatcc/RIA_Input/Clean_International_Regulator/25-MAS/other/sg_90.pdf'"
      ]
     },
     "execution_count": 161,
     "metadata": {},
     "output_type": "execute_result"
    },
    {
     "name": "stdout",
     "output_type": "stream",
     "text": [
      "/DA_WORKSPACE/GLOBAL_WS/ria/International Regulator/25-MAS/other/SG_90.pdf \n",
      " ../shared_data/thanatcc/RIA_Input/Clean_International_Regulator/25-MAS/other/sg_90.pdf\n",
      "169\n"
     ]
    },
    {
     "data": {
      "text/plain": [
       "'../shared_data/thanatcc/RIA_Input/Clean_International_Regulator/25-MAS/other/sg_266.pdf'"
      ]
     },
     "execution_count": 161,
     "metadata": {},
     "output_type": "execute_result"
    },
    {
     "name": "stdout",
     "output_type": "stream",
     "text": [
      "/DA_WORKSPACE/GLOBAL_WS/ria/International Regulator/25-MAS/other/SG_266.pdf \n",
      " ../shared_data/thanatcc/RIA_Input/Clean_International_Regulator/25-MAS/other/sg_266.pdf\n",
      "170\n"
     ]
    },
    {
     "data": {
      "text/plain": [
       "'../shared_data/thanatcc/RIA_Input/Clean_International_Regulator/25-MAS/other/sg_140.pdf'"
      ]
     },
     "execution_count": 161,
     "metadata": {},
     "output_type": "execute_result"
    },
    {
     "name": "stdout",
     "output_type": "stream",
     "text": [
      "/DA_WORKSPACE/GLOBAL_WS/ria/International Regulator/25-MAS/other/SG_140.pdf \n",
      " ../shared_data/thanatcc/RIA_Input/Clean_International_Regulator/25-MAS/other/sg_140.pdf\n",
      "171\n"
     ]
    },
    {
     "data": {
      "text/plain": [
       "'../shared_data/thanatcc/RIA_Input/Clean_International_Regulator/25-MAS/other/sg_327.pdf'"
      ]
     },
     "execution_count": 161,
     "metadata": {},
     "output_type": "execute_result"
    },
    {
     "name": "stdout",
     "output_type": "stream",
     "text": [
      "/DA_WORKSPACE/GLOBAL_WS/ria/International Regulator/25-MAS/other/SG_327.pdf \n",
      " ../shared_data/thanatcc/RIA_Input/Clean_International_Regulator/25-MAS/other/sg_327.pdf\n",
      "172\n"
     ]
    },
    {
     "data": {
      "text/plain": [
       "'../shared_data/thanatcc/RIA_Input/Clean_International_Regulator/25-MAS/other/sg_97.pdf'"
      ]
     },
     "execution_count": 161,
     "metadata": {},
     "output_type": "execute_result"
    },
    {
     "name": "stdout",
     "output_type": "stream",
     "text": [
      "/DA_WORKSPACE/GLOBAL_WS/ria/International Regulator/25-MAS/other/SG_97.pdf \n",
      " ../shared_data/thanatcc/RIA_Input/Clean_International_Regulator/25-MAS/other/sg_97.pdf\n",
      "173\n"
     ]
    },
    {
     "data": {
      "text/plain": [
       "'../shared_data/thanatcc/RIA_Input/Clean_International_Regulator/25-MAS/other/sg_101.pdf'"
      ]
     },
     "execution_count": 161,
     "metadata": {},
     "output_type": "execute_result"
    },
    {
     "name": "stdout",
     "output_type": "stream",
     "text": [
      "/DA_WORKSPACE/GLOBAL_WS/ria/International Regulator/25-MAS/other/SG_101.pdf \n",
      " ../shared_data/thanatcc/RIA_Input/Clean_International_Regulator/25-MAS/other/sg_101.pdf\n",
      "174\n"
     ]
    },
    {
     "data": {
      "text/plain": [
       "'../shared_data/thanatcc/RIA_Input/Clean_International_Regulator/25-MAS/other/sg_66.pdf'"
      ]
     },
     "execution_count": 161,
     "metadata": {},
     "output_type": "execute_result"
    },
    {
     "name": "stdout",
     "output_type": "stream",
     "text": [
      "/DA_WORKSPACE/GLOBAL_WS/ria/International Regulator/25-MAS/other/SG_66.pdf \n",
      " ../shared_data/thanatcc/RIA_Input/Clean_International_Regulator/25-MAS/other/sg_66.pdf\n",
      "175\n"
     ]
    },
    {
     "data": {
      "text/plain": [
       "'../shared_data/thanatcc/RIA_Input/Clean_International_Regulator/25-MAS/other/sg_307.pdf'"
      ]
     },
     "execution_count": 161,
     "metadata": {},
     "output_type": "execute_result"
    },
    {
     "name": "stdout",
     "output_type": "stream",
     "text": [
      "/DA_WORKSPACE/GLOBAL_WS/ria/International Regulator/25-MAS/other/SG_307.pdf \n",
      " ../shared_data/thanatcc/RIA_Input/Clean_International_Regulator/25-MAS/other/sg_307.pdf\n",
      "176\n"
     ]
    },
    {
     "data": {
      "text/plain": [
       "'../shared_data/thanatcc/RIA_Input/Clean_International_Regulator/25-MAS/other/sg_253.pdf'"
      ]
     },
     "execution_count": 161,
     "metadata": {},
     "output_type": "execute_result"
    },
    {
     "name": "stdout",
     "output_type": "stream",
     "text": [
      "/DA_WORKSPACE/GLOBAL_WS/ria/International Regulator/25-MAS/other/SG_253.pdf \n",
      " ../shared_data/thanatcc/RIA_Input/Clean_International_Regulator/25-MAS/other/sg_253.pdf\n",
      "177\n"
     ]
    },
    {
     "data": {
      "text/plain": [
       "'../shared_data/thanatcc/RIA_Input/Clean_International_Regulator/25-MAS/other/sg_160.pdf'"
      ]
     },
     "execution_count": 161,
     "metadata": {},
     "output_type": "execute_result"
    },
    {
     "name": "stdout",
     "output_type": "stream",
     "text": [
      "/DA_WORKSPACE/GLOBAL_WS/ria/International Regulator/25-MAS/other/SG_160.pdf \n",
      " ../shared_data/thanatcc/RIA_Input/Clean_International_Regulator/25-MAS/other/sg_160.pdf\n",
      "178\n"
     ]
    },
    {
     "data": {
      "text/plain": [
       "'../shared_data/thanatcc/RIA_Input/Clean_International_Regulator/25-MAS/other/sg_138.pdf'"
      ]
     },
     "execution_count": 161,
     "metadata": {},
     "output_type": "execute_result"
    },
    {
     "name": "stdout",
     "output_type": "stream",
     "text": [
      "/DA_WORKSPACE/GLOBAL_WS/ria/International Regulator/25-MAS/other/SG_138.pdf \n",
      " ../shared_data/thanatcc/RIA_Input/Clean_International_Regulator/25-MAS/other/sg_138.pdf\n",
      "179\n"
     ]
    },
    {
     "data": {
      "text/plain": [
       "'../shared_data/thanatcc/RIA_Input/Clean_International_Regulator/25-MAS/other/sg_314.pdf'"
      ]
     },
     "execution_count": 161,
     "metadata": {},
     "output_type": "execute_result"
    },
    {
     "name": "stdout",
     "output_type": "stream",
     "text": [
      "/DA_WORKSPACE/GLOBAL_WS/ria/International Regulator/25-MAS/other/SG_314.pdf \n",
      " ../shared_data/thanatcc/RIA_Input/Clean_International_Regulator/25-MAS/other/sg_314.pdf\n",
      "180\n"
     ]
    },
    {
     "data": {
      "text/plain": [
       "'../shared_data/thanatcc/RIA_Input/Clean_International_Regulator/25-MAS/other/sg_256.pdf'"
      ]
     },
     "execution_count": 161,
     "metadata": {},
     "output_type": "execute_result"
    },
    {
     "name": "stdout",
     "output_type": "stream",
     "text": [
      "/DA_WORKSPACE/GLOBAL_WS/ria/International Regulator/25-MAS/other/SG_256.pdf \n",
      " ../shared_data/thanatcc/RIA_Input/Clean_International_Regulator/25-MAS/other/sg_256.pdf\n",
      "181\n"
     ]
    },
    {
     "data": {
      "text/plain": [
       "'../shared_data/thanatcc/RIA_Input/Clean_International_Regulator/25-MAS/other/sg_237.pdf'"
      ]
     },
     "execution_count": 161,
     "metadata": {},
     "output_type": "execute_result"
    },
    {
     "name": "stdout",
     "output_type": "stream",
     "text": [
      "/DA_WORKSPACE/GLOBAL_WS/ria/International Regulator/25-MAS/other/SG_237.pdf \n",
      " ../shared_data/thanatcc/RIA_Input/Clean_International_Regulator/25-MAS/other/sg_237.pdf\n",
      "182\n"
     ]
    },
    {
     "data": {
      "text/plain": [
       "'../shared_data/thanatcc/RIA_Input/Clean_International_Regulator/25-MAS/other/sg_170.pdf'"
      ]
     },
     "execution_count": 161,
     "metadata": {},
     "output_type": "execute_result"
    },
    {
     "name": "stdout",
     "output_type": "stream",
     "text": [
      "/DA_WORKSPACE/GLOBAL_WS/ria/International Regulator/25-MAS/other/SG_170.pdf \n",
      " ../shared_data/thanatcc/RIA_Input/Clean_International_Regulator/25-MAS/other/sg_170.pdf\n",
      "183\n"
     ]
    },
    {
     "data": {
      "text/plain": [
       "'../shared_data/thanatcc/RIA_Input/Clean_International_Regulator/25-MAS/other/sg_48.pdf'"
      ]
     },
     "execution_count": 161,
     "metadata": {},
     "output_type": "execute_result"
    },
    {
     "name": "stdout",
     "output_type": "stream",
     "text": [
      "/DA_WORKSPACE/GLOBAL_WS/ria/International Regulator/25-MAS/other/SG_48.pdf \n",
      " ../shared_data/thanatcc/RIA_Input/Clean_International_Regulator/25-MAS/other/sg_48.pdf\n",
      "184\n"
     ]
    },
    {
     "data": {
      "text/plain": [
       "'../shared_data/thanatcc/RIA_Input/Clean_International_Regulator/25-MAS/other/sg_162.pdf'"
      ]
     },
     "execution_count": 161,
     "metadata": {},
     "output_type": "execute_result"
    },
    {
     "name": "stdout",
     "output_type": "stream",
     "text": [
      "/DA_WORKSPACE/GLOBAL_WS/ria/International Regulator/25-MAS/other/SG_162.pdf \n",
      " ../shared_data/thanatcc/RIA_Input/Clean_International_Regulator/25-MAS/other/sg_162.pdf\n",
      "185\n"
     ]
    },
    {
     "data": {
      "text/plain": [
       "'../shared_data/thanatcc/RIA_Input/Clean_International_Regulator/25-MAS/other/sg_211.pdf'"
      ]
     },
     "execution_count": 161,
     "metadata": {},
     "output_type": "execute_result"
    },
    {
     "name": "stdout",
     "output_type": "stream",
     "text": [
      "/DA_WORKSPACE/GLOBAL_WS/ria/International Regulator/25-MAS/other/SG_211.pdf \n",
      " ../shared_data/thanatcc/RIA_Input/Clean_International_Regulator/25-MAS/other/sg_211.pdf\n",
      "186\n"
     ]
    },
    {
     "data": {
      "text/plain": [
       "'../shared_data/thanatcc/RIA_Input/Clean_International_Regulator/25-MAS/other/sg_31.pdf'"
      ]
     },
     "execution_count": 161,
     "metadata": {},
     "output_type": "execute_result"
    },
    {
     "name": "stdout",
     "output_type": "stream",
     "text": [
      "/DA_WORKSPACE/GLOBAL_WS/ria/International Regulator/25-MAS/other/SG_31.pdf \n",
      " ../shared_data/thanatcc/RIA_Input/Clean_International_Regulator/25-MAS/other/sg_31.pdf\n",
      "187\n"
     ]
    },
    {
     "data": {
      "text/plain": [
       "'../shared_data/thanatcc/RIA_Input/Clean_International_Regulator/25-MAS/other/sg_310.pdf'"
      ]
     },
     "execution_count": 161,
     "metadata": {},
     "output_type": "execute_result"
    },
    {
     "name": "stdout",
     "output_type": "stream",
     "text": [
      "/DA_WORKSPACE/GLOBAL_WS/ria/International Regulator/25-MAS/other/SG_310.pdf \n",
      " ../shared_data/thanatcc/RIA_Input/Clean_International_Regulator/25-MAS/other/sg_310.pdf\n",
      "188\n"
     ]
    },
    {
     "data": {
      "text/plain": [
       "'../shared_data/thanatcc/RIA_Input/Clean_International_Regulator/25-MAS/other/sg_60.pdf'"
      ]
     },
     "execution_count": 161,
     "metadata": {},
     "output_type": "execute_result"
    },
    {
     "name": "stdout",
     "output_type": "stream",
     "text": [
      "/DA_WORKSPACE/GLOBAL_WS/ria/International Regulator/25-MAS/other/SG_60.pdf \n",
      " ../shared_data/thanatcc/RIA_Input/Clean_International_Regulator/25-MAS/other/sg_60.pdf\n",
      "189\n"
     ]
    },
    {
     "data": {
      "text/plain": [
       "'../shared_data/thanatcc/RIA_Input/Clean_International_Regulator/25-MAS/other/sg_348.pdf'"
      ]
     },
     "execution_count": 161,
     "metadata": {},
     "output_type": "execute_result"
    },
    {
     "name": "stdout",
     "output_type": "stream",
     "text": [
      "/DA_WORKSPACE/GLOBAL_WS/ria/International Regulator/25-MAS/other/SG_348.pdf \n",
      " ../shared_data/thanatcc/RIA_Input/Clean_International_Regulator/25-MAS/other/sg_348.pdf\n",
      "190\n"
     ]
    },
    {
     "data": {
      "text/plain": [
       "'../shared_data/thanatcc/RIA_Input/Clean_International_Regulator/25-MAS/other/sg_36.pdf'"
      ]
     },
     "execution_count": 161,
     "metadata": {},
     "output_type": "execute_result"
    },
    {
     "name": "stdout",
     "output_type": "stream",
     "text": [
      "/DA_WORKSPACE/GLOBAL_WS/ria/International Regulator/25-MAS/other/SG_36.pdf \n",
      " ../shared_data/thanatcc/RIA_Input/Clean_International_Regulator/25-MAS/other/sg_36.pdf\n",
      "191\n"
     ]
    },
    {
     "data": {
      "text/plain": [
       "'../shared_data/thanatcc/RIA_Input/Clean_International_Regulator/25-MAS/other/sg_178.pdf'"
      ]
     },
     "execution_count": 161,
     "metadata": {},
     "output_type": "execute_result"
    },
    {
     "name": "stdout",
     "output_type": "stream",
     "text": [
      "/DA_WORKSPACE/GLOBAL_WS/ria/International Regulator/25-MAS/other/SG_178.pdf \n",
      " ../shared_data/thanatcc/RIA_Input/Clean_International_Regulator/25-MAS/other/sg_178.pdf\n",
      "192\n"
     ]
    },
    {
     "data": {
      "text/plain": [
       "'../shared_data/thanatcc/RIA_Input/Clean_International_Regulator/25-MAS/other/sg_166.pdf'"
      ]
     },
     "execution_count": 161,
     "metadata": {},
     "output_type": "execute_result"
    },
    {
     "name": "stdout",
     "output_type": "stream",
     "text": [
      "/DA_WORKSPACE/GLOBAL_WS/ria/International Regulator/25-MAS/other/SG_166.pdf \n",
      " ../shared_data/thanatcc/RIA_Input/Clean_International_Regulator/25-MAS/other/sg_166.pdf\n",
      "193\n"
     ]
    },
    {
     "data": {
      "text/plain": [
       "'../shared_data/thanatcc/RIA_Input/Clean_International_Regulator/25-MAS/other/sg_216.pdf'"
      ]
     },
     "execution_count": 161,
     "metadata": {},
     "output_type": "execute_result"
    },
    {
     "name": "stdout",
     "output_type": "stream",
     "text": [
      "/DA_WORKSPACE/GLOBAL_WS/ria/International Regulator/25-MAS/other/SG_216.pdf \n",
      " ../shared_data/thanatcc/RIA_Input/Clean_International_Regulator/25-MAS/other/sg_216.pdf\n",
      "194\n"
     ]
    },
    {
     "data": {
      "text/plain": [
       "'../shared_data/thanatcc/RIA_Input/Clean_International_Regulator/25-MAS/other/sg_89.pdf'"
      ]
     },
     "execution_count": 161,
     "metadata": {},
     "output_type": "execute_result"
    },
    {
     "name": "stdout",
     "output_type": "stream",
     "text": [
      "/DA_WORKSPACE/GLOBAL_WS/ria/International Regulator/25-MAS/other/SG_89.pdf \n",
      " ../shared_data/thanatcc/RIA_Input/Clean_International_Regulator/25-MAS/other/sg_89.pdf\n",
      "195\n"
     ]
    },
    {
     "data": {
      "text/plain": [
       "'../shared_data/thanatcc/RIA_Input/Clean_International_Regulator/25-MAS/other/sg_124.pdf'"
      ]
     },
     "execution_count": 161,
     "metadata": {},
     "output_type": "execute_result"
    },
    {
     "name": "stdout",
     "output_type": "stream",
     "text": [
      "/DA_WORKSPACE/GLOBAL_WS/ria/International Regulator/25-MAS/other/SG_124.pdf \n",
      " ../shared_data/thanatcc/RIA_Input/Clean_International_Regulator/25-MAS/other/sg_124.pdf\n",
      "196\n"
     ]
    },
    {
     "data": {
      "text/plain": [
       "'../shared_data/thanatcc/RIA_Input/Clean_International_Regulator/25-MAS/other/sg_53.pdf'"
      ]
     },
     "execution_count": 161,
     "metadata": {},
     "output_type": "execute_result"
    },
    {
     "name": "stdout",
     "output_type": "stream",
     "text": [
      "/DA_WORKSPACE/GLOBAL_WS/ria/International Regulator/25-MAS/other/SG_53.pdf \n",
      " ../shared_data/thanatcc/RIA_Input/Clean_International_Regulator/25-MAS/other/sg_53.pdf\n",
      "197\n"
     ]
    },
    {
     "data": {
      "text/plain": [
       "'../shared_data/thanatcc/RIA_Input/Clean_International_Regulator/25-MAS/other/sg_328.pdf'"
      ]
     },
     "execution_count": 161,
     "metadata": {},
     "output_type": "execute_result"
    },
    {
     "name": "stdout",
     "output_type": "stream",
     "text": [
      "/DA_WORKSPACE/GLOBAL_WS/ria/International Regulator/25-MAS/other/SG_328.pdf \n",
      " ../shared_data/thanatcc/RIA_Input/Clean_International_Regulator/25-MAS/other/sg_328.pdf\n",
      "198\n"
     ]
    },
    {
     "data": {
      "text/plain": [
       "'../shared_data/thanatcc/RIA_Input/Clean_International_Regulator/25-MAS/other/sg_82.pdf'"
      ]
     },
     "execution_count": 161,
     "metadata": {},
     "output_type": "execute_result"
    },
    {
     "name": "stdout",
     "output_type": "stream",
     "text": [
      "/DA_WORKSPACE/GLOBAL_WS/ria/International Regulator/25-MAS/other/SG_82.pdf \n",
      " ../shared_data/thanatcc/RIA_Input/Clean_International_Regulator/25-MAS/other/sg_82.pdf\n",
      "199\n"
     ]
    },
    {
     "data": {
      "text/plain": [
       "'../shared_data/thanatcc/RIA_Input/Clean_International_Regulator/25-MAS/other/sg_150.pdf'"
      ]
     },
     "execution_count": 161,
     "metadata": {},
     "output_type": "execute_result"
    },
    {
     "name": "stdout",
     "output_type": "stream",
     "text": [
      "/DA_WORKSPACE/GLOBAL_WS/ria/International Regulator/25-MAS/other/SG_150.pdf \n",
      " ../shared_data/thanatcc/RIA_Input/Clean_International_Regulator/25-MAS/other/sg_150.pdf\n",
      "200\n"
     ]
    },
    {
     "data": {
      "text/plain": [
       "'../shared_data/thanatcc/RIA_Input/Clean_International_Regulator/25-MAS/other/sg_74.pdf'"
      ]
     },
     "execution_count": 161,
     "metadata": {},
     "output_type": "execute_result"
    },
    {
     "name": "stdout",
     "output_type": "stream",
     "text": [
      "/DA_WORKSPACE/GLOBAL_WS/ria/International Regulator/25-MAS/other/SG_74.pdf \n",
      " ../shared_data/thanatcc/RIA_Input/Clean_International_Regulator/25-MAS/other/sg_74.pdf\n",
      "201\n"
     ]
    },
    {
     "data": {
      "text/plain": [
       "'../shared_data/thanatcc/RIA_Input/Clean_International_Regulator/25-MAS/other/sg_95.pdf'"
      ]
     },
     "execution_count": 161,
     "metadata": {},
     "output_type": "execute_result"
    },
    {
     "name": "stdout",
     "output_type": "stream",
     "text": [
      "/DA_WORKSPACE/GLOBAL_WS/ria/International Regulator/25-MAS/other/SG_95.pdf \n",
      " ../shared_data/thanatcc/RIA_Input/Clean_International_Regulator/25-MAS/other/sg_95.pdf\n",
      "202\n"
     ]
    },
    {
     "data": {
      "text/plain": [
       "'../shared_data/thanatcc/RIA_Input/Clean_International_Regulator/25-MAS/other/sg_98.pdf'"
      ]
     },
     "execution_count": 161,
     "metadata": {},
     "output_type": "execute_result"
    },
    {
     "name": "stdout",
     "output_type": "stream",
     "text": [
      "/DA_WORKSPACE/GLOBAL_WS/ria/International Regulator/25-MAS/other/SG_98.pdf \n",
      " ../shared_data/thanatcc/RIA_Input/Clean_International_Regulator/25-MAS/other/sg_98.pdf\n",
      "203\n"
     ]
    },
    {
     "data": {
      "text/plain": [
       "'../shared_data/thanatcc/RIA_Input/Clean_International_Regulator/25-MAS/other/sg_24.pdf'"
      ]
     },
     "execution_count": 161,
     "metadata": {},
     "output_type": "execute_result"
    },
    {
     "name": "stdout",
     "output_type": "stream",
     "text": [
      "/DA_WORKSPACE/GLOBAL_WS/ria/International Regulator/25-MAS/other/SG_24.pdf \n",
      " ../shared_data/thanatcc/RIA_Input/Clean_International_Regulator/25-MAS/other/sg_24.pdf\n",
      "204\n"
     ]
    },
    {
     "data": {
      "text/plain": [
       "'../shared_data/thanatcc/RIA_Input/Clean_International_Regulator/25-MAS/other/sg_241.pdf'"
      ]
     },
     "execution_count": 161,
     "metadata": {},
     "output_type": "execute_result"
    },
    {
     "name": "stdout",
     "output_type": "stream",
     "text": [
      "/DA_WORKSPACE/GLOBAL_WS/ria/International Regulator/25-MAS/other/SG_241.pdf \n",
      " ../shared_data/thanatcc/RIA_Input/Clean_International_Regulator/25-MAS/other/sg_241.pdf\n",
      "205\n"
     ]
    },
    {
     "data": {
      "text/plain": [
       "'../shared_data/thanatcc/RIA_Input/Clean_International_Regulator/25-MAS/other/sg_113.pdf'"
      ]
     },
     "execution_count": 161,
     "metadata": {},
     "output_type": "execute_result"
    },
    {
     "name": "stdout",
     "output_type": "stream",
     "text": [
      "/DA_WORKSPACE/GLOBAL_WS/ria/International Regulator/25-MAS/other/SG_113.pdf \n",
      " ../shared_data/thanatcc/RIA_Input/Clean_International_Regulator/25-MAS/other/sg_113.pdf\n",
      "206\n"
     ]
    },
    {
     "data": {
      "text/plain": [
       "'../shared_data/thanatcc/RIA_Input/Clean_International_Regulator/25-MAS/other/sg_133.pdf'"
      ]
     },
     "execution_count": 161,
     "metadata": {},
     "output_type": "execute_result"
    },
    {
     "name": "stdout",
     "output_type": "stream",
     "text": [
      "/DA_WORKSPACE/GLOBAL_WS/ria/International Regulator/25-MAS/other/SG_133.pdf \n",
      " ../shared_data/thanatcc/RIA_Input/Clean_International_Regulator/25-MAS/other/sg_133.pdf\n",
      "207\n"
     ]
    },
    {
     "data": {
      "text/plain": [
       "'../shared_data/thanatcc/RIA_Input/Clean_International_Regulator/25-MAS/other/sg_251.pdf'"
      ]
     },
     "execution_count": 161,
     "metadata": {},
     "output_type": "execute_result"
    },
    {
     "name": "stdout",
     "output_type": "stream",
     "text": [
      "/DA_WORKSPACE/GLOBAL_WS/ria/International Regulator/25-MAS/other/SG_251.pdf \n",
      " ../shared_data/thanatcc/RIA_Input/Clean_International_Regulator/25-MAS/other/sg_251.pdf\n",
      "208\n"
     ]
    },
    {
     "data": {
      "text/plain": [
       "'../shared_data/thanatcc/RIA_Input/Clean_International_Regulator/25-MAS/other/sg_225.pdf'"
      ]
     },
     "execution_count": 161,
     "metadata": {},
     "output_type": "execute_result"
    },
    {
     "name": "stdout",
     "output_type": "stream",
     "text": [
      "/DA_WORKSPACE/GLOBAL_WS/ria/International Regulator/25-MAS/other/SG_225.pdf \n",
      " ../shared_data/thanatcc/RIA_Input/Clean_International_Regulator/25-MAS/other/sg_225.pdf\n",
      "209\n"
     ]
    },
    {
     "data": {
      "text/plain": [
       "'../shared_data/thanatcc/RIA_Input/Clean_International_Regulator/25-MAS/other/sg_126.pdf'"
      ]
     },
     "execution_count": 161,
     "metadata": {},
     "output_type": "execute_result"
    },
    {
     "name": "stdout",
     "output_type": "stream",
     "text": [
      "/DA_WORKSPACE/GLOBAL_WS/ria/International Regulator/25-MAS/other/SG_126.pdf \n",
      " ../shared_data/thanatcc/RIA_Input/Clean_International_Regulator/25-MAS/other/sg_126.pdf\n",
      "210\n"
     ]
    },
    {
     "data": {
      "text/plain": [
       "'../shared_data/thanatcc/RIA_Input/Clean_International_Regulator/25-MAS/other/sg_49.pdf'"
      ]
     },
     "execution_count": 161,
     "metadata": {},
     "output_type": "execute_result"
    },
    {
     "name": "stdout",
     "output_type": "stream",
     "text": [
      "/DA_WORKSPACE/GLOBAL_WS/ria/International Regulator/25-MAS/other/SG_49.pdf \n",
      " ../shared_data/thanatcc/RIA_Input/Clean_International_Regulator/25-MAS/other/sg_49.pdf\n",
      "211\n"
     ]
    },
    {
     "data": {
      "text/plain": [
       "'../shared_data/thanatcc/RIA_Input/Clean_International_Regulator/25-MAS/other/sg_1.pdf'"
      ]
     },
     "execution_count": 161,
     "metadata": {},
     "output_type": "execute_result"
    },
    {
     "name": "stdout",
     "output_type": "stream",
     "text": [
      "/DA_WORKSPACE/GLOBAL_WS/ria/International Regulator/25-MAS/other/SG_1.pdf \n",
      " ../shared_data/thanatcc/RIA_Input/Clean_International_Regulator/25-MAS/other/sg_1.pdf\n",
      "212\n"
     ]
    },
    {
     "data": {
      "text/plain": [
       "'../shared_data/thanatcc/RIA_Input/Clean_International_Regulator/25-MAS/other/sg_23.pdf'"
      ]
     },
     "execution_count": 161,
     "metadata": {},
     "output_type": "execute_result"
    },
    {
     "name": "stdout",
     "output_type": "stream",
     "text": [
      "/DA_WORKSPACE/GLOBAL_WS/ria/International Regulator/25-MAS/other/SG_23.pdf \n",
      " ../shared_data/thanatcc/RIA_Input/Clean_International_Regulator/25-MAS/other/sg_23.pdf\n",
      "213\n"
     ]
    },
    {
     "data": {
      "text/plain": [
       "'../shared_data/thanatcc/RIA_Input/Clean_International_Regulator/25-MAS/other/sg_193.pdf'"
      ]
     },
     "execution_count": 161,
     "metadata": {},
     "output_type": "execute_result"
    },
    {
     "name": "stdout",
     "output_type": "stream",
     "text": [
      "/DA_WORKSPACE/GLOBAL_WS/ria/International Regulator/25-MAS/other/SG_193.pdf \n",
      " ../shared_data/thanatcc/RIA_Input/Clean_International_Regulator/25-MAS/other/sg_193.pdf\n",
      "214\n"
     ]
    },
    {
     "data": {
      "text/plain": [
       "'../shared_data/thanatcc/RIA_Input/Clean_International_Regulator/25-MAS/other/sg_283.pdf'"
      ]
     },
     "execution_count": 161,
     "metadata": {},
     "output_type": "execute_result"
    },
    {
     "name": "stdout",
     "output_type": "stream",
     "text": [
      "/DA_WORKSPACE/GLOBAL_WS/ria/International Regulator/25-MAS/other/SG_283.pdf \n",
      " ../shared_data/thanatcc/RIA_Input/Clean_International_Regulator/25-MAS/other/sg_283.pdf\n",
      "215\n"
     ]
    },
    {
     "data": {
      "text/plain": [
       "'../shared_data/thanatcc/RIA_Input/Clean_International_Regulator/25-MAS/other/sg_86.pdf'"
      ]
     },
     "execution_count": 161,
     "metadata": {},
     "output_type": "execute_result"
    },
    {
     "name": "stdout",
     "output_type": "stream",
     "text": [
      "/DA_WORKSPACE/GLOBAL_WS/ria/International Regulator/25-MAS/other/SG_86.pdf \n",
      " ../shared_data/thanatcc/RIA_Input/Clean_International_Regulator/25-MAS/other/sg_86.pdf\n",
      "216\n"
     ]
    },
    {
     "data": {
      "text/plain": [
       "'../shared_data/thanatcc/RIA_Input/Clean_International_Regulator/25-MAS/other/sg_262.pdf'"
      ]
     },
     "execution_count": 161,
     "metadata": {},
     "output_type": "execute_result"
    },
    {
     "name": "stdout",
     "output_type": "stream",
     "text": [
      "/DA_WORKSPACE/GLOBAL_WS/ria/International Regulator/25-MAS/other/SG_262.pdf \n",
      " ../shared_data/thanatcc/RIA_Input/Clean_International_Regulator/25-MAS/other/sg_262.pdf\n",
      "217\n"
     ]
    },
    {
     "data": {
      "text/plain": [
       "'../shared_data/thanatcc/RIA_Input/Clean_International_Regulator/25-MAS/other/sg_179.pdf'"
      ]
     },
     "execution_count": 161,
     "metadata": {},
     "output_type": "execute_result"
    },
    {
     "name": "stdout",
     "output_type": "stream",
     "text": [
      "/DA_WORKSPACE/GLOBAL_WS/ria/International Regulator/25-MAS/other/SG_179.pdf \n",
      " ../shared_data/thanatcc/RIA_Input/Clean_International_Regulator/25-MAS/other/sg_179.pdf\n",
      "218\n"
     ]
    },
    {
     "data": {
      "text/plain": [
       "'../shared_data/thanatcc/RIA_Input/Clean_International_Regulator/25-MAS/other/sg_153.pdf'"
      ]
     },
     "execution_count": 161,
     "metadata": {},
     "output_type": "execute_result"
    },
    {
     "name": "stdout",
     "output_type": "stream",
     "text": [
      "/DA_WORKSPACE/GLOBAL_WS/ria/International Regulator/25-MAS/other/SG_153.pdf \n",
      " ../shared_data/thanatcc/RIA_Input/Clean_International_Regulator/25-MAS/other/sg_153.pdf\n",
      "219\n"
     ]
    },
    {
     "data": {
      "text/plain": [
       "'../shared_data/thanatcc/RIA_Input/Clean_International_Regulator/25-MAS/other/sg_297.pdf'"
      ]
     },
     "execution_count": 161,
     "metadata": {},
     "output_type": "execute_result"
    },
    {
     "name": "stdout",
     "output_type": "stream",
     "text": [
      "/DA_WORKSPACE/GLOBAL_WS/ria/International Regulator/25-MAS/other/SG_297.pdf \n",
      " ../shared_data/thanatcc/RIA_Input/Clean_International_Regulator/25-MAS/other/sg_297.pdf\n",
      "220\n"
     ]
    },
    {
     "data": {
      "text/plain": [
       "'../shared_data/thanatcc/RIA_Input/Clean_International_Regulator/25-MAS/other/sg_117.pdf'"
      ]
     },
     "execution_count": 161,
     "metadata": {},
     "output_type": "execute_result"
    },
    {
     "name": "stdout",
     "output_type": "stream",
     "text": [
      "/DA_WORKSPACE/GLOBAL_WS/ria/International Regulator/25-MAS/other/SG_117.pdf \n",
      " ../shared_data/thanatcc/RIA_Input/Clean_International_Regulator/25-MAS/other/sg_117.pdf\n",
      "221\n"
     ]
    },
    {
     "data": {
      "text/plain": [
       "'../shared_data/thanatcc/RIA_Input/Clean_International_Regulator/25-MAS/other/sg_320.pdf'"
      ]
     },
     "execution_count": 161,
     "metadata": {},
     "output_type": "execute_result"
    },
    {
     "name": "stdout",
     "output_type": "stream",
     "text": [
      "/DA_WORKSPACE/GLOBAL_WS/ria/International Regulator/25-MAS/other/SG_320.pdf \n",
      " ../shared_data/thanatcc/RIA_Input/Clean_International_Regulator/25-MAS/other/sg_320.pdf\n",
      "222\n"
     ]
    },
    {
     "data": {
      "text/plain": [
       "'../shared_data/thanatcc/RIA_Input/Clean_International_Regulator/25-MAS/other/sg_56.pdf'"
      ]
     },
     "execution_count": 161,
     "metadata": {},
     "output_type": "execute_result"
    },
    {
     "name": "stdout",
     "output_type": "stream",
     "text": [
      "/DA_WORKSPACE/GLOBAL_WS/ria/International Regulator/25-MAS/other/SG_56.pdf \n",
      " ../shared_data/thanatcc/RIA_Input/Clean_International_Regulator/25-MAS/other/sg_56.pdf\n",
      "223\n"
     ]
    },
    {
     "data": {
      "text/plain": [
       "'../shared_data/thanatcc/RIA_Input/Clean_International_Regulator/25-MAS/other/sg_325.pdf'"
      ]
     },
     "execution_count": 161,
     "metadata": {},
     "output_type": "execute_result"
    },
    {
     "name": "stdout",
     "output_type": "stream",
     "text": [
      "/DA_WORKSPACE/GLOBAL_WS/ria/International Regulator/25-MAS/other/SG_325.pdf \n",
      " ../shared_data/thanatcc/RIA_Input/Clean_International_Regulator/25-MAS/other/sg_325.pdf\n",
      "224\n"
     ]
    },
    {
     "data": {
      "text/plain": [
       "'../shared_data/thanatcc/RIA_Input/Clean_International_Regulator/25-MAS/other/sg_20.pdf'"
      ]
     },
     "execution_count": 161,
     "metadata": {},
     "output_type": "execute_result"
    },
    {
     "name": "stdout",
     "output_type": "stream",
     "text": [
      "/DA_WORKSPACE/GLOBAL_WS/ria/International Regulator/25-MAS/other/SG_20.pdf \n",
      " ../shared_data/thanatcc/RIA_Input/Clean_International_Regulator/25-MAS/other/sg_20.pdf\n",
      "225\n"
     ]
    },
    {
     "data": {
      "text/plain": [
       "'../shared_data/thanatcc/RIA_Input/Clean_International_Regulator/25-MAS/other/sg_121.pdf'"
      ]
     },
     "execution_count": 161,
     "metadata": {},
     "output_type": "execute_result"
    },
    {
     "name": "stdout",
     "output_type": "stream",
     "text": [
      "/DA_WORKSPACE/GLOBAL_WS/ria/International Regulator/25-MAS/other/SG_121.pdf \n",
      " ../shared_data/thanatcc/RIA_Input/Clean_International_Regulator/25-MAS/other/sg_121.pdf\n",
      "226\n"
     ]
    },
    {
     "data": {
      "text/plain": [
       "'../shared_data/thanatcc/RIA_Input/Clean_International_Regulator/25-MAS/other/sg_154.pdf'"
      ]
     },
     "execution_count": 161,
     "metadata": {},
     "output_type": "execute_result"
    },
    {
     "name": "stdout",
     "output_type": "stream",
     "text": [
      "/DA_WORKSPACE/GLOBAL_WS/ria/International Regulator/25-MAS/other/SG_154.pdf \n",
      " ../shared_data/thanatcc/RIA_Input/Clean_International_Regulator/25-MAS/other/sg_154.pdf\n",
      "227\n"
     ]
    },
    {
     "data": {
      "text/plain": [
       "'../shared_data/thanatcc/RIA_Input/Clean_International_Regulator/25-MAS/other/sg_50.pdf'"
      ]
     },
     "execution_count": 161,
     "metadata": {},
     "output_type": "execute_result"
    },
    {
     "name": "stdout",
     "output_type": "stream",
     "text": [
      "/DA_WORKSPACE/GLOBAL_WS/ria/International Regulator/25-MAS/other/SG_50.pdf \n",
      " ../shared_data/thanatcc/RIA_Input/Clean_International_Regulator/25-MAS/other/sg_50.pdf\n",
      "228\n"
     ]
    },
    {
     "data": {
      "text/plain": [
       "'../shared_data/thanatcc/RIA_Input/Clean_International_Regulator/25-MAS/other/sg_231.pdf'"
      ]
     },
     "execution_count": 161,
     "metadata": {},
     "output_type": "execute_result"
    },
    {
     "name": "stdout",
     "output_type": "stream",
     "text": [
      "/DA_WORKSPACE/GLOBAL_WS/ria/International Regulator/25-MAS/other/SG_231.pdf \n",
      " ../shared_data/thanatcc/RIA_Input/Clean_International_Regulator/25-MAS/other/sg_231.pdf\n",
      "229\n"
     ]
    },
    {
     "data": {
      "text/plain": [
       "'../shared_data/thanatcc/RIA_Input/Clean_International_Regulator/25-MAS/other/sg_289.pdf'"
      ]
     },
     "execution_count": 161,
     "metadata": {},
     "output_type": "execute_result"
    },
    {
     "name": "stdout",
     "output_type": "stream",
     "text": [
      "/DA_WORKSPACE/GLOBAL_WS/ria/International Regulator/25-MAS/other/SG_289.pdf \n",
      " ../shared_data/thanatcc/RIA_Input/Clean_International_Regulator/25-MAS/other/sg_289.pdf\n",
      "230\n"
     ]
    },
    {
     "data": {
      "text/plain": [
       "'../shared_data/thanatcc/RIA_Input/Clean_International_Regulator/25-MAS/other/sg_78.pdf'"
      ]
     },
     "execution_count": 161,
     "metadata": {},
     "output_type": "execute_result"
    },
    {
     "name": "stdout",
     "output_type": "stream",
     "text": [
      "/DA_WORKSPACE/GLOBAL_WS/ria/International Regulator/25-MAS/other/SG_78.pdf \n",
      " ../shared_data/thanatcc/RIA_Input/Clean_International_Regulator/25-MAS/other/sg_78.pdf\n",
      "231\n"
     ]
    },
    {
     "data": {
      "text/plain": [
       "'../shared_data/thanatcc/RIA_Input/Clean_International_Regulator/25-MAS/other/sg_167.pdf'"
      ]
     },
     "execution_count": 161,
     "metadata": {},
     "output_type": "execute_result"
    },
    {
     "name": "stdout",
     "output_type": "stream",
     "text": [
      "/DA_WORKSPACE/GLOBAL_WS/ria/International Regulator/25-MAS/other/SG_167.pdf \n",
      " ../shared_data/thanatcc/RIA_Input/Clean_International_Regulator/25-MAS/other/sg_167.pdf\n",
      "232\n"
     ]
    },
    {
     "data": {
      "text/plain": [
       "'../shared_data/thanatcc/RIA_Input/Clean_International_Regulator/25-MAS/other/sg_164.pdf'"
      ]
     },
     "execution_count": 161,
     "metadata": {},
     "output_type": "execute_result"
    },
    {
     "name": "stdout",
     "output_type": "stream",
     "text": [
      "/DA_WORKSPACE/GLOBAL_WS/ria/International Regulator/25-MAS/other/SG_164.pdf \n",
      " ../shared_data/thanatcc/RIA_Input/Clean_International_Regulator/25-MAS/other/sg_164.pdf\n",
      "233\n"
     ]
    },
    {
     "data": {
      "text/plain": [
       "'../shared_data/thanatcc/RIA_Input/Clean_International_Regulator/25-MAS/other/sg_197.pdf'"
      ]
     },
     "execution_count": 161,
     "metadata": {},
     "output_type": "execute_result"
    },
    {
     "name": "stdout",
     "output_type": "stream",
     "text": [
      "/DA_WORKSPACE/GLOBAL_WS/ria/International Regulator/25-MAS/other/SG_197.pdf \n",
      " ../shared_data/thanatcc/RIA_Input/Clean_International_Regulator/25-MAS/other/sg_197.pdf\n",
      "234\n"
     ]
    },
    {
     "data": {
      "text/plain": [
       "'../shared_data/thanatcc/RIA_Input/Clean_International_Regulator/25-MAS/other/sg_145.pdf'"
      ]
     },
     "execution_count": 161,
     "metadata": {},
     "output_type": "execute_result"
    },
    {
     "name": "stdout",
     "output_type": "stream",
     "text": [
      "/DA_WORKSPACE/GLOBAL_WS/ria/International Regulator/25-MAS/other/SG_145.pdf \n",
      " ../shared_data/thanatcc/RIA_Input/Clean_International_Regulator/25-MAS/other/sg_145.pdf\n",
      "235\n"
     ]
    },
    {
     "data": {
      "text/plain": [
       "'../shared_data/thanatcc/RIA_Input/Clean_International_Regulator/25-MAS/other/sg_40.pdf'"
      ]
     },
     "execution_count": 161,
     "metadata": {},
     "output_type": "execute_result"
    },
    {
     "name": "stdout",
     "output_type": "stream",
     "text": [
      "/DA_WORKSPACE/GLOBAL_WS/ria/International Regulator/25-MAS/other/SG_40.pdf \n",
      " ../shared_data/thanatcc/RIA_Input/Clean_International_Regulator/25-MAS/other/sg_40.pdf\n",
      "236\n"
     ]
    },
    {
     "data": {
      "text/plain": [
       "'../shared_data/thanatcc/RIA_Input/Clean_International_Regulator/25-MAS/other/sg_26.pdf'"
      ]
     },
     "execution_count": 161,
     "metadata": {},
     "output_type": "execute_result"
    },
    {
     "name": "stdout",
     "output_type": "stream",
     "text": [
      "/DA_WORKSPACE/GLOBAL_WS/ria/International Regulator/25-MAS/other/SG_26.pdf \n",
      " ../shared_data/thanatcc/RIA_Input/Clean_International_Regulator/25-MAS/other/sg_26.pdf\n",
      "237\n"
     ]
    },
    {
     "data": {
      "text/plain": [
       "'../shared_data/thanatcc/RIA_Input/Clean_International_Regulator/25-MAS/other/sg_136.pdf'"
      ]
     },
     "execution_count": 161,
     "metadata": {},
     "output_type": "execute_result"
    },
    {
     "name": "stdout",
     "output_type": "stream",
     "text": [
      "/DA_WORKSPACE/GLOBAL_WS/ria/International Regulator/25-MAS/other/SG_136.pdf \n",
      " ../shared_data/thanatcc/RIA_Input/Clean_International_Regulator/25-MAS/other/sg_136.pdf\n",
      "238\n"
     ]
    },
    {
     "data": {
      "text/plain": [
       "'../shared_data/thanatcc/RIA_Input/Clean_International_Regulator/25-MAS/other/sg_276.pdf'"
      ]
     },
     "execution_count": 161,
     "metadata": {},
     "output_type": "execute_result"
    },
    {
     "name": "stdout",
     "output_type": "stream",
     "text": [
      "/DA_WORKSPACE/GLOBAL_WS/ria/International Regulator/25-MAS/other/SG_276.pdf \n",
      " ../shared_data/thanatcc/RIA_Input/Clean_International_Regulator/25-MAS/other/sg_276.pdf\n",
      "239\n"
     ]
    },
    {
     "data": {
      "text/plain": [
       "'../shared_data/thanatcc/RIA_Input/Clean_International_Regulator/25-MAS/other/sg_265.pdf'"
      ]
     },
     "execution_count": 161,
     "metadata": {},
     "output_type": "execute_result"
    },
    {
     "name": "stdout",
     "output_type": "stream",
     "text": [
      "/DA_WORKSPACE/GLOBAL_WS/ria/International Regulator/25-MAS/other/SG_265.pdf \n",
      " ../shared_data/thanatcc/RIA_Input/Clean_International_Regulator/25-MAS/other/sg_265.pdf\n",
      "240\n"
     ]
    },
    {
     "data": {
      "text/plain": [
       "'../shared_data/thanatcc/RIA_Input/Clean_International_Regulator/25-MAS/other/sg_115.pdf'"
      ]
     },
     "execution_count": 161,
     "metadata": {},
     "output_type": "execute_result"
    },
    {
     "name": "stdout",
     "output_type": "stream",
     "text": [
      "/DA_WORKSPACE/GLOBAL_WS/ria/International Regulator/25-MAS/other/SG_115.pdf \n",
      " ../shared_data/thanatcc/RIA_Input/Clean_International_Regulator/25-MAS/other/sg_115.pdf\n",
      "241\n"
     ]
    },
    {
     "data": {
      "text/plain": [
       "'../shared_data/thanatcc/RIA_Input/Clean_International_Regulator/25-MAS/other/sg_223.pdf'"
      ]
     },
     "execution_count": 161,
     "metadata": {},
     "output_type": "execute_result"
    },
    {
     "name": "stdout",
     "output_type": "stream",
     "text": [
      "/DA_WORKSPACE/GLOBAL_WS/ria/International Regulator/25-MAS/other/SG_223.pdf \n",
      " ../shared_data/thanatcc/RIA_Input/Clean_International_Regulator/25-MAS/other/sg_223.pdf\n",
      "242\n"
     ]
    },
    {
     "data": {
      "text/plain": [
       "'../shared_data/thanatcc/RIA_Input/Clean_International_Regulator/25-MAS/other/sg_44.pdf'"
      ]
     },
     "execution_count": 161,
     "metadata": {},
     "output_type": "execute_result"
    },
    {
     "name": "stdout",
     "output_type": "stream",
     "text": [
      "/DA_WORKSPACE/GLOBAL_WS/ria/International Regulator/25-MAS/other/SG_44.pdf \n",
      " ../shared_data/thanatcc/RIA_Input/Clean_International_Regulator/25-MAS/other/sg_44.pdf\n",
      "243\n"
     ]
    },
    {
     "data": {
      "text/plain": [
       "'../shared_data/thanatcc/RIA_Input/Clean_International_Regulator/25-MAS/other/sg_350.pdf'"
      ]
     },
     "execution_count": 161,
     "metadata": {},
     "output_type": "execute_result"
    },
    {
     "name": "stdout",
     "output_type": "stream",
     "text": [
      "/DA_WORKSPACE/GLOBAL_WS/ria/International Regulator/25-MAS/other/SG_350.pdf \n",
      " ../shared_data/thanatcc/RIA_Input/Clean_International_Regulator/25-MAS/other/sg_350.pdf\n",
      "244\n"
     ]
    },
    {
     "data": {
      "text/plain": [
       "'../shared_data/thanatcc/RIA_Input/Clean_International_Regulator/25-MAS/other/sg_30.pdf'"
      ]
     },
     "execution_count": 161,
     "metadata": {},
     "output_type": "execute_result"
    },
    {
     "name": "stdout",
     "output_type": "stream",
     "text": [
      "/DA_WORKSPACE/GLOBAL_WS/ria/International Regulator/25-MAS/other/SG_30.pdf \n",
      " ../shared_data/thanatcc/RIA_Input/Clean_International_Regulator/25-MAS/other/sg_30.pdf\n",
      "245\n"
     ]
    },
    {
     "data": {
      "text/plain": [
       "'../shared_data/thanatcc/RIA_Input/Clean_International_Regulator/25-MAS/other/sg_111.pdf'"
      ]
     },
     "execution_count": 161,
     "metadata": {},
     "output_type": "execute_result"
    },
    {
     "name": "stdout",
     "output_type": "stream",
     "text": [
      "/DA_WORKSPACE/GLOBAL_WS/ria/International Regulator/25-MAS/other/SG_111.pdf \n",
      " ../shared_data/thanatcc/RIA_Input/Clean_International_Regulator/25-MAS/other/sg_111.pdf\n",
      "246\n"
     ]
    },
    {
     "data": {
      "text/plain": [
       "'../shared_data/thanatcc/RIA_Input/Clean_International_Regulator/25-MAS/other/sg_291.pdf'"
      ]
     },
     "execution_count": 161,
     "metadata": {},
     "output_type": "execute_result"
    },
    {
     "name": "stdout",
     "output_type": "stream",
     "text": [
      "/DA_WORKSPACE/GLOBAL_WS/ria/International Regulator/25-MAS/other/SG_291.pdf \n",
      " ../shared_data/thanatcc/RIA_Input/Clean_International_Regulator/25-MAS/other/sg_291.pdf\n",
      "247\n"
     ]
    },
    {
     "data": {
      "text/plain": [
       "'../shared_data/thanatcc/RIA_Input/Clean_International_Regulator/25-MAS/other/sg_116.pdf'"
      ]
     },
     "execution_count": 161,
     "metadata": {},
     "output_type": "execute_result"
    },
    {
     "name": "stdout",
     "output_type": "stream",
     "text": [
      "/DA_WORKSPACE/GLOBAL_WS/ria/International Regulator/25-MAS/other/SG_116.pdf \n",
      " ../shared_data/thanatcc/RIA_Input/Clean_International_Regulator/25-MAS/other/sg_116.pdf\n",
      "248\n"
     ]
    },
    {
     "data": {
      "text/plain": [
       "'../shared_data/thanatcc/RIA_Input/Clean_International_Regulator/25-MAS/other/sg_109.pdf'"
      ]
     },
     "execution_count": 161,
     "metadata": {},
     "output_type": "execute_result"
    },
    {
     "name": "stdout",
     "output_type": "stream",
     "text": [
      "/DA_WORKSPACE/GLOBAL_WS/ria/International Regulator/25-MAS/other/SG_109.pdf \n",
      " ../shared_data/thanatcc/RIA_Input/Clean_International_Regulator/25-MAS/other/sg_109.pdf\n",
      "249\n"
     ]
    },
    {
     "data": {
      "text/plain": [
       "'../shared_data/thanatcc/RIA_Input/Clean_International_Regulator/25-MAS/other/sg_14.pdf'"
      ]
     },
     "execution_count": 161,
     "metadata": {},
     "output_type": "execute_result"
    },
    {
     "name": "stdout",
     "output_type": "stream",
     "text": [
      "/DA_WORKSPACE/GLOBAL_WS/ria/International Regulator/25-MAS/other/SG_14.pdf \n",
      " ../shared_data/thanatcc/RIA_Input/Clean_International_Regulator/25-MAS/other/sg_14.pdf\n",
      "250\n"
     ]
    },
    {
     "data": {
      "text/plain": [
       "'../shared_data/thanatcc/RIA_Input/Clean_International_Regulator/25-MAS/other/sg_87.pdf'"
      ]
     },
     "execution_count": 161,
     "metadata": {},
     "output_type": "execute_result"
    },
    {
     "name": "stdout",
     "output_type": "stream",
     "text": [
      "/DA_WORKSPACE/GLOBAL_WS/ria/International Regulator/25-MAS/other/SG_87.pdf \n",
      " ../shared_data/thanatcc/RIA_Input/Clean_International_Regulator/25-MAS/other/sg_87.pdf\n",
      "251\n"
     ]
    },
    {
     "data": {
      "text/plain": [
       "'../shared_data/thanatcc/RIA_Input/Clean_International_Regulator/25-MAS/other/sg_134.pdf'"
      ]
     },
     "execution_count": 161,
     "metadata": {},
     "output_type": "execute_result"
    },
    {
     "name": "stdout",
     "output_type": "stream",
     "text": [
      "/DA_WORKSPACE/GLOBAL_WS/ria/International Regulator/25-MAS/other/SG_134.pdf \n",
      " ../shared_data/thanatcc/RIA_Input/Clean_International_Regulator/25-MAS/other/sg_134.pdf\n",
      "252\n"
     ]
    },
    {
     "data": {
      "text/plain": [
       "'../shared_data/thanatcc/RIA_Input/Clean_International_Regulator/25-MAS/other/sg_353.pdf'"
      ]
     },
     "execution_count": 161,
     "metadata": {},
     "output_type": "execute_result"
    },
    {
     "name": "stdout",
     "output_type": "stream",
     "text": [
      "/DA_WORKSPACE/GLOBAL_WS/ria/International Regulator/25-MAS/other/SG_353.pdf \n",
      " ../shared_data/thanatcc/RIA_Input/Clean_International_Regulator/25-MAS/other/sg_353.pdf\n",
      "253\n"
     ]
    },
    {
     "data": {
      "text/plain": [
       "'../shared_data/thanatcc/RIA_Input/Clean_International_Regulator/25-MAS/other/sg_269.pdf'"
      ]
     },
     "execution_count": 161,
     "metadata": {},
     "output_type": "execute_result"
    },
    {
     "name": "stdout",
     "output_type": "stream",
     "text": [
      "/DA_WORKSPACE/GLOBAL_WS/ria/International Regulator/25-MAS/other/SG_269.pdf \n",
      " ../shared_data/thanatcc/RIA_Input/Clean_International_Regulator/25-MAS/other/sg_269.pdf\n",
      "254\n"
     ]
    },
    {
     "data": {
      "text/plain": [
       "'../shared_data/thanatcc/RIA_Input/Clean_International_Regulator/25-MAS/other/sg_105.pdf'"
      ]
     },
     "execution_count": 161,
     "metadata": {},
     "output_type": "execute_result"
    },
    {
     "name": "stdout",
     "output_type": "stream",
     "text": [
      "/DA_WORKSPACE/GLOBAL_WS/ria/International Regulator/25-MAS/other/SG_105.pdf \n",
      " ../shared_data/thanatcc/RIA_Input/Clean_International_Regulator/25-MAS/other/sg_105.pdf\n",
      "255\n"
     ]
    },
    {
     "data": {
      "text/plain": [
       "'../shared_data/thanatcc/RIA_Input/Clean_International_Regulator/25-MAS/other/sg_54.pdf'"
      ]
     },
     "execution_count": 161,
     "metadata": {},
     "output_type": "execute_result"
    },
    {
     "name": "stdout",
     "output_type": "stream",
     "text": [
      "/DA_WORKSPACE/GLOBAL_WS/ria/International Regulator/25-MAS/other/SG_54.pdf \n",
      " ../shared_data/thanatcc/RIA_Input/Clean_International_Regulator/25-MAS/other/sg_54.pdf\n",
      "256\n"
     ]
    },
    {
     "data": {
      "text/plain": [
       "'../shared_data/thanatcc/RIA_Input/Clean_International_Regulator/25-MAS/other/sg_284.pdf'"
      ]
     },
     "execution_count": 161,
     "metadata": {},
     "output_type": "execute_result"
    },
    {
     "name": "stdout",
     "output_type": "stream",
     "text": [
      "/DA_WORKSPACE/GLOBAL_WS/ria/International Regulator/25-MAS/other/SG_284.pdf \n",
      " ../shared_data/thanatcc/RIA_Input/Clean_International_Regulator/25-MAS/other/sg_284.pdf\n",
      "257\n"
     ]
    },
    {
     "data": {
      "text/plain": [
       "'../shared_data/thanatcc/RIA_Input/Clean_International_Regulator/25-MAS/other/sg_122.pdf'"
      ]
     },
     "execution_count": 161,
     "metadata": {},
     "output_type": "execute_result"
    },
    {
     "name": "stdout",
     "output_type": "stream",
     "text": [
      "/DA_WORKSPACE/GLOBAL_WS/ria/International Regulator/25-MAS/other/SG_122.pdf \n",
      " ../shared_data/thanatcc/RIA_Input/Clean_International_Regulator/25-MAS/other/sg_122.pdf\n",
      "258\n"
     ]
    },
    {
     "data": {
      "text/plain": [
       "'../shared_data/thanatcc/RIA_Input/Clean_International_Regulator/25-MAS/other/sg_88.pdf'"
      ]
     },
     "execution_count": 161,
     "metadata": {},
     "output_type": "execute_result"
    },
    {
     "name": "stdout",
     "output_type": "stream",
     "text": [
      "/DA_WORKSPACE/GLOBAL_WS/ria/International Regulator/25-MAS/other/SG_88.pdf \n",
      " ../shared_data/thanatcc/RIA_Input/Clean_International_Regulator/25-MAS/other/sg_88.pdf\n",
      "259\n"
     ]
    },
    {
     "data": {
      "text/plain": [
       "'../shared_data/thanatcc/RIA_Input/Clean_International_Regulator/25-MAS/other/sg_63.pdf'"
      ]
     },
     "execution_count": 161,
     "metadata": {},
     "output_type": "execute_result"
    },
    {
     "name": "stdout",
     "output_type": "stream",
     "text": [
      "/DA_WORKSPACE/GLOBAL_WS/ria/International Regulator/25-MAS/other/SG_63.pdf \n",
      " ../shared_data/thanatcc/RIA_Input/Clean_International_Regulator/25-MAS/other/sg_63.pdf\n",
      "260\n"
     ]
    },
    {
     "data": {
      "text/plain": [
       "'../shared_data/thanatcc/RIA_Input/Clean_International_Regulator/25-MAS/other/sg_8.pdf'"
      ]
     },
     "execution_count": 161,
     "metadata": {},
     "output_type": "execute_result"
    },
    {
     "name": "stdout",
     "output_type": "stream",
     "text": [
      "/DA_WORKSPACE/GLOBAL_WS/ria/International Regulator/25-MAS/other/SG_8.pdf \n",
      " ../shared_data/thanatcc/RIA_Input/Clean_International_Regulator/25-MAS/other/sg_8.pdf\n",
      "261\n"
     ]
    },
    {
     "data": {
      "text/plain": [
       "'../shared_data/thanatcc/RIA_Input/Clean_International_Regulator/25-MAS/other/sg_215.pdf'"
      ]
     },
     "execution_count": 161,
     "metadata": {},
     "output_type": "execute_result"
    },
    {
     "name": "stdout",
     "output_type": "stream",
     "text": [
      "/DA_WORKSPACE/GLOBAL_WS/ria/International Regulator/25-MAS/other/SG_215.pdf \n",
      " ../shared_data/thanatcc/RIA_Input/Clean_International_Regulator/25-MAS/other/sg_215.pdf\n",
      "262\n"
     ]
    },
    {
     "data": {
      "text/plain": [
       "'../shared_data/thanatcc/RIA_Input/Clean_International_Regulator/25-MAS/other/sg_362.pdf'"
      ]
     },
     "execution_count": 161,
     "metadata": {},
     "output_type": "execute_result"
    },
    {
     "name": "stdout",
     "output_type": "stream",
     "text": [
      "/DA_WORKSPACE/GLOBAL_WS/ria/International Regulator/25-MAS/other/SG_362.pdf \n",
      " ../shared_data/thanatcc/RIA_Input/Clean_International_Regulator/25-MAS/other/sg_362.pdf\n",
      "263\n"
     ]
    },
    {
     "data": {
      "text/plain": [
       "'../shared_data/thanatcc/RIA_Input/Clean_International_Regulator/25-MAS/other/sg_312.pdf'"
      ]
     },
     "execution_count": 161,
     "metadata": {},
     "output_type": "execute_result"
    },
    {
     "name": "stdout",
     "output_type": "stream",
     "text": [
      "/DA_WORKSPACE/GLOBAL_WS/ria/International Regulator/25-MAS/other/SG_312.pdf \n",
      " ../shared_data/thanatcc/RIA_Input/Clean_International_Regulator/25-MAS/other/sg_312.pdf\n",
      "264\n"
     ]
    },
    {
     "data": {
      "text/plain": [
       "'../shared_data/thanatcc/RIA_Input/Clean_International_Regulator/25-MAS/other/sg_347.pdf'"
      ]
     },
     "execution_count": 161,
     "metadata": {},
     "output_type": "execute_result"
    },
    {
     "name": "stdout",
     "output_type": "stream",
     "text": [
      "/DA_WORKSPACE/GLOBAL_WS/ria/International Regulator/25-MAS/other/SG_347.pdf \n",
      " ../shared_data/thanatcc/RIA_Input/Clean_International_Regulator/25-MAS/other/sg_347.pdf\n",
      "265\n"
     ]
    },
    {
     "data": {
      "text/plain": [
       "'../shared_data/thanatcc/RIA_Input/Clean_International_Regulator/25-MAS/other/sg_227.pdf'"
      ]
     },
     "execution_count": 161,
     "metadata": {},
     "output_type": "execute_result"
    },
    {
     "name": "stdout",
     "output_type": "stream",
     "text": [
      "/DA_WORKSPACE/GLOBAL_WS/ria/International Regulator/25-MAS/other/SG_227.pdf \n",
      " ../shared_data/thanatcc/RIA_Input/Clean_International_Regulator/25-MAS/other/sg_227.pdf\n",
      "266\n"
     ]
    },
    {
     "data": {
      "text/plain": [
       "'../shared_data/thanatcc/RIA_Input/Clean_International_Regulator/25-MAS/other/sg_240.pdf'"
      ]
     },
     "execution_count": 161,
     "metadata": {},
     "output_type": "execute_result"
    },
    {
     "name": "stdout",
     "output_type": "stream",
     "text": [
      "/DA_WORKSPACE/GLOBAL_WS/ria/International Regulator/25-MAS/other/SG_240.pdf \n",
      " ../shared_data/thanatcc/RIA_Input/Clean_International_Regulator/25-MAS/other/sg_240.pdf\n",
      "267\n"
     ]
    },
    {
     "data": {
      "text/plain": [
       "'../shared_data/thanatcc/RIA_Input/Clean_International_Regulator/25-MAS/other/sg_359.pdf'"
      ]
     },
     "execution_count": 161,
     "metadata": {},
     "output_type": "execute_result"
    },
    {
     "name": "stdout",
     "output_type": "stream",
     "text": [
      "/DA_WORKSPACE/GLOBAL_WS/ria/International Regulator/25-MAS/other/SG_359.pdf \n",
      " ../shared_data/thanatcc/RIA_Input/Clean_International_Regulator/25-MAS/other/sg_359.pdf\n",
      "268\n"
     ]
    },
    {
     "data": {
      "text/plain": [
       "'../shared_data/thanatcc/RIA_Input/Clean_International_Regulator/25-MAS/other/sg_233.pdf'"
      ]
     },
     "execution_count": 161,
     "metadata": {},
     "output_type": "execute_result"
    },
    {
     "name": "stdout",
     "output_type": "stream",
     "text": [
      "/DA_WORKSPACE/GLOBAL_WS/ria/International Regulator/25-MAS/other/SG_233.pdf \n",
      " ../shared_data/thanatcc/RIA_Input/Clean_International_Regulator/25-MAS/other/sg_233.pdf\n",
      "269\n"
     ]
    },
    {
     "data": {
      "text/plain": [
       "'../shared_data/thanatcc/RIA_Input/Clean_International_Regulator/25-MAS/other/sg_301.pdf'"
      ]
     },
     "execution_count": 161,
     "metadata": {},
     "output_type": "execute_result"
    },
    {
     "name": "stdout",
     "output_type": "stream",
     "text": [
      "/DA_WORKSPACE/GLOBAL_WS/ria/International Regulator/25-MAS/other/SG_301.pdf \n",
      " ../shared_data/thanatcc/RIA_Input/Clean_International_Regulator/25-MAS/other/sg_301.pdf\n",
      "270\n"
     ]
    },
    {
     "data": {
      "text/plain": [
       "'../shared_data/thanatcc/RIA_Input/Clean_International_Regulator/25-MAS/other/sg_261.pdf'"
      ]
     },
     "execution_count": 161,
     "metadata": {},
     "output_type": "execute_result"
    },
    {
     "name": "stdout",
     "output_type": "stream",
     "text": [
      "/DA_WORKSPACE/GLOBAL_WS/ria/International Regulator/25-MAS/other/SG_261.pdf \n",
      " ../shared_data/thanatcc/RIA_Input/Clean_International_Regulator/25-MAS/other/sg_261.pdf\n",
      "271\n"
     ]
    },
    {
     "data": {
      "text/plain": [
       "'../shared_data/thanatcc/RIA_Input/Clean_International_Regulator/25-MAS/other/sg_52.pdf'"
      ]
     },
     "execution_count": 161,
     "metadata": {},
     "output_type": "execute_result"
    },
    {
     "name": "stdout",
     "output_type": "stream",
     "text": [
      "/DA_WORKSPACE/GLOBAL_WS/ria/International Regulator/25-MAS/other/SG_52.pdf \n",
      " ../shared_data/thanatcc/RIA_Input/Clean_International_Regulator/25-MAS/other/sg_52.pdf\n",
      "272\n"
     ]
    },
    {
     "data": {
      "text/plain": [
       "'../shared_data/thanatcc/RIA_Input/Clean_International_Regulator/25-MAS/other/sg_38.pdf'"
      ]
     },
     "execution_count": 161,
     "metadata": {},
     "output_type": "execute_result"
    },
    {
     "name": "stdout",
     "output_type": "stream",
     "text": [
      "/DA_WORKSPACE/GLOBAL_WS/ria/International Regulator/25-MAS/other/SG_38.pdf \n",
      " ../shared_data/thanatcc/RIA_Input/Clean_International_Regulator/25-MAS/other/sg_38.pdf\n",
      "273\n"
     ]
    },
    {
     "data": {
      "text/plain": [
       "'../shared_data/thanatcc/RIA_Input/Clean_International_Regulator/25-MAS/other/sg_329.pdf'"
      ]
     },
     "execution_count": 161,
     "metadata": {},
     "output_type": "execute_result"
    },
    {
     "name": "stdout",
     "output_type": "stream",
     "text": [
      "/DA_WORKSPACE/GLOBAL_WS/ria/International Regulator/25-MAS/other/SG_329.pdf \n",
      " ../shared_data/thanatcc/RIA_Input/Clean_International_Regulator/25-MAS/other/sg_329.pdf\n",
      "274\n"
     ]
    },
    {
     "data": {
      "text/plain": [
       "'../shared_data/thanatcc/RIA_Input/Clean_International_Regulator/25-MAS/other/sg_103.pdf'"
      ]
     },
     "execution_count": 161,
     "metadata": {},
     "output_type": "execute_result"
    },
    {
     "name": "stdout",
     "output_type": "stream",
     "text": [
      "/DA_WORKSPACE/GLOBAL_WS/ria/International Regulator/25-MAS/other/SG_103.pdf \n",
      " ../shared_data/thanatcc/RIA_Input/Clean_International_Regulator/25-MAS/other/sg_103.pdf\n",
      "275\n"
     ]
    },
    {
     "data": {
      "text/plain": [
       "'../shared_data/thanatcc/RIA_Input/Clean_International_Regulator/25-MAS/other/sg_83.pdf'"
      ]
     },
     "execution_count": 161,
     "metadata": {},
     "output_type": "execute_result"
    },
    {
     "name": "stdout",
     "output_type": "stream",
     "text": [
      "/DA_WORKSPACE/GLOBAL_WS/ria/International Regulator/25-MAS/other/SG_83.pdf \n",
      " ../shared_data/thanatcc/RIA_Input/Clean_International_Regulator/25-MAS/other/sg_83.pdf\n",
      "276\n"
     ]
    },
    {
     "data": {
      "text/plain": [
       "'../shared_data/thanatcc/RIA_Input/Clean_International_Regulator/25-MAS/other/sg_75.pdf'"
      ]
     },
     "execution_count": 161,
     "metadata": {},
     "output_type": "execute_result"
    },
    {
     "name": "stdout",
     "output_type": "stream",
     "text": [
      "/DA_WORKSPACE/GLOBAL_WS/ria/International Regulator/25-MAS/other/SG_75.pdf \n",
      " ../shared_data/thanatcc/RIA_Input/Clean_International_Regulator/25-MAS/other/sg_75.pdf\n",
      "277\n"
     ]
    },
    {
     "data": {
      "text/plain": [
       "'../shared_data/thanatcc/RIA_Input/Clean_International_Regulator/25-MAS/other/sg_69.pdf'"
      ]
     },
     "execution_count": 161,
     "metadata": {},
     "output_type": "execute_result"
    },
    {
     "name": "stdout",
     "output_type": "stream",
     "text": [
      "/DA_WORKSPACE/GLOBAL_WS/ria/International Regulator/25-MAS/other/SG_69.pdf \n",
      " ../shared_data/thanatcc/RIA_Input/Clean_International_Regulator/25-MAS/other/sg_69.pdf\n",
      "278\n"
     ]
    },
    {
     "data": {
      "text/plain": [
       "'../shared_data/thanatcc/RIA_Input/Clean_International_Regulator/25-MAS/other/sg_263.pdf'"
      ]
     },
     "execution_count": 161,
     "metadata": {},
     "output_type": "execute_result"
    },
    {
     "name": "stdout",
     "output_type": "stream",
     "text": [
      "/DA_WORKSPACE/GLOBAL_WS/ria/International Regulator/25-MAS/other/SG_263.pdf \n",
      " ../shared_data/thanatcc/RIA_Input/Clean_International_Regulator/25-MAS/other/sg_263.pdf\n",
      "279\n"
     ]
    },
    {
     "data": {
      "text/plain": [
       "'../shared_data/thanatcc/RIA_Input/Clean_International_Regulator/25-MAS/other/sg_317.pdf'"
      ]
     },
     "execution_count": 161,
     "metadata": {},
     "output_type": "execute_result"
    },
    {
     "name": "stdout",
     "output_type": "stream",
     "text": [
      "/DA_WORKSPACE/GLOBAL_WS/ria/International Regulator/25-MAS/other/SG_317.pdf \n",
      " ../shared_data/thanatcc/RIA_Input/Clean_International_Regulator/25-MAS/other/sg_317.pdf\n",
      "280\n"
     ]
    },
    {
     "data": {
      "text/plain": [
       "'../shared_data/thanatcc/RIA_Input/Clean_International_Regulator/25-MAS/other/sg_214.pdf'"
      ]
     },
     "execution_count": 161,
     "metadata": {},
     "output_type": "execute_result"
    },
    {
     "name": "stdout",
     "output_type": "stream",
     "text": [
      "/DA_WORKSPACE/GLOBAL_WS/ria/International Regulator/25-MAS/other/SG_214.pdf \n",
      " ../shared_data/thanatcc/RIA_Input/Clean_International_Regulator/25-MAS/other/sg_214.pdf\n",
      "281\n"
     ]
    },
    {
     "data": {
      "text/plain": [
       "'../shared_data/thanatcc/RIA_Input/Clean_International_Regulator/25-MAS/other/sg_65.pdf'"
      ]
     },
     "execution_count": 161,
     "metadata": {},
     "output_type": "execute_result"
    },
    {
     "name": "stdout",
     "output_type": "stream",
     "text": [
      "/DA_WORKSPACE/GLOBAL_WS/ria/International Regulator/25-MAS/other/SG_65.pdf \n",
      " ../shared_data/thanatcc/RIA_Input/Clean_International_Regulator/25-MAS/other/sg_65.pdf\n",
      "282\n"
     ]
    },
    {
     "data": {
      "text/plain": [
       "'../shared_data/thanatcc/RIA_Input/Clean_International_Regulator/25-MAS/other/sg_100.pdf'"
      ]
     },
     "execution_count": 161,
     "metadata": {},
     "output_type": "execute_result"
    },
    {
     "name": "stdout",
     "output_type": "stream",
     "text": [
      "/DA_WORKSPACE/GLOBAL_WS/ria/International Regulator/25-MAS/other/SG_100.pdf \n",
      " ../shared_data/thanatcc/RIA_Input/Clean_International_Regulator/25-MAS/other/sg_100.pdf\n",
      "283\n"
     ]
    },
    {
     "data": {
      "text/plain": [
       "'../shared_data/thanatcc/RIA_Input/Clean_International_Regulator/25-MAS/other/sg_226.pdf'"
      ]
     },
     "execution_count": 161,
     "metadata": {},
     "output_type": "execute_result"
    },
    {
     "name": "stdout",
     "output_type": "stream",
     "text": [
      "/DA_WORKSPACE/GLOBAL_WS/ria/International Regulator/25-MAS/other/SG_226.pdf \n",
      " ../shared_data/thanatcc/RIA_Input/Clean_International_Regulator/25-MAS/other/sg_226.pdf\n",
      "284\n"
     ]
    },
    {
     "data": {
      "text/plain": [
       "'../shared_data/thanatcc/RIA_Input/Clean_International_Regulator/25-MAS/other/sg_3.pdf'"
      ]
     },
     "execution_count": 161,
     "metadata": {},
     "output_type": "execute_result"
    },
    {
     "name": "stdout",
     "output_type": "stream",
     "text": [
      "/DA_WORKSPACE/GLOBAL_WS/ria/International Regulator/25-MAS/other/SG_3.pdf \n",
      " ../shared_data/thanatcc/RIA_Input/Clean_International_Regulator/25-MAS/other/sg_3.pdf\n",
      "285\n"
     ]
    },
    {
     "data": {
      "text/plain": [
       "'../shared_data/thanatcc/RIA_Input/Clean_International_Regulator/25-MAS/other/sg_294.pdf'"
      ]
     },
     "execution_count": 161,
     "metadata": {},
     "output_type": "execute_result"
    },
    {
     "name": "stdout",
     "output_type": "stream",
     "text": [
      "/DA_WORKSPACE/GLOBAL_WS/ria/International Regulator/25-MAS/other/SG_294.pdf \n",
      " ../shared_data/thanatcc/RIA_Input/Clean_International_Regulator/25-MAS/other/sg_294.pdf\n",
      "286\n"
     ]
    },
    {
     "data": {
      "text/plain": [
       "'../shared_data/thanatcc/RIA_Input/Clean_International_Regulator/25-MAS/other/sg_243.pdf'"
      ]
     },
     "execution_count": 161,
     "metadata": {},
     "output_type": "execute_result"
    },
    {
     "name": "stdout",
     "output_type": "stream",
     "text": [
      "/DA_WORKSPACE/GLOBAL_WS/ria/International Regulator/25-MAS/other/SG_243.pdf \n",
      " ../shared_data/thanatcc/RIA_Input/Clean_International_Regulator/25-MAS/other/sg_243.pdf\n",
      "287\n"
     ]
    },
    {
     "data": {
      "text/plain": [
       "'../shared_data/thanatcc/RIA_Input/Clean_International_Regulator/25-MAS/other/sg_4.pdf'"
      ]
     },
     "execution_count": 161,
     "metadata": {},
     "output_type": "execute_result"
    },
    {
     "name": "stdout",
     "output_type": "stream",
     "text": [
      "/DA_WORKSPACE/GLOBAL_WS/ria/International Regulator/25-MAS/other/SG_4.pdf \n",
      " ../shared_data/thanatcc/RIA_Input/Clean_International_Regulator/25-MAS/other/sg_4.pdf\n",
      "288\n"
     ]
    },
    {
     "data": {
      "text/plain": [
       "'../shared_data/thanatcc/RIA_Input/Clean_International_Regulator/25-MAS/other/sg_35.pdf'"
      ]
     },
     "execution_count": 161,
     "metadata": {},
     "output_type": "execute_result"
    },
    {
     "name": "stdout",
     "output_type": "stream",
     "text": [
      "/DA_WORKSPACE/GLOBAL_WS/ria/International Regulator/25-MAS/other/SG_35.pdf \n",
      " ../shared_data/thanatcc/RIA_Input/Clean_International_Regulator/25-MAS/other/sg_35.pdf\n",
      "289\n"
     ]
    },
    {
     "data": {
      "text/plain": [
       "'../shared_data/thanatcc/RIA_Input/Clean_International_Regulator/25-MAS/other/sg_247.pdf'"
      ]
     },
     "execution_count": 161,
     "metadata": {},
     "output_type": "execute_result"
    },
    {
     "name": "stdout",
     "output_type": "stream",
     "text": [
      "/DA_WORKSPACE/GLOBAL_WS/ria/International Regulator/25-MAS/other/SG_247.pdf \n",
      " ../shared_data/thanatcc/RIA_Input/Clean_International_Regulator/25-MAS/other/sg_247.pdf\n",
      "290\n"
     ]
    },
    {
     "data": {
      "text/plain": [
       "'../shared_data/thanatcc/RIA_Input/Clean_International_Regulator/25-MAS/other/sg_305.pdf'"
      ]
     },
     "execution_count": 161,
     "metadata": {},
     "output_type": "execute_result"
    },
    {
     "name": "stdout",
     "output_type": "stream",
     "text": [
      "/DA_WORKSPACE/GLOBAL_WS/ria/International Regulator/25-MAS/other/SG_305.pdf \n",
      " ../shared_data/thanatcc/RIA_Input/Clean_International_Regulator/25-MAS/other/sg_305.pdf\n",
      "291\n"
     ]
    },
    {
     "data": {
      "text/plain": [
       "'../shared_data/thanatcc/RIA_Input/Clean_International_Regulator/25-MAS/other/sg_123.pdf'"
      ]
     },
     "execution_count": 161,
     "metadata": {},
     "output_type": "execute_result"
    },
    {
     "name": "stdout",
     "output_type": "stream",
     "text": [
      "/DA_WORKSPACE/GLOBAL_WS/ria/International Regulator/25-MAS/other/SG_123.pdf \n",
      " ../shared_data/thanatcc/RIA_Input/Clean_International_Regulator/25-MAS/other/sg_123.pdf\n",
      "292\n"
     ]
    },
    {
     "data": {
      "text/plain": [
       "'../shared_data/thanatcc/RIA_Input/Clean_International_Regulator/25-MAS/other/sg_64.pdf'"
      ]
     },
     "execution_count": 161,
     "metadata": {},
     "output_type": "execute_result"
    },
    {
     "name": "stdout",
     "output_type": "stream",
     "text": [
      "/DA_WORKSPACE/GLOBAL_WS/ria/International Regulator/25-MAS/other/SG_64.pdf \n",
      " ../shared_data/thanatcc/RIA_Input/Clean_International_Regulator/25-MAS/other/sg_64.pdf\n",
      "293\n"
     ]
    },
    {
     "data": {
      "text/plain": [
       "'../shared_data/thanatcc/RIA_Input/Clean_International_Regulator/25-MAS/other/sg_55.pdf'"
      ]
     },
     "execution_count": 161,
     "metadata": {},
     "output_type": "execute_result"
    },
    {
     "name": "stdout",
     "output_type": "stream",
     "text": [
      "/DA_WORKSPACE/GLOBAL_WS/ria/International Regulator/25-MAS/other/SG_55.pdf \n",
      " ../shared_data/thanatcc/RIA_Input/Clean_International_Regulator/25-MAS/other/sg_55.pdf\n",
      "294\n"
     ]
    },
    {
     "data": {
      "text/plain": [
       "'../shared_data/thanatcc/RIA_Input/Clean_International_Regulator/25-MAS/other/sg_80.pdf'"
      ]
     },
     "execution_count": 161,
     "metadata": {},
     "output_type": "execute_result"
    },
    {
     "name": "stdout",
     "output_type": "stream",
     "text": [
      "/DA_WORKSPACE/GLOBAL_WS/ria/International Regulator/25-MAS/other/SG_80.pdf \n",
      " ../shared_data/thanatcc/RIA_Input/Clean_International_Regulator/25-MAS/other/sg_80.pdf\n",
      "295\n"
     ]
    },
    {
     "data": {
      "text/plain": [
       "'../shared_data/thanatcc/RIA_Input/Clean_International_Regulator/25-MAS/other/sg_18.pdf'"
      ]
     },
     "execution_count": 161,
     "metadata": {},
     "output_type": "execute_result"
    },
    {
     "name": "stdout",
     "output_type": "stream",
     "text": [
      "/DA_WORKSPACE/GLOBAL_WS/ria/International Regulator/25-MAS/other/SG_18.pdf \n",
      " ../shared_data/thanatcc/RIA_Input/Clean_International_Regulator/25-MAS/other/sg_18.pdf\n",
      "296\n"
     ]
    },
    {
     "data": {
      "text/plain": [
       "'../shared_data/thanatcc/RIA_Input/Clean_International_Regulator/25-MAS/other/sg_287.pdf'"
      ]
     },
     "execution_count": 161,
     "metadata": {},
     "output_type": "execute_result"
    },
    {
     "name": "stdout",
     "output_type": "stream",
     "text": [
      "/DA_WORKSPACE/GLOBAL_WS/ria/International Regulator/25-MAS/other/SG_287.pdf \n",
      " ../shared_data/thanatcc/RIA_Input/Clean_International_Regulator/25-MAS/other/sg_287.pdf\n",
      "297\n"
     ]
    },
    {
     "data": {
      "text/plain": [
       "'../shared_data/thanatcc/RIA_Input/Clean_International_Regulator/25-MAS/other/sg_6.pdf'"
      ]
     },
     "execution_count": 161,
     "metadata": {},
     "output_type": "execute_result"
    },
    {
     "name": "stdout",
     "output_type": "stream",
     "text": [
      "/DA_WORKSPACE/GLOBAL_WS/ria/International Regulator/25-MAS/other/SG_6.pdf \n",
      " ../shared_data/thanatcc/RIA_Input/Clean_International_Regulator/25-MAS/other/sg_6.pdf\n",
      "298\n"
     ]
    },
    {
     "data": {
      "text/plain": [
       "'../shared_data/thanatcc/RIA_Input/Clean_International_Regulator/25-MAS/other/sg_308.pdf'"
      ]
     },
     "execution_count": 161,
     "metadata": {},
     "output_type": "execute_result"
    },
    {
     "name": "stdout",
     "output_type": "stream",
     "text": [
      "/DA_WORKSPACE/GLOBAL_WS/ria/International Regulator/25-MAS/other/SG_308.pdf \n",
      " ../shared_data/thanatcc/RIA_Input/Clean_International_Regulator/25-MAS/other/sg_308.pdf\n",
      "299\n"
     ]
    },
    {
     "data": {
      "text/plain": [
       "'../shared_data/thanatcc/RIA_Input/Clean_International_Regulator/25-MAS/other/sg_143.pdf'"
      ]
     },
     "execution_count": 161,
     "metadata": {},
     "output_type": "execute_result"
    },
    {
     "name": "stdout",
     "output_type": "stream",
     "text": [
      "/DA_WORKSPACE/GLOBAL_WS/ria/International Regulator/25-MAS/other/SG_143.pdf \n",
      " ../shared_data/thanatcc/RIA_Input/Clean_International_Regulator/25-MAS/other/sg_143.pdf\n",
      "300\n"
     ]
    },
    {
     "data": {
      "text/plain": [
       "'../shared_data/thanatcc/RIA_Input/Clean_International_Regulator/08-ECB/finance/public-wage-and-pension-indexation-in-the-euro-area.pdf'"
      ]
     },
     "execution_count": 161,
     "metadata": {},
     "output_type": "execute_result"
    },
    {
     "name": "stdout",
     "output_type": "stream",
     "text": [
      "/DA_WORKSPACE/GLOBAL_WS/ria/International Regulator/08-ECB/finance/Public wage and pension indexation in the euro area.pdf \n",
      " ../shared_data/thanatcc/RIA_Input/Clean_International_Regulator/08-ECB/finance/public-wage-and-pension-indexation-in-the-euro-area.pdf\n",
      "301\n"
     ]
    },
    {
     "data": {
      "text/plain": [
       "'../shared_data/thanatcc/RIA_Input/Clean_International_Regulator/08-ECB/finance/liquidation-value-and-loan-pricing.pdf'"
      ]
     },
     "execution_count": 161,
     "metadata": {},
     "output_type": "execute_result"
    },
    {
     "name": "stdout",
     "output_type": "stream",
     "text": [
      "/DA_WORKSPACE/GLOBAL_WS/ria/International Regulator/08-ECB/finance/Liquidation value and loan pricing.pdf \n",
      " ../shared_data/thanatcc/RIA_Input/Clean_International_Regulator/08-ECB/finance/liquidation-value-and-loan-pricing.pdf\n",
      "302\n"
     ]
    },
    {
     "data": {
      "text/plain": [
       "'../shared_data/thanatcc/RIA_Input/Clean_International_Regulator/08-ECB/finance/a-study-on-the-eba-stress-test-results_-influence-of-bank-portfolio-and-country-level-characteristics.pdf'"
      ]
     },
     "execution_count": 161,
     "metadata": {},
     "output_type": "execute_result"
    },
    {
     "name": "stdout",
     "output_type": "stream",
     "text": [
      "/DA_WORKSPACE/GLOBAL_WS/ria/International Regulator/08-ECB/finance/A study on the EBA stress test results_ influence of bank, portfolio, and country-level characteristics.pdf \n",
      " ../shared_data/thanatcc/RIA_Input/Clean_International_Regulator/08-ECB/finance/a-study-on-the-eba-stress-test-results_-influence-of-bank-portfolio-and-country-level-characteristics.pdf\n",
      "303\n"
     ]
    },
    {
     "data": {
      "text/plain": [
       "'../shared_data/thanatcc/RIA_Input/Clean_International_Regulator/08-ECB/credit risk/the-role-of-financial-stability-in-the-ecbs-new-monetary-policy-strategy.pdf'"
      ]
     },
     "execution_count": 161,
     "metadata": {},
     "output_type": "execute_result"
    },
    {
     "name": "stdout",
     "output_type": "stream",
     "text": [
      "/DA_WORKSPACE/GLOBAL_WS/ria/International Regulator/08-ECB/credit risk/The role of financial stability in the ECB’s new monetary policy strategy.pdf \n",
      " ../shared_data/thanatcc/RIA_Input/Clean_International_Regulator/08-ECB/credit risk/the-role-of-financial-stability-in-the-ecbs-new-monetary-policy-strategy.pdf\n",
      "304\n"
     ]
    },
    {
     "data": {
      "text/plain": [
       "'../shared_data/thanatcc/RIA_Input/Clean_International_Regulator/08-ECB/credit risk/asset-encumbrance-in-euro-area-banks_-analysing-trends-drivers-and-prediction-properties-for-individual-bank-crises.pdf'"
      ]
     },
     "execution_count": 161,
     "metadata": {},
     "output_type": "execute_result"
    },
    {
     "name": "stdout",
     "output_type": "stream",
     "text": [
      "/DA_WORKSPACE/GLOBAL_WS/ria/International Regulator/08-ECB/credit risk/Asset encumbrance in euro area banks_ analysing trends, drivers and prediction properties for individual bank crises.pdf \n",
      " ../shared_data/thanatcc/RIA_Input/Clean_International_Regulator/08-ECB/credit risk/asset-encumbrance-in-euro-area-banks_-analysing-trends-drivers-and-prediction-properties-for-individual-bank-crises.pdf\n",
      "305\n"
     ]
    },
    {
     "data": {
      "text/plain": [
       "'../shared_data/thanatcc/RIA_Input/Clean_International_Regulator/08-ECB/credit risk/overview-of-central-banks-in-house-credit-assessment-systems-in-the-euro-area.pdf'"
      ]
     },
     "execution_count": 161,
     "metadata": {},
     "output_type": "execute_result"
    },
    {
     "name": "stdout",
     "output_type": "stream",
     "text": [
      "/DA_WORKSPACE/GLOBAL_WS/ria/International Regulator/08-ECB/credit risk/Overview of central banks’ in-house credit assessment systems in the euro area.pdf \n",
      " ../shared_data/thanatcc/RIA_Input/Clean_International_Regulator/08-ECB/credit risk/overview-of-central-banks-in-house-credit-assessment-systems-in-the-euro-area.pdf\n",
      "306\n"
     ]
    },
    {
     "data": {
      "text/plain": [
       "'../shared_data/thanatcc/RIA_Input/Clean_International_Regulator/08-ECB/credit risk/the-low-carbon-transition-climate-commitments-and-firm-credit-risk.pdf'"
      ]
     },
     "execution_count": 161,
     "metadata": {},
     "output_type": "execute_result"
    },
    {
     "name": "stdout",
     "output_type": "stream",
     "text": [
      "/DA_WORKSPACE/GLOBAL_WS/ria/International Regulator/08-ECB/credit risk/The low-carbon transition, climate commitments and firm credit risk.pdf \n",
      " ../shared_data/thanatcc/RIA_Input/Clean_International_Regulator/08-ECB/credit risk/the-low-carbon-transition-climate-commitments-and-firm-credit-risk.pdf\n",
      "307\n"
     ]
    },
    {
     "data": {
      "text/plain": [
       "'../shared_data/thanatcc/RIA_Input/Clean_International_Regulator/08-ECB/credit risk/a-study-on-the-eba-stress-test-results_-influence-of-bank-portfolio-and-country-level-characteristics.pdf'"
      ]
     },
     "execution_count": 161,
     "metadata": {},
     "output_type": "execute_result"
    },
    {
     "name": "stdout",
     "output_type": "stream",
     "text": [
      "/DA_WORKSPACE/GLOBAL_WS/ria/International Regulator/08-ECB/credit risk/A study on the EBA stress test results_ influence of bank, portfolio, and country-level characteristics.pdf \n",
      " ../shared_data/thanatcc/RIA_Input/Clean_International_Regulator/08-ECB/credit risk/a-study-on-the-eba-stress-test-results_-influence-of-bank-portfolio-and-country-level-characteristics.pdf\n",
      "308\n"
     ]
    },
    {
     "data": {
      "text/plain": [
       "'../shared_data/thanatcc/RIA_Input/Clean_International_Regulator/08-ECB/digital assets/understanding-low-inflation-in-the-euro-area-from-2013-to-2019_-cyclical-and-structural-drivers.pdf'"
      ]
     },
     "execution_count": 161,
     "metadata": {},
     "output_type": "execute_result"
    },
    {
     "name": "stdout",
     "output_type": "stream",
     "text": [
      "/DA_WORKSPACE/GLOBAL_WS/ria/International Regulator/08-ECB/digital assets/Understanding low inflation in the euro area from 2013 to 2019_ cyclical and structural drivers.pdf \n",
      " ../shared_data/thanatcc/RIA_Input/Clean_International_Regulator/08-ECB/digital assets/understanding-low-inflation-in-the-euro-area-from-2013-to-2019_-cyclical-and-structural-drivers.pdf\n",
      "309\n"
     ]
    },
    {
     "data": {
      "text/plain": [
       "'../shared_data/thanatcc/RIA_Input/Clean_International_Regulator/08-ECB/digital assets/a-unified-framework-for-cbdc-design_-remuneration-collateral-haircuts-and-quantity-constraints.pdf'"
      ]
     },
     "execution_count": 161,
     "metadata": {},
     "output_type": "execute_result"
    },
    {
     "name": "stdout",
     "output_type": "stream",
     "text": [
      "/DA_WORKSPACE/GLOBAL_WS/ria/International Regulator/08-ECB/digital assets/A unified framework for CBDC design_ remuneration, collateral haircuts and quantity constraints.pdf \n",
      " ../shared_data/thanatcc/RIA_Input/Clean_International_Regulator/08-ECB/digital assets/a-unified-framework-for-cbdc-design_-remuneration-collateral-haircuts-and-quantity-constraints.pdf\n",
      "310\n"
     ]
    },
    {
     "data": {
      "text/plain": [
       "'../shared_data/thanatcc/RIA_Input/Clean_International_Regulator/08-ECB/digital assets/the-long-term-effects-of-the-pandemic_-insights-from-a-survey-of-leading-companies.pdf'"
      ]
     },
     "execution_count": 161,
     "metadata": {},
     "output_type": "execute_result"
    },
    {
     "name": "stdout",
     "output_type": "stream",
     "text": [
      "/DA_WORKSPACE/GLOBAL_WS/ria/International Regulator/08-ECB/digital assets/The long-term effects of the pandemic_ insights from a survey of leading companies.pdf \n",
      " ../shared_data/thanatcc/RIA_Input/Clean_International_Regulator/08-ECB/digital assets/the-long-term-effects-of-the-pandemic_-insights-from-a-survey-of-leading-companies.pdf\n",
      "311\n"
     ]
    },
    {
     "data": {
      "text/plain": [
       "'../shared_data/thanatcc/RIA_Input/Clean_International_Regulator/08-ECB/digital assets/central-bank-digital-currency_-functional-scope-pricing-and-controls.pdf'"
      ]
     },
     "execution_count": 161,
     "metadata": {},
     "output_type": "execute_result"
    },
    {
     "name": "stdout",
     "output_type": "stream",
     "text": [
      "/DA_WORKSPACE/GLOBAL_WS/ria/International Regulator/08-ECB/digital assets/Central Bank Digital Currency_ functional scope, pricing and controls.pdf \n",
      " ../shared_data/thanatcc/RIA_Input/Clean_International_Regulator/08-ECB/digital assets/central-bank-digital-currency_-functional-scope-pricing-and-controls.pdf\n",
      "312\n"
     ]
    },
    {
     "data": {
      "text/plain": [
       "'../shared_data/thanatcc/RIA_Input/Clean_International_Regulator/08-ECB/digital assets/the-digital-economy-and-the-euro-area.pdf'"
      ]
     },
     "execution_count": 161,
     "metadata": {},
     "output_type": "execute_result"
    },
    {
     "name": "stdout",
     "output_type": "stream",
     "text": [
      "/DA_WORKSPACE/GLOBAL_WS/ria/International Regulator/08-ECB/digital assets/The digital economy and the euro area.pdf \n",
      " ../shared_data/thanatcc/RIA_Input/Clean_International_Regulator/08-ECB/digital assets/the-digital-economy-and-the-euro-area.pdf\n",
      "313\n"
     ]
    },
    {
     "data": {
      "text/plain": [
       "'../shared_data/thanatcc/RIA_Input/Clean_International_Regulator/08-ECB/products/the-impact-of-the-euro-on-trade_-two-decades-into-monetary-union.pdf'"
      ]
     },
     "execution_count": 161,
     "metadata": {},
     "output_type": "execute_result"
    },
    {
     "name": "stdout",
     "output_type": "stream",
     "text": [
      "/DA_WORKSPACE/GLOBAL_WS/ria/International Regulator/08-ECB/products/The impact of the euro on trade_ two decades into monetary union.pdf \n",
      " ../shared_data/thanatcc/RIA_Input/Clean_International_Regulator/08-ECB/products/the-impact-of-the-euro-on-trade_-two-decades-into-monetary-union.pdf\n",
      "314\n"
     ]
    },
    {
     "data": {
      "text/plain": [
       "'../shared_data/thanatcc/RIA_Input/Clean_International_Regulator/08-ECB/products/the-structural-impact-of-the-shift-from-defined-benefits-to-defined-contributions.pdf'"
      ]
     },
     "execution_count": 161,
     "metadata": {},
     "output_type": "execute_result"
    },
    {
     "name": "stdout",
     "output_type": "stream",
     "text": [
      "/DA_WORKSPACE/GLOBAL_WS/ria/International Regulator/08-ECB/products/The structural impact of the shift from defined benefits to defined contributions.pdf \n",
      " ../shared_data/thanatcc/RIA_Input/Clean_International_Regulator/08-ECB/products/the-structural-impact-of-the-shift-from-defined-benefits-to-defined-contributions.pdf\n",
      "315\n"
     ]
    },
    {
     "data": {
      "text/plain": [
       "'../shared_data/thanatcc/RIA_Input/Clean_International_Regulator/08-ECB/products/measuring-price-selection-in-microdata_-its-not-there.pdf'"
      ]
     },
     "execution_count": 161,
     "metadata": {},
     "output_type": "execute_result"
    },
    {
     "name": "stdout",
     "output_type": "stream",
     "text": [
      "/DA_WORKSPACE/GLOBAL_WS/ria/International Regulator/08-ECB/products/Measuring price selection in microdata_ it’s not there.pdf \n",
      " ../shared_data/thanatcc/RIA_Input/Clean_International_Regulator/08-ECB/products/measuring-price-selection-in-microdata_-its-not-there.pdf\n",
      "316\n"
     ]
    },
    {
     "data": {
      "text/plain": [
       "'../shared_data/thanatcc/RIA_Input/Clean_International_Regulator/08-ECB/products/estimating-the-elasticity-of-consumer-prices-to-the-exchange-rate_-an-accounting-approach.pdf'"
      ]
     },
     "execution_count": 161,
     "metadata": {},
     "output_type": "execute_result"
    },
    {
     "name": "stdout",
     "output_type": "stream",
     "text": [
      "/DA_WORKSPACE/GLOBAL_WS/ria/International Regulator/08-ECB/products/Estimating the elasticity of consumer prices to the exchange rate_ an accounting approach.pdf \n",
      " ../shared_data/thanatcc/RIA_Input/Clean_International_Regulator/08-ECB/products/estimating-the-elasticity-of-consumer-prices-to-the-exchange-rate_-an-accounting-approach.pdf\n",
      "317\n"
     ]
    },
    {
     "data": {
      "text/plain": [
       "'../shared_data/thanatcc/RIA_Input/Clean_International_Regulator/08-ECB/products/recent-developments-in-pipeline-pressures-for-non-energy-industrial-goods-inflation-in-the-euro-area.pdf'"
      ]
     },
     "execution_count": 161,
     "metadata": {},
     "output_type": "execute_result"
    },
    {
     "name": "stdout",
     "output_type": "stream",
     "text": [
      "/DA_WORKSPACE/GLOBAL_WS/ria/International Regulator/08-ECB/products/Recent developments in pipeline pressures for non-energy industrial goods inflation in the euro area.pdf \n",
      " ../shared_data/thanatcc/RIA_Input/Clean_International_Regulator/08-ECB/products/recent-developments-in-pipeline-pressures-for-non-energy-industrial-goods-inflation-in-the-euro-area.pdf\n",
      "318\n"
     ]
    },
    {
     "data": {
      "text/plain": [
       "'../shared_data/thanatcc/RIA_Input/Clean_International_Regulator/09-PRA/interest rate/high_loan_to_income_allowance_31032022052747.pdf'"
      ]
     },
     "execution_count": 161,
     "metadata": {},
     "output_type": "execute_result"
    },
    {
     "name": "stdout",
     "output_type": "stream",
     "text": [
      "/DA_WORKSPACE/GLOBAL_WS/ria/International Regulator/09-PRA/interest rate/high_loan_to_income_allowance_31032022052747.pdf \n",
      " ../shared_data/thanatcc/RIA_Input/Clean_International_Regulator/09-PRA/interest rate/high_loan_to_income_allowance_31032022052747.pdf\n",
      "319\n"
     ]
    },
    {
     "data": {
      "text/plain": [
       "'../shared_data/thanatcc/RIA_Input/Clean_International_Regulator/09-PRA/other/crr_firms_08032022072920.pdf'"
      ]
     },
     "execution_count": 161,
     "metadata": {},
     "output_type": "execute_result"
    },
    {
     "name": "stdout",
     "output_type": "stream",
     "text": [
      "/DA_WORKSPACE/GLOBAL_WS/ria/International Regulator/09-PRA/other/crr_firms_08032022072920.pdf \n",
      " ../shared_data/thanatcc/RIA_Input/Clean_International_Regulator/09-PRA/other/crr_firms_08032022072920.pdf\n",
      "320\n"
     ]
    },
    {
     "data": {
      "text/plain": [
       "'../shared_data/thanatcc/RIA_Input/Clean_International_Regulator/09-PRA/other/non-crr_firms_08032022073218.pdf'"
      ]
     },
     "execution_count": 161,
     "metadata": {},
     "output_type": "execute_result"
    },
    {
     "name": "stdout",
     "output_type": "stream",
     "text": [
      "/DA_WORKSPACE/GLOBAL_WS/ria/International Regulator/09-PRA/other/non-crr_firms_08032022073218.pdf \n",
      " ../shared_data/thanatcc/RIA_Input/Clean_International_Regulator/09-PRA/other/non-crr_firms_08032022073218.pdf\n",
      "321\n"
     ]
    },
    {
     "data": {
      "text/plain": [
       "'../shared_data/thanatcc/RIA_Input/Clean_International_Regulator/03-BCBS/consumer/the-cost-of-steering-in-financial-markets_-evidence-from-the-mortgage-market.pdf'"
      ]
     },
     "execution_count": 161,
     "metadata": {},
     "output_type": "execute_result"
    },
    {
     "name": "stdout",
     "output_type": "stream",
     "text": [
      "/DA_WORKSPACE/GLOBAL_WS/ria/International Regulator/03-BCBS/consumer/The cost of steering in financial markets_ evidence from the mortgage market.pdf \n",
      " ../shared_data/thanatcc/RIA_Input/Clean_International_Regulator/03-BCBS/consumer/the-cost-of-steering-in-financial-markets_-evidence-from-the-mortgage-market.pdf\n",
      "322\n"
     ]
    },
    {
     "data": {
      "text/plain": [
       "'../shared_data/thanatcc/RIA_Input/Clean_International_Regulator/03-BCBS/digital assets/d519.pdf'"
      ]
     },
     "execution_count": 161,
     "metadata": {},
     "output_type": "execute_result"
    },
    {
     "name": "stdout",
     "output_type": "stream",
     "text": [
      "/DA_WORKSPACE/GLOBAL_WS/ria/International Regulator/03-BCBS/digital assets/d519.pdf \n",
      " ../shared_data/thanatcc/RIA_Input/Clean_International_Regulator/03-BCBS/digital assets/d519.pdf\n",
      "323\n"
     ]
    },
    {
     "data": {
      "text/plain": [
       "'../shared_data/thanatcc/RIA_Input/Clean_International_Regulator/03-BCBS/risk/big-data-and-machine-learning-in-central-banking.pdf'"
      ]
     },
     "execution_count": 161,
     "metadata": {},
     "output_type": "execute_result"
    },
    {
     "name": "stdout",
     "output_type": "stream",
     "text": [
      "/DA_WORKSPACE/GLOBAL_WS/ria/International Regulator/03-BCBS/risk/Big data and machine learning in central banking.pdf \n",
      " ../shared_data/thanatcc/RIA_Input/Clean_International_Regulator/03-BCBS/risk/big-data-and-machine-learning-in-central-banking.pdf\n",
      "324\n"
     ]
    },
    {
     "data": {
      "text/plain": [
       "'../shared_data/thanatcc/RIA_Input/Clean_International_Regulator/03-BCBS/risk/the-role-of-household-debt-heterogeneity-on-consumption_-evidence-from-japanese-household-data.pdf'"
      ]
     },
     "execution_count": 161,
     "metadata": {},
     "output_type": "execute_result"
    },
    {
     "name": "stdout",
     "output_type": "stream",
     "text": [
      "/DA_WORKSPACE/GLOBAL_WS/ria/International Regulator/03-BCBS/risk/The role of household debt heterogeneity on consumption_ Evidence from Japanese household data.pdf \n",
      " ../shared_data/thanatcc/RIA_Input/Clean_International_Regulator/03-BCBS/risk/the-role-of-household-debt-heterogeneity-on-consumption_-evidence-from-japanese-household-data.pdf\n",
      "325\n"
     ]
    },
    {
     "data": {
      "text/plain": [
       "'../shared_data/thanatcc/RIA_Input/Clean_International_Regulator/03-BCBS/risk/when-uncertainty-decouples-expected-and-unexpected-losses.pdf'"
      ]
     },
     "execution_count": 161,
     "metadata": {},
     "output_type": "execute_result"
    },
    {
     "name": "stdout",
     "output_type": "stream",
     "text": [
      "/DA_WORKSPACE/GLOBAL_WS/ria/International Regulator/03-BCBS/risk/When uncertainty decouples expected and unexpected losses.pdf \n",
      " ../shared_data/thanatcc/RIA_Input/Clean_International_Regulator/03-BCBS/risk/when-uncertainty-decouples-expected-and-unexpected-losses.pdf\n",
      "326\n"
     ]
    },
    {
     "data": {
      "text/plain": [
       "'../shared_data/thanatcc/RIA_Input/Clean_International_Regulator/03-BCBS/risk/private-equity-buyouts-and-firm-exports_-evidence-from-uk-firms.pdf'"
      ]
     },
     "execution_count": 161,
     "metadata": {},
     "output_type": "execute_result"
    },
    {
     "name": "stdout",
     "output_type": "stream",
     "text": [
      "/DA_WORKSPACE/GLOBAL_WS/ria/International Regulator/03-BCBS/risk/Private equity buyouts and firm exports_ evidence from UK firms.pdf \n",
      " ../shared_data/thanatcc/RIA_Input/Clean_International_Regulator/03-BCBS/risk/private-equity-buyouts-and-firm-exports_-evidence-from-uk-firms.pdf\n",
      "327\n"
     ]
    },
    {
     "data": {
      "text/plain": [
       "'../shared_data/thanatcc/RIA_Input/Clean_International_Regulator/03-BCBS/risk/ripple-effects-of-monetary-policy.pdf'"
      ]
     },
     "execution_count": 161,
     "metadata": {},
     "output_type": "execute_result"
    },
    {
     "name": "stdout",
     "output_type": "stream",
     "text": [
      "/DA_WORKSPACE/GLOBAL_WS/ria/International Regulator/03-BCBS/risk/Ripple effects of monetary policy.pdf \n",
      " ../shared_data/thanatcc/RIA_Input/Clean_International_Regulator/03-BCBS/risk/ripple-effects-of-monetary-policy.pdf\n",
      "328\n"
     ]
    },
    {
     "data": {
      "text/plain": [
       "'../shared_data/thanatcc/RIA_Input/Clean_International_Regulator/03-BCBS/credit/assessing-the-fiscal-implications-of-banking-crises.pdf'"
      ]
     },
     "execution_count": 161,
     "metadata": {},
     "output_type": "execute_result"
    },
    {
     "name": "stdout",
     "output_type": "stream",
     "text": [
      "/DA_WORKSPACE/GLOBAL_WS/ria/International Regulator/03-BCBS/credit/Assessing the fiscal implications of banking crises.pdf \n",
      " ../shared_data/thanatcc/RIA_Input/Clean_International_Regulator/03-BCBS/credit/assessing-the-fiscal-implications-of-banking-crises.pdf\n",
      "329\n"
     ]
    },
    {
     "data": {
      "text/plain": [
       "'../shared_data/thanatcc/RIA_Input/Clean_International_Regulator/03-BCBS/credit/original-sin-redux_-a-model-based-evaluation.pdf'"
      ]
     },
     "execution_count": 161,
     "metadata": {},
     "output_type": "execute_result"
    },
    {
     "name": "stdout",
     "output_type": "stream",
     "text": [
      "/DA_WORKSPACE/GLOBAL_WS/ria/International Regulator/03-BCBS/credit/Original sin redux_ a model-based evaluation.pdf \n",
      " ../shared_data/thanatcc/RIA_Input/Clean_International_Regulator/03-BCBS/credit/original-sin-redux_-a-model-based-evaluation.pdf\n",
      "330\n"
     ]
    },
    {
     "data": {
      "text/plain": [
       "'../shared_data/thanatcc/RIA_Input/Clean_International_Regulator/03-BCBS/credit/zombies-on-the-brink_-evidence-from-japan-on-the-reversal-of-monetary-policy-effectiveness.pdf'"
      ]
     },
     "execution_count": 161,
     "metadata": {},
     "output_type": "execute_result"
    },
    {
     "name": "stdout",
     "output_type": "stream",
     "text": [
      "/DA_WORKSPACE/GLOBAL_WS/ria/International Regulator/03-BCBS/credit/Zombies on the brink_ Evidence from Japan on the reversal of monetary policy effectiveness.pdf \n",
      " ../shared_data/thanatcc/RIA_Input/Clean_International_Regulator/03-BCBS/credit/zombies-on-the-brink_-evidence-from-japan-on-the-reversal-of-monetary-policy-effectiveness.pdf\n",
      "331\n"
     ]
    },
    {
     "data": {
      "text/plain": [
       "'../shared_data/thanatcc/RIA_Input/Clean_International_Regulator/03-BCBS/credit/big-techs-in-finance_-on-the-new-nexus-between-data-privacy-and-competition.pdf'"
      ]
     },
     "execution_count": 161,
     "metadata": {},
     "output_type": "execute_result"
    },
    {
     "name": "stdout",
     "output_type": "stream",
     "text": [
      "/DA_WORKSPACE/GLOBAL_WS/ria/International Regulator/03-BCBS/credit/Big techs in finance_ on the new nexus between data privacy and competition.pdf \n",
      " ../shared_data/thanatcc/RIA_Input/Clean_International_Regulator/03-BCBS/credit/big-techs-in-finance_-on-the-new-nexus-between-data-privacy-and-competition.pdf\n",
      "332\n"
     ]
    },
    {
     "data": {
      "text/plain": [
       "'../shared_data/thanatcc/RIA_Input/Clean_International_Regulator/03-BCBS/credit/dollar-invoicing-global-value-chains-and-the-business-cycle-dynamics-of-international-trade.pdf'"
      ]
     },
     "execution_count": 161,
     "metadata": {},
     "output_type": "execute_result"
    },
    {
     "name": "stdout",
     "output_type": "stream",
     "text": [
      "/DA_WORKSPACE/GLOBAL_WS/ria/International Regulator/03-BCBS/credit/Dollar invoicing, global value chains, and the business cycle dynamics of international trade.pdf \n",
      " ../shared_data/thanatcc/RIA_Input/Clean_International_Regulator/03-BCBS/credit/dollar-invoicing-global-value-chains-and-the-business-cycle-dynamics-of-international-trade.pdf\n",
      "333\n"
     ]
    },
    {
     "data": {
      "text/plain": [
       "'../shared_data/thanatcc/RIA_Input/Clean_International_Regulator/03-BCBS/credit/back-to-the-future_-intellectual-challenges-for-monetary-policy.pdf'"
      ]
     },
     "execution_count": 161,
     "metadata": {},
     "output_type": "execute_result"
    },
    {
     "name": "stdout",
     "output_type": "stream",
     "text": [
      "/DA_WORKSPACE/GLOBAL_WS/ria/International Regulator/03-BCBS/credit/Back to the future_ intellectual challenges for monetary policy.pdf \n",
      " ../shared_data/thanatcc/RIA_Input/Clean_International_Regulator/03-BCBS/credit/back-to-the-future_-intellectual-challenges-for-monetary-policy.pdf\n",
      "334\n"
     ]
    },
    {
     "data": {
      "text/plain": [
       "'../shared_data/thanatcc/RIA_Input/Clean_International_Regulator/03-BCBS/credit/the-treasury-market-in-spring-2020-and-the-response-of-the-federal-reserve.pdf'"
      ]
     },
     "execution_count": 161,
     "metadata": {},
     "output_type": "execute_result"
    },
    {
     "name": "stdout",
     "output_type": "stream",
     "text": [
      "/DA_WORKSPACE/GLOBAL_WS/ria/International Regulator/03-BCBS/credit/The Treasury market in spring 2020 and the response of the Federal Reserve.pdf \n",
      " ../shared_data/thanatcc/RIA_Input/Clean_International_Regulator/03-BCBS/credit/the-treasury-market-in-spring-2020-and-the-response-of-the-federal-reserve.pdf\n",
      "335\n"
     ]
    },
    {
     "data": {
      "text/plain": [
       "'../shared_data/thanatcc/RIA_Input/Clean_International_Regulator/03-BCBS/credit/international-spillovers-of-forward-guidance-shocks.pdf'"
      ]
     },
     "execution_count": 161,
     "metadata": {},
     "output_type": "execute_result"
    },
    {
     "name": "stdout",
     "output_type": "stream",
     "text": [
      "/DA_WORKSPACE/GLOBAL_WS/ria/International Regulator/03-BCBS/credit/International spillovers of forward guidance shocks.pdf \n",
      " ../shared_data/thanatcc/RIA_Input/Clean_International_Regulator/03-BCBS/credit/international-spillovers-of-forward-guidance-shocks.pdf\n",
      "336\n"
     ]
    },
    {
     "data": {
      "text/plain": [
       "'../shared_data/thanatcc/RIA_Input/Clean_International_Regulator/03-BCBS/credit/central-bank-digital-currencies-cbdcs-in-latin-america-and-the-caribbean.pdf'"
      ]
     },
     "execution_count": 161,
     "metadata": {},
     "output_type": "execute_result"
    },
    {
     "name": "stdout",
     "output_type": "stream",
     "text": [
      "/DA_WORKSPACE/GLOBAL_WS/ria/International Regulator/03-BCBS/credit/Central bank digital currencies (CBDCs) in Latin America and the Caribbean.pdf \n",
      " ../shared_data/thanatcc/RIA_Input/Clean_International_Regulator/03-BCBS/credit/central-bank-digital-currencies-cbdcs-in-latin-america-and-the-caribbean.pdf\n",
      "337\n"
     ]
    },
    {
     "data": {
      "text/plain": [
       "'../shared_data/thanatcc/RIA_Input/Clean_International_Regulator/03-BCBS/credit/platform-based-business-models-and-financial-inclusion.pdf'"
      ]
     },
     "execution_count": 161,
     "metadata": {},
     "output_type": "execute_result"
    },
    {
     "name": "stdout",
     "output_type": "stream",
     "text": [
      "/DA_WORKSPACE/GLOBAL_WS/ria/International Regulator/03-BCBS/credit/Platform-based business models and financial inclusion.pdf \n",
      " ../shared_data/thanatcc/RIA_Input/Clean_International_Regulator/03-BCBS/credit/platform-based-business-models-and-financial-inclusion.pdf\n",
      "338\n"
     ]
    },
    {
     "data": {
      "text/plain": [
       "'../shared_data/thanatcc/RIA_Input/Clean_International_Regulator/17-APRA/digital asset/crypto-assets-risk-management-expectations-and-policy-roadmap.pdf'"
      ]
     },
     "execution_count": 161,
     "metadata": {},
     "output_type": "execute_result"
    },
    {
     "name": "stdout",
     "output_type": "stream",
     "text": [
      "/DA_WORKSPACE/GLOBAL_WS/ria/International Regulator/17-APRA/digital asset/Crypto-assets - Risk management expectations and policy roadmap.pdf \n",
      " ../shared_data/thanatcc/RIA_Input/Clean_International_Regulator/17-APRA/digital asset/crypto-assets-risk-management-expectations-and-policy-roadmap.pdf\n",
      "339\n"
     ]
    },
    {
     "data": {
      "text/plain": [
       "'../shared_data/thanatcc/RIA_Input/Clean_International_Regulator/17-APRA/credit risk/apg-220-credit-risk-management.pdf'"
      ]
     },
     "execution_count": 161,
     "metadata": {},
     "output_type": "execute_result"
    },
    {
     "name": "stdout",
     "output_type": "stream",
     "text": [
      "/DA_WORKSPACE/GLOBAL_WS/ria/International Regulator/17-APRA/credit risk/APG 220 Credit Risk Management.pdf \n",
      " ../shared_data/thanatcc/RIA_Input/Clean_International_Regulator/17-APRA/credit risk/apg-220-credit-risk-management.pdf\n",
      "340\n"
     ]
    },
    {
     "data": {
      "text/plain": [
       "'../shared_data/thanatcc/RIA_Input/Clean_International_Regulator/17-APRA/credit risk/apg-113-internal-ratings-based-approach-to-credit-risk.pdf'"
      ]
     },
     "execution_count": 161,
     "metadata": {},
     "output_type": "execute_result"
    },
    {
     "name": "stdout",
     "output_type": "stream",
     "text": [
      "/DA_WORKSPACE/GLOBAL_WS/ria/International Regulator/17-APRA/credit risk/APG 113 Internal Ratings-based Approach to Credit Risk.pdf \n",
      " ../shared_data/thanatcc/RIA_Input/Clean_International_Regulator/17-APRA/credit risk/apg-113-internal-ratings-based-approach-to-credit-risk.pdf\n",
      "341\n"
     ]
    },
    {
     "data": {
      "text/plain": [
       "'../shared_data/thanatcc/RIA_Input/Clean_International_Regulator/17-APRA/credit risk/apg-223-residential-mortgage-lending.pdf'"
      ]
     },
     "execution_count": 161,
     "metadata": {},
     "output_type": "execute_result"
    },
    {
     "name": "stdout",
     "output_type": "stream",
     "text": [
      "/DA_WORKSPACE/GLOBAL_WS/ria/International Regulator/17-APRA/credit risk/APG 223 Residential Mortgage Lending.pdf \n",
      " ../shared_data/thanatcc/RIA_Input/Clean_International_Regulator/17-APRA/credit risk/apg-223-residential-mortgage-lending.pdf\n",
      "342\n"
     ]
    },
    {
     "data": {
      "text/plain": [
       "'../shared_data/thanatcc/RIA_Input/Clean_International_Regulator/17-APRA/credit risk/apg-112-standardised-approach-to-credit-risk.pdf'"
      ]
     },
     "execution_count": 161,
     "metadata": {},
     "output_type": "execute_result"
    },
    {
     "name": "stdout",
     "output_type": "stream",
     "text": [
      "/DA_WORKSPACE/GLOBAL_WS/ria/International Regulator/17-APRA/credit risk/APG 112 Standardised Approach to Credit Risk.pdf \n",
      " ../shared_data/thanatcc/RIA_Input/Clean_International_Regulator/17-APRA/credit risk/apg-112-standardised-approach-to-credit-risk.pdf\n",
      "343\n"
     ]
    },
    {
     "data": {
      "text/plain": [
       "'../shared_data/thanatcc/RIA_Input/Clean_International_Regulator/17-APRA/other/apg-210-liquidity.pdf'"
      ]
     },
     "execution_count": 161,
     "metadata": {},
     "output_type": "execute_result"
    },
    {
     "name": "stdout",
     "output_type": "stream",
     "text": [
      "/DA_WORKSPACE/GLOBAL_WS/ria/International Regulator/17-APRA/other/APG 210 Liquidity.pdf \n",
      " ../shared_data/thanatcc/RIA_Input/Clean_International_Regulator/17-APRA/other/apg-210-liquidity.pdf\n",
      "344\n"
     ]
    },
    {
     "data": {
      "text/plain": [
       "'../shared_data/thanatcc/RIA_Input/Clean_International_Regulator/17-APRA/other/cpg-235-managing-data-risk.pdf'"
      ]
     },
     "execution_count": 161,
     "metadata": {},
     "output_type": "execute_result"
    },
    {
     "name": "stdout",
     "output_type": "stream",
     "text": [
      "/DA_WORKSPACE/GLOBAL_WS/ria/International Regulator/17-APRA/other/CPG 235 Managing Data Risk.pdf \n",
      " ../shared_data/thanatcc/RIA_Input/Clean_International_Regulator/17-APRA/other/cpg-235-managing-data-risk.pdf\n",
      "345\n"
     ]
    },
    {
     "data": {
      "text/plain": [
       "'../shared_data/thanatcc/RIA_Input/Clean_International_Regulator/17-APRA/other/cpg-234-information-security.pdf'"
      ]
     },
     "execution_count": 161,
     "metadata": {},
     "output_type": "execute_result"
    },
    {
     "name": "stdout",
     "output_type": "stream",
     "text": [
      "/DA_WORKSPACE/GLOBAL_WS/ria/International Regulator/17-APRA/other/CPG 234 Information Security.pdf \n",
      " ../shared_data/thanatcc/RIA_Input/Clean_International_Regulator/17-APRA/other/cpg-234-information-security.pdf\n",
      "346\n"
     ]
    },
    {
     "data": {
      "text/plain": [
       "'../shared_data/thanatcc/RIA_Input/Clean_International_Regulator/17-APRA/other/apg-116-market-risk.pdf'"
      ]
     },
     "execution_count": 161,
     "metadata": {},
     "output_type": "execute_result"
    },
    {
     "name": "stdout",
     "output_type": "stream",
     "text": [
      "/DA_WORKSPACE/GLOBAL_WS/ria/International Regulator/17-APRA/other/APG 116 Market RIsk.pdf \n",
      " ../shared_data/thanatcc/RIA_Input/Clean_International_Regulator/17-APRA/other/apg-116-market-risk.pdf\n",
      "347\n"
     ]
    },
    {
     "data": {
      "text/plain": [
       "'../shared_data/thanatcc/RIA_Input/Clean_International_Regulator/17-APRA/other/cpg-233-pandemic-planning.pdf'"
      ]
     },
     "execution_count": 161,
     "metadata": {},
     "output_type": "execute_result"
    },
    {
     "name": "stdout",
     "output_type": "stream",
     "text": [
      "/DA_WORKSPACE/GLOBAL_WS/ria/International Regulator/17-APRA/other/CPG 233 Pandemic Planning.pdf \n",
      " ../shared_data/thanatcc/RIA_Input/Clean_International_Regulator/17-APRA/other/cpg-233-pandemic-planning.pdf\n",
      "348\n"
     ]
    },
    {
     "data": {
      "text/plain": [
       "'../shared_data/thanatcc/RIA_Input/Clean_International_Regulator/17-APRA/other/aps-120-funds-management-and-securitisation.pdf'"
      ]
     },
     "execution_count": 161,
     "metadata": {},
     "output_type": "execute_result"
    },
    {
     "name": "stdout",
     "output_type": "stream",
     "text": [
      "/DA_WORKSPACE/GLOBAL_WS/ria/International Regulator/17-APRA/other/APS 120 Funds Management and Securitisation.pdf \n",
      " ../shared_data/thanatcc/RIA_Input/Clean_International_Regulator/17-APRA/other/aps-120-funds-management-and-securitisation.pdf\n",
      "349\n"
     ]
    },
    {
     "data": {
      "text/plain": [
       "'../shared_data/thanatcc/RIA_Input/Clean_International_Regulator/17-APRA/other/cpg-229-climate-change-financial-risks.pdf'"
      ]
     },
     "execution_count": 161,
     "metadata": {},
     "output_type": "execute_result"
    },
    {
     "name": "stdout",
     "output_type": "stream",
     "text": [
      "/DA_WORKSPACE/GLOBAL_WS/ria/International Regulator/17-APRA/other/CPG 229 Climate Change Financial Risks.pdf \n",
      " ../shared_data/thanatcc/RIA_Input/Clean_International_Regulator/17-APRA/other/cpg-229-climate-change-financial-risks.pdf\n",
      "350\n"
     ]
    },
    {
     "data": {
      "text/plain": [
       "'../shared_data/thanatcc/RIA_Input/Clean_International_Regulator/17-APRA/other/apg-110-capital-buffers.pdf'"
      ]
     },
     "execution_count": 161,
     "metadata": {},
     "output_type": "execute_result"
    },
    {
     "name": "stdout",
     "output_type": "stream",
     "text": [
      "/DA_WORKSPACE/GLOBAL_WS/ria/International Regulator/17-APRA/other/APG 110 Capital Buffers.pdf \n",
      " ../shared_data/thanatcc/RIA_Input/Clean_International_Regulator/17-APRA/other/apg-110-capital-buffers.pdf\n",
      "351\n"
     ]
    },
    {
     "data": {
      "text/plain": [
       "'../shared_data/thanatcc/RIA_Input/Clean_International_Regulator/17-APRA/other/apg-114-standardised-approach-to-operational-risk.pdf'"
      ]
     },
     "execution_count": 161,
     "metadata": {},
     "output_type": "execute_result"
    },
    {
     "name": "stdout",
     "output_type": "stream",
     "text": [
      "/DA_WORKSPACE/GLOBAL_WS/ria/International Regulator/17-APRA/other/APG 114 Standardised Approach to Operational Risk.pdf \n",
      " ../shared_data/thanatcc/RIA_Input/Clean_International_Regulator/17-APRA/other/apg-114-standardised-approach-to-operational-risk.pdf\n",
      "352\n"
     ]
    },
    {
     "data": {
      "text/plain": [
       "'../shared_data/thanatcc/RIA_Input/Clean_International_Regulator/17-APRA/other/apg-223-apg-223-residential-mortgage-lending.pdf'"
      ]
     },
     "execution_count": 161,
     "metadata": {},
     "output_type": "execute_result"
    },
    {
     "name": "stdout",
     "output_type": "stream",
     "text": [
      "/DA_WORKSPACE/GLOBAL_WS/ria/International Regulator/17-APRA/other/APG 223 APG 223 Residential Mortgage Lending.pdf \n",
      " ../shared_data/thanatcc/RIA_Input/Clean_International_Regulator/17-APRA/other/apg-223-apg-223-residential-mortgage-lending.pdf\n",
      "353\n"
     ]
    },
    {
     "data": {
      "text/plain": [
       "'../shared_data/thanatcc/RIA_Input/Clean_International_Regulator/17-APRA/other/apg-120-securitisation.pdf'"
      ]
     },
     "execution_count": 161,
     "metadata": {},
     "output_type": "execute_result"
    },
    {
     "name": "stdout",
     "output_type": "stream",
     "text": [
      "/DA_WORKSPACE/GLOBAL_WS/ria/International Regulator/17-APRA/other/APG 120 Securitisation.pdf \n",
      " ../shared_data/thanatcc/RIA_Input/Clean_International_Regulator/17-APRA/other/apg-120-securitisation.pdf\n",
      "354\n"
     ]
    },
    {
     "data": {
      "text/plain": [
       "'../shared_data/thanatcc/RIA_Input/Clean_International_Regulator/17-APRA/other/crf-520-instruction-guide-rf-5200-responsible-persons-under-cps-520-fit-and-proper.pdf'"
      ]
     },
     "execution_count": 161,
     "metadata": {},
     "output_type": "execute_result"
    },
    {
     "name": "stdout",
     "output_type": "stream",
     "text": [
      "/DA_WORKSPACE/GLOBAL_WS/ria/International Regulator/17-APRA/other/CRF 520 Instruction guide RF 520.0 Responsible persons under CPS 520 Fit and Proper.pdf \n",
      " ../shared_data/thanatcc/RIA_Input/Clean_International_Regulator/17-APRA/other/crf-520-instruction-guide-rf-5200-responsible-persons-under-cps-520-fit-and-proper.pdf\n",
      "355\n"
     ]
    },
    {
     "data": {
      "text/plain": [
       "'../shared_data/thanatcc/RIA_Input/Clean_International_Regulator/17-APRA/other/cpg-110-internal-capital-adequacy-assessment-process-and-supervisory-review.pdf'"
      ]
     },
     "execution_count": 161,
     "metadata": {},
     "output_type": "execute_result"
    },
    {
     "name": "stdout",
     "output_type": "stream",
     "text": [
      "/DA_WORKSPACE/GLOBAL_WS/ria/International Regulator/17-APRA/other/CPG 110 Internal Capital Adequacy Assessment Process and Supervisory Review.pdf \n",
      " ../shared_data/thanatcc/RIA_Input/Clean_International_Regulator/17-APRA/other/cpg-110-internal-capital-adequacy-assessment-process-and-supervisory-review.pdf\n",
      "356\n"
     ]
    },
    {
     "data": {
      "text/plain": [
       "'../shared_data/thanatcc/RIA_Input/Clean_International_Regulator/17-APRA/other/cpg-511-remuneration.pdf'"
      ]
     },
     "execution_count": 161,
     "metadata": {},
     "output_type": "execute_result"
    },
    {
     "name": "stdout",
     "output_type": "stream",
     "text": [
      "/DA_WORKSPACE/GLOBAL_WS/ria/International Regulator/17-APRA/other/CPG 511 Remuneration.pdf \n",
      " ../shared_data/thanatcc/RIA_Input/Clean_International_Regulator/17-APRA/other/cpg-511-remuneration.pdf\n",
      "357\n"
     ]
    },
    {
     "data": {
      "text/plain": [
       "'../shared_data/thanatcc/RIA_Input/Clean_International_Regulator/17-APRA/other/apg-117-interest-rate-risk-in-the-banking-book.pdf'"
      ]
     },
     "execution_count": 161,
     "metadata": {},
     "output_type": "execute_result"
    },
    {
     "name": "stdout",
     "output_type": "stream",
     "text": [
      "/DA_WORKSPACE/GLOBAL_WS/ria/International Regulator/17-APRA/other/APG 117 Interest Rate Risk in the Banking Book.pdf \n",
      " ../shared_data/thanatcc/RIA_Input/Clean_International_Regulator/17-APRA/other/apg-117-interest-rate-risk-in-the-banking-book.pdf\n",
      "358\n"
     ]
    },
    {
     "data": {
      "text/plain": [
       "'../shared_data/thanatcc/RIA_Input/Clean_International_Regulator/17-APRA/other/apg-115-advanced-measurement-approaches-to-operational-risk.pdf'"
      ]
     },
     "execution_count": 161,
     "metadata": {},
     "output_type": "execute_result"
    },
    {
     "name": "stdout",
     "output_type": "stream",
     "text": [
      "/DA_WORKSPACE/GLOBAL_WS/ria/International Regulator/17-APRA/other/APG 115 Advanced Measurement Approaches to Operational Risk.pdf \n",
      " ../shared_data/thanatcc/RIA_Input/Clean_International_Regulator/17-APRA/other/apg-115-advanced-measurement-approaches-to-operational-risk.pdf\n",
      "359\n"
     ]
    },
    {
     "data": {
      "text/plain": [
       "'../shared_data/thanatcc/RIA_Input/Clean_International_Regulator/17-APRA/other/apg-520-fit-and-proper.pdf'"
      ]
     },
     "execution_count": 161,
     "metadata": {},
     "output_type": "execute_result"
    },
    {
     "name": "stdout",
     "output_type": "stream",
     "text": [
      "/DA_WORKSPACE/GLOBAL_WS/ria/International Regulator/17-APRA/other/APG 520 Fit and Proper.pdf \n",
      " ../shared_data/thanatcc/RIA_Input/Clean_International_Regulator/17-APRA/other/apg-520-fit-and-proper.pdf\n",
      "360\n"
     ]
    },
    {
     "data": {
      "text/plain": [
       "'../shared_data/thanatcc/RIA_Input/Clean_International_Regulator/17-APRA/other/3pg-221-aggregate-risk-exposures.pdf'"
      ]
     },
     "execution_count": 161,
     "metadata": {},
     "output_type": "execute_result"
    },
    {
     "name": "stdout",
     "output_type": "stream",
     "text": [
      "/DA_WORKSPACE/GLOBAL_WS/ria/International Regulator/17-APRA/other/3PG 221 Aggregate Risk Exposures.pdf \n",
      " ../shared_data/thanatcc/RIA_Input/Clean_International_Regulator/17-APRA/other/3pg-221-aggregate-risk-exposures.pdf\n",
      "361\n"
     ]
    },
    {
     "data": {
      "text/plain": [
       "'../shared_data/thanatcc/RIA_Input/Clean_International_Regulator/17-APRA/other/3pg-222-intra-group-transactions-and-exposures.pdf'"
      ]
     },
     "execution_count": 161,
     "metadata": {},
     "output_type": "execute_result"
    },
    {
     "name": "stdout",
     "output_type": "stream",
     "text": [
      "/DA_WORKSPACE/GLOBAL_WS/ria/International Regulator/17-APRA/other/3PG 222 Intra-group Transactions and Exposures.pdf \n",
      " ../shared_data/thanatcc/RIA_Input/Clean_International_Regulator/17-APRA/other/3pg-222-intra-group-transactions-and-exposures.pdf\n",
      "362\n"
     ]
    },
    {
     "data": {
      "text/plain": [
       "'../shared_data/thanatcc/RIA_Input/Clean_International_Regulator/17-APRA/other/apg-7010-abs-rba-reporting-concepts-for-the-efs-collection.pdf'"
      ]
     },
     "execution_count": 161,
     "metadata": {},
     "output_type": "execute_result"
    },
    {
     "name": "stdout",
     "output_type": "stream",
     "text": [
      "/DA_WORKSPACE/GLOBAL_WS/ria/International Regulator/17-APRA/other/APG 701.0 ABS-RBA Reporting Concepts for the EFS Collection.pdf \n",
      " ../shared_data/thanatcc/RIA_Input/Clean_International_Regulator/17-APRA/other/apg-7010-abs-rba-reporting-concepts-for-the-efs-collection.pdf\n",
      "363\n"
     ]
    },
    {
     "data": {
      "text/plain": [
       "'../shared_data/thanatcc/RIA_Input/Clean_International_Regulator/17-APRA/other/cpg-220-risk-management.pdf'"
      ]
     },
     "execution_count": 161,
     "metadata": {},
     "output_type": "execute_result"
    },
    {
     "name": "stdout",
     "output_type": "stream",
     "text": [
      "/DA_WORKSPACE/GLOBAL_WS/ria/International Regulator/17-APRA/other/CPG 220 Risk Management.pdf \n",
      " ../shared_data/thanatcc/RIA_Input/Clean_International_Regulator/17-APRA/other/cpg-220-risk-management.pdf\n",
      "364\n"
     ]
    },
    {
     "data": {
      "text/plain": [
       "'../shared_data/thanatcc/RIA_Input/Clean_International_Regulator/17-APRA/other/cpg-231-outsourcing.pdf'"
      ]
     },
     "execution_count": 161,
     "metadata": {},
     "output_type": "execute_result"
    },
    {
     "name": "stdout",
     "output_type": "stream",
     "text": [
      "/DA_WORKSPACE/GLOBAL_WS/ria/International Regulator/17-APRA/other/CPG 231 Outsourcing.pdf \n",
      " ../shared_data/thanatcc/RIA_Input/Clean_International_Regulator/17-APRA/other/cpg-231-outsourcing.pdf\n",
      "365\n"
     ]
    },
    {
     "data": {
      "text/plain": [
       "'../shared_data/thanatcc/RIA_Input/Clean_International_Regulator/04-FSB/risk based/regulatory-framework-for-haircuts-on-non-centrally-cleared-securities-financing-transactions.pdf'"
      ]
     },
     "execution_count": 161,
     "metadata": {},
     "output_type": "execute_result"
    },
    {
     "name": "stdout",
     "output_type": "stream",
     "text": [
      "/DA_WORKSPACE/GLOBAL_WS/ria/International Regulator/04-FSB/risk based/Regulatory framework for haircuts on non-centrally cleared securities financing transactions.pdf \n",
      " ../shared_data/thanatcc/RIA_Input/Clean_International_Regulator/04-FSB/risk based/regulatory-framework-for-haircuts-on-non-centrally-cleared-securities-financing-transactions.pdf\n",
      "366\n"
     ]
    },
    {
     "data": {
      "text/plain": [
       "'../shared_data/thanatcc/RIA_Input/Clean_International_Regulator/04-FSB/risk based/non-cash-collateral-re-use_-measure-and-metrics.pdf'"
      ]
     },
     "execution_count": 161,
     "metadata": {},
     "output_type": "execute_result"
    },
    {
     "name": "stdout",
     "output_type": "stream",
     "text": [
      "/DA_WORKSPACE/GLOBAL_WS/ria/International Regulator/04-FSB/risk based/Non-cash Collateral Re-Use_ Measure and Metrics.pdf \n",
      " ../shared_data/thanatcc/RIA_Input/Clean_International_Regulator/04-FSB/risk based/non-cash-collateral-re-use_-measure-and-metrics.pdf\n",
      "367\n"
     ]
    },
    {
     "data": {
      "text/plain": [
       "'../shared_data/thanatcc/RIA_Input/Clean_International_Regulator/04-FSB/risk based/recommendations-for-national-supervisors_-reporting-on-the-use-of-compensation-tools-to-address-potential-misconduct-risk.pdf'"
      ]
     },
     "execution_count": 161,
     "metadata": {},
     "output_type": "execute_result"
    },
    {
     "name": "stdout",
     "output_type": "stream",
     "text": [
      "/DA_WORKSPACE/GLOBAL_WS/ria/International Regulator/04-FSB/risk based/Recommendations for national supervisors_ Reporting on the use of compensation tools to address potential misconduct risk.pdf \n",
      " ../shared_data/thanatcc/RIA_Input/Clean_International_Regulator/04-FSB/risk based/recommendations-for-national-supervisors_-reporting-on-the-use-of-compensation-tools-to-address-potential-misconduct-risk.pdf\n",
      "368\n"
     ]
    },
    {
     "data": {
      "text/plain": [
       "'../shared_data/thanatcc/RIA_Input/Clean_International_Regulator/04-FSB/risk based/policy-proposals-to-enhance-money-market-fund-resilience_-final-report.pdf'"
      ]
     },
     "execution_count": 161,
     "metadata": {},
     "output_type": "execute_result"
    },
    {
     "name": "stdout",
     "output_type": "stream",
     "text": [
      "/DA_WORKSPACE/GLOBAL_WS/ria/International Regulator/04-FSB/risk based/Policy proposals to enhance money market fund resilience_ Final report.pdf \n",
      " ../shared_data/thanatcc/RIA_Input/Clean_International_Regulator/04-FSB/risk based/policy-proposals-to-enhance-money-market-fund-resilience_-final-report.pdf\n",
      "369\n"
     ]
    },
    {
     "data": {
      "text/plain": [
       "'../shared_data/thanatcc/RIA_Input/Clean_International_Regulator/04-FSB/risk based/policy-recommendations-to-address-structural-vulnerabilities-from-asset-management-activities.pdf'"
      ]
     },
     "execution_count": 161,
     "metadata": {},
     "output_type": "execute_result"
    },
    {
     "name": "stdout",
     "output_type": "stream",
     "text": [
      "/DA_WORKSPACE/GLOBAL_WS/ria/International Regulator/04-FSB/risk based/Policy Recommendations to Address Structural Vulnerabilities from Asset Management Activities.pdf \n",
      " ../shared_data/thanatcc/RIA_Input/Clean_International_Regulator/04-FSB/risk based/policy-recommendations-to-address-structural-vulnerabilities-from-asset-management-activities.pdf\n",
      "370\n"
     ]
    },
    {
     "data": {
      "text/plain": [
       "'../shared_data/thanatcc/RIA_Input/Clean_International_Regulator/04-FSB/credit risk/edtf-principles-and-recommendations-for-enhancing-the-risk-disclosures-of-banks.pdf'"
      ]
     },
     "execution_count": 161,
     "metadata": {},
     "output_type": "execute_result"
    },
    {
     "name": "stdout",
     "output_type": "stream",
     "text": [
      "/DA_WORKSPACE/GLOBAL_WS/ria/International Regulator/04-FSB/credit risk/EDTF Principles and Recommendations for Enhancing the Risk Disclosures of Banks.pdf \n",
      " ../shared_data/thanatcc/RIA_Input/Clean_International_Regulator/04-FSB/credit risk/edtf-principles-and-recommendations-for-enhancing-the-risk-disclosures-of-banks.pdf\n",
      "371\n"
     ]
    },
    {
     "data": {
      "text/plain": [
       "'../shared_data/thanatcc/RIA_Input/Clean_International_Regulator/04-FSB/credit risk/policy-proposals-to-enhance-money-market-fund-resilience_-final-report.pdf'"
      ]
     },
     "execution_count": 161,
     "metadata": {},
     "output_type": "execute_result"
    },
    {
     "name": "stdout",
     "output_type": "stream",
     "text": [
      "/DA_WORKSPACE/GLOBAL_WS/ria/International Regulator/04-FSB/credit risk/Policy proposals to enhance money market fund resilience_ Final report.pdf \n",
      " ../shared_data/thanatcc/RIA_Input/Clean_International_Regulator/04-FSB/credit risk/policy-proposals-to-enhance-money-market-fund-resilience_-final-report.pdf\n",
      "372\n"
     ]
    },
    {
     "data": {
      "text/plain": [
       "'../shared_data/thanatcc/RIA_Input/Clean_International_Regulator/04-FSB/credit risk/roadmap-for-reducing-reliance-on-cra-ratings.pdf'"
      ]
     },
     "execution_count": 161,
     "metadata": {},
     "output_type": "execute_result"
    },
    {
     "name": "stdout",
     "output_type": "stream",
     "text": [
      "/DA_WORKSPACE/GLOBAL_WS/ria/International Regulator/04-FSB/credit risk/Roadmap for Reducing Reliance on CRA Ratings.pdf \n",
      " ../shared_data/thanatcc/RIA_Input/Clean_International_Regulator/04-FSB/credit risk/roadmap-for-reducing-reliance-on-cra-ratings.pdf\n",
      "373\n"
     ]
    },
    {
     "data": {
      "text/plain": [
       "'../shared_data/thanatcc/RIA_Input/Clean_International_Regulator/04-FSB/credit risk/an-overview-of-policy-recommendations-for-shadow-banking.pdf'"
      ]
     },
     "execution_count": 161,
     "metadata": {},
     "output_type": "execute_result"
    },
    {
     "name": "stdout",
     "output_type": "stream",
     "text": [
      "/DA_WORKSPACE/GLOBAL_WS/ria/International Regulator/04-FSB/credit risk/An Overview of Policy Recommendations for Shadow Banking.pdf \n",
      " ../shared_data/thanatcc/RIA_Input/Clean_International_Regulator/04-FSB/credit risk/an-overview-of-policy-recommendations-for-shadow-banking.pdf\n",
      "374\n"
     ]
    },
    {
     "data": {
      "text/plain": [
       "'../shared_data/thanatcc/RIA_Input/Clean_International_Regulator/04-FSB/digital assets/crypto-assets_-report-to-the-g20-on-the-work-of-the-fsb-and-standard-setting-bodies.pdf'"
      ]
     },
     "execution_count": 161,
     "metadata": {},
     "output_type": "execute_result"
    },
    {
     "name": "stdout",
     "output_type": "stream",
     "text": [
      "/DA_WORKSPACE/GLOBAL_WS/ria/International Regulator/04-FSB/digital assets/Crypto-assets_ Report to the G20 on the work of the FSB and standard-setting bodies.pdf \n",
      " ../shared_data/thanatcc/RIA_Input/Clean_International_Regulator/04-FSB/digital assets/crypto-assets_-report-to-the-g20-on-the-work-of-the-fsb-and-standard-setting-bodies.pdf\n",
      "375\n"
     ]
    },
    {
     "data": {
      "text/plain": [
       "'../shared_data/thanatcc/RIA_Input/Clean_International_Regulator/04-FSB/credit/principles-on-bail-in-execution.pdf'"
      ]
     },
     "execution_count": 161,
     "metadata": {},
     "output_type": "execute_result"
    },
    {
     "name": "stdout",
     "output_type": "stream",
     "text": [
      "/DA_WORKSPACE/GLOBAL_WS/ria/International Regulator/04-FSB/credit/Principles on Bail-in Execution.pdf \n",
      " ../shared_data/thanatcc/RIA_Input/Clean_International_Regulator/04-FSB/credit/principles-on-bail-in-execution.pdf\n",
      "376\n"
     ]
    },
    {
     "data": {
      "text/plain": [
       "'../shared_data/thanatcc/RIA_Input/Clean_International_Regulator/04-FSB/credit/policy-proposals-to-enhance-money-market-fund-resilience_-final-report.pdf'"
      ]
     },
     "execution_count": 161,
     "metadata": {},
     "output_type": "execute_result"
    },
    {
     "name": "stdout",
     "output_type": "stream",
     "text": [
      "/DA_WORKSPACE/GLOBAL_WS/ria/International Regulator/04-FSB/credit/Policy proposals to enhance money market fund resilience_ Final report.pdf \n",
      " ../shared_data/thanatcc/RIA_Input/Clean_International_Regulator/04-FSB/credit/policy-proposals-to-enhance-money-market-fund-resilience_-final-report.pdf\n",
      "377\n"
     ]
    },
    {
     "data": {
      "text/plain": [
       "'../shared_data/thanatcc/RIA_Input/Clean_International_Regulator/04-FSB/credit/roadmap-for-reducing-reliance-on-cra-ratings.pdf'"
      ]
     },
     "execution_count": 161,
     "metadata": {},
     "output_type": "execute_result"
    },
    {
     "name": "stdout",
     "output_type": "stream",
     "text": [
      "/DA_WORKSPACE/GLOBAL_WS/ria/International Regulator/04-FSB/credit/Roadmap for Reducing Reliance on CRA Ratings.pdf \n",
      " ../shared_data/thanatcc/RIA_Input/Clean_International_Regulator/04-FSB/credit/roadmap-for-reducing-reliance-on-cra-ratings.pdf\n",
      "378\n"
     ]
    },
    {
     "data": {
      "text/plain": [
       "'../shared_data/thanatcc/RIA_Input/Clean_International_Regulator/04-FSB/credit/guidance-on-identification-of-critical-functions-and-critical-shared-services.pdf'"
      ]
     },
     "execution_count": 161,
     "metadata": {},
     "output_type": "execute_result"
    },
    {
     "name": "stdout",
     "output_type": "stream",
     "text": [
      "/DA_WORKSPACE/GLOBAL_WS/ria/International Regulator/04-FSB/credit/Guidance on Identification of Critical Functions and Critical Shared Services.pdf \n",
      " ../shared_data/thanatcc/RIA_Input/Clean_International_Regulator/04-FSB/credit/guidance-on-identification-of-critical-functions-and-critical-shared-services.pdf\n",
      "379\n"
     ]
    },
    {
     "data": {
      "text/plain": [
       "'../shared_data/thanatcc/RIA_Input/Clean_International_Regulator/04-FSB/credit/an-overview-of-policy-recommendations-for-shadow-banking.pdf'"
      ]
     },
     "execution_count": 161,
     "metadata": {},
     "output_type": "execute_result"
    },
    {
     "name": "stdout",
     "output_type": "stream",
     "text": [
      "/DA_WORKSPACE/GLOBAL_WS/ria/International Regulator/04-FSB/credit/An Overview of Policy Recommendations for Shadow Banking.pdf \n",
      " ../shared_data/thanatcc/RIA_Input/Clean_International_Regulator/04-FSB/credit/an-overview-of-policy-recommendations-for-shadow-banking.pdf\n",
      "380\n"
     ]
    },
    {
     "data": {
      "text/plain": [
       "'../shared_data/thanatcc/RIA_Input/Clean_International_Regulator/26-BNM/interest rate/20131216_b_pl_0043.pdf'"
      ]
     },
     "execution_count": 161,
     "metadata": {},
     "output_type": "execute_result"
    },
    {
     "name": "stdout",
     "output_type": "stream",
     "text": [
      "/DA_WORKSPACE/GLOBAL_WS/ria/International Regulator/26-BNM/interest rate/20131216_B_PL_0043.pdf \n",
      " ../shared_data/thanatcc/RIA_Input/Clean_International_Regulator/26-BNM/interest rate/20131216_b_pl_0043.pdf\n",
      "381\n"
     ]
    },
    {
     "data": {
      "text/plain": [
       "'../shared_data/thanatcc/RIA_Input/Clean_International_Regulator/26-BNM/interest rate/revised-reference-rate-framework-bank-negara-malaysia.pdf'"
      ]
     },
     "execution_count": 161,
     "metadata": {},
     "output_type": "execute_result"
    },
    {
     "name": "stdout",
     "output_type": "stream",
     "text": [
      "/DA_WORKSPACE/GLOBAL_WS/ria/International Regulator/26-BNM/interest rate/Revised Reference Rate Framework - Bank Negara Malaysia.pdf \n",
      " ../shared_data/thanatcc/RIA_Input/Clean_International_Regulator/26-BNM/interest rate/revised-reference-rate-framework-bank-negara-malaysia.pdf\n",
      "382\n"
     ]
    },
    {
     "data": {
      "text/plain": [
       "'../shared_data/thanatcc/RIA_Input/Clean_International_Regulator/26-BNM/interest rate/pd-credit-card.pdf'"
      ]
     },
     "execution_count": 161,
     "metadata": {},
     "output_type": "execute_result"
    },
    {
     "name": "stdout",
     "output_type": "stream",
     "text": [
      "/DA_WORKSPACE/GLOBAL_WS/ria/International Regulator/26-BNM/interest rate/PD Credit Card.pdf \n",
      " ../shared_data/thanatcc/RIA_Input/Clean_International_Regulator/26-BNM/interest rate/pd-credit-card.pdf\n",
      "383\n"
     ]
    },
    {
     "data": {
      "text/plain": [
       "'../shared_data/thanatcc/RIA_Input/Clean_International_Regulator/99-Other/interest rate/loans-and-credit-cards-_-asic-australian-securities-and-investments-commission.pdf'"
      ]
     },
     "execution_count": 161,
     "metadata": {},
     "output_type": "execute_result"
    },
    {
     "name": "stdout",
     "output_type": "stream",
     "text": [
      "/DA_WORKSPACE/GLOBAL_WS/ria/International Regulator/99-Other/interest rate/Loans and credit cards _ ASIC - Australian Securities and Investments Commission.pdf \n",
      " ../shared_data/thanatcc/RIA_Input/Clean_International_Regulator/99-Other/interest rate/loans-and-credit-cards-_-asic-australian-securities-and-investments-commission.pdf\n"
     ]
    }
   ],
   "source": [
    "import shutil\n",
    "\n",
    "clean_file_list = [each.replace('/International Regulator/', '/Clean_International_Regulator/') for each in clean_file_list]\n",
    "\n",
    "for i, clean_file_name in enumerate(clean_file_list):\n",
    "    print(i)\n",
    "    shutil.copyfile(file_list[i], clean_file_name)\n",
    "    print(file_list[i],'\\n', clean_file_name)"
   ]
  },
  {
   "cell_type": "code",
   "execution_count": 162,
   "id": "bdb9b075",
   "metadata": {},
   "outputs": [
    {
     "name": "stderr",
     "output_type": "stream",
     "text": [
      "pdftotext version 0.86.1\n",
      "Copyright 2005-2020 The Poppler Developers - http://poppler.freedesktop.org\n",
      "Copyright 1996-2011 Glyph & Cog, LLC\n",
      "INFO - backoff -  Backing off send_request(...) for 0.1s (requests.exceptions.SSLError: HTTPSConnectionPool(host='tm.hs.deepset.ai', port=443): Max retries exceeded with url: /batch/ (Caused by SSLError(SSLCertVerificationError(1, '[SSL: CERTIFICATE_VERIFY_FAILED] certificate verify failed: unable to get local issuer certificate (_ssl.c:1129)'))))\n"
     ]
    }
   ],
   "source": [
    "converter = PDFToTextConverter(remove_numeric_tables=False, valid_languages = [\"en\"])"
   ]
  },
  {
   "cell_type": "markdown",
   "id": "4ddcecc1",
   "metadata": {},
   "source": [
    "# Detect ENG Language"
   ]
  },
  {
   "cell_type": "code",
   "execution_count": 163,
   "id": "a89b6a0b",
   "metadata": {},
   "outputs": [
    {
     "name": "stdout",
     "output_type": "stream",
     "text": [
      "OK !\n"
     ]
    },
    {
     "name": "stderr",
     "output_type": "stream",
     "text": [
      "INFO - backoff -  Backing off send_request(...) for 1.1s (requests.exceptions.SSLError: HTTPSConnectionPool(host='tm.hs.deepset.ai', port=443): Max retries exceeded with url: /batch/ (Caused by SSLError(SSLCertVerificationError(1, '[SSL: CERTIFICATE_VERIFY_FAILED] certificate verify failed: unable to get local issuer certificate (_ssl.c:1129)'))))\n",
      "INFO - backoff -  Backing off send_request(...) for 2.4s (requests.exceptions.SSLError: HTTPSConnectionPool(host='tm.hs.deepset.ai', port=443): Max retries exceeded with url: /batch/ (Caused by SSLError(SSLCertVerificationError(1, '[SSL: CERTIFICATE_VERIFY_FAILED] certificate verify failed: unable to get local issuer certificate (_ssl.c:1129)'))))\n"
     ]
    }
   ],
   "source": [
    "from langdetect import detect\n",
    "\n",
    "print('OK !')"
   ]
  },
  {
   "cell_type": "code",
   "execution_count": 164,
   "id": "173163d1",
   "metadata": {},
   "outputs": [
    {
     "data": {
      "text/plain": [
       "384"
      ]
     },
     "execution_count": 164,
     "metadata": {},
     "output_type": "execute_result"
    },
    {
     "data": {
      "text/plain": [
       "384"
      ]
     },
     "execution_count": 164,
     "metadata": {},
     "output_type": "execute_result"
    },
    {
     "name": "stderr",
     "output_type": "stream",
     "text": [
      "ERROR - backoff -  Giving up send_request(...) after 4 tries (requests.exceptions.SSLError: HTTPSConnectionPool(host='tm.hs.deepset.ai', port=443): Max retries exceeded with url: /batch/ (Caused by SSLError(SSLCertVerificationError(1, '[SSL: CERTIFICATE_VERIFY_FAILED] certificate verify failed: unable to get local issuer certificate (_ssl.c:1129)'))))\n",
      "ERROR - posthog -  error uploading: HTTPSConnectionPool(host='tm.hs.deepset.ai', port=443): Max retries exceeded with url: /batch/ (Caused by SSLError(SSLCertVerificationError(1, '[SSL: CERTIFICATE_VERIFY_FAILED] certificate verify failed: unable to get local issuer certificate (_ssl.c:1129)')))\n",
      "INFO - backoff -  Backing off send_request(...) for 0.7s (requests.exceptions.SSLError: HTTPSConnectionPool(host='tm.hs.deepset.ai', port=443): Max retries exceeded with url: /batch/ (Caused by SSLError(SSLCertVerificationError(1, '[SSL: CERTIFICATE_VERIFY_FAILED] certificate verify failed: unable to get local issuer certificate (_ssl.c:1129)'))))\n",
      "INFO - backoff -  Backing off send_request(...) for 1.4s (requests.exceptions.SSLError: HTTPSConnectionPool(host='tm.hs.deepset.ai', port=443): Max retries exceeded with url: /batch/ (Caused by SSLError(SSLCertVerificationError(1, '[SSL: CERTIFICATE_VERIFY_FAILED] certificate verify failed: unable to get local issuer certificate (_ssl.c:1129)'))))\n"
     ]
    }
   ],
   "source": [
    "root = '../shared_data/thanatcc/RIA_Input/Clean_International_Regulator'\n",
    "\n",
    "clean_file_list = []\n",
    "for path, subdirs, files in os.walk(root):\n",
    "    for name in files:\n",
    "#         print(os.path.join(path, name))\n",
    "        clean_file_list.append(os.path.join(path, name))\n",
    "    \n",
    "len(clean_file_list)\n",
    "# file_list\n",
    "\n",
    "clean_file_list = [each for each in clean_file_list if '.pdf' in each or '.PDF' in each]\n",
    "\n",
    "len(clean_file_list)"
   ]
  },
  {
   "cell_type": "code",
   "execution_count": 165,
   "id": "1e18d20c",
   "metadata": {
    "scrolled": true
   },
   "outputs": [
    {
     "name": "stderr",
     "output_type": "stream",
     "text": [
      "  0%|                                                                                                                                                                                   | 0/384 [00:00<?, ?it/s]INFO - backoff -  Backing off send_request(...) for 3.9s (requests.exceptions.SSLError: HTTPSConnectionPool(host='tm.hs.deepset.ai', port=443): Max retries exceeded with url: /batch/ (Caused by SSLError(SSLCertVerificationError(1, '[SSL: CERTIFICATE_VERIFY_FAILED] certificate verify failed: unable to get local issuer certificate (_ssl.c:1129)'))))\n",
      "WARNING - haystack.nodes.preprocessor.preprocessor -  One or more sentence found with word count higher than the split length.\n",
      "  1%|█▎                                                                                                                                                                         | 3/384 [00:04<07:36,  1.20s/it]Syntax Warning: Invalid Font Weight\n",
      "Syntax Warning: Invalid Font Weight\n",
      "Syntax Warning: Invalid Font Weight\n",
      "Syntax Warning: Invalid Font Weight\n",
      "Syntax Warning: Invalid Font Weight\n",
      "Syntax Warning: Invalid Font Weight\n",
      "Syntax Warning: Invalid Font Weight\n",
      "Syntax Warning: Invalid Font Weight\n",
      "Syntax Warning: Invalid Font Weight\n",
      "Syntax Warning: Invalid Font Weight\n",
      "Syntax Warning: Invalid Font Weight\n",
      "Syntax Warning: Invalid Font Weight\n",
      "Syntax Warning: Invalid Font Weight\n",
      "Syntax Warning: Invalid Font Weight\n",
      "Syntax Warning: Invalid Font Weight\n",
      "Syntax Warning: Invalid Font Weight\n",
      "Syntax Warning: Invalid Font Weight\n",
      "Syntax Warning: Invalid Font Weight\n",
      "Syntax Warning: Invalid Font Weight\n",
      "Syntax Warning: Invalid Font Weight\n",
      "Syntax Warning: Invalid Font Weight\n",
      "Syntax Warning: Invalid Font Weight\n",
      "Syntax Warning: Invalid Font Weight\n",
      "Syntax Warning: Invalid Font Weight\n",
      "Syntax Warning: Invalid Font Weight\n",
      "Syntax Warning: Invalid Font Weight\n",
      "Syntax Warning: Invalid Font Weight\n",
      "Syntax Warning: Invalid Font Weight\n",
      "Syntax Warning: Invalid Font Weight\n",
      "Syntax Warning: Invalid Font Weight\n",
      "Syntax Warning: Invalid Font Weight\n",
      "  1%|██▏                                                                                                                                                                        | 5/384 [00:04<04:04,  1.55it/s]Syntax Warning: Invalid Font Weight\n",
      "Syntax Warning: Invalid Font Weight\n",
      "Syntax Warning: Invalid Font Weight\n",
      "Syntax Warning: Invalid Font Weight\n",
      "Syntax Warning: Invalid Font Weight\n",
      "Syntax Warning: Invalid Font Weight\n",
      "Syntax Warning: Invalid Font Weight\n",
      "Syntax Warning: Invalid Font Weight\n",
      "Syntax Warning: Invalid Font Weight\n",
      "Syntax Warning: Invalid Font Weight\n",
      "Syntax Warning: Invalid Font Weight\n",
      "Syntax Warning: Invalid Font Weight\n",
      "Syntax Warning: Invalid Font Weight\n",
      "Syntax Warning: Invalid Font Weight\n",
      "Syntax Warning: Invalid Font Weight\n",
      "Syntax Warning: Invalid Font Weight\n",
      "Syntax Warning: Invalid Font Weight\n",
      "Syntax Warning: Invalid Font Weight\n",
      "Syntax Warning: Invalid Font Weight\n",
      "Syntax Warning: Invalid Font Weight\n",
      "Syntax Warning: Invalid Font Weight\n",
      "Syntax Warning: Invalid Font Weight\n",
      "Syntax Warning: Invalid Font Weight\n",
      "Syntax Warning: Invalid Font Weight\n",
      "Syntax Warning: Invalid Font Weight\n",
      "Syntax Warning: Invalid Font Weight\n",
      "Syntax Warning: Invalid Font Weight\n",
      "Syntax Warning: Invalid Font Weight\n",
      "Syntax Warning: Invalid Font Weight\n",
      "Syntax Warning: Invalid Font Weight\n",
      "Syntax Warning: Invalid Font Weight\n",
      "Syntax Warning: Invalid Font Weight\n",
      "Syntax Warning: Invalid Font Weight\n",
      "Syntax Warning: Invalid Font Weight\n",
      "Syntax Warning: Invalid Font Weight\n",
      "Syntax Warning: Invalid Font Weight\n",
      "Syntax Warning: Invalid Font Weight\n",
      "Syntax Warning: Invalid Font Weight\n",
      "Syntax Warning: Invalid Font Weight\n",
      "Syntax Warning: Invalid Font Weight\n",
      "Syntax Warning: Invalid Font Weight\n",
      "Syntax Warning: Invalid Font Weight\n",
      "Syntax Warning: Invalid Font Weight\n",
      "Syntax Warning: Invalid Font Weight\n",
      "Syntax Warning: Invalid Font Weight\n",
      "Syntax Warning: Invalid Font Weight\n",
      "Syntax Warning: Invalid Font Weight\n",
      "Syntax Warning: Invalid Font Weight\n",
      "Syntax Warning: Invalid Font Weight\n",
      "Syntax Warning: Invalid Font Weight\n",
      "Syntax Warning: Invalid Font Weight\n",
      "Syntax Warning: Invalid Font Weight\n",
      "Syntax Warning: Invalid Font Weight\n",
      "Syntax Warning: Invalid Font Weight\n",
      "Syntax Warning: Invalid Font Weight\n",
      "Syntax Warning: Invalid Font Weight\n",
      "Syntax Warning: Invalid Font Weight\n",
      "Syntax Warning: Invalid Font Weight\n",
      "Syntax Warning: Invalid Font Weight\n",
      "Syntax Warning: Invalid Font Weight\n",
      "Syntax Warning: Invalid Font Weight\n",
      "Syntax Warning: Invalid Font Weight\n",
      "Syntax Warning: Invalid Font Weight\n",
      "Syntax Warning: Invalid Font Weight\n",
      "  2%|████                                                                                                                                                                       | 9/384 [00:06<02:51,  2.18it/s]Syntax Warning: Invalid Font Weight\n",
      "Syntax Warning: Invalid Font Weight\n",
      "Syntax Warning: Invalid Font Weight\n",
      "Syntax Warning: Invalid Font Weight\n",
      "Syntax Warning: Invalid Font Weight\n",
      "Syntax Warning: Invalid Font Weight\n",
      "Syntax Warning: Invalid Font Weight\n",
      "Syntax Warning: Invalid Font Weight\n",
      "Syntax Warning: Invalid Font Weight\n",
      "Syntax Warning: Invalid Font Weight\n",
      "Syntax Warning: Invalid Font Weight\n",
      "Syntax Warning: Invalid Font Weight\n",
      "Syntax Warning: Invalid Font Weight\n",
      "Syntax Warning: Invalid Font Weight\n",
      "Syntax Warning: Invalid Font Weight\n",
      "Syntax Warning: Invalid Font Weight\n",
      "Syntax Warning: Invalid Font Weight\n",
      "Syntax Warning: Invalid Font Weight\n",
      "Syntax Warning: Invalid Font Weight\n",
      "Syntax Warning: Invalid Font Weight\n",
      "Syntax Warning: Invalid Font Weight\n",
      "Syntax Warning: Invalid Font Weight\n",
      "Syntax Warning: Invalid Font Weight\n",
      "Syntax Warning: Invalid Font Weight\n",
      "Syntax Warning: Invalid Font Weight\n",
      "Syntax Warning: Invalid Font Weight\n",
      "Syntax Warning: Invalid Font Weight\n",
      "Syntax Warning: Invalid Font Weight\n",
      "Syntax Warning: Invalid Font Weight\n",
      "Syntax Warning: Invalid Font Weight\n",
      "Syntax Warning: Invalid Font Weight\n",
      "Syntax Warning: Invalid Font Weight\n",
      "Syntax Warning: Invalid Font Weight\n",
      "Syntax Warning: Invalid Font Weight\n",
      "Syntax Warning: Invalid Font Weight\n",
      "Syntax Warning: Invalid Font Weight\n",
      "Syntax Warning: Invalid Font Weight\n",
      "Syntax Warning: Invalid Font Weight\n",
      "Syntax Warning: Invalid Font Weight\n",
      "Syntax Warning: Invalid Font Weight\n",
      "Syntax Warning: Invalid Font Weight\n",
      "Syntax Warning: Invalid Font Weight\n",
      "Syntax Warning: Invalid Font Weight\n",
      "  3%|████▍                                                                                                                                                                     | 10/384 [00:07<03:05,  2.02it/s]ERROR - backoff -  Giving up send_request(...) after 4 tries (requests.exceptions.SSLError: HTTPSConnectionPool(host='tm.hs.deepset.ai', port=443): Max retries exceeded with url: /batch/ (Caused by SSLError(SSLCertVerificationError(1, '[SSL: CERTIFICATE_VERIFY_FAILED] certificate verify failed: unable to get local issuer certificate (_ssl.c:1129)'))))\n",
      "ERROR - posthog -  error uploading: HTTPSConnectionPool(host='tm.hs.deepset.ai', port=443): Max retries exceeded with url: /batch/ (Caused by SSLError(SSLCertVerificationError(1, '[SSL: CERTIFICATE_VERIFY_FAILED] certificate verify failed: unable to get local issuer certificate (_ssl.c:1129)')))\n",
      "  3%|█████▎                                                                                                                                                                    | 12/384 [00:07<02:35,  2.39it/s]Syntax Error: Expected the default config, but wasn't able to find it, or it isn't a Dictionary\n",
      "  3%|█████▊                                                                                                                                                                    | 13/384 [00:07<01:59,  3.11it/s]Syntax Warning: Invalid Font Weight\n",
      "Syntax Warning: Invalid Font Weight\n",
      "Syntax Warning: Invalid Font Weight\n",
      "Syntax Warning: Invalid Font Weight\n",
      "Syntax Warning: Invalid Font Weight\n",
      "Syntax Warning: Invalid Font Weight\n",
      "Syntax Warning: Invalid Font Weight\n",
      "Syntax Warning: Invalid Font Weight\n",
      "Syntax Warning: Invalid Font Weight\n",
      "Syntax Warning: Invalid Font Weight\n",
      "Syntax Warning: Invalid Font Weight\n",
      "Syntax Warning: Invalid Font Weight\n",
      "Syntax Warning: Invalid Font Weight\n",
      "Syntax Warning: Invalid Font Weight\n",
      "Syntax Warning: Invalid Font Weight\n",
      "Syntax Warning: Invalid Font Weight\n",
      "Syntax Warning: Invalid Font Weight\n",
      "Syntax Warning: Invalid Font Weight\n",
      "Syntax Warning: Invalid Font Weight\n",
      "Syntax Warning: Invalid Font Weight\n",
      "Syntax Warning: Invalid Font Weight\n",
      "Syntax Warning: Invalid Font Weight\n",
      "Syntax Warning: Invalid Font Weight\n",
      "Syntax Warning: Invalid Font Weight\n",
      "Syntax Warning: Invalid Font Weight\n",
      "Syntax Warning: Invalid Font Weight\n",
      "Syntax Warning: Invalid Font Weight\n",
      "Syntax Warning: Invalid Font Weight\n",
      "Syntax Warning: Invalid Font Weight\n",
      "Syntax Warning: Invalid Font Weight\n",
      "Syntax Warning: Invalid Font Weight\n",
      "Syntax Warning: Invalid Font Weight\n",
      "  4%|██████▋                                                                                                                                                                   | 15/384 [00:08<01:55,  3.19it/s]Syntax Warning: Invalid Font Weight\n",
      "Syntax Warning: Invalid Font Weight\n",
      "Syntax Warning: Invalid Font Weight\n",
      "Syntax Warning: Invalid Font Weight\n",
      "Syntax Warning: Invalid Font Weight\n",
      "Syntax Warning: Invalid Font Weight\n",
      "Syntax Warning: Invalid Font Weight\n",
      "Syntax Warning: Invalid Font Weight\n",
      "Syntax Warning: Invalid Font Weight\n",
      "Syntax Warning: Invalid Font Weight\n",
      "Syntax Warning: Invalid Font Weight\n",
      "Syntax Warning: Invalid Font Weight\n",
      "Syntax Warning: Invalid Font Weight\n",
      "Syntax Warning: Invalid Font Weight\n",
      "Syntax Warning: Invalid Font Weight\n",
      "Syntax Warning: Invalid Font Weight\n",
      "Syntax Warning: Invalid Font Weight\n",
      "Syntax Warning: Invalid Font Weight\n",
      "Syntax Warning: Invalid Font Weight\n",
      "Syntax Warning: Invalid Font Weight\n",
      "Syntax Warning: Invalid Font Weight\n",
      "Syntax Warning: Invalid Font Weight\n",
      "Syntax Warning: Invalid Font Weight\n",
      "Syntax Warning: Invalid Font Weight\n",
      "Syntax Warning: Invalid Font Weight\n",
      "Syntax Warning: Invalid Font Weight\n",
      "Syntax Warning: Invalid Font Weight\n",
      "Syntax Warning: Invalid Font Weight\n",
      "Syntax Warning: Invalid Font Weight\n",
      "Syntax Warning: Invalid Font Weight\n",
      "Syntax Warning: Invalid Font Weight\n",
      "Syntax Warning: Invalid Font Weight\n",
      "Syntax Warning: Invalid Font Weight\n",
      "Syntax Warning: Invalid Font Weight\n",
      "  4%|███████▌                                                                                                                                                                  | 17/384 [00:09<01:55,  3.16it/s]Syntax Warning: Invalid Font Weight\n",
      "Syntax Warning: Invalid Font Weight\n",
      "Syntax Warning: Invalid Font Weight\n",
      "Syntax Warning: Invalid Font Weight\n",
      "Syntax Warning: Invalid Font Weight\n",
      "Syntax Warning: Invalid Font Weight\n",
      "Syntax Warning: Invalid Font Weight\n",
      "Syntax Warning: Invalid Font Weight\n",
      "Syntax Warning: Invalid Font Weight\n",
      "Syntax Warning: Invalid Font Weight\n",
      "Syntax Warning: Invalid Font Weight\n",
      "Syntax Warning: Invalid Font Weight\n",
      "Syntax Warning: Invalid Font Weight\n",
      "Syntax Warning: Invalid Font Weight\n",
      "Syntax Warning: Invalid Font Weight\n",
      "Syntax Warning: Invalid Font Weight\n",
      "Syntax Warning: Invalid Font Weight\n",
      "Syntax Warning: Invalid Font Weight\n",
      "Syntax Warning: Invalid Font Weight\n",
      "Syntax Warning: Invalid Font Weight\n",
      "Syntax Warning: Invalid Font Weight\n",
      "Syntax Warning: Invalid Font Weight\n",
      "Syntax Warning: Invalid Font Weight\n",
      "Syntax Warning: Invalid Font Weight\n",
      "Syntax Warning: Invalid Font Weight\n",
      "Syntax Warning: Invalid Font Weight\n",
      "Syntax Warning: Invalid Font Weight\n",
      "Syntax Warning: Invalid Font Weight\n",
      "Syntax Warning: Invalid Font Weight\n",
      "Syntax Warning: Invalid Font Weight\n",
      "Syntax Warning: Invalid Font Weight\n",
      "Syntax Warning: Invalid Font Weight\n",
      "Syntax Warning: Invalid Font Weight\n",
      "Syntax Warning: Invalid Font Weight\n",
      "Syntax Warning: Invalid Font Weight\n",
      "Syntax Warning: Invalid Font Weight\n",
      "Syntax Warning: Invalid Font Weight\n",
      "Syntax Warning: Invalid Font Weight\n",
      "Syntax Warning: Invalid Font Weight\n",
      "Syntax Warning: Invalid Font Weight\n",
      "Syntax Warning: Invalid Font Weight\n",
      "Syntax Warning: Invalid Font Weight\n",
      "Syntax Warning: Invalid Font Weight\n",
      "Syntax Warning: Invalid Font Weight\n",
      "Syntax Warning: Invalid Font Weight\n",
      "Syntax Warning: Invalid Font Weight\n",
      "Syntax Warning: Invalid Font Weight\n",
      "Syntax Warning: Invalid Font Weight\n",
      "Syntax Warning: Invalid Font Weight\n",
      "Syntax Warning: Invalid Font Weight\n",
      "Syntax Warning: Invalid Font Weight\n",
      "Syntax Warning: Invalid Font Weight\n",
      "Syntax Warning: Invalid Font Weight\n",
      "Syntax Warning: Invalid Font Weight\n",
      "Syntax Warning: Invalid Font Weight\n",
      "Syntax Warning: Invalid Font Weight\n",
      "Syntax Warning: Invalid Font Weight\n",
      "Syntax Warning: Invalid Font Weight\n",
      "Syntax Warning: Invalid Font Weight\n",
      "Syntax Warning: Invalid Font Weight\n",
      "Syntax Warning: Invalid Font Weight\n",
      "Syntax Warning: Invalid Font Weight\n",
      "Syntax Warning: Invalid Font Weight\n",
      "Syntax Warning: Invalid Font Weight\n",
      "Syntax Warning: Invalid Font Weight\n",
      "  5%|████████▊                                                                                                                                                                 | 20/384 [00:10<01:54,  3.19it/s]Syntax Warning: Invalid Font Weight\n",
      "Syntax Warning: Invalid Font Weight\n",
      "Syntax Warning: Invalid Font Weight\n",
      "Syntax Warning: Invalid Font Weight\n",
      "Syntax Warning: Invalid Font Weight\n",
      "Syntax Warning: Invalid Font Weight\n",
      "Syntax Warning: Invalid Font Weight\n",
      "Syntax Warning: Invalid Font Weight\n",
      "Syntax Warning: Invalid Font Weight\n",
      "Syntax Warning: Invalid Font Weight\n",
      "Syntax Warning: Invalid Font Weight\n",
      "Syntax Warning: Invalid Font Weight\n",
      "Syntax Warning: Invalid Font Weight\n",
      "Syntax Warning: Invalid Font Weight\n",
      "Syntax Warning: Invalid Font Weight\n",
      "Syntax Warning: Invalid Font Weight\n",
      "Syntax Warning: Invalid Font Weight\n",
      "Syntax Warning: Invalid Font Weight\n",
      "Syntax Warning: Invalid Font Weight\n",
      "Syntax Warning: Invalid Font Weight\n",
      "Syntax Warning: Invalid Font Weight\n",
      "Syntax Warning: Invalid Font Weight\n",
      "Syntax Warning: Invalid Font Weight\n",
      "Syntax Warning: Invalid Font Weight\n",
      "Syntax Warning: Invalid Font Weight\n",
      "Syntax Warning: Invalid Font Weight\n",
      "Syntax Warning: Invalid Font Weight\n",
      "Syntax Warning: Invalid Font Weight\n",
      "Syntax Warning: Invalid Font Weight\n",
      "Syntax Warning: Invalid Font Weight\n",
      "Syntax Warning: Invalid Font Weight\n",
      "  7%|███████████▌                                                                                                                                                              | 26/384 [00:11<01:25,  4.19it/s]Syntax Warning: Invalid Font Weight\n",
      "Syntax Warning: Invalid Font Weight\n",
      "Syntax Warning: Invalid Font Weight\n",
      "Syntax Warning: Invalid Font Weight\n",
      "Syntax Warning: Invalid Font Weight\n",
      "Syntax Warning: Invalid Font Weight\n",
      "Syntax Warning: Invalid Font Weight\n",
      "Syntax Warning: Invalid Font Weight\n",
      "Syntax Warning: Invalid Font Weight\n",
      "Syntax Warning: Invalid Font Weight\n",
      "Syntax Warning: Invalid Font Weight\n",
      "Syntax Warning: Invalid Font Weight\n",
      "Syntax Warning: Invalid Font Weight\n",
      "Syntax Warning: Invalid Font Weight\n",
      "Syntax Warning: Invalid Font Weight\n",
      "Syntax Warning: Invalid Font Weight\n",
      "Syntax Warning: Invalid Font Weight\n",
      "Syntax Warning: Invalid Font Weight\n",
      "Syntax Warning: Invalid Font Weight\n",
      "Syntax Warning: Invalid Font Weight\n",
      "Syntax Warning: Invalid Font Weight\n",
      "Syntax Warning: Invalid Font Weight\n",
      "Syntax Warning: Invalid Font Weight\n",
      "Syntax Warning: Invalid Font Weight\n",
      "Syntax Warning: Invalid Font Weight\n",
      "Syntax Warning: Invalid Font Weight\n",
      "Syntax Warning: Invalid Font Weight\n",
      "Syntax Warning: Invalid Font Weight\n",
      "Syntax Warning: Invalid Font Weight\n",
      "Syntax Warning: Invalid Font Weight\n",
      "Syntax Warning: Invalid Font Weight\n",
      "Syntax Warning: Invalid Font Weight\n",
      "Syntax Warning: Invalid Font Weight\n",
      "Syntax Warning: Invalid Font Weight\n",
      "Syntax Warning: Invalid Font Weight\n",
      "Syntax Warning: Invalid Font Weight\n",
      "Syntax Warning: Invalid Font Weight\n",
      "Syntax Warning: Invalid Font Weight\n",
      "Syntax Warning: Invalid Font Weight\n",
      "Syntax Warning: Invalid Font Weight\n",
      "Syntax Warning: Invalid Font Weight\n",
      "Syntax Warning: Invalid Font Weight\n",
      "Syntax Warning: Invalid Font Weight\n",
      "Syntax Warning: Invalid Font Weight\n",
      "Syntax Warning: Invalid Font Weight\n",
      "Syntax Warning: Invalid Font Weight\n",
      "Syntax Warning: Invalid Font Weight\n",
      "Syntax Warning: Invalid Font Weight\n",
      "Syntax Warning: Invalid Font Weight\n",
      "Syntax Warning: Invalid Font Weight\n",
      "Syntax Warning: Invalid Font Weight\n",
      "Syntax Warning: Invalid Font Weight\n",
      "Syntax Warning: Invalid Font Weight\n",
      "Syntax Warning: Invalid Font Weight\n",
      "Syntax Warning: Invalid Font Weight\n",
      "Syntax Warning: Invalid Font Weight\n",
      "Syntax Warning: Invalid Font Weight\n",
      "Syntax Warning: Invalid Font Weight\n",
      "Syntax Warning: Invalid Font Weight\n",
      "Syntax Warning: Invalid Font Weight\n",
      "Syntax Warning: Invalid Font Weight\n",
      "Syntax Warning: Invalid Font Weight\n",
      "Syntax Warning: Invalid Font Weight\n",
      "Syntax Warning: Invalid Font Weight\n",
      "Syntax Warning: Invalid Font Weight\n",
      "Syntax Warning: Invalid Font Weight\n",
      "Syntax Warning: Invalid Font Weight\n",
      "Syntax Warning: Invalid Font Weight\n",
      "Syntax Warning: Invalid Font Weight\n",
      "Syntax Warning: Invalid Font Weight\n",
      "Syntax Warning: Invalid Font Weight\n",
      "Syntax Warning: Invalid Font Weight\n",
      "Syntax Warning: Invalid Font Weight\n",
      "Syntax Warning: Invalid Font Weight\n",
      "Syntax Warning: Invalid Font Weight\n",
      "Syntax Warning: Invalid Font Weight\n",
      "Syntax Warning: Invalid Font Weight\n",
      "Syntax Warning: Invalid Font Weight\n",
      "Syntax Warning: Invalid Font Weight\n",
      "Syntax Warning: Invalid Font Weight\n",
      "Syntax Warning: Invalid Font Weight\n",
      "Syntax Warning: Invalid Font Weight\n",
      "Syntax Warning: Invalid Font Weight\n",
      "Syntax Warning: Invalid Font Weight\n",
      "Syntax Warning: Invalid Font Weight\n",
      "Syntax Warning: Invalid Font Weight\n",
      "Syntax Warning: Invalid Font Weight\n",
      "Syntax Warning: Invalid Font Weight\n",
      "Syntax Warning: Invalid Font Weight\n",
      "Syntax Warning: Invalid Font Weight\n",
      "Syntax Warning: Invalid Font Weight\n",
      "Syntax Warning: Invalid Font Weight\n",
      "Syntax Warning: Invalid Font Weight\n",
      "Syntax Warning: Invalid Font Weight\n",
      "Syntax Warning: Invalid Font Weight\n",
      "Syntax Warning: Invalid Font Weight\n",
      "Syntax Warning: Invalid Font Weight\n",
      "Syntax Warning: Invalid Font Weight\n",
      "Syntax Warning: Invalid Font Weight\n",
      "Syntax Warning: Invalid Font Weight\n",
      "Syntax Warning: Invalid Font Weight\n",
      "Syntax Warning: Invalid Font Weight\n",
      "Syntax Warning: Invalid Font Weight\n",
      "Syntax Warning: Invalid Font Weight\n",
      "Syntax Warning: Invalid Font Weight\n",
      "Syntax Warning: Invalid Font Weight\n",
      "Syntax Warning: Invalid Font Weight\n",
      "Syntax Warning: Invalid Font Weight\n",
      "Syntax Warning: Invalid Font Weight\n",
      "Syntax Warning: Invalid Font Weight\n",
      "Syntax Warning: Invalid Font Weight\n",
      "Syntax Warning: Invalid Font Weight\n",
      "Syntax Warning: Invalid Font Weight\n",
      "Syntax Warning: Invalid Font Weight\n",
      "Syntax Warning: Invalid Font Weight\n",
      "Syntax Warning: Invalid Font Weight\n",
      "Syntax Warning: Invalid Font Weight\n",
      "Syntax Warning: Invalid Font Weight\n",
      "Syntax Warning: Invalid Font Weight\n",
      "Syntax Warning: Invalid Font Weight\n",
      "Syntax Warning: Invalid Font Weight\n",
      "Syntax Warning: Invalid Font Weight\n",
      "Syntax Warning: Invalid Font Weight\n",
      "Syntax Warning: Invalid Font Weight\n",
      "Syntax Warning: Invalid Font Weight\n",
      "Syntax Warning: Invalid Font Weight\n",
      "Syntax Warning: Invalid Font Weight\n",
      "Syntax Warning: Invalid Font Weight\n",
      "Syntax Warning: Invalid Font Weight\n",
      "Syntax Warning: Invalid Font Weight\n",
      "Syntax Warning: Invalid Font Weight\n",
      "Syntax Warning: Invalid Font Weight\n",
      "Syntax Warning: Invalid Font Weight\n",
      "Syntax Warning: Invalid Font Weight\n",
      "Syntax Warning: Invalid Font Weight\n",
      "Syntax Warning: Invalid Font Weight\n",
      "Syntax Warning: Invalid Font Weight\n",
      "Syntax Warning: Invalid Font Weight\n",
      "Syntax Warning: Invalid Font Weight\n",
      "Syntax Warning: Invalid Font Weight\n",
      "Syntax Warning: Invalid Font Weight\n",
      "Syntax Warning: Invalid Font Weight\n",
      "Syntax Warning: Invalid Font Weight\n",
      "Syntax Warning: Invalid Font Weight\n",
      "Syntax Warning: Invalid Font Weight\n",
      "Syntax Warning: Invalid Font Weight\n",
      "Syntax Warning: Invalid Font Weight\n",
      "Syntax Warning: Invalid Font Weight\n",
      "Syntax Warning: Invalid Font Weight\n",
      "Syntax Warning: Invalid Font Weight\n",
      "Syntax Warning: Invalid Font Weight\n",
      "Syntax Warning: Invalid Font Weight\n",
      "Syntax Warning: Invalid Font Weight\n",
      "Syntax Warning: Invalid Font Weight\n",
      "Syntax Warning: Invalid Font Weight\n",
      "Syntax Warning: Invalid Font Weight\n",
      "Syntax Warning: Invalid Font Weight\n",
      "Syntax Warning: Invalid Font Weight\n",
      "Syntax Warning: Invalid Font Weight\n",
      "Syntax Warning: Invalid Font Weight\n",
      "Syntax Warning: Invalid Font Weight\n",
      "Syntax Warning: Invalid Font Weight\n",
      "Syntax Warning: Invalid Font Weight\n",
      "Syntax Warning: Invalid Font Weight\n",
      "Syntax Warning: Invalid Font Weight\n",
      "Syntax Warning: Invalid Font Weight\n",
      "Syntax Warning: Invalid Font Weight\n",
      "Syntax Warning: Invalid Font Weight\n",
      "Syntax Warning: Invalid Font Weight\n",
      "Syntax Warning: Invalid Font Weight\n",
      "Syntax Warning: Invalid Font Weight\n",
      "Syntax Warning: Invalid Font Weight\n",
      "Syntax Warning: Invalid Font Weight\n",
      "Syntax Warning: Invalid Font Weight\n",
      "Syntax Warning: Invalid Font Weight\n",
      "Syntax Warning: Invalid Font Weight\n",
      "Syntax Warning: Invalid Font Weight\n",
      "Syntax Warning: Invalid Font Weight\n",
      "Syntax Warning: Invalid Font Weight\n",
      "Syntax Warning: Invalid Font Weight\n",
      "Syntax Warning: Invalid Font Weight\n",
      "Syntax Warning: Invalid Font Weight\n",
      "Syntax Warning: Invalid Font Weight\n",
      "Syntax Warning: Invalid Font Weight\n",
      "Syntax Warning: Invalid Font Weight\n",
      "Syntax Warning: Invalid Font Weight\n",
      "Syntax Warning: Invalid Font Weight\n",
      "Syntax Warning: Invalid Font Weight\n",
      "Syntax Warning: Invalid Font Weight\n",
      "Syntax Warning: Invalid Font Weight\n",
      "Syntax Warning: Invalid Font Weight\n",
      "Syntax Warning: Invalid Font Weight\n",
      "Syntax Warning: Invalid Font Weight\n",
      "Syntax Warning: Invalid Font Weight\n",
      "Syntax Warning: Invalid Font Weight\n",
      "Syntax Warning: Invalid Font Weight\n",
      "Syntax Warning: Invalid Font Weight\n",
      "Syntax Warning: Invalid Font Weight\n",
      "Syntax Warning: Invalid Font Weight\n",
      "Syntax Warning: Invalid Font Weight\n",
      "Syntax Warning: Invalid Font Weight\n",
      "Syntax Warning: Invalid Font Weight\n",
      "Syntax Warning: Invalid Font Weight\n",
      "Syntax Warning: Invalid Font Weight\n",
      "Syntax Warning: Invalid Font Weight\n",
      "Syntax Warning: Invalid Font Weight\n",
      "Syntax Warning: Invalid Font Weight\n",
      "Syntax Warning: Invalid Font Weight\n",
      "Syntax Warning: Invalid Font Weight\n",
      "Syntax Warning: Invalid Font Weight\n",
      "Syntax Warning: Invalid Font Weight\n",
      "Syntax Warning: Invalid Font Weight\n",
      "Syntax Warning: Invalid Font Weight\n",
      "Syntax Warning: Invalid Font Weight\n",
      "Syntax Warning: Invalid Font Weight\n",
      "Syntax Warning: Invalid Font Weight\n",
      "Syntax Warning: Invalid Font Weight\n",
      "Syntax Warning: Invalid Font Weight\n",
      "Syntax Warning: Invalid Font Weight\n",
      "Syntax Warning: Invalid Font Weight\n",
      "Syntax Warning: Invalid Font Weight\n",
      "Syntax Warning: Invalid Font Weight\n",
      "Syntax Warning: Invalid Font Weight\n",
      "Syntax Warning: Invalid Font Weight\n",
      "Syntax Warning: Invalid Font Weight\n",
      "Syntax Warning: Invalid Font Weight\n",
      "Syntax Warning: Invalid Font Weight\n",
      "Syntax Warning: Invalid Font Weight\n",
      "Syntax Warning: Invalid Font Weight\n",
      "Syntax Warning: Invalid Font Weight\n",
      "Syntax Warning: Invalid Font Weight\n",
      "Syntax Warning: Invalid Font Weight\n",
      "Syntax Warning: Invalid Font Weight\n",
      "Syntax Warning: Invalid Font Weight\n",
      "Syntax Warning: Invalid Font Weight\n",
      "Syntax Warning: Invalid Font Weight\n",
      "Syntax Warning: Invalid Font Weight\n",
      "Syntax Warning: Invalid Font Weight\n",
      "Syntax Warning: Invalid Font Weight\n",
      "Syntax Warning: Invalid Font Weight\n",
      "Syntax Warning: Invalid Font Weight\n",
      "Syntax Warning: Invalid Font Weight\n",
      "Syntax Warning: Invalid Font Weight\n",
      "Syntax Warning: Invalid Font Weight\n",
      "Syntax Warning: Invalid Font Weight\n",
      "Syntax Warning: Invalid Font Weight\n",
      "Syntax Warning: Invalid Font Weight\n",
      "Syntax Warning: Invalid Font Weight\n",
      "Syntax Warning: Invalid Font Weight\n",
      "Syntax Warning: Invalid Font Weight\n",
      "Syntax Warning: Invalid Font Weight\n",
      "Syntax Warning: Invalid Font Weight\n",
      "Syntax Warning: Invalid Font Weight\n",
      "Syntax Warning: Invalid Font Weight\n",
      "Syntax Warning: Invalid Font Weight\n",
      "Syntax Warning: Invalid Font Weight\n",
      "Syntax Warning: Invalid Font Weight\n",
      "Syntax Warning: Invalid Font Weight\n",
      "Syntax Warning: Invalid Font Weight\n",
      "Syntax Warning: Invalid Font Weight\n",
      "Syntax Warning: Invalid Font Weight\n",
      "Syntax Warning: Invalid Font Weight\n",
      "Syntax Warning: Invalid Font Weight\n",
      "Syntax Warning: Invalid Font Weight\n",
      "Syntax Warning: Invalid Font Weight\n",
      "Syntax Warning: Invalid Font Weight\n",
      "Syntax Warning: Invalid Font Weight\n",
      "Syntax Warning: Invalid Font Weight\n",
      "Syntax Warning: Invalid Font Weight\n",
      "Syntax Warning: Invalid Font Weight\n",
      "Syntax Warning: Invalid Font Weight\n",
      "Syntax Warning: Invalid Font Weight\n",
      "Syntax Warning: Invalid Font Weight\n",
      "Syntax Warning: Invalid Font Weight\n",
      "Syntax Warning: Invalid Font Weight\n",
      "Syntax Warning: Invalid Font Weight\n",
      "Syntax Warning: Invalid Font Weight\n",
      "Syntax Warning: Invalid Font Weight\n",
      "Syntax Warning: Invalid Font Weight\n",
      "Syntax Warning: Invalid Font Weight\n",
      "Syntax Warning: Invalid Font Weight\n",
      "Syntax Warning: Invalid Font Weight\n",
      "Syntax Warning: Invalid Font Weight\n",
      "Syntax Warning: Invalid Font Weight\n",
      "Syntax Warning: Invalid Font Weight\n",
      "Syntax Warning: Invalid Font Weight\n",
      "Syntax Warning: Invalid Font Weight\n",
      "Syntax Warning: Invalid Font Weight\n",
      "Syntax Warning: Invalid Font Weight\n",
      "Syntax Warning: Invalid Font Weight\n",
      "Syntax Warning: Invalid Font Weight\n",
      "Syntax Warning: Invalid Font Weight\n",
      "Syntax Warning: Invalid Font Weight\n",
      "Syntax Warning: Invalid Font Weight\n",
      "Syntax Warning: Invalid Font Weight\n",
      "Syntax Warning: Invalid Font Weight\n",
      "Syntax Warning: Invalid Font Weight\n",
      "Syntax Warning: Invalid Font Weight\n",
      "  7%|███████████▉                                                                                                                                                              | 27/384 [00:13<04:18,  1.38it/s]Syntax Warning: Invalid Font Weight\n",
      "Syntax Warning: Invalid Font Weight\n",
      "Syntax Warning: Invalid Font Weight\n",
      "Syntax Warning: Invalid Font Weight\n",
      "Syntax Warning: Invalid Font Weight\n",
      "Syntax Warning: Invalid Font Weight\n",
      "Syntax Warning: Invalid Font Weight\n",
      "Syntax Warning: Invalid Font Weight\n",
      "Syntax Warning: Invalid Font Weight\n",
      "Syntax Warning: Invalid Font Weight\n",
      "Syntax Warning: Invalid Font Weight\n",
      "Syntax Warning: Invalid Font Weight\n",
      "Syntax Warning: Invalid Font Weight\n",
      "Syntax Warning: Invalid Font Weight\n",
      "Syntax Warning: Invalid Font Weight\n",
      "Syntax Warning: Invalid Font Weight\n",
      "Syntax Warning: Invalid Font Weight\n",
      "Syntax Warning: Invalid Font Weight\n",
      "Syntax Warning: Invalid Font Weight\n",
      "Syntax Warning: Invalid Font Weight\n",
      "Syntax Warning: Invalid Font Weight\n",
      "Syntax Warning: Invalid Font Weight\n",
      "Syntax Warning: Invalid Font Weight\n",
      "Syntax Warning: Invalid Font Weight\n",
      "Syntax Warning: Invalid Font Weight\n",
      "Syntax Warning: Invalid Font Weight\n",
      "Syntax Warning: Invalid Font Weight\n",
      "Syntax Warning: Invalid Font Weight\n",
      "Syntax Warning: Invalid Font Weight\n",
      "Syntax Warning: Invalid Font Weight\n",
      "Syntax Warning: Invalid Font Weight\n",
      "Syntax Warning: Invalid Font Weight\n",
      "Syntax Warning: Invalid Font Weight\n",
      "Syntax Warning: Invalid Font Weight\n",
      "Syntax Warning: Invalid Font Weight\n",
      "Syntax Warning: Invalid Font Weight\n",
      "Syntax Warning: Invalid Font Weight\n",
      "Syntax Warning: Invalid Font Weight\n",
      "Syntax Warning: Invalid Font Weight\n",
      "Syntax Warning: Invalid Font Weight\n",
      "Syntax Warning: Invalid Font Weight\n",
      "Syntax Warning: Invalid Font Weight\n",
      "Syntax Warning: Invalid Font Weight\n",
      "Syntax Warning: Invalid Font Weight\n",
      "Syntax Warning: Invalid Font Weight\n",
      "Syntax Warning: Invalid Font Weight\n",
      "Syntax Warning: Invalid Font Weight\n",
      "Syntax Warning: Invalid Font Weight\n",
      "Syntax Warning: Invalid Font Weight\n",
      "Syntax Warning: Invalid Font Weight\n",
      "Syntax Warning: Invalid Font Weight\n",
      "Syntax Warning: Invalid Font Weight\n",
      "Syntax Warning: Invalid Font Weight\n",
      "Syntax Warning: Invalid Font Weight\n",
      "Syntax Warning: Invalid Font Weight\n",
      "Syntax Warning: Invalid Font Weight\n",
      " 12%|█████████████████████▎                                                                                                                                                    | 48/384 [00:28<04:02,  1.39it/s]Syntax Error: Expected the default config, but wasn't able to find it, or it isn't a Dictionary\n",
      " 14%|███████████████████████▍                                                                                                                                                  | 53/384 [00:32<02:51,  1.93it/s]Syntax Error: Invalid object stream\n",
      "Internal Error: xref num 1179 not found but needed, try to reconstruct<0a>\n",
      " 18%|██████████████████████████████                                                                                                                                            | 68/384 [00:43<05:21,  1.02s/it]"
     ]
    },
    {
     "name": "stdout",
     "output_type": "stream",
     "text": [
      "Error: ../shared_data/thanatcc/RIA_Input/Clean_International_Regulator/03-BCBS/risk/ripple-effects-of-monetary-policy.pdf\n"
     ]
    },
    {
     "name": "stderr",
     "output_type": "stream",
     "text": [
      " 22%|██████████████████████████████████████                                                                                                                                    | 86/384 [01:01<09:02,  1.82s/it]WARNING - haystack.nodes.file_converter.pdf -  The language for ../shared_data/thanatcc/RIA_Input/Clean_International_Regulator/25-MAS/other/sg_346.pdf is not one of ['en']. The file may not have been decoded in the correct text format.\n",
      " 23%|███████████████████████████████████████▍                                                                                                                                  | 89/384 [01:02<03:43,  1.32it/s]"
     ]
    },
    {
     "name": "stdout",
     "output_type": "stream",
     "text": [
      "Error: ../shared_data/thanatcc/RIA_Input/Clean_International_Regulator/25-MAS/other/sg_346.pdf\n"
     ]
    },
    {
     "name": "stderr",
     "output_type": "stream",
     "text": [
      " 27%|████████████████████████████████████████████▉                                                                                                                            | 102/384 [01:07<01:56,  2.41it/s]Syntax Warning: May not be a PDF file (continuing anyway)\n",
      "Syntax Error (2): Illegal character <21> in hex string\n",
      "Syntax Error (4): Illegal character <4f> in hex string\n",
      "Syntax Error (6): Illegal character <54> in hex string\n",
      "Syntax Error (7): Illegal character <59> in hex string\n",
      "Syntax Error (8): Illegal character <50> in hex string\n",
      "Syntax Error (11): Illegal character <68> in hex string\n",
      "Syntax Error (12): Illegal character <74> in hex string\n",
      "Syntax Error (13): Illegal character <6d> in hex string\n",
      "Syntax Error (14): Illegal character <6c> in hex string\n",
      "Syntax Error (19): Illegal character <68> in hex string\n",
      "Syntax Error (20): Illegal character <74> in hex string\n",
      "Syntax Error (21): Illegal character <6d> in hex string\n",
      "Syntax Error (22): Illegal character <6c> in hex string\n",
      "Syntax Error (24): Illegal character <6c> in hex string\n",
      "Syntax Error (26): Illegal character <6e> in hex string\n",
      "Syntax Error (27): Illegal character <67> in hex string\n",
      "Syntax Error (28): Illegal character <3d> in hex string\n",
      "Syntax Error (29): Illegal character <22> in hex string\n",
      "Syntax Error (31): Illegal character <6e> in hex string\n",
      "Syntax Error (32): Illegal character <22> in hex string\n",
      "Syntax Error (35): Illegal character <6c> in hex string\n",
      "Syntax Error (37): Illegal character <73> in hex string\n",
      "Syntax Error (38): Illegal character <73> in hex string\n",
      "Syntax Error (39): Illegal character <3d> in hex string\n",
      "Syntax Error (40): Illegal character <22> in hex string\n",
      "Syntax Error (41): Illegal character <6e> in hex string\n",
      "Syntax Error (42): Illegal character <6f> in hex string\n",
      "Syntax Error (43): Illegal character <2d> in hex string\n",
      "Syntax Error (44): Illegal character <6a> in hex string\n",
      "Syntax Error (45): Illegal character <73> in hex string\n",
      "Syntax Error (46): Illegal character <22> in hex string\n",
      "Syntax Error (53): Illegal character <68> in hex string\n",
      "Syntax Error (65): Illegal character <6d> in hex string\n",
      "Syntax Error (67): Illegal character <74> in hex string\n",
      "Syntax Error (71): Illegal character <68> in hex string\n",
      "Syntax Error (73): Illegal character <72> in hex string\n",
      "Syntax Error (74): Illegal character <73> in hex string\n",
      "Syntax Error (76): Illegal character <74> in hex string\n",
      "Syntax Error (77): Illegal character <3d> in hex string\n",
      "Syntax Error (78): Illegal character <22> in hex string\n",
      "Syntax Error (79): Illegal character <75> in hex string\n",
      "Syntax Error (80): Illegal character <74> in hex string\n",
      "Syntax Error (82): Illegal character <2d> in hex string\n",
      "Syntax Error (84): Illegal character <22> in hex string\n",
      "Syntax Error (93): Illegal character <6d> in hex string\n",
      "Syntax Error (95): Illegal character <74> in hex string\n",
      "Syntax Error (98): Illegal character <68> in hex string\n",
      "Syntax Error (99): Illegal character <74> in hex string\n",
      "Syntax Error (100): Illegal character <74> in hex string\n",
      "Syntax Error (101): Illegal character <70> in hex string\n",
      "Syntax Error (102): Illegal character <2d> in hex string\n",
      "Syntax Error (104): Illegal character <71> in hex string\n",
      "Syntax Error (105): Illegal character <75> in hex string\n",
      "Syntax Error (106): Illegal character <69> in hex string\n",
      "Syntax Error (107): Illegal character <76> in hex string\n",
      "Syntax Error (108): Illegal character <3d> in hex string\n",
      "Syntax Error (109): Illegal character <22> in hex string\n",
      "Syntax Error (110): Illegal character <78> in hex string\n",
      "Syntax Error (111): Illegal character <2d> in hex string\n",
      "Syntax Error (112): Illegal character <75> in hex string\n",
      "Syntax Error (114): Illegal character <2d> in hex string\n",
      "Syntax Error (116): Illegal character <6f> in hex string\n",
      "Syntax Error (117): Illegal character <6d> in hex string\n",
      "Syntax Error (118): Illegal character <70> in hex string\n",
      "Syntax Error (120): Illegal character <74> in hex string\n",
      "Syntax Error (121): Illegal character <69> in hex string\n",
      "Syntax Error (123): Illegal character <6c> in hex string\n",
      "Syntax Error (125): Illegal character <22> in hex string\n",
      "Syntax Error (128): Illegal character <6f> in hex string\n",
      "Syntax Error (129): Illegal character <6e> in hex string\n",
      "Syntax Error (130): Illegal character <74> in hex string\n",
      "Syntax Error (132): Illegal character <6e> in hex string\n",
      "Syntax Error (133): Illegal character <74> in hex string\n",
      "Syntax Error (134): Illegal character <3d> in hex string\n",
      "Syntax Error (135): Illegal character <22> in hex string\n",
      "Syntax Error (136): Illegal character <49> in hex string\n",
      "Syntax Error (138): Illegal character <3d> in hex string\n",
      "Syntax Error (141): Illegal character <67> in hex string\n",
      "Syntax Error (143): Illegal character <22> in hex string\n",
      "Syntax Error (152): Illegal character <6d> in hex string\n",
      "Syntax Error (154): Illegal character <74> in hex string\n",
      "Syntax Error (157): Illegal character <6e> in hex string\n",
      "Syntax Error (159): Illegal character <6d> in hex string\n",
      "Syntax Error (161): Illegal character <3d> in hex string\n",
      "Syntax Error (162): Illegal character <22> in hex string\n",
      "Syntax Error (163): Illegal character <76> in hex string\n",
      "Syntax Error (164): Illegal character <69> in hex string\n",
      "Syntax Error (166): Illegal character <77> in hex string\n",
      "Syntax Error (167): Illegal character <70> in hex string\n",
      "Syntax Error (168): Illegal character <6f> in hex string\n",
      "Syntax Error (169): Illegal character <72> in hex string\n",
      "Syntax Error (170): Illegal character <74> in hex string\n",
      "Syntax Error (171): Illegal character <22> in hex string\n",
      "Syntax Error (174): Illegal character <6f> in hex string\n",
      "Syntax Error (175): Illegal character <6e> in hex string\n",
      "Syntax Error (176): Illegal character <74> in hex string\n",
      "Syntax Error (178): Illegal character <6e> in hex string\n",
      "Syntax Error (179): Illegal character <74> in hex string\n",
      "Syntax Error (180): Illegal character <3d> in hex string\n",
      "Syntax Error (181): Illegal character <22> in hex string\n",
      "Syntax Error (182): Illegal character <77> in hex string\n",
      "Syntax Error (183): Illegal character <69> in hex string\n",
      "Syntax Error (185): Illegal character <74> in hex string\n",
      "Syntax Error (186): Illegal character <68> in hex string\n",
      "Syntax Error (187): Illegal character <3d> in hex string\n",
      "Syntax Error (190): Illegal character <76> in hex string\n",
      "Syntax Error (191): Illegal character <69> in hex string\n",
      "Syntax Error (194): Illegal character <2d> in hex string\n",
      "Syntax Error (195): Illegal character <77> in hex string\n",
      "Syntax Error (196): Illegal character <69> in hex string\n",
      "Syntax Error (198): Illegal character <74> in hex string\n",
      "Syntax Error (199): Illegal character <68> in hex string\n",
      "Syntax Error (200): Illegal character <2c> in hex string\n",
      "Syntax Error (201): Illegal character <69> in hex string\n",
      "Syntax Error (202): Illegal character <6e> in hex string\n",
      "Syntax Error (203): Illegal character <69> in hex string\n",
      "Syntax Error (204): Illegal character <74> in hex string\n",
      "Syntax Error (205): Illegal character <69> in hex string\n",
      "Syntax Error (207): Illegal character <6c> in hex string\n",
      "Syntax Error (208): Illegal character <2d> in hex string\n",
      "Syntax Error (209): Illegal character <73> in hex string\n",
      "Syntax Error (212): Illegal character <6c> in hex string\n",
      "Syntax Error (214): Illegal character <3d> in hex string\n",
      "Syntax Error (216): Illegal character <2c> in hex string\n",
      "Syntax Error (217): Illegal character <73> in hex string\n",
      "Syntax Error (218): Illegal character <68> in hex string\n",
      "Syntax Error (219): Illegal character <72> in hex string\n",
      "Syntax Error (220): Illegal character <69> in hex string\n",
      "Syntax Error (221): Illegal character <6e> in hex string\n",
      "Syntax Error (222): Illegal character <6b> in hex string\n",
      "Syntax Error (223): Illegal character <2d> in hex string\n",
      "Syntax Error (224): Illegal character <74> in hex string\n",
      "Syntax Error (225): Illegal character <6f> in hex string\n",
      "Syntax Error (226): Illegal character <2d> in hex string\n",
      "Syntax Error (228): Illegal character <69> in hex string\n",
      "Syntax Error (229): Illegal character <74> in hex string\n",
      "Syntax Error (230): Illegal character <3d> in hex string\n",
      "Syntax Error (231): Illegal character <6e> in hex string\n",
      "Syntax Error (232): Illegal character <6f> in hex string\n",
      "Syntax Error (233): Illegal character <22> in hex string\n",
      "Syntax Error: Couldn't find trailer dictionary\n",
      "Syntax Error: Couldn't find trailer dictionary\n",
      "Syntax Error: Couldn't read xref table\n",
      "WARNING - haystack.nodes.file_converter.pdf -  The language for ../shared_data/thanatcc/RIA_Input/Clean_International_Regulator/25-MAS/other/sg_191.pdf is not one of ['en']. The file may not have been decoded in the correct text format.\n"
     ]
    },
    {
     "name": "stdout",
     "output_type": "stream",
     "text": [
      "Error: ../shared_data/thanatcc/RIA_Input/Clean_International_Regulator/25-MAS/other/sg_191.pdf\n"
     ]
    },
    {
     "name": "stderr",
     "output_type": "stream",
     "text": [
      " 35%|███████████████████████████████████████████████████████████▍                                                                                                             | 135/384 [01:26<01:08,  3.66it/s]Syntax Warning: Bad annotation destination\n",
      "Syntax Warning: Bad annotation destination\n",
      " 36%|████████████████████████████████████████████████████████████▋                                                                                                            | 138/384 [01:30<03:33,  1.15it/s]WARNING - haystack.nodes.file_converter.pdf -  The language for ../shared_data/thanatcc/RIA_Input/Clean_International_Regulator/25-MAS/other/sg_246.pdf is not one of ['en']. The file may not have been decoded in the correct text format.\n"
     ]
    },
    {
     "name": "stdout",
     "output_type": "stream",
     "text": [
      "Error: ../shared_data/thanatcc/RIA_Input/Clean_International_Regulator/25-MAS/other/sg_246.pdf\n"
     ]
    },
    {
     "name": "stderr",
     "output_type": "stream",
     "text": [
      " 45%|████████████████████████████████████████████████████████████████████████████▌                                                                                            | 174/384 [01:39<00:51,  4.10it/s]WARNING - haystack.nodes.file_converter.pdf -  The language for ../shared_data/thanatcc/RIA_Input/Clean_International_Regulator/25-MAS/other/sg_235.pdf is not one of ['en']. The file may not have been decoded in the correct text format.\n"
     ]
    },
    {
     "name": "stdout",
     "output_type": "stream",
     "text": [
      "Error: ../shared_data/thanatcc/RIA_Input/Clean_International_Regulator/25-MAS/other/sg_235.pdf\n"
     ]
    },
    {
     "name": "stderr",
     "output_type": "stream",
     "text": [
      " 58%|██████████████████████████████████████████████████████████████████████████████████████████████████▏                                                                      | 223/384 [02:02<00:34,  4.60it/s]Syntax Warning: May not be a PDF file (continuing anyway)\n",
      "Syntax Error (2): Illegal character <21> in hex string\n",
      "Syntax Error (4): Illegal character <4f> in hex string\n",
      "Syntax Error (6): Illegal character <54> in hex string\n",
      "Syntax Error (7): Illegal character <59> in hex string\n",
      "Syntax Error (8): Illegal character <50> in hex string\n",
      "Syntax Error (11): Illegal character <68> in hex string\n",
      "Syntax Error (12): Illegal character <74> in hex string\n",
      "Syntax Error (13): Illegal character <6d> in hex string\n",
      "Syntax Error (14): Illegal character <6c> in hex string\n",
      "Syntax Error (19): Illegal character <68> in hex string\n",
      "Syntax Error (20): Illegal character <74> in hex string\n",
      "Syntax Error (21): Illegal character <6d> in hex string\n",
      "Syntax Error (22): Illegal character <6c> in hex string\n",
      "Syntax Error (24): Illegal character <6c> in hex string\n",
      "Syntax Error (26): Illegal character <6e> in hex string\n",
      "Syntax Error (27): Illegal character <67> in hex string\n",
      "Syntax Error (28): Illegal character <3d> in hex string\n",
      "Syntax Error (29): Illegal character <22> in hex string\n",
      "Syntax Error (31): Illegal character <6e> in hex string\n",
      "Syntax Error (32): Illegal character <22> in hex string\n",
      "Syntax Error (35): Illegal character <6c> in hex string\n",
      "Syntax Error (37): Illegal character <73> in hex string\n",
      "Syntax Error (38): Illegal character <73> in hex string\n",
      "Syntax Error (39): Illegal character <3d> in hex string\n",
      "Syntax Error (40): Illegal character <22> in hex string\n",
      "Syntax Error (41): Illegal character <6e> in hex string\n",
      "Syntax Error (42): Illegal character <6f> in hex string\n",
      "Syntax Error (43): Illegal character <2d> in hex string\n",
      "Syntax Error (44): Illegal character <6a> in hex string\n",
      "Syntax Error (45): Illegal character <73> in hex string\n",
      "Syntax Error (46): Illegal character <22> in hex string\n",
      "Syntax Error (53): Illegal character <68> in hex string\n",
      "Syntax Error (65): Illegal character <6d> in hex string\n",
      "Syntax Error (67): Illegal character <74> in hex string\n",
      "Syntax Error (71): Illegal character <68> in hex string\n",
      "Syntax Error (73): Illegal character <72> in hex string\n",
      "Syntax Error (74): Illegal character <73> in hex string\n",
      "Syntax Error (76): Illegal character <74> in hex string\n",
      "Syntax Error (77): Illegal character <3d> in hex string\n",
      "Syntax Error (78): Illegal character <22> in hex string\n",
      "Syntax Error (79): Illegal character <75> in hex string\n",
      "Syntax Error (80): Illegal character <74> in hex string\n",
      "Syntax Error (82): Illegal character <2d> in hex string\n",
      "Syntax Error (84): Illegal character <22> in hex string\n",
      "Syntax Error (93): Illegal character <6d> in hex string\n",
      "Syntax Error (95): Illegal character <74> in hex string\n",
      "Syntax Error (98): Illegal character <68> in hex string\n",
      "Syntax Error (99): Illegal character <74> in hex string\n",
      "Syntax Error (100): Illegal character <74> in hex string\n",
      "Syntax Error (101): Illegal character <70> in hex string\n",
      "Syntax Error (102): Illegal character <2d> in hex string\n",
      "Syntax Error (104): Illegal character <71> in hex string\n",
      "Syntax Error (105): Illegal character <75> in hex string\n",
      "Syntax Error (106): Illegal character <69> in hex string\n",
      "Syntax Error (107): Illegal character <76> in hex string\n",
      "Syntax Error (108): Illegal character <3d> in hex string\n",
      "Syntax Error (109): Illegal character <22> in hex string\n",
      "Syntax Error (110): Illegal character <78> in hex string\n",
      "Syntax Error (111): Illegal character <2d> in hex string\n",
      "Syntax Error (112): Illegal character <75> in hex string\n",
      "Syntax Error (114): Illegal character <2d> in hex string\n",
      "Syntax Error (116): Illegal character <6f> in hex string\n",
      "Syntax Error (117): Illegal character <6d> in hex string\n",
      "Syntax Error (118): Illegal character <70> in hex string\n",
      "Syntax Error (120): Illegal character <74> in hex string\n",
      "Syntax Error (121): Illegal character <69> in hex string\n",
      "Syntax Error (123): Illegal character <6c> in hex string\n",
      "Syntax Error (125): Illegal character <22> in hex string\n",
      "Syntax Error (128): Illegal character <6f> in hex string\n",
      "Syntax Error (129): Illegal character <6e> in hex string\n",
      "Syntax Error (130): Illegal character <74> in hex string\n",
      "Syntax Error (132): Illegal character <6e> in hex string\n",
      "Syntax Error (133): Illegal character <74> in hex string\n",
      "Syntax Error (134): Illegal character <3d> in hex string\n",
      "Syntax Error (135): Illegal character <22> in hex string\n",
      "Syntax Error (136): Illegal character <49> in hex string\n",
      "Syntax Error (138): Illegal character <3d> in hex string\n",
      "Syntax Error (141): Illegal character <67> in hex string\n",
      "Syntax Error (143): Illegal character <22> in hex string\n",
      "Syntax Error (152): Illegal character <6d> in hex string\n",
      "Syntax Error (154): Illegal character <74> in hex string\n",
      "Syntax Error (157): Illegal character <6e> in hex string\n",
      "Syntax Error (159): Illegal character <6d> in hex string\n",
      "Syntax Error (161): Illegal character <3d> in hex string\n",
      "Syntax Error (162): Illegal character <22> in hex string\n",
      "Syntax Error (163): Illegal character <76> in hex string\n",
      "Syntax Error (164): Illegal character <69> in hex string\n",
      "Syntax Error (166): Illegal character <77> in hex string\n",
      "Syntax Error (167): Illegal character <70> in hex string\n",
      "Syntax Error (168): Illegal character <6f> in hex string\n",
      "Syntax Error (169): Illegal character <72> in hex string\n",
      "Syntax Error (170): Illegal character <74> in hex string\n",
      "Syntax Error (171): Illegal character <22> in hex string\n",
      "Syntax Error (174): Illegal character <6f> in hex string\n",
      "Syntax Error (175): Illegal character <6e> in hex string\n",
      "Syntax Error (176): Illegal character <74> in hex string\n",
      "Syntax Error (178): Illegal character <6e> in hex string\n",
      "Syntax Error (179): Illegal character <74> in hex string\n",
      "Syntax Error (180): Illegal character <3d> in hex string\n",
      "Syntax Error (181): Illegal character <22> in hex string\n",
      "Syntax Error (182): Illegal character <77> in hex string\n",
      "Syntax Error (183): Illegal character <69> in hex string\n",
      "Syntax Error (185): Illegal character <74> in hex string\n",
      "Syntax Error (186): Illegal character <68> in hex string\n",
      "Syntax Error (187): Illegal character <3d> in hex string\n",
      "Syntax Error (190): Illegal character <76> in hex string\n",
      "Syntax Error (191): Illegal character <69> in hex string\n",
      "Syntax Error (194): Illegal character <2d> in hex string\n",
      "Syntax Error (195): Illegal character <77> in hex string\n",
      "Syntax Error (196): Illegal character <69> in hex string\n",
      "Syntax Error (198): Illegal character <74> in hex string\n",
      "Syntax Error (199): Illegal character <68> in hex string\n",
      "Syntax Error (200): Illegal character <2c> in hex string\n",
      "Syntax Error (201): Illegal character <69> in hex string\n",
      "Syntax Error (202): Illegal character <6e> in hex string\n",
      "Syntax Error (203): Illegal character <69> in hex string\n",
      "Syntax Error (204): Illegal character <74> in hex string\n",
      "Syntax Error (205): Illegal character <69> in hex string\n",
      "Syntax Error (207): Illegal character <6c> in hex string\n",
      "Syntax Error (208): Illegal character <2d> in hex string\n",
      "Syntax Error (209): Illegal character <73> in hex string\n",
      "Syntax Error (212): Illegal character <6c> in hex string\n",
      "Syntax Error (214): Illegal character <3d> in hex string\n",
      "Syntax Error (216): Illegal character <2c> in hex string\n",
      "Syntax Error (217): Illegal character <73> in hex string\n",
      "Syntax Error (218): Illegal character <68> in hex string\n",
      "Syntax Error (219): Illegal character <72> in hex string\n",
      "Syntax Error (220): Illegal character <69> in hex string\n",
      "Syntax Error (221): Illegal character <6e> in hex string\n",
      "Syntax Error (222): Illegal character <6b> in hex string\n",
      "Syntax Error (223): Illegal character <2d> in hex string\n",
      "Syntax Error (224): Illegal character <74> in hex string\n",
      "Syntax Error (225): Illegal character <6f> in hex string\n",
      "Syntax Error (226): Illegal character <2d> in hex string\n",
      "Syntax Error (228): Illegal character <69> in hex string\n",
      "Syntax Error (229): Illegal character <74> in hex string\n",
      "Syntax Error (230): Illegal character <3d> in hex string\n",
      "Syntax Error (231): Illegal character <6e> in hex string\n",
      "Syntax Error (232): Illegal character <6f> in hex string\n",
      "Syntax Error (233): Illegal character <22> in hex string\n",
      "Syntax Error: Couldn't find trailer dictionary\n",
      "Syntax Error: Couldn't find trailer dictionary\n",
      "Syntax Error: Couldn't read xref table\n",
      "WARNING - haystack.nodes.file_converter.pdf -  The language for ../shared_data/thanatcc/RIA_Input/Clean_International_Regulator/25-MAS/other/sg_192.pdf is not one of ['en']. The file may not have been decoded in the correct text format.\n"
     ]
    },
    {
     "name": "stdout",
     "output_type": "stream",
     "text": [
      "Error: ../shared_data/thanatcc/RIA_Input/Clean_International_Regulator/25-MAS/other/sg_192.pdf\n"
     ]
    },
    {
     "name": "stderr",
     "output_type": "stream",
     "text": [
      " 59%|████████████████████████████████████████████████████████████████████████████████████████████████████▎                                                                    | 228/384 [02:03<00:40,  3.81it/s]WARNING - haystack.nodes.file_converter.pdf -  The language for ../shared_data/thanatcc/RIA_Input/Clean_International_Regulator/25-MAS/other/sg_290.pdf is not one of ['en']. The file may not have been decoded in the correct text format.\n"
     ]
    },
    {
     "name": "stdout",
     "output_type": "stream",
     "text": [
      "Error: ../shared_data/thanatcc/RIA_Input/Clean_International_Regulator/25-MAS/other/sg_290.pdf\n"
     ]
    },
    {
     "name": "stderr",
     "output_type": "stream",
     "text": [
      " 73%|███████████████████████████████████████████████████████████████████████████████████████████████████████████████████████████▋                                             | 281/384 [02:19<00:52,  1.97it/s]Syntax Warning: May not be a PDF file (continuing anyway)\n",
      "Syntax Error (2): Illegal character <21> in hex string\n",
      "Syntax Error (4): Illegal character <4f> in hex string\n",
      "Syntax Error (6): Illegal character <54> in hex string\n",
      "Syntax Error (7): Illegal character <59> in hex string\n",
      "Syntax Error (8): Illegal character <50> in hex string\n",
      "Syntax Error (11): Illegal character <68> in hex string\n",
      "Syntax Error (12): Illegal character <74> in hex string\n",
      "Syntax Error (13): Illegal character <6d> in hex string\n",
      "Syntax Error (14): Illegal character <6c> in hex string\n",
      "Syntax Error (19): Illegal character <68> in hex string\n",
      "Syntax Error (20): Illegal character <74> in hex string\n",
      "Syntax Error (21): Illegal character <6d> in hex string\n",
      "Syntax Error (22): Illegal character <6c> in hex string\n",
      "Syntax Error (24): Illegal character <6c> in hex string\n",
      "Syntax Error (26): Illegal character <6e> in hex string\n",
      "Syntax Error (27): Illegal character <67> in hex string\n",
      "Syntax Error (28): Illegal character <3d> in hex string\n",
      "Syntax Error (29): Illegal character <22> in hex string\n",
      "Syntax Error (31): Illegal character <6e> in hex string\n",
      "Syntax Error (32): Illegal character <22> in hex string\n",
      "Syntax Error (35): Illegal character <6c> in hex string\n",
      "Syntax Error (37): Illegal character <73> in hex string\n",
      "Syntax Error (38): Illegal character <73> in hex string\n",
      "Syntax Error (39): Illegal character <3d> in hex string\n",
      "Syntax Error (40): Illegal character <22> in hex string\n",
      "Syntax Error (41): Illegal character <6e> in hex string\n",
      "Syntax Error (42): Illegal character <6f> in hex string\n",
      "Syntax Error (43): Illegal character <2d> in hex string\n",
      "Syntax Error (44): Illegal character <6a> in hex string\n",
      "Syntax Error (45): Illegal character <73> in hex string\n",
      "Syntax Error (46): Illegal character <22> in hex string\n",
      "Syntax Error (53): Illegal character <68> in hex string\n",
      "Syntax Error (65): Illegal character <6d> in hex string\n",
      "Syntax Error (67): Illegal character <74> in hex string\n",
      "Syntax Error (71): Illegal character <68> in hex string\n",
      "Syntax Error (73): Illegal character <72> in hex string\n",
      "Syntax Error (74): Illegal character <73> in hex string\n",
      "Syntax Error (76): Illegal character <74> in hex string\n",
      "Syntax Error (77): Illegal character <3d> in hex string\n",
      "Syntax Error (78): Illegal character <22> in hex string\n",
      "Syntax Error (79): Illegal character <75> in hex string\n",
      "Syntax Error (80): Illegal character <74> in hex string\n",
      "Syntax Error (82): Illegal character <2d> in hex string\n",
      "Syntax Error (84): Illegal character <22> in hex string\n",
      "Syntax Error (93): Illegal character <6d> in hex string\n",
      "Syntax Error (95): Illegal character <74> in hex string\n",
      "Syntax Error (98): Illegal character <68> in hex string\n",
      "Syntax Error (99): Illegal character <74> in hex string\n",
      "Syntax Error (100): Illegal character <74> in hex string\n",
      "Syntax Error (101): Illegal character <70> in hex string\n",
      "Syntax Error (102): Illegal character <2d> in hex string\n",
      "Syntax Error (104): Illegal character <71> in hex string\n",
      "Syntax Error (105): Illegal character <75> in hex string\n",
      "Syntax Error (106): Illegal character <69> in hex string\n",
      "Syntax Error (107): Illegal character <76> in hex string\n",
      "Syntax Error (108): Illegal character <3d> in hex string\n",
      "Syntax Error (109): Illegal character <22> in hex string\n",
      "Syntax Error (110): Illegal character <78> in hex string\n",
      "Syntax Error (111): Illegal character <2d> in hex string\n",
      "Syntax Error (112): Illegal character <75> in hex string\n",
      "Syntax Error (114): Illegal character <2d> in hex string\n",
      "Syntax Error (116): Illegal character <6f> in hex string\n",
      "Syntax Error (117): Illegal character <6d> in hex string\n",
      "Syntax Error (118): Illegal character <70> in hex string\n",
      "Syntax Error (120): Illegal character <74> in hex string\n",
      "Syntax Error (121): Illegal character <69> in hex string\n",
      "Syntax Error (123): Illegal character <6c> in hex string\n",
      "Syntax Error (125): Illegal character <22> in hex string\n",
      "Syntax Error (128): Illegal character <6f> in hex string\n",
      "Syntax Error (129): Illegal character <6e> in hex string\n",
      "Syntax Error (130): Illegal character <74> in hex string\n",
      "Syntax Error (132): Illegal character <6e> in hex string\n",
      "Syntax Error (133): Illegal character <74> in hex string\n",
      "Syntax Error (134): Illegal character <3d> in hex string\n",
      "Syntax Error (135): Illegal character <22> in hex string\n",
      "Syntax Error (136): Illegal character <49> in hex string\n",
      "Syntax Error (138): Illegal character <3d> in hex string\n",
      "Syntax Error (141): Illegal character <67> in hex string\n",
      "Syntax Error (143): Illegal character <22> in hex string\n",
      "Syntax Error (152): Illegal character <6d> in hex string\n",
      "Syntax Error (154): Illegal character <74> in hex string\n",
      "Syntax Error (157): Illegal character <6e> in hex string\n",
      "Syntax Error (159): Illegal character <6d> in hex string\n",
      "Syntax Error (161): Illegal character <3d> in hex string\n",
      "Syntax Error (162): Illegal character <22> in hex string\n",
      "Syntax Error (163): Illegal character <76> in hex string\n",
      "Syntax Error (164): Illegal character <69> in hex string\n",
      "Syntax Error (166): Illegal character <77> in hex string\n",
      "Syntax Error (167): Illegal character <70> in hex string\n",
      "Syntax Error (168): Illegal character <6f> in hex string\n",
      "Syntax Error (169): Illegal character <72> in hex string\n",
      "Syntax Error (170): Illegal character <74> in hex string\n",
      "Syntax Error (171): Illegal character <22> in hex string\n",
      "Syntax Error (174): Illegal character <6f> in hex string\n",
      "Syntax Error (175): Illegal character <6e> in hex string\n",
      "Syntax Error (176): Illegal character <74> in hex string\n",
      "Syntax Error (178): Illegal character <6e> in hex string\n",
      "Syntax Error (179): Illegal character <74> in hex string\n",
      "Syntax Error (180): Illegal character <3d> in hex string\n",
      "Syntax Error (181): Illegal character <22> in hex string\n",
      "Syntax Error (182): Illegal character <77> in hex string\n",
      "Syntax Error (183): Illegal character <69> in hex string\n",
      "Syntax Error (185): Illegal character <74> in hex string\n",
      "Syntax Error (186): Illegal character <68> in hex string\n",
      "Syntax Error (187): Illegal character <3d> in hex string\n",
      "Syntax Error (190): Illegal character <76> in hex string\n",
      "Syntax Error (191): Illegal character <69> in hex string\n",
      "Syntax Error (194): Illegal character <2d> in hex string\n",
      "Syntax Error (195): Illegal character <77> in hex string\n",
      "Syntax Error (196): Illegal character <69> in hex string\n",
      "Syntax Error (198): Illegal character <74> in hex string\n",
      "Syntax Error (199): Illegal character <68> in hex string\n",
      "Syntax Error (200): Illegal character <2c> in hex string\n",
      "Syntax Error (201): Illegal character <69> in hex string\n",
      "Syntax Error (202): Illegal character <6e> in hex string\n",
      "Syntax Error (203): Illegal character <69> in hex string\n",
      "Syntax Error (204): Illegal character <74> in hex string\n",
      "Syntax Error (205): Illegal character <69> in hex string\n",
      "Syntax Error (207): Illegal character <6c> in hex string\n",
      "Syntax Error (208): Illegal character <2d> in hex string\n",
      "Syntax Error (209): Illegal character <73> in hex string\n",
      "Syntax Error (212): Illegal character <6c> in hex string\n",
      "Syntax Error (214): Illegal character <3d> in hex string\n",
      "Syntax Error (216): Illegal character <2c> in hex string\n",
      "Syntax Error (217): Illegal character <73> in hex string\n",
      "Syntax Error (218): Illegal character <68> in hex string\n",
      "Syntax Error (219): Illegal character <72> in hex string\n",
      "Syntax Error (220): Illegal character <69> in hex string\n",
      "Syntax Error (221): Illegal character <6e> in hex string\n",
      "Syntax Error (222): Illegal character <6b> in hex string\n",
      "Syntax Error (223): Illegal character <2d> in hex string\n",
      "Syntax Error (224): Illegal character <74> in hex string\n",
      "Syntax Error (225): Illegal character <6f> in hex string\n",
      "Syntax Error (226): Illegal character <2d> in hex string\n",
      "Syntax Error (228): Illegal character <69> in hex string\n",
      "Syntax Error (229): Illegal character <74> in hex string\n",
      "Syntax Error (230): Illegal character <3d> in hex string\n",
      "Syntax Error (231): Illegal character <6e> in hex string\n",
      "Syntax Error (232): Illegal character <6f> in hex string\n",
      "Syntax Error (233): Illegal character <22> in hex string\n",
      "Syntax Error: Couldn't find trailer dictionary\n",
      "Syntax Error: Couldn't find trailer dictionary\n",
      "Syntax Error: Couldn't read xref table\n",
      "WARNING - haystack.nodes.file_converter.pdf -  The language for ../shared_data/thanatcc/RIA_Input/Clean_International_Regulator/25-MAS/other/sg_193.pdf is not one of ['en']. The file may not have been decoded in the correct text format.\n"
     ]
    },
    {
     "name": "stdout",
     "output_type": "stream",
     "text": [
      "Error: ../shared_data/thanatcc/RIA_Input/Clean_International_Regulator/25-MAS/other/sg_193.pdf\n"
     ]
    },
    {
     "name": "stderr",
     "output_type": "stream",
     "text": [
      " 75%|███████████████████████████████████████████████████████████████████████████████████████████████████████████████████████████████▏                                         | 289/384 [02:21<00:27,  3.41it/s]"
     ]
    },
    {
     "name": "stdout",
     "output_type": "stream",
     "text": [
      "Error: ../shared_data/thanatcc/RIA_Input/Clean_International_Regulator/25-MAS/other/sg_56.pdf\n"
     ]
    },
    {
     "name": "stderr",
     "output_type": "stream",
     "text": [
      " 77%|██████████████████████████████████████████████████████████████████████████████████████████████████████████████████████████████████▋                                      | 297/384 [02:22<00:11,  7.63it/s]WARNING - haystack.nodes.file_converter.pdf -  The language for ../shared_data/thanatcc/RIA_Input/Clean_International_Regulator/25-MAS/other/sg_289.pdf is not one of ['en']. The file may not have been decoded in the correct text format.\n"
     ]
    },
    {
     "name": "stdout",
     "output_type": "stream",
     "text": [
      "Error: ../shared_data/thanatcc/RIA_Input/Clean_International_Regulator/25-MAS/other/sg_289.pdf\n"
     ]
    },
    {
     "name": "stderr",
     "output_type": "stream",
     "text": [
      " 92%|██████████████████████████████████████████████████████████████████████████████████████████████████████████████████████████████████████████████████████████▉              | 352/384 [02:34<00:07,  4.20it/s]Syntax Warning: May not be a PDF file (continuing anyway)\n",
      "Syntax Error (2): Illegal character <21> in hex string\n",
      "Syntax Error (4): Illegal character <4f> in hex string\n",
      "Syntax Error (6): Illegal character <54> in hex string\n",
      "Syntax Error (7): Illegal character <59> in hex string\n",
      "Syntax Error (8): Illegal character <50> in hex string\n",
      "Syntax Error (11): Illegal character <68> in hex string\n",
      "Syntax Error (12): Illegal character <74> in hex string\n",
      "Syntax Error (13): Illegal character <6d> in hex string\n",
      "Syntax Error (14): Illegal character <6c> in hex string\n",
      "Syntax Error (19): Illegal character <68> in hex string\n",
      "Syntax Error (20): Illegal character <74> in hex string\n",
      "Syntax Error (21): Illegal character <6d> in hex string\n",
      "Syntax Error (22): Illegal character <6c> in hex string\n",
      "Syntax Error (24): Illegal character <6c> in hex string\n",
      "Syntax Error (26): Illegal character <6e> in hex string\n",
      "Syntax Error (27): Illegal character <67> in hex string\n",
      "Syntax Error (28): Illegal character <3d> in hex string\n",
      "Syntax Error (29): Illegal character <22> in hex string\n",
      "Syntax Error (31): Illegal character <6e> in hex string\n",
      "Syntax Error (32): Illegal character <22> in hex string\n",
      "Syntax Error (35): Illegal character <6c> in hex string\n",
      "Syntax Error (37): Illegal character <73> in hex string\n",
      "Syntax Error (38): Illegal character <73> in hex string\n",
      "Syntax Error (39): Illegal character <3d> in hex string\n",
      "Syntax Error (40): Illegal character <22> in hex string\n",
      "Syntax Error (41): Illegal character <6e> in hex string\n",
      "Syntax Error (42): Illegal character <6f> in hex string\n",
      "Syntax Error (43): Illegal character <2d> in hex string\n",
      "Syntax Error (44): Illegal character <6a> in hex string\n",
      "Syntax Error (45): Illegal character <73> in hex string\n",
      "Syntax Error (46): Illegal character <22> in hex string\n",
      "Syntax Error (53): Illegal character <68> in hex string\n",
      "Syntax Error (65): Illegal character <6d> in hex string\n",
      "Syntax Error (67): Illegal character <74> in hex string\n",
      "Syntax Error (71): Illegal character <68> in hex string\n",
      "Syntax Error (73): Illegal character <72> in hex string\n",
      "Syntax Error (74): Illegal character <73> in hex string\n",
      "Syntax Error (76): Illegal character <74> in hex string\n",
      "Syntax Error (77): Illegal character <3d> in hex string\n",
      "Syntax Error (78): Illegal character <22> in hex string\n",
      "Syntax Error (79): Illegal character <75> in hex string\n",
      "Syntax Error (80): Illegal character <74> in hex string\n",
      "Syntax Error (82): Illegal character <2d> in hex string\n",
      "Syntax Error (84): Illegal character <22> in hex string\n",
      "Syntax Error (93): Illegal character <6d> in hex string\n",
      "Syntax Error (95): Illegal character <74> in hex string\n",
      "Syntax Error (98): Illegal character <68> in hex string\n",
      "Syntax Error (99): Illegal character <74> in hex string\n",
      "Syntax Error (100): Illegal character <74> in hex string\n",
      "Syntax Error (101): Illegal character <70> in hex string\n",
      "Syntax Error (102): Illegal character <2d> in hex string\n",
      "Syntax Error (104): Illegal character <71> in hex string\n",
      "Syntax Error (105): Illegal character <75> in hex string\n",
      "Syntax Error (106): Illegal character <69> in hex string\n",
      "Syntax Error (107): Illegal character <76> in hex string\n",
      "Syntax Error (108): Illegal character <3d> in hex string\n",
      "Syntax Error (109): Illegal character <22> in hex string\n",
      "Syntax Error (110): Illegal character <78> in hex string\n",
      "Syntax Error (111): Illegal character <2d> in hex string\n",
      "Syntax Error (112): Illegal character <75> in hex string\n",
      "Syntax Error (114): Illegal character <2d> in hex string\n",
      "Syntax Error (116): Illegal character <6f> in hex string\n",
      "Syntax Error (117): Illegal character <6d> in hex string\n",
      "Syntax Error (118): Illegal character <70> in hex string\n",
      "Syntax Error (120): Illegal character <74> in hex string\n",
      "Syntax Error (121): Illegal character <69> in hex string\n",
      "Syntax Error (123): Illegal character <6c> in hex string\n",
      "Syntax Error (125): Illegal character <22> in hex string\n",
      "Syntax Error (128): Illegal character <6f> in hex string\n",
      "Syntax Error (129): Illegal character <6e> in hex string\n",
      "Syntax Error (130): Illegal character <74> in hex string\n",
      "Syntax Error (132): Illegal character <6e> in hex string\n",
      "Syntax Error (133): Illegal character <74> in hex string\n",
      "Syntax Error (134): Illegal character <3d> in hex string\n",
      "Syntax Error (135): Illegal character <22> in hex string\n",
      "Syntax Error (136): Illegal character <49> in hex string\n",
      "Syntax Error (138): Illegal character <3d> in hex string\n",
      "Syntax Error (141): Illegal character <67> in hex string\n",
      "Syntax Error (143): Illegal character <22> in hex string\n",
      "Syntax Error (152): Illegal character <6d> in hex string\n",
      "Syntax Error (154): Illegal character <74> in hex string\n",
      "Syntax Error (157): Illegal character <6e> in hex string\n",
      "Syntax Error (159): Illegal character <6d> in hex string\n",
      "Syntax Error (161): Illegal character <3d> in hex string\n",
      "Syntax Error (162): Illegal character <22> in hex string\n",
      "Syntax Error (163): Illegal character <76> in hex string\n",
      "Syntax Error (164): Illegal character <69> in hex string\n",
      "Syntax Error (166): Illegal character <77> in hex string\n",
      "Syntax Error (167): Illegal character <70> in hex string\n",
      "Syntax Error (168): Illegal character <6f> in hex string\n",
      "Syntax Error (169): Illegal character <72> in hex string\n",
      "Syntax Error (170): Illegal character <74> in hex string\n",
      "Syntax Error (171): Illegal character <22> in hex string\n",
      "Syntax Error (174): Illegal character <6f> in hex string\n",
      "Syntax Error (175): Illegal character <6e> in hex string\n",
      "Syntax Error (176): Illegal character <74> in hex string\n",
      "Syntax Error (178): Illegal character <6e> in hex string\n",
      "Syntax Error (179): Illegal character <74> in hex string\n",
      "Syntax Error (180): Illegal character <3d> in hex string\n",
      "Syntax Error (181): Illegal character <22> in hex string\n",
      "Syntax Error (182): Illegal character <77> in hex string\n",
      "Syntax Error (183): Illegal character <69> in hex string\n",
      "Syntax Error (185): Illegal character <74> in hex string\n",
      "Syntax Error (186): Illegal character <68> in hex string\n",
      "Syntax Error (187): Illegal character <3d> in hex string\n",
      "Syntax Error (190): Illegal character <76> in hex string\n",
      "Syntax Error (191): Illegal character <69> in hex string\n",
      "Syntax Error (194): Illegal character <2d> in hex string\n",
      "Syntax Error (195): Illegal character <77> in hex string\n",
      "Syntax Error (196): Illegal character <69> in hex string\n",
      "Syntax Error (198): Illegal character <74> in hex string\n",
      "Syntax Error (199): Illegal character <68> in hex string\n",
      "Syntax Error (200): Illegal character <2c> in hex string\n",
      "Syntax Error (201): Illegal character <69> in hex string\n",
      "Syntax Error (202): Illegal character <6e> in hex string\n",
      "Syntax Error (203): Illegal character <69> in hex string\n",
      "Syntax Error (204): Illegal character <74> in hex string\n",
      "Syntax Error (205): Illegal character <69> in hex string\n",
      "Syntax Error (207): Illegal character <6c> in hex string\n",
      "Syntax Error (208): Illegal character <2d> in hex string\n",
      "Syntax Error (209): Illegal character <73> in hex string\n",
      "Syntax Error (212): Illegal character <6c> in hex string\n",
      "Syntax Error (214): Illegal character <3d> in hex string\n",
      "Syntax Error (216): Illegal character <2c> in hex string\n",
      "Syntax Error (217): Illegal character <73> in hex string\n",
      "Syntax Error (218): Illegal character <68> in hex string\n",
      "Syntax Error (219): Illegal character <72> in hex string\n",
      "Syntax Error (220): Illegal character <69> in hex string\n",
      "Syntax Error (221): Illegal character <6e> in hex string\n",
      "Syntax Error (222): Illegal character <6b> in hex string\n",
      "Syntax Error (223): Illegal character <2d> in hex string\n",
      "Syntax Error (224): Illegal character <74> in hex string\n",
      "Syntax Error (225): Illegal character <6f> in hex string\n",
      "Syntax Error (226): Illegal character <2d> in hex string\n",
      "Syntax Error (228): Illegal character <69> in hex string\n",
      "Syntax Error (229): Illegal character <74> in hex string\n",
      "Syntax Error (230): Illegal character <3d> in hex string\n",
      "Syntax Error (231): Illegal character <6e> in hex string\n",
      "Syntax Error (232): Illegal character <6f> in hex string\n",
      "Syntax Error (233): Illegal character <22> in hex string\n",
      "Syntax Error: Couldn't find trailer dictionary\n",
      "Syntax Error: Couldn't find trailer dictionary\n",
      "Syntax Error: Couldn't read xref table\n",
      "WARNING - haystack.nodes.file_converter.pdf -  The language for ../shared_data/thanatcc/RIA_Input/Clean_International_Regulator/25-MAS/other/sg_294.pdf is not one of ['en']. The file may not have been decoded in the correct text format.\n",
      " 92%|███████████████████████████████████████████████████████████████████████████████████████████████████████████████████████████████████████████████████████████▊             | 354/384 [02:35<00:07,  3.86it/s]"
     ]
    },
    {
     "name": "stdout",
     "output_type": "stream",
     "text": [
      "Error: ../shared_data/thanatcc/RIA_Input/Clean_International_Regulator/25-MAS/other/sg_294.pdf\n"
     ]
    },
    {
     "name": "stderr",
     "output_type": "stream",
     "text": [
      " 98%|█████████████████████████████████████████████████████████████████████████████████████████████████████████████████████████████████████████████████████████████████████    | 375/384 [02:40<00:02,  3.24it/s]WARNING - haystack.nodes.file_converter.pdf -  The language for ../shared_data/thanatcc/RIA_Input/Clean_International_Regulator/25-MAS/digital assets/financial-services-and-markets-bill-uthority-of-singapore-on-4-april-2022.pdf is not one of ['en']. The file may not have been decoded in the correct text format.\n",
      " 98%|█████████████████████████████████████████████████████████████████████████████████████████████████████████████████████████████████████████████████████████████████████▍   | 376/384 [02:40<00:02,  3.28it/s]"
     ]
    },
    {
     "name": "stdout",
     "output_type": "stream",
     "text": [
      "Error: ../shared_data/thanatcc/RIA_Input/Clean_International_Regulator/25-MAS/digital assets/financial-services-and-markets-bill-uthority-of-singapore-on-4-april-2022.pdf\n"
     ]
    },
    {
     "name": "stderr",
     "output_type": "stream",
     "text": [
      "100%|█████████████████████████████████████████████████████████████████████████████████████████████████████████████████████████████████████████████████████████████████████████| 384/384 [03:01<00:00,  2.12it/s]\n"
     ]
    }
   ],
   "source": [
    "doc_list = []\n",
    "error_list = []\n",
    "\n",
    "for file_name in tqdm(clean_file_list):\n",
    "    try:\n",
    "        doc = converter.convert(file_path = file_name, meta = None)\n",
    "        docs = preprocessor.process(doc[0])\n",
    "        lang_list = []\n",
    "        for i in range(len(docs)): \n",
    "            try:\n",
    "                temp_detect = detect(docs[i]['content'])\n",
    "                lang_list.append(temp_detect)\n",
    "            except:\n",
    "                pass\n",
    "        en_df = pd.DataFrame(lang_list)[0].value_counts(normalize = True).reset_index()\n",
    "        en_score = float(en_df[en_df['index'] == 'en'][0].values[0])\n",
    "\n",
    "        if float(en_score) < 0.9:\n",
    "            error_list.append(file_name)\n",
    "            print('Error:', file_name)\n",
    "    except:\n",
    "#         break\n",
    "        error_list.append(file_name)\n",
    "        print('Error:', file_name)\n",
    "        pass"
   ]
  },
  {
   "cell_type": "code",
   "execution_count": 170,
   "id": "dbe2f15c",
   "metadata": {},
   "outputs": [
    {
     "data": {
      "text/plain": [
       "['../shared_data/thanatcc/RIA_Input/Clean_International_Regulator/03-BCBS/risk/ripple-effects-of-monetary-policy.pdf',\n",
       " '../shared_data/thanatcc/RIA_Input/Clean_International_Regulator/25-MAS/other/sg_346.pdf',\n",
       " '../shared_data/thanatcc/RIA_Input/Clean_International_Regulator/25-MAS/other/sg_191.pdf',\n",
       " '../shared_data/thanatcc/RIA_Input/Clean_International_Regulator/25-MAS/other/sg_246.pdf',\n",
       " '../shared_data/thanatcc/RIA_Input/Clean_International_Regulator/25-MAS/other/sg_235.pdf',\n",
       " '../shared_data/thanatcc/RIA_Input/Clean_International_Regulator/25-MAS/other/sg_192.pdf',\n",
       " '../shared_data/thanatcc/RIA_Input/Clean_International_Regulator/25-MAS/other/sg_290.pdf',\n",
       " '../shared_data/thanatcc/RIA_Input/Clean_International_Regulator/25-MAS/other/sg_193.pdf',\n",
       " '../shared_data/thanatcc/RIA_Input/Clean_International_Regulator/25-MAS/other/sg_56.pdf',\n",
       " '../shared_data/thanatcc/RIA_Input/Clean_International_Regulator/25-MAS/other/sg_289.pdf',\n",
       " '../shared_data/thanatcc/RIA_Input/Clean_International_Regulator/25-MAS/other/sg_294.pdf',\n",
       " '../shared_data/thanatcc/RIA_Input/Clean_International_Regulator/25-MAS/digital assets/financial-services-and-markets-bill-uthority-of-singapore-on-4-april-2022.pdf']"
      ]
     },
     "execution_count": 170,
     "metadata": {},
     "output_type": "execute_result"
    }
   ],
   "source": [
    "error_list"
   ]
  },
  {
   "cell_type": "code",
   "execution_count": 171,
   "id": "379b39c3",
   "metadata": {},
   "outputs": [
    {
     "data": {
      "text/plain": [
       "372"
      ]
     },
     "execution_count": 171,
     "metadata": {},
     "output_type": "execute_result"
    },
    {
     "data": {
      "text/plain": [
       "372"
      ]
     },
     "execution_count": 171,
     "metadata": {},
     "output_type": "execute_result"
    }
   ],
   "source": [
    "len(clean_file_list)\n",
    "\n",
    "clean_file_list = [each for each in clean_file_list if each not in error_list]\n",
    "\n",
    "len(clean_file_list)"
   ]
  },
  {
   "cell_type": "markdown",
   "id": "78ebb21b",
   "metadata": {},
   "source": [
    "# OCR Error List"
   ]
  },
  {
   "cell_type": "code",
   "execution_count": 183,
   "id": "2ae8c793",
   "metadata": {},
   "outputs": [
    {
     "name": "stdout",
     "output_type": "stream",
     "text": [
      "OK !\n"
     ]
    }
   ],
   "source": [
    "from PIL import Image\n",
    "import pytesseract\n",
    "from pdf2image import convert_from_path\n",
    "from PyPDF2 import PdfFileMerger\n",
    "from progressbar import ProgressBar\n",
    "import os\n",
    "\n",
    "print('OK !')"
   ]
  },
  {
   "cell_type": "code",
   "execution_count": 184,
   "id": "35b55d53",
   "metadata": {},
   "outputs": [
    {
     "data": {
      "text/plain": [
       "LooseVersion ('4.1.1')"
      ]
     },
     "execution_count": 184,
     "metadata": {},
     "output_type": "execute_result"
    }
   ],
   "source": [
    "pytesseract.get_tesseract_version()"
   ]
  },
  {
   "cell_type": "code",
   "execution_count": 186,
   "id": "1371f6fe",
   "metadata": {},
   "outputs": [],
   "source": [
    "dir_list = error_list\n",
    "dir_list = ['/'.join((each.split('/')[:-1])) for each in dir_list]\n",
    "dir_list = list(set(dir_list))\n",
    "dir_list = [each.replace('/Clean_International_Regulator/', '/Clean_International_Regulator_OCR/') for each in dir_list]"
   ]
  },
  {
   "cell_type": "code",
   "execution_count": 188,
   "id": "0677ec63",
   "metadata": {},
   "outputs": [],
   "source": [
    "for each in dir_list:\n",
    "    os.makedirs(each, exist_ok=True)"
   ]
  },
  {
   "cell_type": "code",
   "execution_count": 189,
   "id": "d5fb98d7",
   "metadata": {},
   "outputs": [
    {
     "data": {
      "text/plain": [
       "0"
      ]
     },
     "execution_count": 189,
     "metadata": {},
     "output_type": "execute_result"
    },
    {
     "data": {
      "text/plain": [
       "0"
      ]
     },
     "execution_count": 189,
     "metadata": {},
     "output_type": "execute_result"
    }
   ],
   "source": [
    "root = '../shared_data/thanatcc/RIA_Input/Clean_International_Regulator_OCR'\n",
    "\n",
    "ocr_list = []\n",
    "for path, subdirs, files in os.walk(root):\n",
    "    for name in files:\n",
    "        ocr_list.append(os.path.join(path, name))\n",
    "    \n",
    "len(ocr_list)\n",
    "\n",
    "ocr_list = [each for each in ocr_list if '.pdf' in each or '.PDF' in each]\n",
    "\n",
    "len(ocr_list)"
   ]
  },
  {
   "cell_type": "code",
   "execution_count": 190,
   "id": "5e12752e",
   "metadata": {
    "scrolled": true
   },
   "outputs": [
    {
     "name": "stderr",
     "output_type": "stream",
     "text": [
      "  0%|                                                                                                                                                                                    | 0/12 [00:00<?, ?it/s]"
     ]
    },
    {
     "name": "stdout",
     "output_type": "stream",
     "text": [
      "Start: ../shared_data/thanatcc/RIA_Input/Clean_International_Regulator_OCR/03-BCBS/risk/ripple-effects-of-monetary-policy.pdf\n"
     ]
    },
    {
     "name": "stderr",
     "output_type": "stream",
     "text": [
      "  0% |                                                                                                                                                                                                         |\r"
     ]
    },
    {
     "data": {
      "text/plain": [
       "154041"
      ]
     },
     "execution_count": 190,
     "metadata": {},
     "output_type": "execute_result"
    },
    {
     "name": "stderr",
     "output_type": "stream",
     "text": [
      "  1% |##                                                                                                                                                                                                       |\r"
     ]
    },
    {
     "data": {
      "text/plain": [
       "164202"
      ]
     },
     "execution_count": 190,
     "metadata": {},
     "output_type": "execute_result"
    },
    {
     "name": "stderr",
     "output_type": "stream",
     "text": [
      "  2% |####                                                                                                                                                                                                     |\r"
     ]
    },
    {
     "data": {
      "text/plain": [
       "423609"
      ]
     },
     "execution_count": 190,
     "metadata": {},
     "output_type": "execute_result"
    },
    {
     "name": "stderr",
     "output_type": "stream",
     "text": [
      "  3% |######                                                                                                                                                                                                   |\r"
     ]
    },
    {
     "data": {
      "text/plain": [
       "465267"
      ]
     },
     "execution_count": 190,
     "metadata": {},
     "output_type": "execute_result"
    },
    {
     "name": "stderr",
     "output_type": "stream",
     "text": [
      "  4% |########                                                                                                                                                                                                 |\r"
     ]
    },
    {
     "data": {
      "text/plain": [
       "488282"
      ]
     },
     "execution_count": 190,
     "metadata": {},
     "output_type": "execute_result"
    },
    {
     "name": "stderr",
     "output_type": "stream",
     "text": [
      "  5% |##########                                                                                                                                                                                               |\r"
     ]
    },
    {
     "data": {
      "text/plain": [
       "483793"
      ]
     },
     "execution_count": 190,
     "metadata": {},
     "output_type": "execute_result"
    },
    {
     "name": "stderr",
     "output_type": "stream",
     "text": [
      "  6% |############                                                                                                                                                                                             |\r"
     ]
    },
    {
     "data": {
      "text/plain": [
       "461820"
      ]
     },
     "execution_count": 190,
     "metadata": {},
     "output_type": "execute_result"
    },
    {
     "name": "stderr",
     "output_type": "stream",
     "text": [
      "  7% |##############                                                                                                                                                                                           |\r"
     ]
    },
    {
     "data": {
      "text/plain": [
       "491864"
      ]
     },
     "execution_count": 190,
     "metadata": {},
     "output_type": "execute_result"
    },
    {
     "name": "stderr",
     "output_type": "stream",
     "text": [
      "  8% |################                                                                                                                                                                                         |\r"
     ]
    },
    {
     "data": {
      "text/plain": [
       "462279"
      ]
     },
     "execution_count": 190,
     "metadata": {},
     "output_type": "execute_result"
    },
    {
     "name": "stderr",
     "output_type": "stream",
     "text": [
      "  9% |##################                                                                                                                                                                                       |\r"
     ]
    },
    {
     "data": {
      "text/plain": [
       "434389"
      ]
     },
     "execution_count": 190,
     "metadata": {},
     "output_type": "execute_result"
    },
    {
     "name": "stderr",
     "output_type": "stream",
     "text": [
      " 10% |####################                                                                                                                                                                                     |\r"
     ]
    },
    {
     "data": {
      "text/plain": [
       "458454"
      ]
     },
     "execution_count": 190,
     "metadata": {},
     "output_type": "execute_result"
    },
    {
     "name": "stderr",
     "output_type": "stream",
     "text": [
      " 11% |######################                                                                                                                                                                                   |\r"
     ]
    },
    {
     "data": {
      "text/plain": [
       "462915"
      ]
     },
     "execution_count": 190,
     "metadata": {},
     "output_type": "execute_result"
    },
    {
     "name": "stderr",
     "output_type": "stream",
     "text": [
      " 12% |########################                                                                                                                                                                                 |\r"
     ]
    },
    {
     "data": {
      "text/plain": [
       "439045"
      ]
     },
     "execution_count": 190,
     "metadata": {},
     "output_type": "execute_result"
    },
    {
     "name": "stderr",
     "output_type": "stream",
     "text": [
      " 13% |##########################                                                                                                                                                                               |\r"
     ]
    },
    {
     "data": {
      "text/plain": [
       "482174"
      ]
     },
     "execution_count": 190,
     "metadata": {},
     "output_type": "execute_result"
    },
    {
     "name": "stderr",
     "output_type": "stream",
     "text": [
      " 14% |############################                                                                                                                                                                             |\r"
     ]
    },
    {
     "data": {
      "text/plain": [
       "447033"
      ]
     },
     "execution_count": 190,
     "metadata": {},
     "output_type": "execute_result"
    },
    {
     "name": "stderr",
     "output_type": "stream",
     "text": [
      " 15% |##############################                                                                                                                                                                           |\r"
     ]
    },
    {
     "data": {
      "text/plain": [
       "439475"
      ]
     },
     "execution_count": 190,
     "metadata": {},
     "output_type": "execute_result"
    },
    {
     "name": "stderr",
     "output_type": "stream",
     "text": [
      " 16% |################################                                                                                                                                                                         |\r"
     ]
    },
    {
     "data": {
      "text/plain": [
       "485744"
      ]
     },
     "execution_count": 190,
     "metadata": {},
     "output_type": "execute_result"
    },
    {
     "name": "stderr",
     "output_type": "stream",
     "text": [
      " 17% |##################################                                                                                                                                                                       |\r"
     ]
    },
    {
     "data": {
      "text/plain": [
       "449291"
      ]
     },
     "execution_count": 190,
     "metadata": {},
     "output_type": "execute_result"
    },
    {
     "name": "stderr",
     "output_type": "stream",
     "text": [
      " 18% |####################################                                                                                                                                                                     |\r"
     ]
    },
    {
     "data": {
      "text/plain": [
       "475982"
      ]
     },
     "execution_count": 190,
     "metadata": {},
     "output_type": "execute_result"
    },
    {
     "name": "stderr",
     "output_type": "stream",
     "text": [
      " 19% |######################################                                                                                                                                                                   |\r"
     ]
    },
    {
     "data": {
      "text/plain": [
       "544386"
      ]
     },
     "execution_count": 190,
     "metadata": {},
     "output_type": "execute_result"
    },
    {
     "name": "stderr",
     "output_type": "stream",
     "text": [
      " 20% |########################################                                                                                                                                                                 |\r"
     ]
    },
    {
     "data": {
      "text/plain": [
       "460046"
      ]
     },
     "execution_count": 190,
     "metadata": {},
     "output_type": "execute_result"
    },
    {
     "name": "stderr",
     "output_type": "stream",
     "text": [
      " 21% |##########################################                                                                                                                                                               |\r"
     ]
    },
    {
     "data": {
      "text/plain": [
       "466557"
      ]
     },
     "execution_count": 190,
     "metadata": {},
     "output_type": "execute_result"
    },
    {
     "name": "stderr",
     "output_type": "stream",
     "text": [
      " 22% |############################################                                                                                                                                                             |\r"
     ]
    },
    {
     "data": {
      "text/plain": [
       "455960"
      ]
     },
     "execution_count": 190,
     "metadata": {},
     "output_type": "execute_result"
    },
    {
     "name": "stderr",
     "output_type": "stream",
     "text": [
      " 23% |##############################################                                                                                                                                                           |\r"
     ]
    },
    {
     "data": {
      "text/plain": [
       "486981"
      ]
     },
     "execution_count": 190,
     "metadata": {},
     "output_type": "execute_result"
    },
    {
     "name": "stderr",
     "output_type": "stream",
     "text": [
      " 24% |################################################                                                                                                                                                         |\r"
     ]
    },
    {
     "data": {
      "text/plain": [
       "475123"
      ]
     },
     "execution_count": 190,
     "metadata": {},
     "output_type": "execute_result"
    },
    {
     "name": "stderr",
     "output_type": "stream",
     "text": [
      " 25% |##################################################                                                                                                                                                       |\r"
     ]
    },
    {
     "data": {
      "text/plain": [
       "473087"
      ]
     },
     "execution_count": 190,
     "metadata": {},
     "output_type": "execute_result"
    },
    {
     "name": "stderr",
     "output_type": "stream",
     "text": [
      " 26% |####################################################                                                                                                                                                     |\r"
     ]
    },
    {
     "data": {
      "text/plain": [
       "433628"
      ]
     },
     "execution_count": 190,
     "metadata": {},
     "output_type": "execute_result"
    },
    {
     "name": "stderr",
     "output_type": "stream",
     "text": [
      " 27% |######################################################                                                                                                                                                   |\r"
     ]
    },
    {
     "data": {
      "text/plain": [
       "462253"
      ]
     },
     "execution_count": 190,
     "metadata": {},
     "output_type": "execute_result"
    },
    {
     "name": "stderr",
     "output_type": "stream",
     "text": [
      " 28% |########################################################                                                                                                                                                 |\r"
     ]
    },
    {
     "data": {
      "text/plain": [
       "426685"
      ]
     },
     "execution_count": 190,
     "metadata": {},
     "output_type": "execute_result"
    },
    {
     "name": "stderr",
     "output_type": "stream",
     "text": [
      " 29% |##########################################################                                                                                                                                               |\r"
     ]
    },
    {
     "data": {
      "text/plain": [
       "203106"
      ]
     },
     "execution_count": 190,
     "metadata": {},
     "output_type": "execute_result"
    },
    {
     "name": "stderr",
     "output_type": "stream",
     "text": [
      " 30% |############################################################                                                                                                                                             |\r"
     ]
    },
    {
     "data": {
      "text/plain": [
       "328949"
      ]
     },
     "execution_count": 190,
     "metadata": {},
     "output_type": "execute_result"
    },
    {
     "name": "stderr",
     "output_type": "stream",
     "text": [
      " 31% |##############################################################                                                                                                                                           |\r"
     ]
    },
    {
     "data": {
      "text/plain": [
       "353940"
      ]
     },
     "execution_count": 190,
     "metadata": {},
     "output_type": "execute_result"
    },
    {
     "name": "stderr",
     "output_type": "stream",
     "text": [
      " 32% |################################################################                                                                                                                                         |\r"
     ]
    },
    {
     "data": {
      "text/plain": [
       "377336"
      ]
     },
     "execution_count": 190,
     "metadata": {},
     "output_type": "execute_result"
    },
    {
     "name": "stderr",
     "output_type": "stream",
     "text": [
      " 33% |###################################################################                                                                                                                                      |\r"
     ]
    },
    {
     "data": {
      "text/plain": [
       "338518"
      ]
     },
     "execution_count": 190,
     "metadata": {},
     "output_type": "execute_result"
    },
    {
     "name": "stderr",
     "output_type": "stream",
     "text": [
      " 34% |#####################################################################                                                                                                                                    |\r"
     ]
    },
    {
     "data": {
      "text/plain": [
       "220756"
      ]
     },
     "execution_count": 190,
     "metadata": {},
     "output_type": "execute_result"
    },
    {
     "name": "stderr",
     "output_type": "stream",
     "text": [
      " 35% |#######################################################################                                                                                                                                  |\r"
     ]
    },
    {
     "data": {
      "text/plain": [
       "394068"
      ]
     },
     "execution_count": 190,
     "metadata": {},
     "output_type": "execute_result"
    },
    {
     "name": "stderr",
     "output_type": "stream",
     "text": [
      " 36% |#########################################################################                                                                                                                                |\r"
     ]
    },
    {
     "data": {
      "text/plain": [
       "336987"
      ]
     },
     "execution_count": 190,
     "metadata": {},
     "output_type": "execute_result"
    },
    {
     "name": "stderr",
     "output_type": "stream",
     "text": [
      " 37% |###########################################################################                                                                                                                              |\r"
     ]
    },
    {
     "data": {
      "text/plain": [
       "455394"
      ]
     },
     "execution_count": 190,
     "metadata": {},
     "output_type": "execute_result"
    },
    {
     "name": "stderr",
     "output_type": "stream",
     "text": [
      " 38% |#############################################################################                                                                                                                            |\r"
     ]
    },
    {
     "data": {
      "text/plain": [
       "344502"
      ]
     },
     "execution_count": 190,
     "metadata": {},
     "output_type": "execute_result"
    },
    {
     "name": "stderr",
     "output_type": "stream",
     "text": [
      " 39% |###############################################################################                                                                                                                          |\r"
     ]
    },
    {
     "data": {
      "text/plain": [
       "460394"
      ]
     },
     "execution_count": 190,
     "metadata": {},
     "output_type": "execute_result"
    },
    {
     "name": "stderr",
     "output_type": "stream",
     "text": [
      " 40% |#################################################################################                                                                                                                        |\r"
     ]
    },
    {
     "data": {
      "text/plain": [
       "350174"
      ]
     },
     "execution_count": 190,
     "metadata": {},
     "output_type": "execute_result"
    },
    {
     "name": "stderr",
     "output_type": "stream",
     "text": [
      " 41% |###################################################################################                                                                                                                      |\r"
     ]
    },
    {
     "data": {
      "text/plain": [
       "407478"
      ]
     },
     "execution_count": 190,
     "metadata": {},
     "output_type": "execute_result"
    },
    {
     "name": "stderr",
     "output_type": "stream",
     "text": [
      " 42% |#####################################################################################                                                                                                                    |\r"
     ]
    },
    {
     "data": {
      "text/plain": [
       "381393"
      ]
     },
     "execution_count": 190,
     "metadata": {},
     "output_type": "execute_result"
    },
    {
     "name": "stderr",
     "output_type": "stream",
     "text": [
      " 43% |#######################################################################################                                                                                                                  |\r"
     ]
    },
    {
     "data": {
      "text/plain": [
       "347213"
      ]
     },
     "execution_count": 190,
     "metadata": {},
     "output_type": "execute_result"
    },
    {
     "name": "stderr",
     "output_type": "stream",
     "text": [
      " 44% |#########################################################################################                                                                                                                |\r"
     ]
    },
    {
     "data": {
      "text/plain": [
       "451707"
      ]
     },
     "execution_count": 190,
     "metadata": {},
     "output_type": "execute_result"
    },
    {
     "name": "stderr",
     "output_type": "stream",
     "text": [
      " 45% |###########################################################################################                                                                                                              |\r"
     ]
    },
    {
     "data": {
      "text/plain": [
       "391296"
      ]
     },
     "execution_count": 190,
     "metadata": {},
     "output_type": "execute_result"
    },
    {
     "name": "stderr",
     "output_type": "stream",
     "text": [
      " 46% |#############################################################################################                                                                                                            |\r"
     ]
    },
    {
     "data": {
      "text/plain": [
       "452926"
      ]
     },
     "execution_count": 190,
     "metadata": {},
     "output_type": "execute_result"
    },
    {
     "name": "stderr",
     "output_type": "stream",
     "text": [
      " 47% |###############################################################################################                                                                                                          |\r"
     ]
    },
    {
     "data": {
      "text/plain": [
       "388969"
      ]
     },
     "execution_count": 190,
     "metadata": {},
     "output_type": "execute_result"
    },
    {
     "name": "stderr",
     "output_type": "stream",
     "text": [
      " 48% |#################################################################################################                                                                                                        |\r"
     ]
    },
    {
     "data": {
      "text/plain": [
       "473199"
      ]
     },
     "execution_count": 190,
     "metadata": {},
     "output_type": "execute_result"
    },
    {
     "name": "stderr",
     "output_type": "stream",
     "text": [
      " 49% |###################################################################################################                                                                                                      |\r"
     ]
    },
    {
     "data": {
      "text/plain": [
       "372760"
      ]
     },
     "execution_count": 190,
     "metadata": {},
     "output_type": "execute_result"
    },
    {
     "name": "stderr",
     "output_type": "stream",
     "text": [
      " 50% |#####################################################################################################                                                                                                    |\r"
     ]
    },
    {
     "data": {
      "text/plain": [
       "389491"
      ]
     },
     "execution_count": 190,
     "metadata": {},
     "output_type": "execute_result"
    },
    {
     "name": "stderr",
     "output_type": "stream",
     "text": [
      " 51% |#######################################################################################################                                                                                                  |\r"
     ]
    },
    {
     "data": {
      "text/plain": [
       "478771"
      ]
     },
     "execution_count": 190,
     "metadata": {},
     "output_type": "execute_result"
    },
    {
     "name": "stderr",
     "output_type": "stream",
     "text": [
      " 52% |#########################################################################################################                                                                                                |\r"
     ]
    },
    {
     "data": {
      "text/plain": [
       "377040"
      ]
     },
     "execution_count": 190,
     "metadata": {},
     "output_type": "execute_result"
    },
    {
     "name": "stderr",
     "output_type": "stream",
     "text": [
      " 53% |###########################################################################################################                                                                                              |\r"
     ]
    },
    {
     "data": {
      "text/plain": [
       "390844"
      ]
     },
     "execution_count": 190,
     "metadata": {},
     "output_type": "execute_result"
    },
    {
     "name": "stderr",
     "output_type": "stream",
     "text": [
      " 54% |#############################################################################################################                                                                                            |\r"
     ]
    },
    {
     "data": {
      "text/plain": [
       "460323"
      ]
     },
     "execution_count": 190,
     "metadata": {},
     "output_type": "execute_result"
    },
    {
     "name": "stderr",
     "output_type": "stream",
     "text": [
      " 55% |###############################################################################################################                                                                                          |\r"
     ]
    },
    {
     "data": {
      "text/plain": [
       "348041"
      ]
     },
     "execution_count": 190,
     "metadata": {},
     "output_type": "execute_result"
    },
    {
     "name": "stderr",
     "output_type": "stream",
     "text": [
      " 56% |#################################################################################################################                                                                                        |\r"
     ]
    },
    {
     "data": {
      "text/plain": [
       "446598"
      ]
     },
     "execution_count": 190,
     "metadata": {},
     "output_type": "execute_result"
    },
    {
     "name": "stderr",
     "output_type": "stream",
     "text": [
      " 57% |###################################################################################################################                                                                                      |\r"
     ]
    },
    {
     "data": {
      "text/plain": [
       "353361"
      ]
     },
     "execution_count": 190,
     "metadata": {},
     "output_type": "execute_result"
    },
    {
     "name": "stderr",
     "output_type": "stream",
     "text": [
      " 58% |#####################################################################################################################                                                                                    |\r"
     ]
    },
    {
     "data": {
      "text/plain": [
       "252609"
      ]
     },
     "execution_count": 190,
     "metadata": {},
     "output_type": "execute_result"
    },
    {
     "name": "stderr",
     "output_type": "stream",
     "text": [
      " 59% |#######################################################################################################################                                                                                  |\r"
     ]
    },
    {
     "data": {
      "text/plain": [
       "235160"
      ]
     },
     "execution_count": 190,
     "metadata": {},
     "output_type": "execute_result"
    },
    {
     "name": "stderr",
     "output_type": "stream",
     "text": [
      " 60% |#########################################################################################################################                                                                                |\r"
     ]
    },
    {
     "data": {
      "text/plain": [
       "501620"
      ]
     },
     "execution_count": 190,
     "metadata": {},
     "output_type": "execute_result"
    },
    {
     "name": "stderr",
     "output_type": "stream",
     "text": [
      " 61% |###########################################################################################################################                                                                              |\r"
     ]
    },
    {
     "data": {
      "text/plain": [
       "462127"
      ]
     },
     "execution_count": 190,
     "metadata": {},
     "output_type": "execute_result"
    },
    {
     "name": "stderr",
     "output_type": "stream",
     "text": [
      " 62% |#############################################################################################################################                                                                            |\r"
     ]
    },
    {
     "data": {
      "text/plain": [
       "346678"
      ]
     },
     "execution_count": 190,
     "metadata": {},
     "output_type": "execute_result"
    },
    {
     "name": "stderr",
     "output_type": "stream",
     "text": [
      " 63% |###############################################################################################################################                                                                          |\r"
     ]
    },
    {
     "data": {
      "text/plain": [
       "467894"
      ]
     },
     "execution_count": 190,
     "metadata": {},
     "output_type": "execute_result"
    },
    {
     "name": "stderr",
     "output_type": "stream",
     "text": [
      " 64% |#################################################################################################################################                                                                        |\r"
     ]
    },
    {
     "data": {
      "text/plain": [
       "351209"
      ]
     },
     "execution_count": 190,
     "metadata": {},
     "output_type": "execute_result"
    },
    {
     "name": "stderr",
     "output_type": "stream",
     "text": [
      " 65% |###################################################################################################################################                                                                      |\r"
     ]
    },
    {
     "data": {
      "text/plain": [
       "368022"
      ]
     },
     "execution_count": 190,
     "metadata": {},
     "output_type": "execute_result"
    },
    {
     "name": "stderr",
     "output_type": "stream",
     "text": [
      " 66% |######################################################################################################################################                                                                   |\r"
     ]
    },
    {
     "data": {
      "text/plain": [
       "330760"
      ]
     },
     "execution_count": 190,
     "metadata": {},
     "output_type": "execute_result"
    },
    {
     "name": "stderr",
     "output_type": "stream",
     "text": [
      " 67% |########################################################################################################################################                                                                 |\r"
     ]
    },
    {
     "data": {
      "text/plain": [
       "324215"
      ]
     },
     "execution_count": 190,
     "metadata": {},
     "output_type": "execute_result"
    },
    {
     "name": "stderr",
     "output_type": "stream",
     "text": [
      " 68% |##########################################################################################################################################                                                               |\r"
     ]
    },
    {
     "data": {
      "text/plain": [
       "369461"
      ]
     },
     "execution_count": 190,
     "metadata": {},
     "output_type": "execute_result"
    },
    {
     "name": "stderr",
     "output_type": "stream",
     "text": [
      " 69% |############################################################################################################################################                                                             |\r"
     ]
    },
    {
     "data": {
      "text/plain": [
       "325734"
      ]
     },
     "execution_count": 190,
     "metadata": {},
     "output_type": "execute_result"
    },
    {
     "name": "stderr",
     "output_type": "stream",
     "text": [
      " 70% |##############################################################################################################################################                                                           |\r"
     ]
    },
    {
     "data": {
      "text/plain": [
       "335441"
      ]
     },
     "execution_count": 190,
     "metadata": {},
     "output_type": "execute_result"
    },
    {
     "name": "stderr",
     "output_type": "stream",
     "text": [
      " 71% |################################################################################################################################################                                                         |\r"
     ]
    },
    {
     "data": {
      "text/plain": [
       "412233"
      ]
     },
     "execution_count": 190,
     "metadata": {},
     "output_type": "execute_result"
    },
    {
     "name": "stderr",
     "output_type": "stream",
     "text": [
      " 72% |##################################################################################################################################################                                                       |\r"
     ]
    },
    {
     "data": {
      "text/plain": [
       "385015"
      ]
     },
     "execution_count": 190,
     "metadata": {},
     "output_type": "execute_result"
    },
    {
     "name": "stderr",
     "output_type": "stream",
     "text": [
      " 73% |####################################################################################################################################################                                                     |\r"
     ]
    },
    {
     "data": {
      "text/plain": [
       "319879"
      ]
     },
     "execution_count": 190,
     "metadata": {},
     "output_type": "execute_result"
    },
    {
     "name": "stderr",
     "output_type": "stream",
     "text": [
      " 74% |######################################################################################################################################################                                                   |\r"
     ]
    },
    {
     "data": {
      "text/plain": [
       "465156"
      ]
     },
     "execution_count": 190,
     "metadata": {},
     "output_type": "execute_result"
    },
    {
     "name": "stderr",
     "output_type": "stream",
     "text": [
      " 75% |########################################################################################################################################################                                                 |\r"
     ]
    },
    {
     "data": {
      "text/plain": [
       "343663"
      ]
     },
     "execution_count": 190,
     "metadata": {},
     "output_type": "execute_result"
    },
    {
     "name": "stderr",
     "output_type": "stream",
     "text": [
      " 76% |##########################################################################################################################################################                                               |\r"
     ]
    },
    {
     "data": {
      "text/plain": [
       "463875"
      ]
     },
     "execution_count": 190,
     "metadata": {},
     "output_type": "execute_result"
    },
    {
     "name": "stderr",
     "output_type": "stream",
     "text": [
      " 77% |############################################################################################################################################################                                             |\r"
     ]
    },
    {
     "data": {
      "text/plain": [
       "354294"
      ]
     },
     "execution_count": 190,
     "metadata": {},
     "output_type": "execute_result"
    },
    {
     "name": "stderr",
     "output_type": "stream",
     "text": [
      " 78% |##############################################################################################################################################################                                           |\r"
     ]
    },
    {
     "data": {
      "text/plain": [
       "401431"
      ]
     },
     "execution_count": 190,
     "metadata": {},
     "output_type": "execute_result"
    },
    {
     "name": "stderr",
     "output_type": "stream",
     "text": [
      " 79% |################################################################################################################################################################                                         |\r"
     ]
    },
    {
     "data": {
      "text/plain": [
       "441502"
      ]
     },
     "execution_count": 190,
     "metadata": {},
     "output_type": "execute_result"
    },
    {
     "name": "stderr",
     "output_type": "stream",
     "text": [
      " 80% |##################################################################################################################################################################                                       |\r"
     ]
    },
    {
     "data": {
      "text/plain": [
       "456841"
      ]
     },
     "execution_count": 190,
     "metadata": {},
     "output_type": "execute_result"
    },
    {
     "name": "stderr",
     "output_type": "stream",
     "text": [
      " 81% |####################################################################################################################################################################                                     |\r"
     ]
    },
    {
     "data": {
      "text/plain": [
       "356223"
      ]
     },
     "execution_count": 190,
     "metadata": {},
     "output_type": "execute_result"
    },
    {
     "name": "stderr",
     "output_type": "stream",
     "text": [
      " 82% |######################################################################################################################################################################                                   |\r"
     ]
    },
    {
     "data": {
      "text/plain": [
       "460810"
      ]
     },
     "execution_count": 190,
     "metadata": {},
     "output_type": "execute_result"
    },
    {
     "name": "stderr",
     "output_type": "stream",
     "text": [
      " 83% |########################################################################################################################################################################                                 |\r"
     ]
    },
    {
     "data": {
      "text/plain": [
       "362368"
      ]
     },
     "execution_count": 190,
     "metadata": {},
     "output_type": "execute_result"
    },
    {
     "name": "stderr",
     "output_type": "stream",
     "text": [
      " 84% |##########################################################################################################################################################################                               |\r"
     ]
    },
    {
     "data": {
      "text/plain": [
       "454845"
      ]
     },
     "execution_count": 190,
     "metadata": {},
     "output_type": "execute_result"
    },
    {
     "name": "stderr",
     "output_type": "stream",
     "text": [
      " 85% |############################################################################################################################################################################                             |\r"
     ]
    },
    {
     "data": {
      "text/plain": [
       "381863"
      ]
     },
     "execution_count": 190,
     "metadata": {},
     "output_type": "execute_result"
    },
    {
     "name": "stderr",
     "output_type": "stream",
     "text": [
      " 86% |##############################################################################################################################################################################                           |\r"
     ]
    },
    {
     "data": {
      "text/plain": [
       "454718"
      ]
     },
     "execution_count": 190,
     "metadata": {},
     "output_type": "execute_result"
    },
    {
     "name": "stderr",
     "output_type": "stream",
     "text": [
      " 87% |################################################################################################################################################################################                         |\r"
     ]
    },
    {
     "data": {
      "text/plain": [
       "377514"
      ]
     },
     "execution_count": 190,
     "metadata": {},
     "output_type": "execute_result"
    },
    {
     "name": "stderr",
     "output_type": "stream",
     "text": [
      " 88% |##################################################################################################################################################################################                       |\r"
     ]
    },
    {
     "data": {
      "text/plain": [
       "472826"
      ]
     },
     "execution_count": 190,
     "metadata": {},
     "output_type": "execute_result"
    },
    {
     "name": "stderr",
     "output_type": "stream",
     "text": [
      " 89% |####################################################################################################################################################################################                     |\r"
     ]
    },
    {
     "data": {
      "text/plain": [
       "363322"
      ]
     },
     "execution_count": 190,
     "metadata": {},
     "output_type": "execute_result"
    },
    {
     "name": "stderr",
     "output_type": "stream",
     "text": [
      " 90% |######################################################################################################################################################################################                   |\r"
     ]
    },
    {
     "data": {
      "text/plain": [
       "399251"
      ]
     },
     "execution_count": 190,
     "metadata": {},
     "output_type": "execute_result"
    },
    {
     "name": "stderr",
     "output_type": "stream",
     "text": [
      " 91% |########################################################################################################################################################################################                 |\r"
     ]
    },
    {
     "data": {
      "text/plain": [
       "410476"
      ]
     },
     "execution_count": 190,
     "metadata": {},
     "output_type": "execute_result"
    },
    {
     "name": "stderr",
     "output_type": "stream",
     "text": [
      " 92% |##########################################################################################################################################################################################               |\r"
     ]
    },
    {
     "data": {
      "text/plain": [
       "419510"
      ]
     },
     "execution_count": 190,
     "metadata": {},
     "output_type": "execute_result"
    },
    {
     "name": "stderr",
     "output_type": "stream",
     "text": [
      " 93% |############################################################################################################################################################################################             |\r"
     ]
    },
    {
     "data": {
      "text/plain": [
       "438975"
      ]
     },
     "execution_count": 190,
     "metadata": {},
     "output_type": "execute_result"
    },
    {
     "name": "stderr",
     "output_type": "stream",
     "text": [
      " 94% |##############################################################################################################################################################################################           |\r"
     ]
    },
    {
     "data": {
      "text/plain": [
       "409731"
      ]
     },
     "execution_count": 190,
     "metadata": {},
     "output_type": "execute_result"
    },
    {
     "name": "stderr",
     "output_type": "stream",
     "text": [
      " 95% |################################################################################################################################################################################################         |\r"
     ]
    },
    {
     "data": {
      "text/plain": [
       "413964"
      ]
     },
     "execution_count": 190,
     "metadata": {},
     "output_type": "execute_result"
    },
    {
     "name": "stderr",
     "output_type": "stream",
     "text": [
      " 96% |##################################################################################################################################################################################################       |\r"
     ]
    },
    {
     "data": {
      "text/plain": [
       "442098"
      ]
     },
     "execution_count": 190,
     "metadata": {},
     "output_type": "execute_result"
    },
    {
     "name": "stderr",
     "output_type": "stream",
     "text": [
      " 97% |####################################################################################################################################################################################################     |\r"
     ]
    },
    {
     "data": {
      "text/plain": [
       "225979"
      ]
     },
     "execution_count": 190,
     "metadata": {},
     "output_type": "execute_result"
    },
    {
     "name": "stderr",
     "output_type": "stream",
     "text": [
      " 98% |######################################################################################################################################################################################################   |\r"
     ]
    },
    {
     "data": {
      "text/plain": [
       "346864"
      ]
     },
     "execution_count": 190,
     "metadata": {},
     "output_type": "execute_result"
    },
    {
     "name": "stderr",
     "output_type": "stream",
     "text": [
      "100% |#########################################################################################################################################################################################################|\n",
      "  8%|██████████████▎                                                                                                                                                            | 1/12 [03:40<40:30, 220.95s/it]"
     ]
    },
    {
     "name": "stdout",
     "output_type": "stream",
     "text": [
      "Success: ../shared_data/thanatcc/RIA_Input/Clean_International_Regulator_OCR/03-BCBS/risk/ripple-effects-of-monetary-policy.pdf\n",
      "Start: ../shared_data/thanatcc/RIA_Input/Clean_International_Regulator_OCR/25-MAS/other/sg_346.pdf\n"
     ]
    },
    {
     "name": "stderr",
     "output_type": "stream",
     "text": [
      "  0% |                                                                                                                                                                                                         |\r"
     ]
    },
    {
     "data": {
      "text/plain": [
       "386855"
      ]
     },
     "execution_count": 190,
     "metadata": {},
     "output_type": "execute_result"
    },
    {
     "name": "stderr",
     "output_type": "stream",
     "text": [
      "  7% |##############                                                                                                                                                                                           |\r"
     ]
    },
    {
     "data": {
      "text/plain": [
       "598328"
      ]
     },
     "execution_count": 190,
     "metadata": {},
     "output_type": "execute_result"
    },
    {
     "name": "stderr",
     "output_type": "stream",
     "text": [
      " 14% |############################                                                                                                                                                                             |\r"
     ]
    },
    {
     "data": {
      "text/plain": [
       "566540"
      ]
     },
     "execution_count": 190,
     "metadata": {},
     "output_type": "execute_result"
    },
    {
     "name": "stderr",
     "output_type": "stream",
     "text": [
      " 21% |###########################################                                                                                                                                                              |\r"
     ]
    },
    {
     "data": {
      "text/plain": [
       "559554"
      ]
     },
     "execution_count": 190,
     "metadata": {},
     "output_type": "execute_result"
    },
    {
     "name": "stderr",
     "output_type": "stream",
     "text": [
      " 28% |#########################################################                                                                                                                                                |\r"
     ]
    },
    {
     "data": {
      "text/plain": [
       "632269"
      ]
     },
     "execution_count": 190,
     "metadata": {},
     "output_type": "execute_result"
    },
    {
     "name": "stderr",
     "output_type": "stream",
     "text": [
      " 35% |#######################################################################                                                                                                                                  |\r"
     ]
    },
    {
     "data": {
      "text/plain": [
       "439206"
      ]
     },
     "execution_count": 190,
     "metadata": {},
     "output_type": "execute_result"
    },
    {
     "name": "stderr",
     "output_type": "stream",
     "text": [
      " 42% |######################################################################################                                                                                                                   |\r"
     ]
    },
    {
     "data": {
      "text/plain": [
       "555183"
      ]
     },
     "execution_count": 190,
     "metadata": {},
     "output_type": "execute_result"
    },
    {
     "name": "stderr",
     "output_type": "stream",
     "text": [
      " 50% |####################################################################################################                                                                                                     |\r"
     ]
    },
    {
     "data": {
      "text/plain": [
       "622403"
      ]
     },
     "execution_count": 190,
     "metadata": {},
     "output_type": "execute_result"
    },
    {
     "name": "stderr",
     "output_type": "stream",
     "text": [
      " 57% |##################################################################################################################                                                                                       |\r"
     ]
    },
    {
     "data": {
      "text/plain": [
       "496810"
      ]
     },
     "execution_count": 190,
     "metadata": {},
     "output_type": "execute_result"
    },
    {
     "name": "stderr",
     "output_type": "stream",
     "text": [
      " 64% |#################################################################################################################################                                                                        |\r"
     ]
    },
    {
     "data": {
      "text/plain": [
       "482938"
      ]
     },
     "execution_count": 190,
     "metadata": {},
     "output_type": "execute_result"
    },
    {
     "name": "stderr",
     "output_type": "stream",
     "text": [
      " 71% |###############################################################################################################################################                                                          |\r"
     ]
    },
    {
     "data": {
      "text/plain": [
       "241722"
      ]
     },
     "execution_count": 190,
     "metadata": {},
     "output_type": "execute_result"
    },
    {
     "name": "stderr",
     "output_type": "stream",
     "text": [
      " 78% |#############################################################################################################################################################                                            |\r"
     ]
    },
    {
     "data": {
      "text/plain": [
       "271936"
      ]
     },
     "execution_count": 190,
     "metadata": {},
     "output_type": "execute_result"
    },
    {
     "name": "stderr",
     "output_type": "stream",
     "text": [
      " 85% |############################################################################################################################################################################                             |\r"
     ]
    },
    {
     "data": {
      "text/plain": [
       "385423"
      ]
     },
     "execution_count": 190,
     "metadata": {},
     "output_type": "execute_result"
    },
    {
     "name": "stderr",
     "output_type": "stream",
     "text": [
      " 92% |##########################################################################################################################################################################################               |\r"
     ]
    },
    {
     "data": {
      "text/plain": [
       "264725"
      ]
     },
     "execution_count": 190,
     "metadata": {},
     "output_type": "execute_result"
    },
    {
     "name": "stderr",
     "output_type": "stream",
     "text": [
      "100% |#########################################################################################################################################################################################################|\n",
      " 17%|████████████████████████████▌                                                                                                                                              | 2/12 [04:08<17:50, 107.10s/it]"
     ]
    },
    {
     "name": "stdout",
     "output_type": "stream",
     "text": [
      "Success: ../shared_data/thanatcc/RIA_Input/Clean_International_Regulator_OCR/25-MAS/other/sg_346.pdf\n",
      "Start: ../shared_data/thanatcc/RIA_Input/Clean_International_Regulator_OCR/25-MAS/other/sg_191.pdf\n",
      "Error: ../shared_data/thanatcc/RIA_Input/Clean_International_Regulator/25-MAS/other/sg_191.pdf\n",
      "Start: ../shared_data/thanatcc/RIA_Input/Clean_International_Regulator_OCR/25-MAS/other/sg_246.pdf\n"
     ]
    },
    {
     "name": "stderr",
     "output_type": "stream",
     "text": [
      "  0% |                                                                                                                                                                                                         |\r"
     ]
    },
    {
     "data": {
      "text/plain": [
       "589224"
      ]
     },
     "execution_count": 190,
     "metadata": {},
     "output_type": "execute_result"
    },
    {
     "name": "stderr",
     "output_type": "stream",
     "text": [
      " 14% |############################                                                                                                                                                                             |\r"
     ]
    },
    {
     "data": {
      "text/plain": [
       "804500"
      ]
     },
     "execution_count": 190,
     "metadata": {},
     "output_type": "execute_result"
    },
    {
     "name": "stderr",
     "output_type": "stream",
     "text": [
      " 28% |#########################################################                                                                                                                                                |\r"
     ]
    },
    {
     "data": {
      "text/plain": [
       "672336"
      ]
     },
     "execution_count": 190,
     "metadata": {},
     "output_type": "execute_result"
    },
    {
     "name": "stderr",
     "output_type": "stream",
     "text": [
      " 42% |######################################################################################                                                                                                                   |\r"
     ]
    },
    {
     "data": {
      "text/plain": [
       "231597"
      ]
     },
     "execution_count": 190,
     "metadata": {},
     "output_type": "execute_result"
    },
    {
     "name": "stderr",
     "output_type": "stream",
     "text": [
      " 57% |##################################################################################################################                                                                                       |\r"
     ]
    },
    {
     "data": {
      "text/plain": [
       "392973"
      ]
     },
     "execution_count": 190,
     "metadata": {},
     "output_type": "execute_result"
    },
    {
     "name": "stderr",
     "output_type": "stream",
     "text": [
      " 71% |###############################################################################################################################################                                                          |\r"
     ]
    },
    {
     "data": {
      "text/plain": [
       "254574"
      ]
     },
     "execution_count": 190,
     "metadata": {},
     "output_type": "execute_result"
    },
    {
     "name": "stderr",
     "output_type": "stream",
     "text": [
      " 85% |############################################################################################################################################################################                             |\r"
     ]
    },
    {
     "data": {
      "text/plain": [
       "261155"
      ]
     },
     "execution_count": 190,
     "metadata": {},
     "output_type": "execute_result"
    },
    {
     "name": "stderr",
     "output_type": "stream",
     "text": [
      "100% |#########################################################################################################################################################################################################|\n",
      " 33%|█████████████████████████████████████████████████████████▎                                                                                                                  | 4/12 [04:22<05:56, 44.52s/it]"
     ]
    },
    {
     "name": "stdout",
     "output_type": "stream",
     "text": [
      "Success: ../shared_data/thanatcc/RIA_Input/Clean_International_Regulator_OCR/25-MAS/other/sg_246.pdf\n",
      "Start: ../shared_data/thanatcc/RIA_Input/Clean_International_Regulator_OCR/25-MAS/other/sg_235.pdf\n"
     ]
    },
    {
     "name": "stderr",
     "output_type": "stream",
     "text": [
      "  0% |                                                                                                                                                                                                         |\r"
     ]
    },
    {
     "data": {
      "text/plain": [
       "515523"
      ]
     },
     "execution_count": 190,
     "metadata": {},
     "output_type": "execute_result"
    },
    {
     "name": "stderr",
     "output_type": "stream",
     "text": [
      " 20% |########################################                                                                                                                                                                 |\r"
     ]
    },
    {
     "data": {
      "text/plain": [
       "527739"
      ]
     },
     "execution_count": 190,
     "metadata": {},
     "output_type": "execute_result"
    },
    {
     "name": "stderr",
     "output_type": "stream",
     "text": [
      " 40% |################################################################################                                                                                                                         |\r"
     ]
    },
    {
     "data": {
      "text/plain": [
       "214255"
      ]
     },
     "execution_count": 190,
     "metadata": {},
     "output_type": "execute_result"
    },
    {
     "name": "stderr",
     "output_type": "stream",
     "text": [
      " 60% |########################################################################################################################                                                                                 |\r"
     ]
    },
    {
     "data": {
      "text/plain": [
       "369173"
      ]
     },
     "execution_count": 190,
     "metadata": {},
     "output_type": "execute_result"
    },
    {
     "name": "stderr",
     "output_type": "stream",
     "text": [
      " 80% |################################################################################################################################################################                                         |\r"
     ]
    },
    {
     "data": {
      "text/plain": [
       "265090"
      ]
     },
     "execution_count": 190,
     "metadata": {},
     "output_type": "execute_result"
    },
    {
     "name": "stderr",
     "output_type": "stream",
     "text": [
      "100% |#########################################################################################################################################################################################################|\n",
      " 42%|███████████████████████████████████████████████████████████████████████▋                                                                                                    | 5/12 [04:30<03:52, 33.18s/it]"
     ]
    },
    {
     "name": "stdout",
     "output_type": "stream",
     "text": [
      "Success: ../shared_data/thanatcc/RIA_Input/Clean_International_Regulator_OCR/25-MAS/other/sg_235.pdf\n",
      "Start: ../shared_data/thanatcc/RIA_Input/Clean_International_Regulator_OCR/25-MAS/other/sg_192.pdf\n",
      "Error: ../shared_data/thanatcc/RIA_Input/Clean_International_Regulator/25-MAS/other/sg_192.pdf\n",
      "Start: ../shared_data/thanatcc/RIA_Input/Clean_International_Regulator_OCR/25-MAS/other/sg_290.pdf\n"
     ]
    },
    {
     "name": "stderr",
     "output_type": "stream",
     "text": [
      "  0% |                                                                                                                                                                                                         |\r"
     ]
    },
    {
     "data": {
      "text/plain": [
       "333059"
      ]
     },
     "execution_count": 190,
     "metadata": {},
     "output_type": "execute_result"
    },
    {
     "name": "stderr",
     "output_type": "stream",
     "text": [
      " 50% |####################################################################################################                                                                                                     |\r"
     ]
    },
    {
     "data": {
      "text/plain": [
       "479352"
      ]
     },
     "execution_count": 190,
     "metadata": {},
     "output_type": "execute_result"
    },
    {
     "name": "stderr",
     "output_type": "stream",
     "text": [
      "100% |#########################################################################################################################################################################################################|\n",
      " 58%|████████████████████████████████████████████████████████████████████████████████████████████████████▎                                                                       | 7/12 [04:34<01:32, 18.40s/it]"
     ]
    },
    {
     "name": "stdout",
     "output_type": "stream",
     "text": [
      "Success: ../shared_data/thanatcc/RIA_Input/Clean_International_Regulator_OCR/25-MAS/other/sg_290.pdf\n",
      "Start: ../shared_data/thanatcc/RIA_Input/Clean_International_Regulator_OCR/25-MAS/other/sg_193.pdf\n",
      "Error: ../shared_data/thanatcc/RIA_Input/Clean_International_Regulator/25-MAS/other/sg_193.pdf\n",
      "Start: ../shared_data/thanatcc/RIA_Input/Clean_International_Regulator_OCR/25-MAS/other/sg_56.pdf\n"
     ]
    },
    {
     "name": "stderr",
     "output_type": "stream",
     "text": [
      "  0% |                                                                                                                                                                                                         |\r"
     ]
    },
    {
     "data": {
      "text/plain": [
       "581274"
      ]
     },
     "execution_count": 190,
     "metadata": {},
     "output_type": "execute_result"
    },
    {
     "name": "stderr",
     "output_type": "stream",
     "text": [
      " 25% |##################################################                                                                                                                                                       |\r"
     ]
    },
    {
     "data": {
      "text/plain": [
       "592491"
      ]
     },
     "execution_count": 190,
     "metadata": {},
     "output_type": "execute_result"
    },
    {
     "name": "stderr",
     "output_type": "stream",
     "text": [
      " 50% |####################################################################################################                                                                                                     |\r"
     ]
    },
    {
     "data": {
      "text/plain": [
       "643383"
      ]
     },
     "execution_count": 190,
     "metadata": {},
     "output_type": "execute_result"
    },
    {
     "name": "stderr",
     "output_type": "stream",
     "text": [
      " 75% |######################################################################################################################################################                                                   |\r"
     ]
    },
    {
     "data": {
      "text/plain": [
       "213483"
      ]
     },
     "execution_count": 190,
     "metadata": {},
     "output_type": "execute_result"
    },
    {
     "name": "stderr",
     "output_type": "stream",
     "text": [
      "100% |#########################################################################################################################################################################################################|\n",
      " 75%|█████████████████████████████████████████████████████████████████████████████████████████████████████████████████████████████████                                           | 9/12 [04:43<00:38, 12.84s/it]  0% |                                                                                                                                                                                                         |\r"
     ]
    },
    {
     "name": "stdout",
     "output_type": "stream",
     "text": [
      "Success: ../shared_data/thanatcc/RIA_Input/Clean_International_Regulator_OCR/25-MAS/other/sg_56.pdf\n",
      "Start: ../shared_data/thanatcc/RIA_Input/Clean_International_Regulator_OCR/25-MAS/other/sg_289.pdf\n"
     ]
    },
    {
     "data": {
      "text/plain": [
       "284855"
      ]
     },
     "execution_count": 190,
     "metadata": {},
     "output_type": "execute_result"
    },
    {
     "name": "stderr",
     "output_type": "stream",
     "text": [
      "100% |#########################################################################################################################################################################################################|\n",
      " 83%|██████████████████████████████████████████████████████████████████████████████████████████████████████████████████████████████████████████████▌                            | 10/12 [04:44<00:20, 10.23s/it]"
     ]
    },
    {
     "name": "stdout",
     "output_type": "stream",
     "text": [
      "Success: ../shared_data/thanatcc/RIA_Input/Clean_International_Regulator_OCR/25-MAS/other/sg_289.pdf\n",
      "Start: ../shared_data/thanatcc/RIA_Input/Clean_International_Regulator_OCR/25-MAS/other/sg_294.pdf\n",
      "Error: ../shared_data/thanatcc/RIA_Input/Clean_International_Regulator/25-MAS/other/sg_294.pdf\n",
      "Start: ../shared_data/thanatcc/RIA_Input/Clean_International_Regulator_OCR/25-MAS/digital assets/financial-services-and-markets-bill-uthority-of-singapore-on-4-april-2022.pdf\n"
     ]
    },
    {
     "name": "stderr",
     "output_type": "stream",
     "text": [
      "  0% |                                                                                                                                                                                                         |\r"
     ]
    },
    {
     "data": {
      "text/plain": [
       "569928"
      ]
     },
     "execution_count": 190,
     "metadata": {},
     "output_type": "execute_result"
    },
    {
     "name": "stderr",
     "output_type": "stream",
     "text": [
      " 16% |#################################                                                                                                                                                                        |\r"
     ]
    },
    {
     "data": {
      "text/plain": [
       "800219"
      ]
     },
     "execution_count": 190,
     "metadata": {},
     "output_type": "execute_result"
    },
    {
     "name": "stderr",
     "output_type": "stream",
     "text": [
      " 33% |###################################################################                                                                                                                                      |\r"
     ]
    },
    {
     "data": {
      "text/plain": [
       "688116"
      ]
     },
     "execution_count": 190,
     "metadata": {},
     "output_type": "execute_result"
    },
    {
     "name": "stderr",
     "output_type": "stream",
     "text": [
      " 50% |####################################################################################################                                                                                                     |\r"
     ]
    },
    {
     "data": {
      "text/plain": [
       "780302"
      ]
     },
     "execution_count": 190,
     "metadata": {},
     "output_type": "execute_result"
    },
    {
     "name": "stderr",
     "output_type": "stream",
     "text": [
      " 66% |######################################################################################################################################                                                                   |\r"
     ]
    },
    {
     "data": {
      "text/plain": [
       "813251"
      ]
     },
     "execution_count": 190,
     "metadata": {},
     "output_type": "execute_result"
    },
    {
     "name": "stderr",
     "output_type": "stream",
     "text": [
      " 83% |#######################################################################################################################################################################                                  |\r"
     ]
    },
    {
     "data": {
      "text/plain": [
       "108280"
      ]
     },
     "execution_count": 190,
     "metadata": {},
     "output_type": "execute_result"
    },
    {
     "name": "stderr",
     "output_type": "stream",
     "text": [
      "100% |#########################################################################################################################################################################################################|\n",
      "100%|███████████████████████████████████████████████████████████████████████████████████████████████████████████████████████████████████████████████████████████████████████████| 12/12 [05:01<00:00, 25.13s/it]"
     ]
    },
    {
     "name": "stdout",
     "output_type": "stream",
     "text": [
      "Success: ../shared_data/thanatcc/RIA_Input/Clean_International_Regulator_OCR/25-MAS/digital assets/financial-services-and-markets-bill-uthority-of-singapore-on-4-april-2022.pdf\n"
     ]
    },
    {
     "name": "stderr",
     "output_type": "stream",
     "text": [
      "\n"
     ]
    }
   ],
   "source": [
    "error_list_2 = []\n",
    "for file_name in tqdm(error_list):\n",
    "    try:\n",
    "        output_path = file_name.replace('/Clean_International_Regulator/', '/Clean_International_Regulator_OCR/')\n",
    "        if output_path not in ocr_list:\n",
    "            print('Start:', output_path)\n",
    "            doc = convert_from_path(file_name)\n",
    "            #doc = doc[:5]\n",
    "            merger = PdfFileMerger()\n",
    "            pbar=ProgressBar()\n",
    "            for page_index, image in enumerate(pbar(doc)):\n",
    "                pdf_page = pytesseract.image_to_pdf_or_hocr(image, extension='pdf')\n",
    "                pdf_page_path = f\"/tmp/{page_index}.pdf\"        \n",
    "                with open(pdf_page_path, \"wb\") as f:\n",
    "                    f.write(pdf_page)\n",
    "                merger.append(pdf_page_path)\n",
    "                os.remove(pdf_page_path)\n",
    "            merger.write(output_path)\n",
    "            print('Success:', output_path)\n",
    "    except:\n",
    "        print('Error:', file_name)\n",
    "        error_list_2.append(file_name)\n",
    "        pass"
   ]
  },
  {
   "cell_type": "code",
   "execution_count": 191,
   "id": "233bc920",
   "metadata": {},
   "outputs": [
    {
     "data": {
      "text/plain": [
       "['../shared_data/thanatcc/RIA_Input/Clean_International_Regulator/25-MAS/other/sg_191.pdf',\n",
       " '../shared_data/thanatcc/RIA_Input/Clean_International_Regulator/25-MAS/other/sg_192.pdf',\n",
       " '../shared_data/thanatcc/RIA_Input/Clean_International_Regulator/25-MAS/other/sg_193.pdf',\n",
       " '../shared_data/thanatcc/RIA_Input/Clean_International_Regulator/25-MAS/other/sg_294.pdf']"
      ]
     },
     "execution_count": 191,
     "metadata": {},
     "output_type": "execute_result"
    }
   ],
   "source": [
    "error_list_2"
   ]
  },
  {
   "cell_type": "markdown",
   "id": "edd6da0c",
   "metadata": {},
   "source": [
    "# Export valid_file_list"
   ]
  },
  {
   "cell_type": "code",
   "execution_count": 192,
   "id": "c4f30cb4",
   "metadata": {},
   "outputs": [
    {
     "data": {
      "text/plain": [
       "8"
      ]
     },
     "execution_count": 192,
     "metadata": {},
     "output_type": "execute_result"
    },
    {
     "data": {
      "text/plain": [
       "8"
      ]
     },
     "execution_count": 192,
     "metadata": {},
     "output_type": "execute_result"
    }
   ],
   "source": [
    "root = '../shared_data/thanatcc/RIA_Input/Clean_International_Regulator_OCR'\n",
    "\n",
    "ocr_list = []\n",
    "for path, subdirs, files in os.walk(root):\n",
    "    for name in files:\n",
    "        ocr_list.append(os.path.join(path, name))\n",
    "    \n",
    "len(ocr_list)\n",
    "\n",
    "ocr_list = [each for each in ocr_list if '.pdf' in each or '.PDF' in each]\n",
    "\n",
    "len(ocr_list)"
   ]
  },
  {
   "cell_type": "code",
   "execution_count": 193,
   "id": "776dc88f",
   "metadata": {},
   "outputs": [
    {
     "data": {
      "text/plain": [
       "372"
      ]
     },
     "execution_count": 193,
     "metadata": {},
     "output_type": "execute_result"
    },
    {
     "data": {
      "text/plain": [
       "372"
      ]
     },
     "execution_count": 193,
     "metadata": {},
     "output_type": "execute_result"
    },
    {
     "data": {
      "text/plain": [
       "380"
      ]
     },
     "execution_count": 193,
     "metadata": {},
     "output_type": "execute_result"
    }
   ],
   "source": [
    "valid_file_list = clean_file_list\n",
    "\n",
    "len(valid_file_list)\n",
    "\n",
    "valid_file_list = [each for each in valid_file_list if each not in error_list]\n",
    "\n",
    "len(valid_file_list)\n",
    "\n",
    "valid_file_list = valid_file_list + ocr_list\n",
    "\n",
    "len(valid_file_list)"
   ]
  },
  {
   "cell_type": "code",
   "execution_count": 194,
   "id": "218a9b3c",
   "metadata": {},
   "outputs": [],
   "source": [
    "import pickle\n",
    "with open('data/valid_file_list.pickle', 'wb') as handle:\n",
    "    pickle.dump(valid_file_list, handle)"
   ]
  },
  {
   "cell_type": "code",
   "execution_count": 124,
   "id": "8e5091e2",
   "metadata": {},
   "outputs": [],
   "source": [
    "# valid_file_list"
   ]
  },
  {
   "cell_type": "code",
   "execution_count": null,
   "id": "35a21245",
   "metadata": {},
   "outputs": [],
   "source": []
  }
 ],
 "metadata": {
  "kernelspec": {
   "display_name": "global_2b_ria",
   "language": "python",
   "name": "global_2b_ria"
  },
  "language_info": {
   "codemirror_mode": {
    "name": "ipython",
    "version": 3
   },
   "file_extension": ".py",
   "mimetype": "text/x-python",
   "name": "python",
   "nbconvert_exporter": "python",
   "pygments_lexer": "ipython3",
   "version": "3.9.5"
  }
 },
 "nbformat": 4,
 "nbformat_minor": 5
}
