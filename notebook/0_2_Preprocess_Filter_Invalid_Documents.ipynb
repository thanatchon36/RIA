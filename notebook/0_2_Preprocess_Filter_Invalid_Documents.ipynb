{
 "cells": [
  {
   "cell_type": "code",
   "execution_count": 1,
   "id": "890431d7",
   "metadata": {},
   "outputs": [
    {
     "name": "stdout",
     "output_type": "stream",
     "text": [
      "OK !\n"
     ]
    }
   ],
   "source": [
    "#Default\n",
    "import pandas as pd\n",
    "pd.options.display.float_format = '{:,}'.format\n",
    "from IPython.core.interactiveshell import InteractiveShell\n",
    "InteractiveShell.ast_node_interactivity = \"all\"\n",
    "def reset(df):\n",
    "    cols = df.columns\n",
    "    return df.reset_index()[cols]\n",
    "def print_counts(df):\n",
    "    cols = df.columns\n",
    "    for each in cols:\n",
    "        print(each)\n",
    "        print(df[each].value_counts())\n",
    "        print('______________________________________')\n",
    "# ~\n",
    "#Default Ending\n",
    "\n",
    "import os\n",
    "from tqdm import tqdm\n",
    "\n",
    "print('OK !')"
   ]
  },
  {
   "cell_type": "code",
   "execution_count": 2,
   "id": "d01f83c9",
   "metadata": {},
   "outputs": [
    {
     "name": "stderr",
     "output_type": "stream",
     "text": [
      "INFO - haystack.modeling.model.optimization -  apex not found, won't use it. See https://nvidia.github.io/apex/\n"
     ]
    },
    {
     "name": "stdout",
     "output_type": "stream",
     "text": [
      "OK !\n"
     ]
    }
   ],
   "source": [
    "from haystack.utils import clean_wiki_text, convert_files_to_dicts, fetch_archive_from_http, print_answers\n",
    "from haystack.nodes import DensePassageRetriever, EmbeddingRetriever, FARMReader, EntityExtractor\n",
    "from haystack.document_stores import ElasticsearchDocumentStore\n",
    "\n",
    "print('OK !')"
   ]
  },
  {
   "cell_type": "code",
   "execution_count": 3,
   "id": "25186bfd",
   "metadata": {},
   "outputs": [
    {
     "name": "stdout",
     "output_type": "stream",
     "text": [
      "OK !\n"
     ]
    }
   ],
   "source": [
    "from haystack.nodes import TextConverter, PDFToTextConverter, DocxToTextConverter, PreProcessor\n",
    "\n",
    "preprocessor_100 = PreProcessor(\n",
    "    clean_empty_lines=True,\n",
    "    clean_whitespace=True,\n",
    "    clean_header_footer=False,\n",
    "    split_by=\"word\",\n",
    "    split_length=100,\n",
    "    split_respect_sentence_boundary=True,\n",
    ")\n",
    "\n",
    "preprocessor_200 = PreProcessor(\n",
    "    clean_empty_lines=True,\n",
    "    clean_whitespace=True,\n",
    "    clean_header_footer=False,\n",
    "    split_by=\"word\",\n",
    "    split_length=200,\n",
    "    split_respect_sentence_boundary=True,\n",
    ")\n",
    "\n",
    "preprocessor_300 = PreProcessor(\n",
    "    clean_empty_lines=True,\n",
    "    clean_whitespace=True,\n",
    "    clean_header_footer=False,\n",
    "    split_by=\"word\",\n",
    "    split_length=300,\n",
    "    split_respect_sentence_boundary=True,\n",
    ")\n",
    "\n",
    "\n",
    "print('OK !')"
   ]
  },
  {
   "cell_type": "markdown",
   "id": "f604e32e",
   "metadata": {},
   "source": [
    "# Set preprocessor "
   ]
  },
  {
   "cell_type": "code",
   "execution_count": 4,
   "id": "ca25b07c",
   "metadata": {},
   "outputs": [],
   "source": [
    "preprocessor = preprocessor_100"
   ]
  },
  {
   "cell_type": "markdown",
   "id": "cf5d8bb3",
   "metadata": {},
   "source": [
    "# Process Raw PDF"
   ]
  },
  {
   "cell_type": "code",
   "execution_count": 5,
   "id": "e79f9e02",
   "metadata": {},
   "outputs": [
    {
     "data": {
      "text/plain": [
       "384"
      ]
     },
     "execution_count": 5,
     "metadata": {},
     "output_type": "execute_result"
    },
    {
     "data": {
      "text/plain": [
       "382"
      ]
     },
     "execution_count": 5,
     "metadata": {},
     "output_type": "execute_result"
    }
   ],
   "source": [
    "root = 'International Regulator'\n",
    "\n",
    "file_list = []\n",
    "for path, subdirs, files in os.walk(root):\n",
    "    for name in files:\n",
    "#         print(os.path.join(path, name))\n",
    "        file_list.append(os.path.join(path, name))\n",
    "    \n",
    "len(file_list)\n",
    "# file_list\n",
    "\n",
    "file_list = [each for each in file_list if '.pdf' in each or '.PDF' in each]\n",
    "\n",
    "len(file_list)"
   ]
  },
  {
   "cell_type": "code",
   "execution_count": 6,
   "id": "bdb9b075",
   "metadata": {},
   "outputs": [
    {
     "name": "stderr",
     "output_type": "stream",
     "text": [
      "pdftotext version 4.03 [www.xpdfreader.com]\n",
      "Copyright 1996-2021 Glyph & Cog, LLC\n"
     ]
    }
   ],
   "source": [
    "converter = PDFToTextConverter(remove_numeric_tables=False, valid_languages = [\"en\"])"
   ]
  },
  {
   "cell_type": "markdown",
   "id": "4ddcecc1",
   "metadata": {},
   "source": [
    "# Detect ENG Language"
   ]
  },
  {
   "cell_type": "code",
   "execution_count": 7,
   "id": "a89b6a0b",
   "metadata": {},
   "outputs": [
    {
     "name": "stdout",
     "output_type": "stream",
     "text": [
      "OK !\n"
     ]
    }
   ],
   "source": [
    "from langdetect import detect\n",
    "\n",
    "print('OK !')"
   ]
  },
  {
   "cell_type": "code",
   "execution_count": 8,
   "id": "1e18d20c",
   "metadata": {
    "scrolled": true
   },
   "outputs": [
    {
     "name": "stderr",
     "output_type": "stream",
     "text": [
      "  0%|                                                 | 0/382 [00:00<?, ?it/s]WARNING - haystack.nodes.preprocessor.preprocessor -  One or more sentence found with word count higher than the split length.\n",
      " 18%|███████▏                                | 69/382 [00:28<00:36,  8.57it/s]WARNING - haystack.nodes.file_converter.pdf -  The language for International Regulator/25-MAS/other/SG_289.pdf is not one of ['en']. The file may not have been decoded in the correct text format.\n"
     ]
    },
    {
     "name": "stdout",
     "output_type": "stream",
     "text": [
      "Error: International Regulator/25-MAS/other/SG_289.pdf\n"
     ]
    },
    {
     "name": "stderr",
     "output_type": "stream",
     "text": [
      " 29%|███████████▍                           | 112/382 [00:40<01:08,  3.92it/s]Syntax Warning: Bad annotation destination\n",
      "Syntax Warning: Bad annotation destination\n",
      " 31%|████████████                           | 118/382 [00:59<05:16,  1.20s/it]Syntax Warning: Bad annotation destination\n",
      " 34%|█████████████▏                         | 129/382 [01:05<01:35,  2.65it/s]Syntax Warning: May not be a PDF file (continuing anyway)\n",
      "Syntax Error: Couldn't read xref table\n",
      "Syntax Warning: PDF file is damaged - attempting to reconstruct xref table...\n",
      "Syntax Error: Couldn't find trailer dictionary\n",
      "Syntax Error: Couldn't read xref table\n",
      "WARNING - haystack.nodes.file_converter.pdf -  The language for International Regulator/25-MAS/other/SG_191.pdf is not one of ['en']. The file may not have been decoded in the correct text format.\n",
      " 34%|█████████████▎                         | 131/382 [01:05<01:05,  3.82it/s]"
     ]
    },
    {
     "name": "stdout",
     "output_type": "stream",
     "text": [
      "Error: International Regulator/25-MAS/other/SG_191.pdf\n"
     ]
    },
    {
     "name": "stderr",
     "output_type": "stream",
     "text": [
      " 38%|██████████████▉                        | 146/382 [01:10<01:10,  3.36it/s]Syntax Warning: May not be a PDF file (continuing anyway)\n",
      "Syntax Error: Couldn't read xref table\n",
      "Syntax Warning: PDF file is damaged - attempting to reconstruct xref table...\n",
      "Syntax Error: Couldn't find trailer dictionary\n",
      "Syntax Error: Couldn't read xref table\n",
      "WARNING - haystack.nodes.file_converter.pdf -  The language for International Regulator/25-MAS/other/SG_192.pdf is not one of ['en']. The file may not have been decoded in the correct text format.\n"
     ]
    },
    {
     "name": "stdout",
     "output_type": "stream",
     "text": [
      "Error: International Regulator/25-MAS/other/SG_192.pdf\n"
     ]
    },
    {
     "name": "stderr",
     "output_type": "stream",
     "text": [
      " 40%|███████████████▍                       | 151/382 [01:13<01:48,  2.13it/s]Syntax Warning: May not be a PDF file (continuing anyway)\n",
      "Syntax Error: Couldn't read xref table\n",
      "Syntax Warning: PDF file is damaged - attempting to reconstruct xref table...\n",
      "Syntax Error: Couldn't find trailer dictionary\n",
      "Syntax Error: Couldn't read xref table\n",
      "WARNING - haystack.nodes.file_converter.pdf -  The language for International Regulator/25-MAS/other/SG_193.pdf is not one of ['en']. The file may not have been decoded in the correct text format.\n"
     ]
    },
    {
     "name": "stdout",
     "output_type": "stream",
     "text": [
      "Error: International Regulator/25-MAS/other/SG_193.pdf\n"
     ]
    },
    {
     "name": "stderr",
     "output_type": "stream",
     "text": [
      " 41%|███████████████▉                       | 156/382 [01:19<03:31,  1.07it/s]WARNING - haystack.nodes.file_converter.pdf -  The language for International Regulator/25-MAS/other/SG_346.pdf is not one of ['en']. The file may not have been decoded in the correct text format.\n",
      " 42%|████████████████▍                      | 161/382 [01:19<01:14,  2.96it/s]"
     ]
    },
    {
     "name": "stdout",
     "output_type": "stream",
     "text": [
      "Error: International Regulator/25-MAS/other/SG_346.pdf\n"
     ]
    },
    {
     "name": "stderr",
     "output_type": "stream",
     "text": [
      " 48%|██████████████████▉                    | 185/382 [01:25<00:23,  8.31it/s]WARNING - haystack.nodes.file_converter.pdf -  The language for International Regulator/25-MAS/other/SG_235.pdf is not one of ['en']. The file may not have been decoded in the correct text format.\n",
      " 49%|███████████████████                    | 187/382 [01:25<00:22,  8.72it/s]"
     ]
    },
    {
     "name": "stdout",
     "output_type": "stream",
     "text": [
      "Error: International Regulator/25-MAS/other/SG_235.pdf\n"
     ]
    },
    {
     "name": "stderr",
     "output_type": "stream",
     "text": [
      " 54%|█████████████████████▏                 | 208/382 [01:29<00:18,  9.47it/s]WARNING - haystack.nodes.file_converter.pdf -  The language for International Regulator/25-MAS/other/SG_290.pdf is not one of ['en']. The file may not have been decoded in the correct text format.\n",
      " 55%|█████████████████████▍                 | 210/382 [01:29<00:18,  9.50it/s]"
     ]
    },
    {
     "name": "stdout",
     "output_type": "stream",
     "text": [
      "Error: International Regulator/25-MAS/other/SG_290.pdf\n"
     ]
    },
    {
     "name": "stderr",
     "output_type": "stream",
     "text": [
      "WARNING - haystack.nodes.file_converter.pdf -  The language for International Regulator/25-MAS/other/SG_246.pdf is not one of ['en']. The file may not have been decoded in the correct text format.\n"
     ]
    },
    {
     "name": "stdout",
     "output_type": "stream",
     "text": [
      "Error: International Regulator/25-MAS/other/SG_246.pdf\n"
     ]
    },
    {
     "name": "stderr",
     "output_type": "stream",
     "text": [
      " 66%|█████████████████████████▊             | 253/382 [01:36<00:23,  5.47it/s]Permission Error: Copying of text from this document is not allowed.\n",
      "WARNING - haystack.nodes.file_converter.pdf -  The language for International Regulator/25-MAS/other/SG_241.pdf is not one of ['en']. The file may not have been decoded in the correct text format.\n",
      " 67%|██████████████████████████▏            | 257/382 [01:36<00:14,  8.44it/s]"
     ]
    },
    {
     "name": "stdout",
     "output_type": "stream",
     "text": [
      "Error: International Regulator/25-MAS/other/SG_241.pdf\n"
     ]
    },
    {
     "name": "stderr",
     "output_type": "stream",
     "text": [
      " 73%|████████████████████████████▌          | 280/382 [01:50<00:42,  2.39it/s]Syntax Warning: May not be a PDF file (continuing anyway)\n",
      "Syntax Error: Couldn't read xref table\n",
      "Syntax Warning: PDF file is damaged - attempting to reconstruct xref table...\n",
      "Syntax Error: Couldn't find trailer dictionary\n",
      "Syntax Error: Couldn't read xref table\n",
      "WARNING - haystack.nodes.file_converter.pdf -  The language for International Regulator/25-MAS/other/SG_294.pdf is not one of ['en']. The file may not have been decoded in the correct text format.\n",
      " 74%|████████████████████████████▊          | 282/382 [01:50<00:31,  3.22it/s]"
     ]
    },
    {
     "name": "stdout",
     "output_type": "stream",
     "text": [
      "Error: International Regulator/25-MAS/other/SG_294.pdf\n"
     ]
    },
    {
     "name": "stderr",
     "output_type": "stream",
     "text": [
      " 81%|███████████████████████████████▊       | 311/382 [02:03<00:39,  1.78it/s]Syntax Error: Missing or invalid default viewing OCCD\n",
      " 88%|██████████████████████████████████▌    | 338/382 [02:14<00:09,  4.44it/s]Syntax Error: Missing or invalid default viewing OCCD\n",
      " 93%|████████████████████████████████████▍  | 357/382 [02:28<00:17,  1.40it/s]"
     ]
    },
    {
     "name": "stdout",
     "output_type": "stream",
     "text": [
      "Error: International Regulator/03-BCBS/risk/Ripple effects of monetary policy.pdf\n"
     ]
    },
    {
     "name": "stderr",
     "output_type": "stream",
     "text": [
      "100%|███████████████████████████████████████| 382/382 [02:48<00:00,  2.27it/s]\n"
     ]
    }
   ],
   "source": [
    "doc_list = []\n",
    "error_list = []\n",
    "\n",
    "for file_name in tqdm(file_list):\n",
    "    try:\n",
    "        doc = converter.convert(file_path = file_name, meta = None)\n",
    "        docs = preprocessor.process(doc[0])\n",
    "        lang_list = []\n",
    "        for i in range(len(docs)): \n",
    "            try:\n",
    "                temp_detect = detect(docs[i]['content'])\n",
    "                lang_list.append(temp_detect)\n",
    "            except:\n",
    "                pass\n",
    "        en_df = pd.DataFrame(lang_list)[0].value_counts(normalize = True).reset_index()\n",
    "        en_score = float(en_df[en_df['index'] == 'en'][0].values[0])\n",
    "\n",
    "        if float(en_score) < 0.9:\n",
    "            error_list.append(file_name)\n",
    "            print('Error:', file_name)\n",
    "    except:\n",
    "        error_list.append(file_name)\n",
    "        print('Error:', file_name)\n",
    "        pass"
   ]
  },
  {
   "cell_type": "code",
   "execution_count": 9,
   "id": "0143b2d7",
   "metadata": {},
   "outputs": [
    {
     "name": "stdout",
     "output_type": "stream",
     "text": [
      "0: International Regulator/25-MAS/other/SG_289.pdf\n",
      "1: International Regulator/25-MAS/other/SG_191.pdf\n",
      "2: International Regulator/25-MAS/other/SG_192.pdf\n",
      "3: International Regulator/25-MAS/other/SG_193.pdf\n",
      "4: International Regulator/25-MAS/other/SG_346.pdf\n",
      "5: International Regulator/25-MAS/other/SG_235.pdf\n",
      "6: International Regulator/25-MAS/other/SG_290.pdf\n",
      "7: International Regulator/25-MAS/other/SG_246.pdf\n",
      "8: International Regulator/25-MAS/other/SG_241.pdf\n",
      "9: International Regulator/25-MAS/other/SG_294.pdf\n",
      "10: International Regulator/03-BCBS/risk/Ripple effects of monetary policy.pdf\n"
     ]
    }
   ],
   "source": [
    "for i, each in enumerate(error_list):\n",
    "    print(str(i) + ':', each)"
   ]
  },
  {
   "cell_type": "code",
   "execution_count": null,
   "id": "314dc812",
   "metadata": {},
   "outputs": [],
   "source": []
  },
  {
   "cell_type": "code",
   "execution_count": null,
   "id": "7a9515e6",
   "metadata": {},
   "outputs": [],
   "source": []
  },
  {
   "cell_type": "code",
   "execution_count": null,
   "id": "dcd37c71",
   "metadata": {},
   "outputs": [],
   "source": []
  },
  {
   "cell_type": "code",
   "execution_count": null,
   "id": "dd4c14bf",
   "metadata": {},
   "outputs": [],
   "source": []
  }
 ],
 "metadata": {
  "kernelspec": {
   "display_name": "Python [conda env:py38hay]",
   "language": "python",
   "name": "conda-env-py38hay-py"
  },
  "language_info": {
   "codemirror_mode": {
    "name": "ipython",
    "version": 3
   },
   "file_extension": ".py",
   "mimetype": "text/x-python",
   "name": "python",
   "nbconvert_exporter": "python",
   "pygments_lexer": "ipython3",
   "version": "3.8.12"
  }
 },
 "nbformat": 4,
 "nbformat_minor": 5
}
