{
 "cells": [
  {
   "cell_type": "code",
   "execution_count": 4,
   "id": "890431d7",
   "metadata": {},
   "outputs": [
    {
     "name": "stdout",
     "output_type": "stream",
     "text": [
      "OK !\n"
     ]
    }
   ],
   "source": [
    "#Default\n",
    "import pandas as pd\n",
    "pd.options.display.float_format = '{:,}'.format\n",
    "from IPython.core.interactiveshell import InteractiveShell\n",
    "InteractiveShell.ast_node_interactivity = \"all\"\n",
    "def reset(df):\n",
    "    cols = df.columns\n",
    "    return df.reset_index()[cols]\n",
    "def print_counts(df):\n",
    "    cols = df.columns\n",
    "    for each in cols:\n",
    "        print(each)\n",
    "        print(df[each].value_counts())\n",
    "        print('______________________________________')        \n",
    "# ~\n",
    "#Default Ending\n",
    "\n",
    "import os\n",
    "from tqdm import tqdm\n",
    "from flask import Flask, request, jsonify\n",
    "\n",
    "print('OK !')"
   ]
  },
  {
   "cell_type": "code",
   "execution_count": 5,
   "id": "7699ae04",
   "metadata": {},
   "outputs": [
    {
     "data": {
      "text/plain": [
       "382"
      ]
     },
     "execution_count": 5,
     "metadata": {},
     "output_type": "execute_result"
    }
   ],
   "source": [
    "root = 'RIA_Input'\n",
    "file_list = []\n",
    "for path, subdirs, files in os.walk(root):\n",
    "    for name in files:\n",
    "        file_list.append(os.path.join(path, name))\n",
    "file_list = [each for each in file_list if '.pdf' in each or '.PDF' in each]\n",
    "len(file_list)"
   ]
  },
  {
   "cell_type": "markdown",
   "id": "5d195fc8",
   "metadata": {},
   "source": [
    "# Set API Server"
   ]
  },
  {
   "cell_type": "code",
   "execution_count": 6,
   "id": "8df651c8",
   "metadata": {},
   "outputs": [
    {
     "name": "stdout",
     "output_type": "stream",
     "text": [
      "OK !\n"
     ]
    }
   ],
   "source": [
    "app = Flask(__name__)\n",
    "\n",
    "@app.route('/haystack_meta', methods=['GET'])\n",
    "def haystack_meta():\n",
    "    if request.method == 'GET':\n",
    "        file_list = []\n",
    "        for path, subdirs, files in os.walk(root):\n",
    "            for name in files:\n",
    "                file_list.append(os.path.join(path, name))\n",
    "        file_list = [each for each in file_list if '.pdf' in each or '.PDF' in each]\n",
    "        meta_list = [each.split('/')[-3:-1] for each in file_list]\n",
    "        meta_df = pd.DataFrame(meta_list)\n",
    "        meta_df = reset(meta_df.drop_duplicates())\n",
    "        meta_df.columns = ['central_bank', 'keyword']\n",
    "        central_bank_df = meta_df.copy()\n",
    "        central_bank_df = central_bank_df.groupby('central_bank')['keyword'].apply(list).reset_index()\n",
    "        keyword_df = meta_df.copy()\n",
    "        keyword_df = keyword_df.groupby('keyword')['central_bank'].apply(list).reset_index()\n",
    "        central_bank_dict = dict(zip(central_bank_df.central_bank, central_bank_df.keyword))\n",
    "        keyword_dict = dict(zip(keyword_df.keyword, keyword_df.central_bank))\n",
    "        return_meta_fil_dict = {}\n",
    "        return_meta_fil_dict['central_bank'] = central_bank_dict\n",
    "        return_meta_fil_dict['keyword'] = keyword_dict\n",
    "        \n",
    "        return return_meta_fil_dict, 201\n",
    "    \n",
    "print('OK !')"
   ]
  },
  {
   "cell_type": "code",
   "execution_count": null,
   "id": "4dde2e20",
   "metadata": {},
   "outputs": [
    {
     "name": "stdout",
     "output_type": "stream",
     "text": [
      " * Serving Flask app '__main__' (lazy loading)\n",
      " * Environment: production\n",
      "\u001b[31m   WARNING: This is a development server. Do not use it in a production deployment.\u001b[0m\n",
      "\u001b[2m   Use a production WSGI server instead.\u001b[0m\n",
      " * Debug mode: off\n"
     ]
    },
    {
     "name": "stderr",
     "output_type": "stream",
     "text": [
      " * Running on http://127.0.0.1:6101/ (Press CTRL+C to quit)\n"
     ]
    }
   ],
   "source": [
    "app.run(port = 6101)"
   ]
  },
  {
   "cell_type": "code",
   "execution_count": null,
   "id": "a1746fd4",
   "metadata": {},
   "outputs": [],
   "source": []
  },
  {
   "cell_type": "code",
   "execution_count": null,
   "id": "6cf06ca3",
   "metadata": {},
   "outputs": [],
   "source": []
  }
 ],
 "metadata": {
  "kernelspec": {
   "display_name": "Python [conda env:py38hay]",
   "language": "python",
   "name": "conda-env-py38hay-py"
  },
  "language_info": {
   "codemirror_mode": {
    "name": "ipython",
    "version": 3
   },
   "file_extension": ".py",
   "mimetype": "text/x-python",
   "name": "python",
   "nbconvert_exporter": "python",
   "pygments_lexer": "ipython3",
   "version": "3.8.12"
  }
 },
 "nbformat": 4,
 "nbformat_minor": 5
}
