{
 "cells": [
  {
   "cell_type": "code",
   "execution_count": 1,
   "id": "5a119765",
   "metadata": {},
   "outputs": [
    {
     "name": "stdout",
     "output_type": "stream",
     "text": [
      "OK !\n"
     ]
    }
   ],
   "source": [
    "from PIL import Image\n",
    "import pytesseract\n",
    "from pdf2image import convert_from_path\n",
    "from PyPDF2 import PdfFileMerger\n",
    "from progressbar import ProgressBar\n",
    "import os\n",
    "\n",
    "print('OK !')"
   ]
  },
  {
   "cell_type": "code",
   "execution_count": 2,
   "id": "1d48bb46",
   "metadata": {},
   "outputs": [
    {
     "data": {
      "text/plain": [
       "<Version('5.1.0')>"
      ]
     },
     "execution_count": 2,
     "metadata": {},
     "output_type": "execute_result"
    }
   ],
   "source": [
    "pytesseract.get_tesseract_version()"
   ]
  },
  {
   "cell_type": "code",
   "execution_count": 3,
   "id": "1d6a168e",
   "metadata": {},
   "outputs": [],
   "source": [
    "file_name = \"Ripple effects of monetary policy_issues.pdf\""
   ]
  },
  {
   "cell_type": "code",
   "execution_count": 4,
   "id": "8fb9ddcd",
   "metadata": {},
   "outputs": [
    {
     "name": "stdout",
     "output_type": "stream",
     "text": [
      "CPU times: user 4.64 s, sys: 2.4 s, total: 7.04 s\n",
      "Wall time: 1min 18s\n"
     ]
    }
   ],
   "source": [
    "%%time\n",
    "\n",
    "doc = convert_from_path(file_name)"
   ]
  },
  {
   "cell_type": "code",
   "execution_count": 5,
   "id": "08d0b69c",
   "metadata": {},
   "outputs": [],
   "source": [
    "# Get Sample Doc \n",
    "# comment this out when production\n",
    "doc = doc[:5]"
   ]
  },
  {
   "cell_type": "code",
   "execution_count": 6,
   "id": "bb762b52",
   "metadata": {},
   "outputs": [],
   "source": [
    "output_path = \"Ripple effects of monetary policy_issues_sample_searchable.pdf\""
   ]
  },
  {
   "cell_type": "code",
   "execution_count": 7,
   "id": "ec051b38",
   "metadata": {},
   "outputs": [
    {
     "name": "stderr",
     "output_type": "stream",
     "text": [
      "100% (5 of 5) |##########################| Elapsed Time: 0:01:08 Time:  0:01:08\n"
     ]
    }
   ],
   "source": [
    "merger = PdfFileMerger()\n",
    "pbar=ProgressBar()\n",
    "for page_index, image in enumerate(pbar(doc)):\n",
    "    pdf_page = pytesseract.image_to_pdf_or_hocr(image, extension='pdf')\n",
    "    pdf_page_path = f\"/tmp/{page_index}.pdf\"        \n",
    "    with open(pdf_page_path, \"wb\") as f:\n",
    "        f.write(pdf_page)\n",
    "    merger.append(pdf_page_path)\n",
    "    os.remove(pdf_page_path)\n",
    "\n",
    "merger.write(output_path)"
   ]
  },
  {
   "cell_type": "code",
   "execution_count": null,
   "id": "9c7fc1b1",
   "metadata": {},
   "outputs": [],
   "source": []
  }
 ],
 "metadata": {
  "kernelspec": {
   "display_name": "Python 3 (ipykernel)",
   "language": "python",
   "name": "python3"
  },
  "language_info": {
   "codemirror_mode": {
    "name": "ipython",
    "version": 3
   },
   "file_extension": ".py",
   "mimetype": "text/x-python",
   "name": "python",
   "nbconvert_exporter": "python",
   "pygments_lexer": "ipython3",
   "version": "3.9.10"
  }
 },
 "nbformat": 4,
 "nbformat_minor": 5
}
